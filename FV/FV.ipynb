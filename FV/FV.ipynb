{
 "cells": [
  {
   "cell_type": "markdown",
   "metadata": {
    "cell_id": "ec223b5294194fe9ae65e1af9466dfd2",
    "deepnote_cell_type": "text-cell-h1",
    "formattedRanges": [],
    "is_collapsed": false,
    "tags": []
   },
   "source": [
    "# Volúmenes finitos"
   ]
  },
  {
   "cell_type": "code",
   "execution_count": 1,
   "metadata": {
    "cell_id": "2202d17e3cb44d518ee69ceeb9f6a456",
    "deepnote_cell_type": "code",
    "deepnote_to_be_reexecuted": false,
    "execution_millis": 1706,
    "execution_start": 1675097148664,
    "source_hash": "80862252",
    "tags": []
   },
   "outputs": [],
   "source": [
    "import numpy as np\n",
    "import matplotlib.pyplot as plt\n",
    "import matplotlib.animation as animation\n",
    "from abc import ABC, abstractmethod\n",
    "from sympy import *"
   ]
  },
  {
   "cell_type": "code",
   "execution_count": 15,
   "metadata": {
    "cell_id": "94a1779d778f45788a86cf26912b2086",
    "deepnote_cell_type": "code",
    "deepnote_to_be_reexecuted": false,
    "execution_millis": 0,
    "execution_start": 1675097150386,
    "source_hash": "a8c7f192",
    "tags": []
   },
   "outputs": [],
   "source": [
    "class Finite_Volume(ABC):\n",
    "\n",
    "    def __init__(self, Nx, xL, xR, Nt, tf, f):\n",
    "        # Esquema a usar\n",
    "        self.scheme = \"\"\n",
    "\n",
    "        # Parametros grilla\n",
    "        self.Nx = Nx\n",
    "        self.Nt = Nt\n",
    "        self.xL = xL\n",
    "        self.xR = xR\n",
    "        self.tf = tf\n",
    "\n",
    "        # Pasos espacial y temporal\n",
    "        self.dx = (xR - xL) / Nx\n",
    "        self.dt = tf / (Nt + 1)\n",
    "\n",
    "        # Arreglos\n",
    "        self.x_mid = np.linspace(self.xL, self.xR, self.Nx+1) # puntos medios\n",
    "        self.x = (self.x_mid[1:] + self.x_mid[:-1]) / 2 # puntos de la grilla\n",
    "\n",
    "        self.t = np.linspace(0, self.tf, self.Nt)\n",
    "\n",
    "        # Tiempo actual\n",
    "        self.n = 0\n",
    "        \n",
    "        # Asigna funcion flujo\n",
    "        self.f = f\n",
    "\n",
    "        \n",
    "    # Setea condición inicial\n",
    "    def set_init_cond(self, U_0):\n",
    "        \n",
    "        # Guarda condición inicial\n",
    "        U0 = U_0(self.x)\n",
    "        \n",
    "        # Inicializa solución\n",
    "        self.U = np.zeros((self.Nt,) + U0.shape)\n",
    "        \n",
    "        self.U[0] = U0\n",
    "        \n",
    "        # Inicializa vector y función de flujo\n",
    "        self.F = np.zeros(self.Nx+1)\n",
    "        self.f = f\n",
    "    \n",
    "    # Obtiene derivada de f\n",
    "    def get_f_prime(self):\n",
    "        u = Symbol('u')\n",
    "        y = self.f(u)\n",
    "        f_prime = y.diff(u)\n",
    "        self.f_prime = lambdify(u, f_prime)\n",
    "    \n",
    "    # Condición CFL\n",
    "    def CFL_condition(self):\n",
    "        self.get_f_prime()\n",
    "        CFL = np.max(np.fabs(self.f_prime(self.U[self.n]))) * (self.dt/self.dx)\n",
    "\n",
    "        if CFL > 1/2:\n",
    "            print(\"Cuidado: No se cumple condición CFL\")\n",
    "\n",
    "    # Flujo esquema\n",
    "    @abstractmethod\n",
    "    def scheme_flux(self, u_left, u_right):\n",
    "        pass\n",
    "    \n",
    "    # Flujo en bordes\n",
    "    def border_flux(self):\n",
    "        \n",
    "        # Flujo en el borde izquierdo\n",
    "        u_left = self.U[self.n, 0]\n",
    "        u_right = self.U[self.n, 0]\n",
    "        self.F[0] = self.scheme_flux(u_left, u_right)\n",
    "\n",
    "        # Flujo en el borde derecho\n",
    "        u_left = self.U[self.n, -1]\n",
    "        u_right = self.U[self.n, -1]\n",
    "        self.F[-1] = self.scheme_flux(u_left, u_right)\n",
    "\n",
    "    \n",
    "    # Calcula flujo\n",
    "    def calculate_flux(self):\n",
    "        for i in range(1, self.Nx):\n",
    "            u_left = self.U[self.n, i-1]\n",
    "            u_right = self.U[self.n, i]\n",
    "            self.F[i] = self.scheme_flux(u_left, u_right)\n",
    "\n",
    "        self.border_flux()\n",
    "\n",
    "    # Actualiza solución\n",
    "    def update(self):\n",
    "        self.calculate_flux()\n",
    "\n",
    "        # Actualiza solucion\n",
    "        for i in range(self.Nx):\n",
    "            self.U[self.n+1, i] = self.U[self.n, i] - (self.dt / self.dx) * (self.F[i+1] - self.F[i])\n",
    "        self.n += 1\n",
    "    \n",
    "    # Obtiene animación\n",
    "    def get_animation(self, title, path):\n",
    "        fig = plt.figure()\n",
    "        ax = plt.axes()\n",
    "        plt.xlabel(r'$x$')\n",
    "        plt.ylabel(r'$u(t, x)$')\n",
    "        ax.set_title(title + \" t=\" + str(format(self.t[0], '.2f')) + \" \" + self.scheme)\n",
    "\n",
    "        # prepare for animated lines\n",
    "        line, = ax.plot(self.x, self.U[0], '-', color='r', linewidth=2, label=\"Simulación\")\n",
    "\n",
    "        def animate(n):\n",
    "            line.set_ydata(self.U[n])\n",
    "\n",
    "            ax.set_title(title + \" t=\" + str(format(self.t[n], '.2f')) + \" \" + self.scheme)\n",
    "            return line,\n",
    "\n",
    "        ani = animation.FuncAnimation(fig, animate, np.arange(0, self.Nt, 5),\n",
    "                                    interval=70, blit=True)\n",
    "\n",
    "        ani.save(path)\n",
    "    \n",
    "    # Obtiene animación con solución exacta\n",
    "    def get_animation_exact(self, title, path, real_solution):\n",
    "        fig = plt.figure()\n",
    "        ax = plt.axes()\n",
    "        plt.xlabel(r'$x$')\n",
    "        plt.ylabel(r'$u(t, x)$')\n",
    "        plt.title(title + \" t=\" + str(format(self.t[0], '.2f')) + \" \" + self.scheme)\n",
    "\n",
    "        # prepare for animated lines\n",
    "        line, = ax.plot(self.x, self.U[0], '-', color='r', linewidth=2, label=\"Simulación\")\n",
    "        exact_line, = ax.plot(self.x, real_solution(self.x, self.t[0]), color='b', linestyle='-', linewidth=2, label=\"Solución exacta\")\n",
    "        plt.legend()\n",
    "\n",
    "        def animate(n):\n",
    "            line.set_ydata(self.U[n])\n",
    "            exact_line.set_ydata(real_solution(self.x, self.t[n]))\n",
    "\n",
    "            plt.title(title + \" t=\" + str(format(self.t[n], '.2f')) + \" \" + self.scheme)\n",
    "            return [line, exact_line] \n",
    "\n",
    "        ani = animation.FuncAnimation(fig, animate, np.arange(0, self.Nt, 5),\n",
    "                                    interval=70, blit=True)\n",
    "\n",
    "        ani.save(path)"
   ]
  },
  {
   "cell_type": "markdown",
   "metadata": {
    "cell_id": "85f9a8a83535445581072a19058fb176",
    "deepnote_cell_type": "text-cell-h2",
    "formattedRanges": [],
    "is_collapsed": false,
    "tags": []
   },
   "source": [
    "## Esquema de Godunov"
   ]
  },
  {
   "cell_type": "code",
   "execution_count": 3,
   "metadata": {
    "cell_id": "df8058212b854666a0390a6858ae0af4",
    "deepnote_cell_type": "code",
    "deepnote_to_be_reexecuted": false,
    "execution_millis": 0,
    "execution_start": 1675097150403,
    "source_hash": "564f31a3",
    "tags": []
   },
   "outputs": [],
   "source": [
    "# Godunov\n",
    "class Godunov_solver(Finite_Volume):\n",
    "\n",
    "    def __init__(self, Nx, xL, xR, Nt, tf, f, flux):\n",
    "        super().__init__(Nx, xL, xR, Nt, tf, f)\n",
    "        self.flux = flux\n",
    "\n",
    "        # Esquema\n",
    "        self.scheme = \"Godunov\"\n",
    "\n",
    "    # Flujo esquema\n",
    "    def scheme_flux(self, u_left, u_right):\n",
    "        return self.flux(u_left, u_right)"
   ]
  },
  {
   "cell_type": "code",
   "execution_count": 4,
   "metadata": {
    "cell_id": "00c43d93006741e3a8c0932fddf82c37",
    "deepnote_cell_type": "code",
    "deepnote_to_be_reexecuted": false,
    "execution_millis": 0,
    "execution_start": 1675097150404,
    "source_hash": "f06d0c2c",
    "tags": []
   },
   "outputs": [],
   "source": [
    "# Godunov con condiciones de borde periodicas\n",
    "class Godunov_periodic_solver(Godunov_solver):\n",
    "\n",
    "    def __init__(self, Nx, xL, xR, Nt, tf, f, flux):\n",
    "        super().__init__(Nx, xL, xR, Nt, tf, f, flux)\n",
    "\n",
    "    # Flujo en bordes\n",
    "    def border_flux(self):\n",
    "        # Flujo en el borde izquierdo\n",
    "        u_left = self.U[self.n, -1]\n",
    "        u_right = self.U[self.n, 0]\n",
    "        self.F[0] = self.scheme_flux(u_left, u_right)\n",
    "\n",
    "        # Flujo en el borde derecho\n",
    "        self.F[-1] = self.scheme_flux(u_left, u_right)\n",
    "    \n",
    "    # Actualiza solución\n",
    "    def update(self):\n",
    "        self.calculate_flux()\n",
    "\n",
    "        # Actualiza solucion\n",
    "        for i in range(self.Nx):\n",
    "            self.U[self.n+1, i] = self.U[self.n, i] - (self.dt / self.dx) * (self.F[i+1] - self.F[i])\n",
    "\n",
    "        self.n += 1"
   ]
  },
  {
   "cell_type": "code",
   "execution_count": 5,
   "metadata": {
    "cell_id": "99d9ac7ab23447fb94a09dd973ba486e",
    "deepnote_cell_type": "code",
    "deepnote_to_be_reexecuted": false,
    "execution_millis": 6,
    "execution_start": 1675097150405,
    "source_hash": "a0c22816",
    "tags": []
   },
   "outputs": [],
   "source": [
    "# Godunov cuando f posee unico mínimo global\n",
    "class Simplified_Godunov_solver(Finite_Volume):\n",
    "\n",
    "    def __init__(self, Nx, xL, xR, Nt, tf, f, w):\n",
    "        super().__init__(Nx, xL, xR, Nt, tf, f)\n",
    "\n",
    "        # Punto mínimo\n",
    "        self.w = w\n",
    "\n",
    "        # Esquema\n",
    "        self.scheme = \"Godunov\"\n",
    "\n",
    "    # Flujo esquema\n",
    "    def scheme_flux(self, u_left, u_right):\n",
    "        u_l_positive = np.max([u_left, self.w])\n",
    "        u_r_negative = np.min([u_right, self.w])\n",
    "\n",
    "        return np.max([self.f(u_l_positive), self.f(u_r_negative)])"
   ]
  },
  {
   "cell_type": "code",
   "execution_count": 6,
   "metadata": {
    "cell_id": "e1b62c2179be4ecba150d826d4ab7b6d",
    "deepnote_cell_type": "code",
    "deepnote_to_be_reexecuted": false,
    "execution_millis": 1,
    "execution_start": 1675097150412,
    "source_hash": "59d7f6a1",
    "tags": []
   },
   "outputs": [],
   "source": [
    "# Parametros grillas\n",
    "Nx = 100\n",
    "xL = -1\n",
    "xR = 1\n",
    "Nt = 400\n",
    "tf = 2.5\n",
    "\n",
    "# Flujo\n",
    "def f(u):\n",
    "    return u**2/2\n",
    "\n",
    "# Condiciones iniciales\n",
    "def U_0_1(x):\n",
    "    return (x<0).astype(float)\n",
    "\n",
    "# Solución real 1\n",
    "# TODO: Modificar para que funcione con arreglos en x\n",
    "def u_1(x, t):\n",
    "    if x<t:\n",
    "        return 1\n",
    "    if x>0:\n",
    "        return 0\n",
    "\n",
    "def U_0_2(x):\n",
    "    x_copy = x.copy()\n",
    "    x_copy[x_copy<0] = -1\n",
    "    x_copy[x_copy>=0] = 1\n",
    "    return x_copy"
   ]
  },
  {
   "cell_type": "code",
   "execution_count": 7,
   "metadata": {
    "cell_id": "08c9b0c656b34f77b4118580dea52d70",
    "deepnote_cell_type": "code",
    "deepnote_to_be_reexecuted": false,
    "execution_millis": 1191,
    "execution_start": 1675097150413,
    "source_hash": "48b93392",
    "tags": []
   },
   "outputs": [],
   "source": [
    "# Solución con primera condición inicial\n",
    "burgers_1 = Simplified_Godunov_solver(Nx, xL, xR, Nt, tf, f, 0)\n",
    "burgers_1.set_init_cond(U_0_1)\n",
    "\n",
    "for n in range(0,Nt-1):\n",
    "    burgers_1.CFL_condition()\n",
    "    burgers_1.update()\n",
    "\n",
    "#burgers_1.get_animation(\"Burgers primera condición inicial\", \"volumenes_finitos/Primer_orden/Godunov/burgers_1.gif\")"
   ]
  },
  {
   "cell_type": "code",
   "execution_count": 8,
   "metadata": {
    "cell_id": "5b2b6e54c29d485a834f8da232ddcbfd",
    "deepnote_cell_type": "code",
    "deepnote_to_be_reexecuted": false,
    "execution_millis": 739,
    "execution_start": 1675097151621,
    "source_hash": "31b9bc1c",
    "tags": []
   },
   "outputs": [],
   "source": [
    "# Solucion con segunda condicion inicial\n",
    "burgers_2 = Simplified_Godunov_solver(Nx, xL, xR, Nt, tf, f, 0)\n",
    "burgers_2.set_init_cond(U_0_2)\n",
    "\n",
    "for n in range(0,Nt-1):\n",
    "    burgers_2.CFL_condition()\n",
    "    burgers_2.update()\n",
    "\n",
    "#burgers_2.get_animation(\"Burgers segunda condición inicial\", \"/work/volumenes_finitos/Primer_orden/Godunov/burgers_2.gif\")"
   ]
  },
  {
   "cell_type": "code",
   "execution_count": 9,
   "metadata": {
    "cell_id": "08955f17c61b44518c6e9e533c884417",
    "deepnote_cell_type": "code",
    "deepnote_to_be_reexecuted": false,
    "execution_millis": 47,
    "execution_start": 1675097152365,
    "source_hash": "f59c9284",
    "tags": []
   },
   "outputs": [],
   "source": [
    "# Godunov con condiciones de borde periodicas\n",
    "class Simplified_Godunov_periodic_solver(Simplified_Godunov_solver):\n",
    "\n",
    "    def __init__(self, Nx, xL, xR, Nt, tf, f, w):\n",
    "        super().__init__(Nx, xL, xR, Nt, tf, f, w)\n",
    "\n",
    "    # Flujo en bordes\n",
    "    def border_flux(self):\n",
    "        # Flujo en el borde izquierdo\n",
    "        u_left = self.U[self.n, -1]\n",
    "        u_right = self.U[self.n, 0]\n",
    "        self.F[0] = self.scheme_flux(u_left, u_right)\n",
    "\n",
    "        # Flujo en el borde derecho\n",
    "        self.F[-1] = self.scheme_flux(u_left, u_right)\n",
    "    \n",
    "    # Actualiza solución\n",
    "    def update(self):\n",
    "        self.calculate_flux()\n",
    "\n",
    "        # Actualiza solucion\n",
    "        for i in range(self.Nx):\n",
    "            self.U[self.n+1, i] = self.U[self.n, i] - (self.dt / self.dx) * (self.F[i+1] - self.F[i])\n",
    "\n",
    "        self.n += 1"
   ]
  },
  {
   "cell_type": "code",
   "execution_count": 10,
   "metadata": {
    "cell_id": "9febee57d3e243f29f509fa4a565fb13",
    "deepnote_cell_type": "code",
    "deepnote_to_be_reexecuted": false,
    "execution_millis": 710,
    "execution_start": 1675097152412,
    "source_hash": "ae4fbb81",
    "tags": []
   },
   "outputs": [],
   "source": [
    "def U_0_3(x):\n",
    "    return np.cos(np.pi*x)\n",
    "\n",
    "burgers_per = Simplified_Godunov_periodic_solver(Nx, xL, xR, Nt, tf, f, 0)\n",
    "burgers_per.set_init_cond(U_0_3)\n",
    "\n",
    "for n in range(0,Nt-1):\n",
    "    burgers_per.CFL_condition()\n",
    "    burgers_per.update()\n",
    "\n",
    "#burgers_per.get_animation(\"Burgers periódico\", \"/work/volumenes_finitos/Primer_orden/Godunov/burgers_per.gif\")"
   ]
  },
  {
   "cell_type": "markdown",
   "metadata": {
    "cell_id": "798cb4157082448788be5e011e34332f",
    "deepnote_cell_type": "text-cell-h2",
    "formattedRanges": [],
    "is_collapsed": false,
    "tags": []
   },
   "source": [
    "## Solvers linealizados"
   ]
  },
  {
   "cell_type": "code",
   "execution_count": 16,
   "metadata": {
    "cell_id": "4fc6936a4a6c43f5a78f4dd2a196c277",
    "deepnote_cell_type": "code",
    "deepnote_to_be_reexecuted": false,
    "execution_millis": 0,
    "execution_start": 1675097153126,
    "source_hash": "b9e1a788",
    "tags": []
   },
   "outputs": [],
   "source": [
    "# Esquema linealizado\n",
    "class Linearized_solver(Finite_Volume):\n",
    "\n",
    "    def __init__(self, Nx, xL, xR, Nt, tf, f):\n",
    "        super().__init__(Nx, xL, xR, Nt, tf, f)\n",
    "        self.get_f_prime()\n",
    "\n",
    "        # Esquema\n",
    "        self.scheme = \"Lineal\"\n",
    "\n",
    "    # Flujo esquema\n",
    "    def scheme_flux(self, u_left, u_right):\n",
    "        A = self.f_prime(u_left)\n",
    "        if u_left != u_right:\n",
    "            A = (self.f(u_right) - self.f(u_left))/(u_right - u_left)\n",
    "        \n",
    "        if A>= 0:\n",
    "            return self.f(u_left)\n",
    "\n",
    "        else:\n",
    "            return self.f(u_right)\n"
   ]
  },
  {
   "cell_type": "code",
   "execution_count": 17,
   "metadata": {
    "cell_id": "b69a5110a8a9423fae70f7408ea909c2",
    "deepnote_cell_type": "code",
    "deepnote_to_be_reexecuted": false,
    "execution_millis": 199,
    "execution_start": 1675097153130,
    "source_hash": "69a358a0",
    "tags": []
   },
   "outputs": [],
   "source": [
    "# Solución con primera condición inicial\n",
    "burgers_1_lin = Linearized_solver(Nx, xL, xR, Nt, tf, f)\n",
    "burgers_1_lin.set_init_cond(U_0_1)\n",
    "\n",
    "for n in range(0,Nt-1):\n",
    "    burgers_1_lin.CFL_condition()\n",
    "    burgers_1_lin.update()\n",
    "\n",
    "#burgers_1_lin.get_animation(\"Burgers primera condición inicial\", \n",
    "                            #\"/work/volumenes_finitos/Primer_orden/Lineal/burgers_1_lin.gif\")"
   ]
  },
  {
   "cell_type": "code",
   "execution_count": 18,
   "metadata": {
    "cell_id": "9e59da953332434ea1295054a139d297",
    "deepnote_cell_type": "code",
    "deepnote_to_be_reexecuted": false,
    "execution_millis": 167,
    "execution_start": 1675097153347,
    "source_hash": "fe2a64fb",
    "tags": []
   },
   "outputs": [],
   "source": [
    "# Solución con segunda condición inicial\n",
    "burgers_2_lin = Linearized_solver(Nx, xL, xR, Nt, tf, f)\n",
    "burgers_2_lin.set_init_cond(U_0_2)\n",
    "\n",
    "for n in range(0,Nt-1):\n",
    "    burgers_2_lin.CFL_condition()\n",
    "    burgers_2_lin.update()\n",
    "\n",
    "#burgers_2_lin.get_animation(\"Burgers segunda condición inicial\", \n",
    "                            #\"/work/volumenes_finitos/Primer_orden/Lineal/burgers_2_lin.gif\")"
   ]
  },
  {
   "cell_type": "markdown",
   "metadata": {
    "cell_id": "32d2b242e8e34fb4ba190708e34cdab3",
    "deepnote_cell_type": "text-cell-h2",
    "formattedRanges": [],
    "is_collapsed": false,
    "tags": []
   },
   "source": [
    "## Esquemas centrales"
   ]
  },
  {
   "cell_type": "code",
   "execution_count": 19,
   "metadata": {
    "cell_id": "138ba77337e749ad9075db0c2176d0dc",
    "deepnote_cell_type": "code",
    "deepnote_to_be_reexecuted": false,
    "execution_millis": 0,
    "execution_start": 1675097153569,
    "source_hash": "fa2cb618",
    "tags": []
   },
   "outputs": [],
   "source": [
    "class Central_solvers(Finite_Volume, ABC):\n",
    "    def __init__(self, Nx, xL, xR, Nt, tf, f):\n",
    "        super().__init__(Nx, xL, xR, Nt, tf, f)\n",
    "    \n",
    "    # Obtiene velocidad de onda\n",
    "    @abstractmethod\n",
    "    def get_s(self, u_left, u_right):\n",
    "        pass\n",
    "\n",
    "    # Flujo esquema\n",
    "    def scheme_flux(self, u_left, u_right):\n",
    "        s = self.get_s(u_left, u_right)\n",
    "        f_star = (self.f(u_left) + self.f(u_right))/2 - (s/2 * (u_right - u_left))\n",
    "        return f_star"
   ]
  },
  {
   "cell_type": "markdown",
   "metadata": {
    "cell_id": "edeadbed6cb8469598c24d2dc88a59f5",
    "deepnote_cell_type": "text-cell-h3",
    "formattedRanges": [],
    "is_collapsed": false,
    "tags": []
   },
   "source": [
    "### Lax–Friedrichs"
   ]
  },
  {
   "cell_type": "code",
   "execution_count": 20,
   "metadata": {
    "cell_id": "646b583cfac14981805e08ee83cc079f",
    "deepnote_cell_type": "code",
    "deepnote_to_be_reexecuted": false,
    "execution_millis": 0,
    "execution_start": 1675097153569,
    "source_hash": "39afe7f9",
    "tags": []
   },
   "outputs": [],
   "source": [
    "class L_F_solver(Central_solvers):\n",
    "    def __init__(self, Nx, xL, xR, Nt, tf, f):\n",
    "        super().__init__(Nx, xL, xR, Nt, tf, f)\n",
    "        # Esquema\n",
    "        self.scheme = \"L-F\"\n",
    "    \n",
    "    # Obtiene velocidad de onda\n",
    "    def get_s(self, u_left, u_right):\n",
    "        return self.dx/self.dt"
   ]
  },
  {
   "cell_type": "code",
   "execution_count": 21,
   "metadata": {
    "cell_id": "a47763131f1a4eefac901e1ccf58ae50",
    "deepnote_cell_type": "code",
    "deepnote_to_be_reexecuted": false,
    "execution_millis": 171,
    "execution_start": 1675097153570,
    "source_hash": "d3460a74",
    "tags": []
   },
   "outputs": [],
   "source": [
    "# Solución con primera condición inicial\n",
    "burgers_1_L_F = L_F_solver(Nx, xL, xR, Nt, tf, f)\n",
    "burgers_1_L_F.set_init_cond(U_0_1)\n",
    "\n",
    "for n in range(0,Nt-1):\n",
    "    burgers_1_L_F.CFL_condition()\n",
    "    burgers_1_L_F.update()\n",
    "\n",
    "#burgers_1_L_F.get_animation(\"Burgers primera condición inicial\", \n",
    "                            #\"/work/volumenes_finitos/Primer_orden/L_F/burgers_1_L_F.gif\")"
   ]
  },
  {
   "cell_type": "code",
   "execution_count": 22,
   "metadata": {
    "cell_id": "19107b1731da41f28d480307c427f5c8",
    "deepnote_cell_type": "code",
    "deepnote_to_be_reexecuted": false,
    "execution_millis": 151,
    "execution_start": 1675097153806,
    "source_hash": "b1e8574c",
    "tags": []
   },
   "outputs": [],
   "source": [
    "# Solución con segunda condición inicial\n",
    "burgers_2_L_F = L_F_solver(Nx, xL, xR, Nt, tf, f)\n",
    "burgers_2_L_F.set_init_cond(U_0_2)\n",
    "\n",
    "for n in range(0,Nt-1):\n",
    "    burgers_2_L_F.CFL_condition()\n",
    "    burgers_2_L_F.update()\n",
    "\n",
    "#burgers_2_L_F.get_animation(\"Burgers segunda condición inicial\", \n",
    "                            #\"/work/volumenes_finitos/Primer_orden/L_F/burgers_2_L_F.gif\")"
   ]
  },
  {
   "cell_type": "markdown",
   "metadata": {
    "cell_id": "2d1a58979eac487494fd61c0c9d3a23c",
    "deepnote_cell_type": "text-cell-h3",
    "formattedRanges": [],
    "is_collapsed": false,
    "tags": []
   },
   "source": [
    "### Rusanov"
   ]
  },
  {
   "cell_type": "code",
   "execution_count": 23,
   "metadata": {
    "cell_id": "09c0e8d5fbf647379195ecfd39d00570",
    "deepnote_cell_type": "code",
    "deepnote_to_be_reexecuted": false,
    "execution_millis": 1,
    "execution_start": 1675097154002,
    "source_hash": "8e60ed28",
    "tags": []
   },
   "outputs": [],
   "source": [
    "class Rusanov_solver(Central_solvers):\n",
    "    def __init__(self, Nx, xL, xR, Nt, tf, f):\n",
    "        super().__init__(Nx, xL, xR, Nt, tf, f)\n",
    "        self.get_f_prime()\n",
    "        # Esquema\n",
    "        self.scheme = \"Rusanov\"\n",
    "    \n",
    "    # Obtiene velocidad de onda\n",
    "    def get_s(self, u_left, u_right):\n",
    "        output = np.max([np.fabs(self.f_prime(u_left)), np.fabs(self.f_prime(u_right))])\n",
    "        return output"
   ]
  },
  {
   "cell_type": "code",
   "execution_count": 24,
   "metadata": {
    "cell_id": "79f610530e394211a53346b9f90e2924",
    "deepnote_cell_type": "code",
    "deepnote_to_be_reexecuted": false,
    "execution_millis": 432,
    "execution_start": 1675097154003,
    "source_hash": "a50c43be",
    "tags": []
   },
   "outputs": [],
   "source": [
    "# Solución con primera condición inicial\n",
    "burgers_1_rus = Rusanov_solver(Nx, xL, xR, Nt, tf, f)\n",
    "burgers_1_rus.set_init_cond(U_0_1)\n",
    "\n",
    "for n in range(0,Nt-1):\n",
    "    burgers_1_rus.CFL_condition()\n",
    "    burgers_1_rus.update()\n",
    "\n",
    "#burgers_1_rus.get_animation(\"Burgers primera condición inicial\", \n",
    "                            #\"/work/volumenes_finitos/Primer_orden/Rusanov/burgers_1_rus.gif\")"
   ]
  },
  {
   "cell_type": "code",
   "execution_count": 25,
   "metadata": {
    "cell_id": "a076255287a84128a6669106da6f21a2",
    "deepnote_cell_type": "code",
    "deepnote_to_be_reexecuted": false,
    "execution_millis": 460,
    "execution_start": 1675097154459,
    "source_hash": "fcbed02d",
    "tags": []
   },
   "outputs": [],
   "source": [
    "# Solución con segunda condición inicial\n",
    "burgers_2_rus = Rusanov_solver(Nx, xL, xR, Nt, tf, f)\n",
    "burgers_2_rus.set_init_cond(U_0_2)\n",
    "\n",
    "for n in range(0,Nt-1):\n",
    "    burgers_2_rus.CFL_condition()\n",
    "    burgers_2_rus.update()\n",
    "\n",
    "#burgers_2_rus.get_animation(\"Burgers segunda condición inicial\", \n",
    "                            #\"/work/volumenes_finitos/Primer_orden/Rusanov/burgers_2_rus.gif\")"
   ]
  },
  {
   "cell_type": "code",
   "execution_count": null,
   "metadata": {},
   "outputs": [],
   "source": []
  }
 ],
 "metadata": {
  "deepnote": {},
  "deepnote_execution_queue": [],
  "deepnote_notebook_id": "35ee4be89b2649d4baa2683eb6a66e9d",
  "kernelspec": {
   "display_name": "Python 3",
   "language": "python",
   "name": "python3"
  },
  "language_info": {
   "codemirror_mode": {
    "name": "ipython",
    "version": 3
   },
   "file_extension": ".py",
   "mimetype": "text/x-python",
   "name": "python",
   "nbconvert_exporter": "python",
   "pygments_lexer": "ipython3",
   "version": "3.7.9"
  }
 },
 "nbformat": 4,
 "nbformat_minor": 4
}
