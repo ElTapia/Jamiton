{
 "cells": [
  {
   "cell_type": "markdown",
   "metadata": {
    "cell_id": "43446ec368dc4d4d913ea601313d8c9e",
    "deepnote_cell_type": "text-cell-h1",
    "formattedRanges": [],
    "is_collapsed": false,
    "tags": []
   },
   "source": [
    "# Modelo celular autómata"
   ]
  },
  {
   "cell_type": "code",
   "execution_count": 1,
   "metadata": {
    "cell_id": "f7a7d287690f45299c52d7ee5e69c202",
    "deepnote_cell_type": "code",
    "deepnote_to_be_reexecuted": false,
    "execution_millis": 983,
    "execution_start": 1669061602421,
    "source_hash": "295e0c5b",
    "tags": []
   },
   "outputs": [],
   "source": [
    "import numpy as np\n",
    "import matplotlib.pyplot as plt\n",
    "import matplotlib.animation as animation"
   ]
  },
  {
   "cell_type": "code",
   "execution_count": 2,
   "metadata": {
    "cell_id": "02816e9662b941f1b357647c19de13d3",
    "deepnote_cell_type": "code",
    "deepnote_to_be_reexecuted": false,
    "execution_millis": 2,
    "execution_start": 1669061603411,
    "source_hash": "eaad5d29",
    "tags": []
   },
   "outputs": [],
   "source": [
    "def animar_solucion(X, U, NT, T, title, doc_name, step=None):\n",
    "    \"\"\"\n",
    "    Función para crear una animación y guardarla como gif.\n",
    "    Utiliza la función FuncAnimation de matplotlib.\n",
    "    \n",
    "    X, U son listas que contienen arreglos a graficar. Deben tener el mismo tamaño.\n",
    "    \"\"\"\n",
    "    # crea plot\n",
    "    fig, ax = plt.subplots()\n",
    "    ax.set_ylim(-0.1, 1.1)\n",
    "    lines = []\n",
    "    \n",
    "    for i in range(len(U)):\n",
    "        u = U[i]\n",
    "        x = X[i]\n",
    "        \n",
    "        # genera un plot inicial para cada par de datos de entrada\n",
    "        line, = ax.plot(x, u[0])\n",
    "        lines += [line]\n",
    "\n",
    "    # Parametros animacion\n",
    "    niter = NT\n",
    "    step = T\n",
    "    \n",
    "    if step is not None:\n",
    "        step = step\n",
    "\n",
    "    # Funcion para animar\n",
    "    def animate(i, X, U):\n",
    "        \n",
    "        # Pasa por cada par de datos de entrada\n",
    "        for j in range(len(U)):\n",
    "            u = U[j]\n",
    "            x = X[j]\n",
    "            \n",
    "            # Actualiza grafico\n",
    "            lines[j].set_data(x, u[i])\n",
    "\n",
    "        ax.set_title(title + \" t={}\".format(i))\n",
    "        return ax\n",
    "\n",
    "    # Animación\n",
    "    ani = animation.FuncAnimation(fig, animate, frames=range(1,niter,step), interval=100, \n",
    "                                    fargs = (X, U), repeat=True)\n",
    "\n",
    "    ani.save(doc_name)"
   ]
  },
  {
   "cell_type": "code",
   "execution_count": null,
   "metadata": {},
   "outputs": [],
   "source": []
  }
 ],
 "metadata": {
  "deepnote": {},
  "deepnote_execution_queue": [],
  "deepnote_notebook_id": "decf6d02a46140e1a5d7d556dc5928ab",
  "deepnote_persisted_session": {
   "createdAt": "2022-11-21T20:32:52.982Z"
  },
  "kernelspec": {
   "display_name": "Python 3",
   "language": "python",
   "name": "python3"
  },
  "language_info": {
   "codemirror_mode": {
    "name": "ipython",
    "version": 3
   },
   "file_extension": ".py",
   "mimetype": "text/x-python",
   "name": "python",
   "nbconvert_exporter": "python",
   "pygments_lexer": "ipython3",
   "version": "3.7.9"
  }
 },
 "nbformat": 4,
 "nbformat_minor": 4
}
