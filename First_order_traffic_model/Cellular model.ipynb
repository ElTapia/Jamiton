{
 "cells": [
  {
   "cell_type": "markdown",
   "metadata": {
    "cell_id": "43446ec368dc4d4d913ea601313d8c9e",
    "deepnote_cell_type": "text-cell-h1",
    "formattedRanges": [],
    "is_collapsed": false,
    "tags": []
   },
   "source": [
    "# Modelo celular autómata"
   ]
  },
  {
   "cell_type": "code",
   "execution_count": 9,
   "metadata": {
    "cell_id": "f7a7d287690f45299c52d7ee5e69c202",
    "deepnote_cell_type": "code",
    "deepnote_to_be_reexecuted": false,
    "execution_millis": 983,
    "execution_start": 1669061602421,
    "source_hash": "295e0c5b",
    "tags": []
   },
   "outputs": [],
   "source": [
    "import numpy as np\n",
    "import matplotlib.pyplot as plt\n",
    "import matplotlib.animation as animation\n",
    "\n",
    "plt.style.use('bmh')\n",
    "\n",
    "\n",
    "plt.rcParams['figure.figsize'] = (9, 6)\n",
    "plt.rcParams['legend.fontsize'] = 14\n",
    "plt.rcParams[\"axes.titlesize\"] = 20\n",
    "plt.rcParams[\"axes.labelsize\"] = 16\n",
    "plt.rcParams[\"figure.titlesize\"] = 20"
   ]
  },
  {
   "cell_type": "code",
   "execution_count": 2,
   "metadata": {
    "cell_id": "02816e9662b941f1b357647c19de13d3",
    "deepnote_cell_type": "code",
    "deepnote_to_be_reexecuted": false,
    "execution_millis": 2,
    "execution_start": 1669061603411,
    "source_hash": "eaad5d29",
    "tags": []
   },
   "outputs": [],
   "source": [
    "def animar_solucion(X, U, NT, T, title, doc_name, step=None):\n",
    "    \"\"\"\n",
    "    Función para crear una animación y guardarla como gif.\n",
    "    Utiliza la función FuncAnimation de matplotlib.\n",
    "    \n",
    "    X, U son listas que contienen arreglos a graficar. Deben tener el mismo tamaño.\n",
    "    \"\"\"\n",
    "    # crea plot\n",
    "    fig, ax = plt.subplots()\n",
    "    ax.set_ylim(-0.1, 1.1)\n",
    "    lines = []\n",
    "    \n",
    "    for i in range(len(U)):\n",
    "        u = U[i]\n",
    "        x = X[i]\n",
    "        \n",
    "        # genera un plot inicial para cada par de datos de entrada\n",
    "        line, = ax.plot(x, u[0])\n",
    "        lines += [line]\n",
    "\n",
    "    # Parametros animacion\n",
    "    niter = NT\n",
    "    step = T\n",
    "    \n",
    "    if step is not None:\n",
    "        step = step\n",
    "\n",
    "    # Funcion para animar\n",
    "    def animate(i, X, U):\n",
    "        \n",
    "        # Pasa por cada par de datos de entrada\n",
    "        for j in range(len(U)):\n",
    "            u = U[j]\n",
    "            x = X[j]\n",
    "            \n",
    "            # Actualiza grafico\n",
    "            lines[j].set_data(x, u[i])\n",
    "\n",
    "        ax.set_title(title + \" t={}\".format(i))\n",
    "        return ax\n",
    "\n",
    "    # Animación\n",
    "    ani = animation.FuncAnimation(fig, animate, frames=range(1,niter,step), interval=100, \n",
    "                                    fargs = (X, U), repeat=True)\n",
    "\n",
    "    ani.save(doc_name)"
   ]
  },
  {
   "cell_type": "code",
   "execution_count": 3,
   "metadata": {
    "cell_id": "b1d5382ebc7c42b39888e0cf92130986",
    "deepnote_cell_type": "code",
    "deepnote_to_be_reexecuted": false,
    "execution_millis": 25,
    "execution_start": 1669061603460,
    "source_hash": "e2a524a7",
    "tags": []
   },
   "outputs": [],
   "source": [
    "class Car:\n",
    "    def __init__(self, x_i, p):\n",
    "        self.x = x_i\n",
    "        self.v = 0\n",
    "        self.empty_cells = 0\n",
    "        self.p = p\n",
    "\n",
    "    def set_empty_cells(self, x_next_car, N_x):\n",
    "        \n",
    "        diff = np.fabs(x_next_car - self.x)\n",
    "        self.empty_cells = min( diff, N_x - diff )\n",
    "    \n",
    "    def set_v(self):\n",
    "        self.v = np.random.randint(0, self.empty_cells+1)\n",
    "\n",
    "    def update_v(self):\n",
    "        self.v += 1\n",
    "\n",
    "    def reduce_speed(self):\n",
    "        self.v = min(self.empty_cells, self.v)\n",
    "    \n",
    "    def random_slow(self):\n",
    "        u = np.random.uniform()\n",
    "        if self.v >= 2 and u>=p:\n",
    "            self.v -= 1\n",
    "    \n",
    "    def update_x(self, N_x):\n",
    "        self.x = (self.x + self.v)%N_x\n",
    "\n",
    "    def string(self):\n",
    "        print(\"Posición: \", self.x)\n",
    "        print(\"Velocidad: \", self.v)"
   ]
  },
  {
   "cell_type": "code",
   "execution_count": 4,
   "metadata": {
    "cell_id": "5eb383edf68f4f088efc9063bccfadca",
    "deepnote_cell_type": "code",
    "deepnote_to_be_reexecuted": false,
    "execution_millis": 0,
    "execution_start": 1669061603485,
    "source_hash": "184ce0aa",
    "tags": []
   },
   "outputs": [],
   "source": [
    "# Obtiene carretera e indices con autos\n",
    "def get_road_and_iscar(N_t, N_x, ps):\n",
    "    road = np.zeros((N_t, N_x))\n",
    "    road[0] = np.random.choice([0, 1], size=N_x, p=ps)\n",
    "\n",
    "    is_car = np.nonzero(road[0])[0]\n",
    "    return road, is_car\n",
    "\n",
    "# Obtiene autos\n",
    "def get_cars(is_car, p):\n",
    "    cars = np.full(len(is_car), fill_value=None)\n",
    "\n",
    "\n",
    "    for c in range(len(cars)):\n",
    "        xi = is_car[c]\n",
    "        car = Car(xi, p)\n",
    "\n",
    "        road_without_car = road[0][xi+1:]\n",
    "\n",
    "        if len(np.nonzero(road_without_car)[0]) != 0:\n",
    "            car.empty_cells = np.nonzero(road_without_car)[0][0]\n",
    "\n",
    "        car.set_v()\n",
    "\n",
    "        cars[c] = car\n",
    "\n",
    "    return cars"
   ]
  },
  {
   "cell_type": "code",
   "execution_count": 5,
   "metadata": {
    "cell_id": "41d0baf46df84422ba33c20862b7aaab",
    "deepnote_cell_type": "code",
    "deepnote_to_be_reexecuted": false,
    "execution_millis": 0,
    "execution_start": 1669061603486,
    "source_hash": "5902b61e",
    "tags": []
   },
   "outputs": [],
   "source": [
    "def move_cars(cars, road, pos, vel, t):\n",
    "\n",
    "    for c in range(len(cars)-1, -1, -1):\n",
    "\n",
    "        cars[c].update_v()\n",
    "        cars[c].reduce_speed()\n",
    "        cars[c].random_slow()\n",
    "        cars[c].update_x(N_x)\n",
    "\n",
    "        cars[c].set_empty_cells(cars[(c+1)%len(cars)].x, N_x)\n",
    "\n",
    "        pos[t][c] = cars[c].x\n",
    "        vel[t][c] = cars[c].v"
   ]
  },
  {
   "cell_type": "code",
   "execution_count": 7,
   "metadata": {
    "cell_id": "4150c837e2ca4202a38d0e29a7841dbf",
    "deepnote_cell_type": "code",
    "deepnote_to_be_reexecuted": false,
    "execution_millis": 1,
    "execution_start": 1669061603486,
    "source_hash": "1321bd69",
    "tags": []
   },
   "outputs": [],
   "source": [
    "def run_cars(N_x, N_t, road, cars, delta_t, filename):\n",
    "    pos = np.zeros((N_t, len(cars)))\n",
    "    vel = np.zeros((N_t, len(cars)))\n",
    "\n",
    "\n",
    "    for t in range(1, N_t, delta_t):\n",
    "        move_cars(cars, road, pos, vel, t)\n",
    "\n",
    "        pos = pos.astype(int)\n",
    "        vel = vel.astype(int)\n",
    "\n",
    "        np.put(road[t], pos[t], 1, \"wrap\")\n",
    "\n",
    "    plt.imshow(road, cmap=\"binary\")\n",
    "    plt.xlabel(\"x\")\n",
    "    plt.ylabel(\"t\")\n",
    "    plt.title(\"Modelo tráfico celular\")\n",
    "    plt.savefig(\"Charts/{}\".format(filename))\n",
    "    plt.show()\n",
    "\n",
    "    return vel, pos"
   ]
  },
  {
   "cell_type": "code",
   "execution_count": 16,
   "metadata": {
    "cell_id": "b07a3fbe0fa642d7a7d2ea44d3f6bb69",
    "deepnote_cell_type": "code",
    "deepnote_to_be_reexecuted": false,
    "execution_millis": 572,
    "execution_start": 1669061603532,
    "source_hash": "b03962c8",
    "tags": []
   },
   "outputs": [
    {
     "data": {
      "image/png": "[encoded data removed]",
      "text/plain": [
       "<Figure size 648x432 with 1 Axes>"
      ]
     },
     "metadata": {
      "needs_background": "light"
     },
     "output_type": "display_data"
    }
   ],
   "source": [
    "# TODO: Autos entran a la carretera de manera random\n",
    "seed = 420\n",
    "np.random.seed(seed)\n",
    "\n",
    "T = 100\n",
    "x_f = 100\n",
    "\n",
    "N_x = 100\n",
    "N_t = 100\n",
    "\n",
    "delta_t = 1\n",
    "delta_x = 1\n",
    "\n",
    "N_t = int(T / delta_t)\n",
    "N_x = int(x_f / delta_x)\n",
    "\n",
    "p = 0.5\n",
    "p_aparicion = 0.2\n",
    "ps = [1-p_aparicion, p_aparicion]\n",
    "\n",
    "# Crea carretera y autos\n",
    "road, is_car = get_road_and_iscar(N_t, N_x, ps)\n",
    "cars = get_cars(is_car, p)\n",
    "vel, pos = run_cars(N_x, N_t, road, cars, delta_t, \"celular_3.png\")"
   ]
  },
  {
   "cell_type": "code",
   "execution_count": 17,
   "metadata": {
    "cell_id": "698c99714b4c4edeb532d3c855d4ee3d",
    "deepnote_cell_type": "code",
    "deepnote_to_be_reexecuted": false,
    "execution_millis": 6,
    "execution_start": 1669061604096,
    "source_hash": "1574bbe2",
    "tags": []
   },
   "outputs": [],
   "source": [
    "for t in range(N_t):\n",
    "    autos = road[t][road[t]==1]\n",
    "    #print(len(autos))"
   ]
  },
  {
   "cell_type": "code",
   "execution_count": 18,
   "metadata": {
    "cell_id": "9509f5f4b1a940ed86b77cba9f40620f",
    "deepnote_cell_type": "code",
    "deepnote_to_be_reexecuted": false,
    "execution_millis": 218,
    "execution_start": 1669061604105,
    "source_hash": "b63acf53",
    "tags": []
   },
   "outputs": [
    {
     "data": {
      "image/png": "[encoded data removed]",
      "text/plain": [
       "<Figure size 648x432 with 1 Axes>"
      ]
     },
     "metadata": {
      "needs_background": "light"
     },
     "output_type": "display_data"
    }
   ],
   "source": [
    "plt.imshow(pos)\n",
    "plt.show()"
   ]
  },
  {
   "cell_type": "code",
   "execution_count": 19,
   "metadata": {
    "cell_id": "e2d05123ec814d949232ddaa64b9587b",
    "deepnote_cell_type": "code",
    "deepnote_to_be_reexecuted": false,
    "execution_millis": 1136,
    "execution_start": 1669061604326,
    "source_hash": "632d9b4a",
    "tags": []
   },
   "outputs": [
    {
     "data": {
      "image/png": "[encoded data removed]",
      "text/plain": [
       "<Figure size 648x432 with 1 Axes>"
      ]
     },
     "metadata": {
      "needs_background": "light"
     },
     "output_type": "display_data"
    }
   ],
   "source": [
    "plt.imshow(vel)\n",
    "plt.show()"
   ]
  },
  {
   "cell_type": "markdown",
   "metadata": {},
   "source": [
    "## Densidad vehicular"
   ]
  },
  {
   "cell_type": "code",
   "execution_count": 11,
   "metadata": {
    "cell_id": "59c06a1efa364246ad06a20c77888dbe",
    "deepnote_cell_type": "code",
    "deepnote_to_be_reexecuted": false,
    "execution_millis": 3,
    "execution_start": 1669061604574,
    "source_hash": "189f54b4",
    "tags": []
   },
   "outputs": [],
   "source": [
    "def rho(x, pos):\n",
    "    for i in range(len(pos)):\n",
    "        x_i = pos[i]\n",
    "        x_j = pos[(i + 1)%len(pos)]\n",
    "\n",
    "        if x_i < x <= x_j:\n",
    "            return 1/(x_j - x_i)\n",
    "    return 0\n",
    "\n",
    "\n",
    "def rho_2(x, h, pos):\n",
    "    count = 0\n",
    "    for i in range(len(pos)):\n",
    "        x_i = pos[i]\n",
    "        if x - h <= x_i <= x + h:\n",
    "            count += 1\n",
    "\n",
    "    return count / (2 * h)"
   ]
  },
  {
   "cell_type": "code",
   "execution_count": 12,
   "metadata": {
    "cell_id": "101fb0404ac74ebf97f61a76af86dd74",
    "deepnote_cell_type": "code",
    "deepnote_to_be_reexecuted": false,
    "execution_millis": 3376,
    "execution_start": 1669061604590,
    "source_hash": "446233d9",
    "tags": []
   },
   "outputs": [],
   "source": [
    "h = 8\n",
    "x_to_plot = np.linspace(0, N_x, N_x)\n",
    "x_to_plot_2 = np.linspace(0, N_x, N_x)\n",
    "\n",
    "rho_to_plot = np.zeros((N_t, N_x))\n",
    "rho_to_plot_2 = np.zeros((N_t, N_x))\n",
    "\n",
    "for t in range(1, N_t):\n",
    "    for i in range(N_x):\n",
    "        rho_to_plot[t][i] = rho(x_to_plot[i], pos[t])\n",
    "        rho_to_plot_2[t][i] = rho_2(x_to_plot[i], h, pos[t])"
   ]
  },
  {
   "cell_type": "code",
   "execution_count": 14,
   "metadata": {
    "cell_id": "7b72d0f9ef984ce0a615eab69e7de60c",
    "deepnote_cell_type": "code",
    "deepnote_to_be_reexecuted": false,
    "execution_millis": 11161,
    "execution_start": 1669061622916,
    "source_hash": "f3149d73",
    "tags": []
   },
   "outputs": [
    {
     "name": "stderr",
     "output_type": "stream",
     "text": [
      "MovieWriter ffmpeg unavailable; using Pillow instead.\n"
     ]
    },
    {
     "data": {
      "image/png": "[encoded data removed]",
      "text/plain": [
       "<Figure size 432x288 with 1 Axes>"
      ]
     },
     "metadata": {
      "needs_background": "light"
     },
     "output_type": "display_data"
    }
   ],
   "source": [
    "animar_solucion([x_to_plot], [rho_to_plot], N_t, delta_t, \"Densidad\", \"Charts/densidad.gif\", step=None)"
   ]
  },
  {
   "cell_type": "code",
   "execution_count": 15,
   "metadata": {
    "cell_id": "ee50632c063f4a199e95fb32843b3963",
    "deepnote_cell_type": "code",
    "deepnote_to_be_reexecuted": false,
    "execution_millis": 14927,
    "execution_start": 1669061607975,
    "source_hash": "561b16a6",
    "tags": []
   },
   "outputs": [
    {
     "name": "stderr",
     "output_type": "stream",
     "text": [
      "MovieWriter ffmpeg unavailable; using Pillow instead.\n"
     ]
    },
    {
     "data": {
      "image/png": "[encoded data removed]",
      "text/plain": [
       "<Figure size 432x288 with 1 Axes>"
      ]
     },
     "metadata": {
      "needs_background": "light"
     },
     "output_type": "display_data"
    }
   ],
   "source": [
    "animar_solucion([x_to_plot], [rho_to_plot_2], N_t, delta_t, \"Densidad 2\", \"Charts/densidad_2.gif\", step=None)"
   ]
  },
  {
   "cell_type": "code",
   "execution_count": null,
   "metadata": {},
   "outputs": [],
   "source": []
  }
 ],
 "metadata": {
  "deepnote": {},
  "deepnote_execution_queue": [],
  "deepnote_notebook_id": "decf6d02a46140e1a5d7d556dc5928ab",
  "deepnote_persisted_session": {
   "createdAt": "2022-11-21T20:32:52.982Z"
  },
  "kernelspec": {
   "display_name": "Python 3",
   "language": "python",
   "name": "python3"
  },
  "language_info": {
   "codemirror_mode": {
    "name": "ipython",
    "version": 3
   },
   "file_extension": ".py",
   "mimetype": "text/x-python",
   "name": "python",
   "nbconvert_exporter": "python",
   "pygments_lexer": "ipython3",
   "version": "3.7.9"
  }
 },
 "nbformat": 4,
 "nbformat_minor": 4
}
