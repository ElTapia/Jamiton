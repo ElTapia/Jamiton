{
 "cells": [
  {
   "cell_type": "code",
   "execution_count": 220,
   "id": "6f626e48",
   "metadata": {
    "cell_id": "2202d17e3cb44d518ee69ceeb9f6a456",
    "deepnote_cell_type": "code",
    "deepnote_to_be_reexecuted": false,
    "execution_millis": 1706,
    "execution_start": 1675097148664,
    "source_hash": "80862252",
    "tags": []
   },
   "outputs": [],
   "source": [
    "import numpy as np\n",
    "import matplotlib.pyplot as plt\n",
    "import matplotlib.animation as animation\n",
    "\n",
    "from scipy import integrate"
   ]
  },
  {
   "cell_type": "code",
   "execution_count": 263,
   "id": "b3b3c039",
   "metadata": {},
   "outputs": [],
   "source": [
    "# Obtiene gif de la solución\n",
    "def get_animation(Q, x, U, Nt, title, titles, path):\n",
    "    \n",
    "    # Crea figura\n",
    "    fig, axs = plt.subplots(1, 3, figsize=(10, 5))\n",
    "    ax1, ax2, ax3 = axs\n",
    "    \n",
    "    # Parámetros\n",
    "    plt.xlabel(r'$x$')\n",
    "    plt.ylabel(r'$Q(t, x)$')\n",
    "    ax1.set_title(titles[0])\n",
    "    ax2.set_title(title[1])\n",
    "    \n",
    "    fig.suptitle(title)\n",
    "    \n",
    "    ax1.set_ylim(-0.1, 0.8)\n",
    "    ax2.set_ylim(-1, 60)\n",
    "    ax3.set_ylim(-10, 20)\n",
    "    \n",
    "    ax1.set_xlabel(\"x\")\n",
    "    ax2.set_xlabel(\"x\")\n",
    "    ax3.set_ylabel(\"x\")\n",
    "    \n",
    "    # Valores iniciales\n",
    "    rho_0 = Q[0][0]\n",
    "    y_0 = Q[0][1]\n",
    "    u_0 = u(rho_0, y_0, U)\n",
    "    U_eq_0 = U(rho_0)\n",
    "\n",
    "    # Lineas iniciales\n",
    "    line1, = ax1.plot(x, rho_0, '-', color='r', linewidth=2)\n",
    "    line2, = ax2.plot(x, u_0, '-', color='b', linewidth=2, label=r\"u\")\n",
    "    line3, = ax3.plot(x, U_eq_0, '-', color='g', linewidth=2)\n",
    "    \n",
    "    plt.legend()\n",
    "\n",
    "    def animate(n):\n",
    "        \n",
    "        # Instante n\n",
    "        rho = Q[n][0]\n",
    "        y = Q[n][1]\n",
    "        u_ = u(rho, y, U)\n",
    "        U_eq = U(rho)\n",
    "        \n",
    "        # Actualiza gráfico\n",
    "        line1.set_ydata(rho)\n",
    "        line2.set_ydata(u_)\n",
    "        line3.set_ydata(U_eq)\n",
    "\n",
    "        ax1.set_title(titles[0])\n",
    "        ax2.set_title(titles[1])\n",
    "        ax3.set_title(titles[2])\n",
    "        \n",
    "        return [line1, line2, line3]\n",
    "\n",
    "    ani = animation.FuncAnimation(fig, animate, np.arange(0, Nt, 3),\n",
    "                                interval=50, blit=True)\n",
    "\n",
    "    ani.save(path)"
   ]
  },
  {
   "cell_type": "markdown",
   "id": "a013141f",
   "metadata": {
    "cell_id": "fbee1f2a28e74ad69dea173545fdd571",
    "deepnote_cell_type": "code",
    "tags": []
   },
   "source": [
    "# Aplicación a ecuación ARZ"
   ]
  },
  {
   "cell_type": "markdown",
   "id": "6c8569af",
   "metadata": {},
   "source": [
    "Se toma el modelo ARZ no homogeneo, que considera conservación de masa y del campo de velocidades shifteado. Las ecuaciones corresponden a\n",
    "$$\n",
    "\\begin{align*}\n",
    "\\rho_t + (\\rho u)_x &= 0\\\\\n",
    "(u - U(\\rho))_t + u(u-U(\\rho))_x &= \\frac{(U(\\rho) - u)}{\\tau}\n",
    "\\end{align*}\n",
    "$$\n",
    "\n",
    "donde $\\rho = \\rho(x, t)$ corresponde a la densidad vehicular, $u=u(x, t)$ al campo de velocidades y $U(\\rho)$ velocidad de equilibrio. Consideraremos $U(\\rho) = u_{\\text{max}}(1-\\rho^\\gamma)$ con $\\gamma \\in (0, 1)$. En particular, se usarán $u_{\\text{max}}=20$ y $\\gamma=1/2$.\n",
    "\n",
    "Definiendo $y(\\rho, u)= \\rho(u-U(\\rho))$ y sumando ambas ecuaciones, podemos escribir el sistema en su forma conservativa:\n",
    "$$\n",
    " \\textbf{Q}_t + F( \\textbf{Q})_x = \\textbf{S}(y, \\rho)\n",
    "$$\n",
    "donde $ \\textbf{Q} = \\begin{pmatrix} \\rho \\\\ y \\end{pmatrix}$, $F(\\textbf{Q}) = \\begin{pmatrix} \\rho u\\\\ yu\\end{pmatrix}$ y $ \\textbf{S}(y, u) = \\begin{pmatrix} 0 \\\\ -\\frac{y}{\\rho} \\end{pmatrix}$. De esta forma se puede utilizar cualquier esquema de volúmenes finitos que se haya visto. En este caso, se usará el esquema de Godunov, que pide resolver el problema de Riemann asociado al modelo. Este se resolverá analiticamente y se programará separando en casos.\n",
    "\n",
    "Una opción a manejar es resolver el problema de Riemann usando solvers aproximadores, pues se puede complejizar más si se resuelve el problema de Riemann no homogeneo. Se puede también resolver analíticamente pero resulta en un mayor coste computacional."
   ]
  },
  {
   "cell_type": "markdown",
   "id": "616c973d",
   "metadata": {},
   "source": [
    "## Funciones del modelo"
   ]
  },
  {
   "cell_type": "code",
   "execution_count": 447,
   "id": "51ec8da0",
   "metadata": {},
   "outputs": [],
   "source": [
    "# Se pueden cambiar\n",
    "u_max = 60\n",
    "gamm = 1/2\n",
    "\n",
    "# Define u en función de rho e y\n",
    "def u(rho, y, U):\n",
    "    output = y/rho + U(rho)\n",
    "    return output\n",
    "\n",
    "# Define y en función de rho y u\n",
    "def y_u(rho, u, U):\n",
    "    output = rho*(u - U(rho))\n",
    "    return output"
   ]
  },
  {
   "cell_type": "code",
   "execution_count": 223,
   "id": "78804e90",
   "metadata": {},
   "outputs": [],
   "source": [
    "# Flujo del modelo\n",
    "def flux(Q, U):\n",
    "    \n",
    "    # Rescata variables\n",
    "    rho, y = Q\n",
    "    \n",
    "    # Obtiene u en funcion de rho e y\n",
    "    u_ = u(rho, y, U)\n",
    "    return np.array([rho * u_, y * u_])"
   ]
  },
  {
   "cell_type": "code",
   "execution_count": 224,
   "id": "f90021f3",
   "metadata": {},
   "outputs": [],
   "source": [
    "# Flujo de Godunov de primer orden\n",
    "def F(Q, N, U, l):\n",
    "    \n",
    "    # Guarda flujo en un arreglo\n",
    "    F_ = np.zeros(Q.shape)\n",
    "    \n",
    "    for i in range(1, N-1):\n",
    "        \n",
    "        # Rescata actual y vecinos\n",
    "        Q_left = Q[:, i-1]\n",
    "        Q_i = Q[:, i]\n",
    "        Q_right = Q[:, i+1]\n",
    "        \n",
    "        # Problema de Riemann en cada vecino\n",
    "        w_left = w(Q_left, Q_i, U)\n",
    "        w_right = w(Q_i, Q_right, U)\n",
    "        \n",
    "        # Evalúa en el flujo del modelo\n",
    "        F_[:, i] = flux(w_right, U) - flux(w_left, U)\n",
    "    \n",
    "    return F_"
   ]
  },
  {
   "cell_type": "markdown",
   "id": "2cf0fbb2-df23-4e6c-b4a8-f855495c844c",
   "metadata": {},
   "source": [
    "## Integral de densidad"
   ]
  },
  {
   "cell_type": "code",
   "execution_count": 456,
   "id": "a4906621-ca85-490e-9755-a1b6a7edb7a6",
   "metadata": {},
   "outputs": [],
   "source": [
    "def density_integral(x, dx, N_t, Q):\n",
    "    integral_graph = []\n",
    "    for n in range(N_t):\n",
    "    \n",
    "        density = Q[n, 0, :]\n",
    "        integral = integrate.simpson(density, x, dx)\n",
    "        integral_graph += [integral]\n",
    "    \n",
    "    plt.plot(integral_graph)\n",
    "    plt.show()"
   ]
  },
  {
   "cell_type": "markdown",
   "id": "bd3bad14",
   "metadata": {},
   "source": [
    "## Resuelve el problema de Riemann"
   ]
  },
  {
   "cell_type": "code",
   "execution_count": 226,
   "id": "0491d953",
   "metadata": {},
   "outputs": [],
   "source": [
    "# Solución problema de Riemann homogeneo\n",
    "\n",
    "# TODO: Quitar casos redundantes\n",
    "# TODO: Cambiar si se quiere cambiar el h(rho) o U(rho)\n",
    "# TODO: Agregar Riemann no homogeneo\n",
    "def w(Q_l, Q_r, U, umax=u_max, gamma=gamm):\n",
    "    \n",
    "    # Rescata variables a la izquierda\n",
    "    rho_l, y_l = Q_l\n",
    "    \n",
    "    # Rescata variables a la derecha\n",
    "    rho_r, y_r = Q_r\n",
    "      \n",
    "    # Obtiene velocidades\n",
    "    u_l = u(rho_l, y_l, U)\n",
    "    u_r = u(rho_r, y_r, U)\n",
    "    u_m = u_r\n",
    "\n",
    "    # Define valor medio de rho y u\n",
    "    rho_m = (rho_l**gamma + (u_l - u_r)/umax)**(1/gamma)\n",
    "    \n",
    "    if umax*rho_l**gamma + u_l <= u_r:\n",
    "        print(\"No hay solución\")\n",
    "        print(\"u_r = \", u_r, \"demás = \", umax*rho_l**gamma + u_l)\n",
    "\n",
    "    # u_r y u_l cercanos\n",
    "    if np.isclose(u_r, u_l):\n",
    "\n",
    "        # Solucion en 0\n",
    "        rho_0 = rho_l\n",
    "        u_0 = u_l\n",
    "\n",
    "    # u_r menor a u_l\n",
    "    elif u_r < u_l:\n",
    "\n",
    "        # Define velocidad del shock\n",
    "        l_s = (rho_m * u_m - rho_l * u_l)/(rho_m - rho_l)\n",
    "\n",
    "        # Si es positivo\n",
    "        if l_s >= 0:\n",
    "\n",
    "            # Solucion en 0\n",
    "            rho_0 = rho_l\n",
    "            u_0 = u_l\n",
    "\n",
    "        # Si es negativo\n",
    "        else:\n",
    "\n",
    "            # Solucion en 0\n",
    "            rho_0 = rho_m\n",
    "            u_0 = u_m\n",
    "\n",
    "    # Condición u_l en un intervalo en función de u_r\n",
    "    elif u_r - umax*rho_l**gamma < u_l < u_r:\n",
    "\n",
    "        # Lambdas a la izquierda y centrado con respecto al 0\n",
    "        l_0_l = u_l - umax * gamma * rho_l**gamma\n",
    "        l_0_m = u_r - umax*gamma*rho_l**gamma + gamma*(u_r - u_l)\n",
    "\n",
    "        # Lambda izquierda es positivo\n",
    "        if l_0_l >= 0:\n",
    "\n",
    "            # Solucion en 0\n",
    "            rho_0 = rho_l\n",
    "            u_0 = u_l\n",
    "\n",
    "        # Lambda derecha es negativo\n",
    "        elif l_0_m <= 0:\n",
    "\n",
    "            # Solucion en 0\n",
    "            rho_0 = rho_m\n",
    "            u_0 = u_m\n",
    "\n",
    "        # A la izquierda es negativo y centrado positivo\n",
    "        elif l_0_l < 0 < l_0_m:\n",
    "            rho_bar = ((u_l + umax*rho_l**gamma)/((gamma + 1)*umax))**(1/gamma)\n",
    "            u_bar = (gamma/(gamma+1)) * (u_l + umax*rho_l**gamma)\n",
    "\n",
    "            # Solucion en 0\n",
    "            rho_0 = rho_bar\n",
    "            u_0 = u_bar\n",
    "\n",
    "    # u_l menor a u_r menos algo\n",
    "    elif u_l <= u_r - umax*rho_l**gamma:\n",
    "\n",
    "        # Lambda a la izquierda del 0\n",
    "        l_0_l = u_l - umax * gamma * rho_l**gamma\n",
    "\n",
    "        # Si es positivo\n",
    "        if l_0_l >= 0:\n",
    "\n",
    "            # Solucion en 0\n",
    "            rho_0 = rho_l\n",
    "            u_0 = u_l\n",
    "\n",
    "        # Si es negativo\n",
    "        else:\n",
    "            rho_bar = ((u_l + umax*rho_l**gamma)/((gamma + 1)*umax))**(1/gamma)\n",
    "            u_bar = (gamma/(gamma+1)) * (u_l + umax*rho_l**gamma)\n",
    "\n",
    "            # Solucion en 0\n",
    "            rho_0 = rho_bar\n",
    "            u_0 = u_bar\n",
    "\n",
    "    # rho_l cero y rho_r positivo\n",
    "    # TODO: Ver equivalencia a algun caso anterior\n",
    "    elif np.isclose(rho_l, 0) and rho_r >0:\n",
    "        rho_0 = 0\n",
    "        u_0 = 0\n",
    "    \n",
    "    # Opuesto al anterior\n",
    "    # TODO: Ver equivalencia a algun caso anterior\n",
    "    elif rho_l > 0 and np.isclose(rho_r, 0):\n",
    "        \n",
    "        # Velocidad\n",
    "        u_l = u(rho_l, y_l, U)\n",
    "        \n",
    "        # Obtiene lambda a la izquierda del 0\n",
    "        l_0_l = u_l - umax * gamma * rho_l**gamma\n",
    "        \n",
    "        # Si es positivo\n",
    "        if l_0_l >= 0:\n",
    "            \n",
    "            # Solucion en 0\n",
    "            rho_0 = rho_l\n",
    "            u_0 = u_l\n",
    "        \n",
    "        # Si es negativo\n",
    "        else:\n",
    "            rho_bar = ((u_l + umax*rho_l**gamma)/((gamma + 1)*umax))**(1/gamma)\n",
    "            u_bar = (gamma/(gamma+1)) * (u_l + umax*rho_l**gamma)\n",
    "            \n",
    "            # Solucion en 0\n",
    "            rho_0 = rho_bar\n",
    "            u_0 = u_bar\n",
    "    \n",
    "    # rho_l  es cero\n",
    "    # TODO: Escribir casos densidad = 0\n",
    "    else: #np.isclose(rho_l, 0):\n",
    "        rho_0 = 0\n",
    "        u_0 = 0\n",
    "        \n",
    "    \n",
    "    # Obtiene y_0 segun el u_0 obtenido\n",
    "    y_0 = y_u(rho_0, u_0, U)\n",
    "    \n",
    "    return np.array([rho_0, y_0])\n"
   ]
  },
  {
   "cell_type": "code",
   "execution_count": 227,
   "id": "d3d64b0d",
   "metadata": {},
   "outputs": [],
   "source": [
    "# Velocidad de equilibrio\n",
    "def U(rho, umax=u_max, gamma = gamm):\n",
    "    return umax*(1-rho**gamma)"
   ]
  },
  {
   "cell_type": "code",
   "execution_count": 240,
   "id": "55c44d23",
   "metadata": {},
   "outputs": [],
   "source": [
    "# Condición CFL\n",
    "def cfl(dt, dx, Q, eps=1e-2):\n",
    "    rho, y = Q\n",
    "    u_ = u(rho, y, U)\n",
    "    \n",
    "    l_max = np.max(u_)\n",
    "    \n",
    "    new_dt = dx/(2*l_max)\n",
    "    \n",
    "    # Condición si nuevo dt es mayor\n",
    "    if new_dt > dt and dt != 0:\n",
    "        return dt\n",
    "    \n",
    "    return new_dt"
   ]
  },
  {
   "cell_type": "code",
   "execution_count": 229,
   "id": "3093c6ff",
   "metadata": {},
   "outputs": [],
   "source": [
    "# Implementa Godunov\n",
    "def godunov_ARZ(Q_0, dx, xl, xr, T, U, tau):\n",
    "    \n",
    "    # Largo de la grilla\n",
    "    L = xr-xl\n",
    "    \n",
    "    # Numero de puntos\n",
    "    N = int(L//dx)\n",
    "    \n",
    "    # Grilla\n",
    "    x = np.linspace(xl, xr, N)\n",
    "    \n",
    "    # Guarda soluciones\n",
    "    # Condición inicial\n",
    "    Q = Q_0(x, U)\n",
    "    dt = 0\n",
    "    t = 0\n",
    "    n = 0\n",
    "    \n",
    "    while t < T:\n",
    "        \n",
    "        # Actualiza segun condicion CFL\n",
    "        dt = cfl(dt, dx, Q[n])\n",
    "        l = dt/dx\n",
    "        \n",
    "        # Paso de Godunov\n",
    "        Q_sig = Q[n] - l * F(Q[n], N, U, l)\n",
    "        \n",
    "        # Agrega no homogeneidad\n",
    "        rho_sig, y_sig = Q_sig\n",
    "        \n",
    "        # Si aparece rho negativo\n",
    "        neg_rho = rho_sig[rho_sig<0]\n",
    "        if len(neg_rho)>0:\n",
    "            print(\"rho negativo\", neg_rho, \" n = \", n)\n",
    "            rho_sig[rho_sig<0] = 1e-1\n",
    "        \n",
    "        # Resuelve termino de relajación\n",
    "        y_sig__ = y_sig * (1 - dt/(2 *tau * rho_sig))\n",
    "        y_sig_ = y_sig - (dt * y_sig__)/(tau * rho_sig)\n",
    "        Q_sig[1] = y_sig_\n",
    "        \n",
    "        # Condiciones de borde Periodica\n",
    "        Q_sig[:, 0] = Q_sig[:, -2]\n",
    "        Q_sig[:, -1] = Q_sig[:, 1]\n",
    "        \n",
    "        # Guarda paso\n",
    "        Q_sig = np.reshape(Q_sig, (1, Q_sig.shape[0], Q_sig.shape[1]))\n",
    "        Q = np.append(Q, Q_sig, axis=0)\n",
    "        \n",
    "        # Actualiza indice y tiempo\n",
    "        n += 1\n",
    "        t += dt\n",
    "        \n",
    "    return x, Q"
   ]
  },
  {
   "cell_type": "markdown",
   "id": "28cccdc1",
   "metadata": {},
   "source": [
    "## Condiciones iniciales"
   ]
  },
  {
   "cell_type": "code",
   "execution_count": 230,
   "id": "2c683b29",
   "metadata": {},
   "outputs": [],
   "source": [
    "# Primera condición inicial\n",
    "# Constante por pedazos\n",
    "def Q_0_1(x, U):\n",
    "    \n",
    "    # Densidad alta en x negativo y bajo en x positivo\n",
    "    rho_0 = (0.4)*(x>=0) + 0.01*(x<0)\n",
    "    \n",
    "    # Velocidad baja en negativos y alta en positivos\n",
    "    u_0 = 1*(x>=0) + 30*(x<0)\n",
    "    \n",
    "    # y inicial en funcion de u y rho\n",
    "    y_0 = rho_0 * (u_0 - U(rho_0))\n",
    "    \n",
    "    # Vector con condición\n",
    "    Q_0_ = np.zeros([1, 2, len(y_0)])\n",
    "    Q_0_[0][0] = rho_0\n",
    "    Q_0_[0][1] = y_0\n",
    "    \n",
    "    return Q_0_"
   ]
  },
  {
   "cell_type": "code",
   "execution_count": 231,
   "id": "49cf7b7f",
   "metadata": {},
   "outputs": [],
   "source": [
    "# Segunda condición inicial\n",
    "# Constante por pedazos\n",
    "def Q_0_2(x, U):\n",
    "    \n",
    "    # Densidad alta en x negativo y bajo en x positivo\n",
    "    rho_0 = (0.4)*(x<=0) + 0.1*(x>0)\n",
    "    \n",
    "    # Velocidad baja en negativos y alta en positivos\n",
    "    u_0 = 1*(x<=0) + 6*(x>0)\n",
    "    \n",
    "    # y inicial en funcion de u y rho\n",
    "    y_0 = rho_0 * (u_0 - U(rho_0))\n",
    "    \n",
    "    # Vector con condición\n",
    "    Q_0_ = np.zeros([1, 2, len(y_0)])\n",
    "    Q_0_[0][0] = rho_0\n",
    "    Q_0_[0][1] = y_0\n",
    "    \n",
    "    return Q_0_"
   ]
  },
  {
   "cell_type": "code",
   "execution_count": 232,
   "id": "4cd13324",
   "metadata": {},
   "outputs": [],
   "source": [
    "# Tercera condición inicial\n",
    "# Gaussiana\n",
    "# TODO: Mejorar gaussiana\n",
    "def Q_0_3(x, U):\n",
    "    \n",
    "    # Gaussiana centrada en 1500\n",
    "    rho_0 = np.exp(-((x+500)**2)/1000)/1.5 + 0.1 #np.exp(-x**2/(2*2.7**2))/(2.7*np.sqrt(2*np.pi))\n",
    "    \n",
    "    # Gaussiana negativa (menor velocidad en mayor densidad)\n",
    "    u_0 = 1/rho_0#(-np.exp(-(((x+1000)/1000)**2))+2)/2\n",
    "    \n",
    "    # y inicial en funcion de u y rho\n",
    "    y_0 = rho_0 * (u_0 - U(rho_0))\n",
    "    \n",
    "    # Vector con codicion\n",
    "    Q_0_ = np.zeros([1, 2, len(x)])\n",
    "    Q_0_[0][0] = rho_0\n",
    "    Q_0_[0][1] = y_0\n",
    "    \n",
    "    return Q_0_\n",
    "    "
   ]
  },
  {
   "cell_type": "code",
   "execution_count": 233,
   "id": "73f21c28",
   "metadata": {},
   "outputs": [],
   "source": [
    "# Cuarta condición inicial\n",
    "# Constante por pedazos\n",
    "def Q_0_4(x, U):\n",
    "    \n",
    "    # Densidad alta en x negativo y bajo en x positivo\n",
    "    rho_0 = np.piecewise(x, [((-1500 <= x) & (x <= -1400)), ((x>-1400) | (x<-1500))], [0.3, 0.1])\n",
    "    \n",
    "    # Velocidad baja en negativos y alta en positivos\n",
    "    u_0 = np.piecewise(x, [((-1500 <= x) & (x <= -1400)), ((x>-1400) | (x<-1500))], [1, 19])\n",
    "    \n",
    "    # y inicial en funcion de u y rho\n",
    "    y_0 = rho_0 * (u_0 - U(rho_0))\n",
    "    \n",
    "    # Vector con condición\n",
    "    Q_0_ = np.zeros([1, 2, len(y_0)])\n",
    "    Q_0_[0][0] = rho_0\n",
    "    Q_0_[0][1] = y_0\n",
    "    \n",
    "    return Q_0_"
   ]
  },
  {
   "cell_type": "code",
   "execution_count": 325,
   "id": "a0bf54ee-1c67-4c48-82ae-60fee0e741b6",
   "metadata": {},
   "outputs": [],
   "source": [
    "# Condición inicial de prueba\n",
    "# Constante por pedazos\n",
    "def Q_0_test(x, U):\n",
    "    \n",
    "    # Densidad alta en x negativo y bajo en x positivo\n",
    "    rho_0 = np.piecewise(x, [((-25 <= x) & (x <= 0)), ((x>0) | (x<-25))], [0.2, 0.2])\n",
    "    \n",
    "    # Velocidad baja en negativos y alta en positivos\n",
    "    u_0 = np.piecewise(x, [((-25 <= x) & (x <= 0)), ((x>0) | (x<-25))], [1, 19])\n",
    "    \n",
    "    # y inicial en funcion de u y rho\n",
    "    y_0 = rho_0 * (u_0 - U(rho_0))\n",
    "    \n",
    "    # Vector con condición\n",
    "    Q_0_ = np.zeros([1, 2, len(y_0)])\n",
    "    Q_0_[0][0] = rho_0\n",
    "    Q_0_[0][1] = y_0\n",
    "    \n",
    "    return Q_0_"
   ]
  },
  {
   "cell_type": "code",
   "execution_count": 328,
   "id": "26a77a7e",
   "metadata": {},
   "outputs": [],
   "source": [
    "# Parámetros\n",
    "xl = -2000\n",
    "xr = -xl\n",
    "dx = 20\n",
    "T = 500\n",
    "tau= 5"
   ]
  },
  {
   "cell_type": "code",
   "execution_count": 329,
   "id": "66091caa-8c55-4e70-852e-e7cfe676fbb7",
   "metadata": {
    "tags": []
   },
   "outputs": [
    {
     "name": "stdout",
     "output_type": "stream",
     "text": [
      "No hay solución\n",
      "u_r =  19.0 demás =  9.94427190999916\n",
      "No hay solución\n",
      "u_r =  19.0 demás =  9.94427190999916\n",
      "No hay solución\n",
      "u_r =  16.56921418878826 demás =  15.773218532207036\n",
      "No hay solución\n",
      "u_r =  16.56921418878826 demás =  15.773218532207036\n"
     ]
    },
    {
     "name": "stderr",
     "output_type": "stream",
     "text": [
      "No handles with labels found to put in legend.\n",
      "MovieWriter ffmpeg unavailable; using Pillow instead.\n"
     ]
    },
    {
     "data": {
      "image/png": "[encoded data removed]",
      "text/plain": [
       "<Figure size 720x360 with 3 Axes>"
      ]
     },
     "metadata": {
      "needs_background": "light"
     },
     "output_type": "display_data"
    }
   ],
   "source": [
    "x_test, Q_test = godunov_ARZ(Q_0_test, dx, xl, xr, T, U, tau)\n",
    "get_animation(Q_test, x_test, U, len(Q_test), \"Modelo ARZ no homogéneo\" ,\n",
    "              [\"Densidad\", \"Velocidad\", r\"$U_{eq}$\"], \"Charts/prueba.gif\")"
   ]
  },
  {
   "cell_type": "code",
   "execution_count": null,
   "id": "ee172e40-28ac-469e-8783-3509a78f0a4a",
   "metadata": {},
   "outputs": [],
   "source": [
    "density_integral(x_test, dx, len(Q_test), Q_test)"
   ]
  },
  {
   "cell_type": "code",
   "execution_count": 213,
   "id": "d876c889-f9d8-4efd-a8b8-af759c71a4b1",
   "metadata": {
    "collapsed": true,
    "jupyter": {
     "outputs_hidden": true
    },
    "tags": []
   },
   "outputs": [
    {
     "name": "stdout",
     "output_type": "stream",
     "text": [
      "No hay solución\n",
      "u_r =  9.373231844984799 demás =  9.308400557775297\n",
      "No hay solución\n",
      "u_r =  9.373231844984799 demás =  9.308400557775297\n"
     ]
    },
    {
     "name": "stderr",
     "output_type": "stream",
     "text": [
      "No handles with labels found to put in legend.\n",
      "MovieWriter ffmpeg unavailable; using Pillow instead.\n"
     ]
    },
    {
     "ename": "KeyboardInterrupt",
     "evalue": "",
     "output_type": "error",
     "traceback": [
      "\u001b[0;31m---------------------------------------------------------------------------\u001b[0m",
      "\u001b[0;31mKeyboardInterrupt\u001b[0m                         Traceback (most recent call last)",
      "\u001b[0;32m/var/folders/41/vskcwr5532bfb2q1wpk9q40h0000gn/T/ipykernel_59088/841306155.py\u001b[0m in \u001b[0;36m<module>\u001b[0;34m\u001b[0m\n\u001b[1;32m      1\u001b[0m \u001b[0mx_3\u001b[0m\u001b[0;34m,\u001b[0m \u001b[0mQ_3\u001b[0m \u001b[0;34m=\u001b[0m \u001b[0mgodunov_ARZ\u001b[0m\u001b[0;34m(\u001b[0m\u001b[0mQ_0_3\u001b[0m\u001b[0;34m,\u001b[0m \u001b[0mdx\u001b[0m\u001b[0;34m,\u001b[0m \u001b[0mxl\u001b[0m\u001b[0;34m,\u001b[0m \u001b[0mxr\u001b[0m\u001b[0;34m,\u001b[0m \u001b[0mT\u001b[0m\u001b[0;34m,\u001b[0m \u001b[0mU\u001b[0m\u001b[0;34m,\u001b[0m \u001b[0mtau\u001b[0m\u001b[0;34m)\u001b[0m\u001b[0;34m\u001b[0m\u001b[0;34m\u001b[0m\u001b[0m\n\u001b[0;32m----> 2\u001b[0;31m get_animation(Q_3, x_3, U, len(Q_3), \"Modelo ARZ no homogéneo\" ,\n\u001b[0m\u001b[1;32m      3\u001b[0m               [\"Densidad\", \"Velocidad\", r\"$U_{eq}$\"], \"Charts/Q_3_prueba.gif\")\n",
      "\u001b[0;32m/var/folders/41/vskcwr5532bfb2q1wpk9q40h0000gn/T/ipykernel_59088/1260085089.py\u001b[0m in \u001b[0;36mget_animation\u001b[0;34m(Q, x, U, Nt, title, titles, path)\u001b[0m\n\u001b[1;32m     57\u001b[0m                                 interval=50, blit=True)\n\u001b[1;32m     58\u001b[0m \u001b[0;34m\u001b[0m\u001b[0m\n\u001b[0;32m---> 59\u001b[0;31m     \u001b[0mani\u001b[0m\u001b[0;34m.\u001b[0m\u001b[0msave\u001b[0m\u001b[0;34m(\u001b[0m\u001b[0mpath\u001b[0m\u001b[0;34m)\u001b[0m\u001b[0;34m\u001b[0m\u001b[0;34m\u001b[0m\u001b[0m\n\u001b[0m",
      "\u001b[0;32m~/opt/anaconda3/lib/python3.9/site-packages/matplotlib/animation.py\u001b[0m in \u001b[0;36msave\u001b[0;34m(self, filename, writer, fps, dpi, codec, bitrate, extra_args, metadata, extra_anim, savefig_kwargs, progress_callback)\u001b[0m\n\u001b[1;32m   1171\u001b[0m                 \u001b[0;32mfor\u001b[0m \u001b[0manim\u001b[0m\u001b[0;34m,\u001b[0m \u001b[0md\u001b[0m \u001b[0;32min\u001b[0m \u001b[0mzip\u001b[0m\u001b[0;34m(\u001b[0m\u001b[0mall_anim\u001b[0m\u001b[0;34m,\u001b[0m \u001b[0mdata\u001b[0m\u001b[0;34m)\u001b[0m\u001b[0;34m:\u001b[0m\u001b[0;34m\u001b[0m\u001b[0;34m\u001b[0m\u001b[0m\n\u001b[1;32m   1172\u001b[0m                     \u001b[0;31m# TODO: See if turning off blit is really necessary\u001b[0m\u001b[0;34m\u001b[0m\u001b[0;34m\u001b[0m\u001b[0m\n\u001b[0;32m-> 1173\u001b[0;31m                     \u001b[0manim\u001b[0m\u001b[0;34m.\u001b[0m\u001b[0m_draw_next_frame\u001b[0m\u001b[0;34m(\u001b[0m\u001b[0md\u001b[0m\u001b[0;34m,\u001b[0m \u001b[0mblit\u001b[0m\u001b[0;34m=\u001b[0m\u001b[0;32mFalse\u001b[0m\u001b[0;34m)\u001b[0m\u001b[0;34m\u001b[0m\u001b[0;34m\u001b[0m\u001b[0m\n\u001b[0m\u001b[1;32m   1174\u001b[0m                     \u001b[0;32mif\u001b[0m \u001b[0mprogress_callback\u001b[0m \u001b[0;32mis\u001b[0m \u001b[0;32mnot\u001b[0m \u001b[0;32mNone\u001b[0m\u001b[0;34m:\u001b[0m\u001b[0;34m\u001b[0m\u001b[0;34m\u001b[0m\u001b[0m\n\u001b[1;32m   1175\u001b[0m                         \u001b[0mprogress_callback\u001b[0m\u001b[0;34m(\u001b[0m\u001b[0mframe_number\u001b[0m\u001b[0;34m,\u001b[0m \u001b[0mtotal_frames\u001b[0m\u001b[0;34m)\u001b[0m\u001b[0;34m\u001b[0m\u001b[0;34m\u001b[0m\u001b[0m\n",
      "\u001b[0;32m~/opt/anaconda3/lib/python3.9/site-packages/matplotlib/animation.py\u001b[0m in \u001b[0;36m_draw_next_frame\u001b[0;34m(self, framedata, blit)\u001b[0m\n\u001b[1;32m   1207\u001b[0m         \u001b[0mself\u001b[0m\u001b[0;34m.\u001b[0m\u001b[0m_pre_draw\u001b[0m\u001b[0;34m(\u001b[0m\u001b[0mframedata\u001b[0m\u001b[0;34m,\u001b[0m \u001b[0mblit\u001b[0m\u001b[0;34m)\u001b[0m\u001b[0;34m\u001b[0m\u001b[0;34m\u001b[0m\u001b[0m\n\u001b[1;32m   1208\u001b[0m         \u001b[0mself\u001b[0m\u001b[0;34m.\u001b[0m\u001b[0m_draw_frame\u001b[0m\u001b[0;34m(\u001b[0m\u001b[0mframedata\u001b[0m\u001b[0;34m)\u001b[0m\u001b[0;34m\u001b[0m\u001b[0;34m\u001b[0m\u001b[0m\n\u001b[0;32m-> 1209\u001b[0;31m         \u001b[0mself\u001b[0m\u001b[0;34m.\u001b[0m\u001b[0m_post_draw\u001b[0m\u001b[0;34m(\u001b[0m\u001b[0mframedata\u001b[0m\u001b[0;34m,\u001b[0m \u001b[0mblit\u001b[0m\u001b[0;34m)\u001b[0m\u001b[0;34m\u001b[0m\u001b[0;34m\u001b[0m\u001b[0m\n\u001b[0m\u001b[1;32m   1210\u001b[0m \u001b[0;34m\u001b[0m\u001b[0m\n\u001b[1;32m   1211\u001b[0m     \u001b[0;32mdef\u001b[0m \u001b[0m_init_draw\u001b[0m\u001b[0;34m(\u001b[0m\u001b[0mself\u001b[0m\u001b[0;34m)\u001b[0m\u001b[0;34m:\u001b[0m\u001b[0;34m\u001b[0m\u001b[0;34m\u001b[0m\u001b[0m\n",
      "\u001b[0;32m~/opt/anaconda3/lib/python3.9/site-packages/matplotlib/animation.py\u001b[0m in \u001b[0;36m_post_draw\u001b[0;34m(self, framedata, blit)\u001b[0m\n\u001b[1;32m   1232\u001b[0m             \u001b[0mself\u001b[0m\u001b[0;34m.\u001b[0m\u001b[0m_blit_draw\u001b[0m\u001b[0;34m(\u001b[0m\u001b[0mself\u001b[0m\u001b[0;34m.\u001b[0m\u001b[0m_drawn_artists\u001b[0m\u001b[0;34m)\u001b[0m\u001b[0;34m\u001b[0m\u001b[0;34m\u001b[0m\u001b[0m\n\u001b[1;32m   1233\u001b[0m         \u001b[0;32melse\u001b[0m\u001b[0;34m:\u001b[0m\u001b[0;34m\u001b[0m\u001b[0;34m\u001b[0m\u001b[0m\n\u001b[0;32m-> 1234\u001b[0;31m             \u001b[0mself\u001b[0m\u001b[0;34m.\u001b[0m\u001b[0m_fig\u001b[0m\u001b[0;34m.\u001b[0m\u001b[0mcanvas\u001b[0m\u001b[0;34m.\u001b[0m\u001b[0mdraw_idle\u001b[0m\u001b[0;34m(\u001b[0m\u001b[0;34m)\u001b[0m\u001b[0;34m\u001b[0m\u001b[0;34m\u001b[0m\u001b[0m\n\u001b[0m\u001b[1;32m   1235\u001b[0m \u001b[0;34m\u001b[0m\u001b[0m\n\u001b[1;32m   1236\u001b[0m     \u001b[0;31m# The rest of the code in this class is to facilitate easy blitting\u001b[0m\u001b[0;34m\u001b[0m\u001b[0;34m\u001b[0m\u001b[0m\n",
      "\u001b[0;32m~/opt/anaconda3/lib/python3.9/site-packages/matplotlib/backend_bases.py\u001b[0m in \u001b[0;36mdraw_idle\u001b[0;34m(self, *args, **kwargs)\u001b[0m\n\u001b[1;32m   2053\u001b[0m         \u001b[0;32mif\u001b[0m \u001b[0;32mnot\u001b[0m \u001b[0mself\u001b[0m\u001b[0;34m.\u001b[0m\u001b[0m_is_idle_drawing\u001b[0m\u001b[0;34m:\u001b[0m\u001b[0;34m\u001b[0m\u001b[0;34m\u001b[0m\u001b[0m\n\u001b[1;32m   2054\u001b[0m             \u001b[0;32mwith\u001b[0m \u001b[0mself\u001b[0m\u001b[0;34m.\u001b[0m\u001b[0m_idle_draw_cntx\u001b[0m\u001b[0;34m(\u001b[0m\u001b[0;34m)\u001b[0m\u001b[0;34m:\u001b[0m\u001b[0;34m\u001b[0m\u001b[0;34m\u001b[0m\u001b[0m\n\u001b[0;32m-> 2055\u001b[0;31m                 \u001b[0mself\u001b[0m\u001b[0;34m.\u001b[0m\u001b[0mdraw\u001b[0m\u001b[0;34m(\u001b[0m\u001b[0;34m*\u001b[0m\u001b[0margs\u001b[0m\u001b[0;34m,\u001b[0m \u001b[0;34m**\u001b[0m\u001b[0mkwargs\u001b[0m\u001b[0;34m)\u001b[0m\u001b[0;34m\u001b[0m\u001b[0;34m\u001b[0m\u001b[0m\n\u001b[0m\u001b[1;32m   2056\u001b[0m \u001b[0;34m\u001b[0m\u001b[0m\n\u001b[1;32m   2057\u001b[0m     \u001b[0;32mdef\u001b[0m \u001b[0mget_width_height\u001b[0m\u001b[0;34m(\u001b[0m\u001b[0mself\u001b[0m\u001b[0;34m)\u001b[0m\u001b[0;34m:\u001b[0m\u001b[0;34m\u001b[0m\u001b[0;34m\u001b[0m\u001b[0m\n",
      "\u001b[0;32m~/opt/anaconda3/lib/python3.9/site-packages/matplotlib/backends/backend_agg.py\u001b[0m in \u001b[0;36mdraw\u001b[0;34m(self)\u001b[0m\n\u001b[1;32m    404\u001b[0m              (self.toolbar._wait_cursor_for_draw_cm() if self.toolbar\n\u001b[1;32m    405\u001b[0m               else nullcontext()):\n\u001b[0;32m--> 406\u001b[0;31m             \u001b[0mself\u001b[0m\u001b[0;34m.\u001b[0m\u001b[0mfigure\u001b[0m\u001b[0;34m.\u001b[0m\u001b[0mdraw\u001b[0m\u001b[0;34m(\u001b[0m\u001b[0mself\u001b[0m\u001b[0;34m.\u001b[0m\u001b[0mrenderer\u001b[0m\u001b[0;34m)\u001b[0m\u001b[0;34m\u001b[0m\u001b[0;34m\u001b[0m\u001b[0m\n\u001b[0m\u001b[1;32m    407\u001b[0m             \u001b[0;31m# A GUI class may be need to update a window using this draw, so\u001b[0m\u001b[0;34m\u001b[0m\u001b[0;34m\u001b[0m\u001b[0m\n\u001b[1;32m    408\u001b[0m             \u001b[0;31m# don't forget to call the superclass.\u001b[0m\u001b[0;34m\u001b[0m\u001b[0;34m\u001b[0m\u001b[0m\n",
      "\u001b[0;32m~/opt/anaconda3/lib/python3.9/site-packages/matplotlib/artist.py\u001b[0m in \u001b[0;36mdraw_wrapper\u001b[0;34m(artist, renderer, *args, **kwargs)\u001b[0m\n\u001b[1;32m     72\u001b[0m     \u001b[0;34m@\u001b[0m\u001b[0mwraps\u001b[0m\u001b[0;34m(\u001b[0m\u001b[0mdraw\u001b[0m\u001b[0;34m)\u001b[0m\u001b[0;34m\u001b[0m\u001b[0;34m\u001b[0m\u001b[0m\n\u001b[1;32m     73\u001b[0m     \u001b[0;32mdef\u001b[0m \u001b[0mdraw_wrapper\u001b[0m\u001b[0;34m(\u001b[0m\u001b[0martist\u001b[0m\u001b[0;34m,\u001b[0m \u001b[0mrenderer\u001b[0m\u001b[0;34m,\u001b[0m \u001b[0;34m*\u001b[0m\u001b[0margs\u001b[0m\u001b[0;34m,\u001b[0m \u001b[0;34m**\u001b[0m\u001b[0mkwargs\u001b[0m\u001b[0;34m)\u001b[0m\u001b[0;34m:\u001b[0m\u001b[0;34m\u001b[0m\u001b[0;34m\u001b[0m\u001b[0m\n\u001b[0;32m---> 74\u001b[0;31m         \u001b[0mresult\u001b[0m \u001b[0;34m=\u001b[0m \u001b[0mdraw\u001b[0m\u001b[0;34m(\u001b[0m\u001b[0martist\u001b[0m\u001b[0;34m,\u001b[0m \u001b[0mrenderer\u001b[0m\u001b[0;34m,\u001b[0m \u001b[0;34m*\u001b[0m\u001b[0margs\u001b[0m\u001b[0;34m,\u001b[0m \u001b[0;34m**\u001b[0m\u001b[0mkwargs\u001b[0m\u001b[0;34m)\u001b[0m\u001b[0;34m\u001b[0m\u001b[0;34m\u001b[0m\u001b[0m\n\u001b[0m\u001b[1;32m     75\u001b[0m         \u001b[0;32mif\u001b[0m \u001b[0mrenderer\u001b[0m\u001b[0;34m.\u001b[0m\u001b[0m_rasterizing\u001b[0m\u001b[0;34m:\u001b[0m\u001b[0;34m\u001b[0m\u001b[0;34m\u001b[0m\u001b[0m\n\u001b[1;32m     76\u001b[0m             \u001b[0mrenderer\u001b[0m\u001b[0;34m.\u001b[0m\u001b[0mstop_rasterizing\u001b[0m\u001b[0;34m(\u001b[0m\u001b[0;34m)\u001b[0m\u001b[0;34m\u001b[0m\u001b[0;34m\u001b[0m\u001b[0m\n",
      "\u001b[0;32m~/opt/anaconda3/lib/python3.9/site-packages/matplotlib/artist.py\u001b[0m in \u001b[0;36mdraw_wrapper\u001b[0;34m(artist, renderer, *args, **kwargs)\u001b[0m\n\u001b[1;32m     49\u001b[0m                 \u001b[0mrenderer\u001b[0m\u001b[0;34m.\u001b[0m\u001b[0mstart_filter\u001b[0m\u001b[0;34m(\u001b[0m\u001b[0;34m)\u001b[0m\u001b[0;34m\u001b[0m\u001b[0;34m\u001b[0m\u001b[0m\n\u001b[1;32m     50\u001b[0m \u001b[0;34m\u001b[0m\u001b[0m\n\u001b[0;32m---> 51\u001b[0;31m             \u001b[0;32mreturn\u001b[0m \u001b[0mdraw\u001b[0m\u001b[0;34m(\u001b[0m\u001b[0martist\u001b[0m\u001b[0;34m,\u001b[0m \u001b[0mrenderer\u001b[0m\u001b[0;34m,\u001b[0m \u001b[0;34m*\u001b[0m\u001b[0margs\u001b[0m\u001b[0;34m,\u001b[0m \u001b[0;34m**\u001b[0m\u001b[0mkwargs\u001b[0m\u001b[0;34m)\u001b[0m\u001b[0;34m\u001b[0m\u001b[0;34m\u001b[0m\u001b[0m\n\u001b[0m\u001b[1;32m     52\u001b[0m         \u001b[0;32mfinally\u001b[0m\u001b[0;34m:\u001b[0m\u001b[0;34m\u001b[0m\u001b[0;34m\u001b[0m\u001b[0m\n\u001b[1;32m     53\u001b[0m             \u001b[0;32mif\u001b[0m \u001b[0martist\u001b[0m\u001b[0;34m.\u001b[0m\u001b[0mget_agg_filter\u001b[0m\u001b[0;34m(\u001b[0m\u001b[0;34m)\u001b[0m \u001b[0;32mis\u001b[0m \u001b[0;32mnot\u001b[0m \u001b[0;32mNone\u001b[0m\u001b[0;34m:\u001b[0m\u001b[0;34m\u001b[0m\u001b[0;34m\u001b[0m\u001b[0m\n",
      "\u001b[0;32m~/opt/anaconda3/lib/python3.9/site-packages/matplotlib/figure.py\u001b[0m in \u001b[0;36mdraw\u001b[0;34m(self, renderer)\u001b[0m\n\u001b[1;32m   2788\u001b[0m \u001b[0;34m\u001b[0m\u001b[0m\n\u001b[1;32m   2789\u001b[0m             \u001b[0mself\u001b[0m\u001b[0;34m.\u001b[0m\u001b[0mpatch\u001b[0m\u001b[0;34m.\u001b[0m\u001b[0mdraw\u001b[0m\u001b[0;34m(\u001b[0m\u001b[0mrenderer\u001b[0m\u001b[0;34m)\u001b[0m\u001b[0;34m\u001b[0m\u001b[0;34m\u001b[0m\u001b[0m\n\u001b[0;32m-> 2790\u001b[0;31m             mimage._draw_list_compositing_images(\n\u001b[0m\u001b[1;32m   2791\u001b[0m                 renderer, self, artists, self.suppressComposite)\n\u001b[1;32m   2792\u001b[0m \u001b[0;34m\u001b[0m\u001b[0m\n",
      "\u001b[0;32m~/opt/anaconda3/lib/python3.9/site-packages/matplotlib/image.py\u001b[0m in \u001b[0;36m_draw_list_compositing_images\u001b[0;34m(renderer, parent, artists, suppress_composite)\u001b[0m\n\u001b[1;32m    130\u001b[0m     \u001b[0;32mif\u001b[0m \u001b[0mnot_composite\u001b[0m \u001b[0;32mor\u001b[0m \u001b[0;32mnot\u001b[0m \u001b[0mhas_images\u001b[0m\u001b[0;34m:\u001b[0m\u001b[0;34m\u001b[0m\u001b[0;34m\u001b[0m\u001b[0m\n\u001b[1;32m    131\u001b[0m         \u001b[0;32mfor\u001b[0m \u001b[0ma\u001b[0m \u001b[0;32min\u001b[0m \u001b[0martists\u001b[0m\u001b[0;34m:\u001b[0m\u001b[0;34m\u001b[0m\u001b[0;34m\u001b[0m\u001b[0m\n\u001b[0;32m--> 132\u001b[0;31m             \u001b[0ma\u001b[0m\u001b[0;34m.\u001b[0m\u001b[0mdraw\u001b[0m\u001b[0;34m(\u001b[0m\u001b[0mrenderer\u001b[0m\u001b[0;34m)\u001b[0m\u001b[0;34m\u001b[0m\u001b[0;34m\u001b[0m\u001b[0m\n\u001b[0m\u001b[1;32m    133\u001b[0m     \u001b[0;32melse\u001b[0m\u001b[0;34m:\u001b[0m\u001b[0;34m\u001b[0m\u001b[0;34m\u001b[0m\u001b[0m\n\u001b[1;32m    134\u001b[0m         \u001b[0;31m# Composite any adjacent images together\u001b[0m\u001b[0;34m\u001b[0m\u001b[0;34m\u001b[0m\u001b[0m\n",
      "\u001b[0;32m~/opt/anaconda3/lib/python3.9/site-packages/matplotlib/artist.py\u001b[0m in \u001b[0;36mdraw_wrapper\u001b[0;34m(artist, renderer, *args, **kwargs)\u001b[0m\n\u001b[1;32m     49\u001b[0m                 \u001b[0mrenderer\u001b[0m\u001b[0;34m.\u001b[0m\u001b[0mstart_filter\u001b[0m\u001b[0;34m(\u001b[0m\u001b[0;34m)\u001b[0m\u001b[0;34m\u001b[0m\u001b[0;34m\u001b[0m\u001b[0m\n\u001b[1;32m     50\u001b[0m \u001b[0;34m\u001b[0m\u001b[0m\n\u001b[0;32m---> 51\u001b[0;31m             \u001b[0;32mreturn\u001b[0m \u001b[0mdraw\u001b[0m\u001b[0;34m(\u001b[0m\u001b[0martist\u001b[0m\u001b[0;34m,\u001b[0m \u001b[0mrenderer\u001b[0m\u001b[0;34m,\u001b[0m \u001b[0;34m*\u001b[0m\u001b[0margs\u001b[0m\u001b[0;34m,\u001b[0m \u001b[0;34m**\u001b[0m\u001b[0mkwargs\u001b[0m\u001b[0;34m)\u001b[0m\u001b[0;34m\u001b[0m\u001b[0;34m\u001b[0m\u001b[0m\n\u001b[0m\u001b[1;32m     52\u001b[0m         \u001b[0;32mfinally\u001b[0m\u001b[0;34m:\u001b[0m\u001b[0;34m\u001b[0m\u001b[0;34m\u001b[0m\u001b[0m\n\u001b[1;32m     53\u001b[0m             \u001b[0;32mif\u001b[0m \u001b[0martist\u001b[0m\u001b[0;34m.\u001b[0m\u001b[0mget_agg_filter\u001b[0m\u001b[0;34m(\u001b[0m\u001b[0;34m)\u001b[0m \u001b[0;32mis\u001b[0m \u001b[0;32mnot\u001b[0m \u001b[0;32mNone\u001b[0m\u001b[0;34m:\u001b[0m\u001b[0;34m\u001b[0m\u001b[0;34m\u001b[0m\u001b[0m\n",
      "\u001b[0;32m~/opt/anaconda3/lib/python3.9/site-packages/matplotlib/_api/deprecation.py\u001b[0m in \u001b[0;36mwrapper\u001b[0;34m(*inner_args, **inner_kwargs)\u001b[0m\n\u001b[1;32m    429\u001b[0m                          \u001b[0;32melse\u001b[0m \u001b[0mdeprecation_addendum\u001b[0m\u001b[0;34m,\u001b[0m\u001b[0;34m\u001b[0m\u001b[0;34m\u001b[0m\u001b[0m\n\u001b[1;32m    430\u001b[0m                 **kwargs)\n\u001b[0;32m--> 431\u001b[0;31m         \u001b[0;32mreturn\u001b[0m \u001b[0mfunc\u001b[0m\u001b[0;34m(\u001b[0m\u001b[0;34m*\u001b[0m\u001b[0minner_args\u001b[0m\u001b[0;34m,\u001b[0m \u001b[0;34m**\u001b[0m\u001b[0minner_kwargs\u001b[0m\u001b[0;34m)\u001b[0m\u001b[0;34m\u001b[0m\u001b[0;34m\u001b[0m\u001b[0m\n\u001b[0m\u001b[1;32m    432\u001b[0m \u001b[0;34m\u001b[0m\u001b[0m\n\u001b[1;32m    433\u001b[0m     \u001b[0;32mreturn\u001b[0m \u001b[0mwrapper\u001b[0m\u001b[0;34m\u001b[0m\u001b[0;34m\u001b[0m\u001b[0m\n",
      "\u001b[0;32m~/opt/anaconda3/lib/python3.9/site-packages/matplotlib/axes/_base.py\u001b[0m in \u001b[0;36mdraw\u001b[0;34m(self, renderer, inframe)\u001b[0m\n\u001b[1;32m   2919\u001b[0m             \u001b[0mrenderer\u001b[0m\u001b[0;34m.\u001b[0m\u001b[0mstop_rasterizing\u001b[0m\u001b[0;34m(\u001b[0m\u001b[0;34m)\u001b[0m\u001b[0;34m\u001b[0m\u001b[0;34m\u001b[0m\u001b[0m\n\u001b[1;32m   2920\u001b[0m \u001b[0;34m\u001b[0m\u001b[0m\n\u001b[0;32m-> 2921\u001b[0;31m         \u001b[0mmimage\u001b[0m\u001b[0;34m.\u001b[0m\u001b[0m_draw_list_compositing_images\u001b[0m\u001b[0;34m(\u001b[0m\u001b[0mrenderer\u001b[0m\u001b[0;34m,\u001b[0m \u001b[0mself\u001b[0m\u001b[0;34m,\u001b[0m \u001b[0martists\u001b[0m\u001b[0;34m)\u001b[0m\u001b[0;34m\u001b[0m\u001b[0;34m\u001b[0m\u001b[0m\n\u001b[0m\u001b[1;32m   2922\u001b[0m \u001b[0;34m\u001b[0m\u001b[0m\n\u001b[1;32m   2923\u001b[0m         \u001b[0mrenderer\u001b[0m\u001b[0;34m.\u001b[0m\u001b[0mclose_group\u001b[0m\u001b[0;34m(\u001b[0m\u001b[0;34m'axes'\u001b[0m\u001b[0;34m)\u001b[0m\u001b[0;34m\u001b[0m\u001b[0;34m\u001b[0m\u001b[0m\n",
      "\u001b[0;32m~/opt/anaconda3/lib/python3.9/site-packages/matplotlib/image.py\u001b[0m in \u001b[0;36m_draw_list_compositing_images\u001b[0;34m(renderer, parent, artists, suppress_composite)\u001b[0m\n\u001b[1;32m    130\u001b[0m     \u001b[0;32mif\u001b[0m \u001b[0mnot_composite\u001b[0m \u001b[0;32mor\u001b[0m \u001b[0;32mnot\u001b[0m \u001b[0mhas_images\u001b[0m\u001b[0;34m:\u001b[0m\u001b[0;34m\u001b[0m\u001b[0;34m\u001b[0m\u001b[0m\n\u001b[1;32m    131\u001b[0m         \u001b[0;32mfor\u001b[0m \u001b[0ma\u001b[0m \u001b[0;32min\u001b[0m \u001b[0martists\u001b[0m\u001b[0;34m:\u001b[0m\u001b[0;34m\u001b[0m\u001b[0;34m\u001b[0m\u001b[0m\n\u001b[0;32m--> 132\u001b[0;31m             \u001b[0ma\u001b[0m\u001b[0;34m.\u001b[0m\u001b[0mdraw\u001b[0m\u001b[0;34m(\u001b[0m\u001b[0mrenderer\u001b[0m\u001b[0;34m)\u001b[0m\u001b[0;34m\u001b[0m\u001b[0;34m\u001b[0m\u001b[0m\n\u001b[0m\u001b[1;32m    133\u001b[0m     \u001b[0;32melse\u001b[0m\u001b[0;34m:\u001b[0m\u001b[0;34m\u001b[0m\u001b[0;34m\u001b[0m\u001b[0m\n\u001b[1;32m    134\u001b[0m         \u001b[0;31m# Composite any adjacent images together\u001b[0m\u001b[0;34m\u001b[0m\u001b[0;34m\u001b[0m\u001b[0m\n",
      "\u001b[0;32m~/opt/anaconda3/lib/python3.9/site-packages/matplotlib/artist.py\u001b[0m in \u001b[0;36mdraw_wrapper\u001b[0;34m(artist, renderer, *args, **kwargs)\u001b[0m\n\u001b[1;32m     49\u001b[0m                 \u001b[0mrenderer\u001b[0m\u001b[0;34m.\u001b[0m\u001b[0mstart_filter\u001b[0m\u001b[0;34m(\u001b[0m\u001b[0;34m)\u001b[0m\u001b[0;34m\u001b[0m\u001b[0;34m\u001b[0m\u001b[0m\n\u001b[1;32m     50\u001b[0m \u001b[0;34m\u001b[0m\u001b[0m\n\u001b[0;32m---> 51\u001b[0;31m             \u001b[0;32mreturn\u001b[0m \u001b[0mdraw\u001b[0m\u001b[0;34m(\u001b[0m\u001b[0martist\u001b[0m\u001b[0;34m,\u001b[0m \u001b[0mrenderer\u001b[0m\u001b[0;34m,\u001b[0m \u001b[0;34m*\u001b[0m\u001b[0margs\u001b[0m\u001b[0;34m,\u001b[0m \u001b[0;34m**\u001b[0m\u001b[0mkwargs\u001b[0m\u001b[0;34m)\u001b[0m\u001b[0;34m\u001b[0m\u001b[0;34m\u001b[0m\u001b[0m\n\u001b[0m\u001b[1;32m     52\u001b[0m         \u001b[0;32mfinally\u001b[0m\u001b[0;34m:\u001b[0m\u001b[0;34m\u001b[0m\u001b[0;34m\u001b[0m\u001b[0m\n\u001b[1;32m     53\u001b[0m             \u001b[0;32mif\u001b[0m \u001b[0martist\u001b[0m\u001b[0;34m.\u001b[0m\u001b[0mget_agg_filter\u001b[0m\u001b[0;34m(\u001b[0m\u001b[0;34m)\u001b[0m \u001b[0;32mis\u001b[0m \u001b[0;32mnot\u001b[0m \u001b[0;32mNone\u001b[0m\u001b[0;34m:\u001b[0m\u001b[0;34m\u001b[0m\u001b[0;34m\u001b[0m\u001b[0m\n",
      "\u001b[0;32m~/opt/anaconda3/lib/python3.9/site-packages/matplotlib/axis.py\u001b[0m in \u001b[0;36mdraw\u001b[0;34m(self, renderer, *args, **kwargs)\u001b[0m\n\u001b[1;32m   1139\u001b[0m         \u001b[0mrenderer\u001b[0m\u001b[0;34m.\u001b[0m\u001b[0mopen_group\u001b[0m\u001b[0;34m(\u001b[0m\u001b[0m__name__\u001b[0m\u001b[0;34m,\u001b[0m \u001b[0mgid\u001b[0m\u001b[0;34m=\u001b[0m\u001b[0mself\u001b[0m\u001b[0;34m.\u001b[0m\u001b[0mget_gid\u001b[0m\u001b[0;34m(\u001b[0m\u001b[0;34m)\u001b[0m\u001b[0;34m)\u001b[0m\u001b[0;34m\u001b[0m\u001b[0;34m\u001b[0m\u001b[0m\n\u001b[1;32m   1140\u001b[0m \u001b[0;34m\u001b[0m\u001b[0m\n\u001b[0;32m-> 1141\u001b[0;31m         \u001b[0mticks_to_draw\u001b[0m \u001b[0;34m=\u001b[0m \u001b[0mself\u001b[0m\u001b[0;34m.\u001b[0m\u001b[0m_update_ticks\u001b[0m\u001b[0;34m(\u001b[0m\u001b[0;34m)\u001b[0m\u001b[0;34m\u001b[0m\u001b[0;34m\u001b[0m\u001b[0m\n\u001b[0m\u001b[1;32m   1142\u001b[0m         ticklabelBoxes, ticklabelBoxes2 = self._get_tick_bboxes(ticks_to_draw,\n\u001b[1;32m   1143\u001b[0m                                                                 renderer)\n",
      "\u001b[0;32m~/opt/anaconda3/lib/python3.9/site-packages/matplotlib/axis.py\u001b[0m in \u001b[0;36m_update_ticks\u001b[0;34m(self)\u001b[0m\n\u001b[1;32m   1034\u001b[0m             \u001b[0mtick\u001b[0m\u001b[0;34m.\u001b[0m\u001b[0mset_label1\u001b[0m\u001b[0;34m(\u001b[0m\u001b[0mlabel\u001b[0m\u001b[0;34m)\u001b[0m\u001b[0;34m\u001b[0m\u001b[0;34m\u001b[0m\u001b[0m\n\u001b[1;32m   1035\u001b[0m             \u001b[0mtick\u001b[0m\u001b[0;34m.\u001b[0m\u001b[0mset_label2\u001b[0m\u001b[0;34m(\u001b[0m\u001b[0mlabel\u001b[0m\u001b[0;34m)\u001b[0m\u001b[0;34m\u001b[0m\u001b[0;34m\u001b[0m\u001b[0m\n\u001b[0;32m-> 1036\u001b[0;31m         \u001b[0mminor_locs\u001b[0m \u001b[0;34m=\u001b[0m \u001b[0mself\u001b[0m\u001b[0;34m.\u001b[0m\u001b[0mget_minorticklocs\u001b[0m\u001b[0;34m(\u001b[0m\u001b[0;34m)\u001b[0m\u001b[0;34m\u001b[0m\u001b[0;34m\u001b[0m\u001b[0m\n\u001b[0m\u001b[1;32m   1037\u001b[0m         \u001b[0mminor_labels\u001b[0m \u001b[0;34m=\u001b[0m \u001b[0mself\u001b[0m\u001b[0;34m.\u001b[0m\u001b[0mminor\u001b[0m\u001b[0;34m.\u001b[0m\u001b[0mformatter\u001b[0m\u001b[0;34m.\u001b[0m\u001b[0mformat_ticks\u001b[0m\u001b[0;34m(\u001b[0m\u001b[0mminor_locs\u001b[0m\u001b[0;34m)\u001b[0m\u001b[0;34m\u001b[0m\u001b[0;34m\u001b[0m\u001b[0m\n\u001b[1;32m   1038\u001b[0m         \u001b[0mminor_ticks\u001b[0m \u001b[0;34m=\u001b[0m \u001b[0mself\u001b[0m\u001b[0;34m.\u001b[0m\u001b[0mget_minor_ticks\u001b[0m\u001b[0;34m(\u001b[0m\u001b[0mlen\u001b[0m\u001b[0;34m(\u001b[0m\u001b[0mminor_locs\u001b[0m\u001b[0;34m)\u001b[0m\u001b[0;34m)\u001b[0m\u001b[0;34m\u001b[0m\u001b[0;34m\u001b[0m\u001b[0m\n",
      "\u001b[0;32m~/opt/anaconda3/lib/python3.9/site-packages/matplotlib/axis.py\u001b[0m in \u001b[0;36mget_minorticklocs\u001b[0;34m(self)\u001b[0m\n\u001b[1;32m   1263\u001b[0m         \u001b[0;34m\"\"\"Return this Axis' minor tick locations in data coordinates.\"\"\"\u001b[0m\u001b[0;34m\u001b[0m\u001b[0;34m\u001b[0m\u001b[0m\n\u001b[1;32m   1264\u001b[0m         \u001b[0;31m# Remove minor ticks duplicating major ticks.\u001b[0m\u001b[0;34m\u001b[0m\u001b[0;34m\u001b[0m\u001b[0m\n\u001b[0;32m-> 1265\u001b[0;31m         \u001b[0mmajor_locs\u001b[0m \u001b[0;34m=\u001b[0m \u001b[0mself\u001b[0m\u001b[0;34m.\u001b[0m\u001b[0mmajor\u001b[0m\u001b[0;34m.\u001b[0m\u001b[0mlocator\u001b[0m\u001b[0;34m(\u001b[0m\u001b[0;34m)\u001b[0m\u001b[0;34m\u001b[0m\u001b[0;34m\u001b[0m\u001b[0m\n\u001b[0m\u001b[1;32m   1266\u001b[0m         \u001b[0mminor_locs\u001b[0m \u001b[0;34m=\u001b[0m \u001b[0mself\u001b[0m\u001b[0;34m.\u001b[0m\u001b[0mminor\u001b[0m\u001b[0;34m.\u001b[0m\u001b[0mlocator\u001b[0m\u001b[0;34m(\u001b[0m\u001b[0;34m)\u001b[0m\u001b[0;34m\u001b[0m\u001b[0;34m\u001b[0m\u001b[0m\n\u001b[1;32m   1267\u001b[0m         \u001b[0mtransform\u001b[0m \u001b[0;34m=\u001b[0m \u001b[0mself\u001b[0m\u001b[0;34m.\u001b[0m\u001b[0m_scale\u001b[0m\u001b[0;34m.\u001b[0m\u001b[0mget_transform\u001b[0m\u001b[0;34m(\u001b[0m\u001b[0;34m)\u001b[0m\u001b[0;34m\u001b[0m\u001b[0;34m\u001b[0m\u001b[0m\n",
      "\u001b[0;32m~/opt/anaconda3/lib/python3.9/site-packages/matplotlib/ticker.py\u001b[0m in \u001b[0;36m__call__\u001b[0;34m(self)\u001b[0m\n\u001b[1;32m   2262\u001b[0m     \u001b[0;32mdef\u001b[0m \u001b[0m__call__\u001b[0m\u001b[0;34m(\u001b[0m\u001b[0mself\u001b[0m\u001b[0;34m)\u001b[0m\u001b[0;34m:\u001b[0m\u001b[0;34m\u001b[0m\u001b[0;34m\u001b[0m\u001b[0m\n\u001b[1;32m   2263\u001b[0m         \u001b[0mvmin\u001b[0m\u001b[0;34m,\u001b[0m \u001b[0mvmax\u001b[0m \u001b[0;34m=\u001b[0m \u001b[0mself\u001b[0m\u001b[0;34m.\u001b[0m\u001b[0maxis\u001b[0m\u001b[0;34m.\u001b[0m\u001b[0mget_view_interval\u001b[0m\u001b[0;34m(\u001b[0m\u001b[0;34m)\u001b[0m\u001b[0;34m\u001b[0m\u001b[0;34m\u001b[0m\u001b[0m\n\u001b[0;32m-> 2264\u001b[0;31m         \u001b[0;32mreturn\u001b[0m \u001b[0mself\u001b[0m\u001b[0;34m.\u001b[0m\u001b[0mtick_values\u001b[0m\u001b[0;34m(\u001b[0m\u001b[0mvmin\u001b[0m\u001b[0;34m,\u001b[0m \u001b[0mvmax\u001b[0m\u001b[0;34m)\u001b[0m\u001b[0;34m\u001b[0m\u001b[0;34m\u001b[0m\u001b[0m\n\u001b[0m\u001b[1;32m   2265\u001b[0m \u001b[0;34m\u001b[0m\u001b[0m\n\u001b[1;32m   2266\u001b[0m     \u001b[0;32mdef\u001b[0m \u001b[0mtick_values\u001b[0m\u001b[0;34m(\u001b[0m\u001b[0mself\u001b[0m\u001b[0;34m,\u001b[0m \u001b[0mvmin\u001b[0m\u001b[0;34m,\u001b[0m \u001b[0mvmax\u001b[0m\u001b[0;34m)\u001b[0m\u001b[0;34m:\u001b[0m\u001b[0;34m\u001b[0m\u001b[0;34m\u001b[0m\u001b[0m\n",
      "\u001b[0;32m~/opt/anaconda3/lib/python3.9/site-packages/matplotlib/ticker.py\u001b[0m in \u001b[0;36mtick_values\u001b[0;34m(self, vmin, vmax)\u001b[0m\n\u001b[1;32m   2270\u001b[0m         vmin, vmax = mtransforms.nonsingular(\n\u001b[1;32m   2271\u001b[0m             vmin, vmax, expander=1e-13, tiny=1e-14)\n\u001b[0;32m-> 2272\u001b[0;31m         \u001b[0mlocs\u001b[0m \u001b[0;34m=\u001b[0m \u001b[0mself\u001b[0m\u001b[0;34m.\u001b[0m\u001b[0m_raw_ticks\u001b[0m\u001b[0;34m(\u001b[0m\u001b[0mvmin\u001b[0m\u001b[0;34m,\u001b[0m \u001b[0mvmax\u001b[0m\u001b[0;34m)\u001b[0m\u001b[0;34m\u001b[0m\u001b[0;34m\u001b[0m\u001b[0m\n\u001b[0m\u001b[1;32m   2273\u001b[0m \u001b[0;34m\u001b[0m\u001b[0m\n\u001b[1;32m   2274\u001b[0m         \u001b[0mprune\u001b[0m \u001b[0;34m=\u001b[0m \u001b[0mself\u001b[0m\u001b[0;34m.\u001b[0m\u001b[0m_prune\u001b[0m\u001b[0;34m\u001b[0m\u001b[0;34m\u001b[0m\u001b[0m\n",
      "\u001b[0;32m~/opt/anaconda3/lib/python3.9/site-packages/matplotlib/ticker.py\u001b[0m in \u001b[0;36m_raw_ticks\u001b[0;34m(self, vmin, vmax)\u001b[0m\n\u001b[1;32m   2209\u001b[0m         \u001b[0;32mif\u001b[0m \u001b[0mself\u001b[0m\u001b[0;34m.\u001b[0m\u001b[0m_nbins\u001b[0m \u001b[0;34m==\u001b[0m \u001b[0;34m'auto'\u001b[0m\u001b[0;34m:\u001b[0m\u001b[0;34m\u001b[0m\u001b[0;34m\u001b[0m\u001b[0m\n\u001b[1;32m   2210\u001b[0m             \u001b[0;32mif\u001b[0m \u001b[0mself\u001b[0m\u001b[0;34m.\u001b[0m\u001b[0maxis\u001b[0m \u001b[0;32mis\u001b[0m \u001b[0;32mnot\u001b[0m \u001b[0;32mNone\u001b[0m\u001b[0;34m:\u001b[0m\u001b[0;34m\u001b[0m\u001b[0;34m\u001b[0m\u001b[0m\n\u001b[0;32m-> 2211\u001b[0;31m                 nbins = np.clip(self.axis.get_tick_space(),\n\u001b[0m\u001b[1;32m   2212\u001b[0m                                 max(1, self._min_n_ticks - 1), 9)\n\u001b[1;32m   2213\u001b[0m             \u001b[0;32melse\u001b[0m\u001b[0;34m:\u001b[0m\u001b[0;34m\u001b[0m\u001b[0;34m\u001b[0m\u001b[0m\n",
      "\u001b[0;32m~/opt/anaconda3/lib/python3.9/site-packages/matplotlib/axis.py\u001b[0m in \u001b[0;36mget_tick_space\u001b[0;34m(self)\u001b[0m\n\u001b[1;32m   2267\u001b[0m \u001b[0;34m\u001b[0m\u001b[0m\n\u001b[1;32m   2268\u001b[0m     \u001b[0;32mdef\u001b[0m \u001b[0mget_tick_space\u001b[0m\u001b[0;34m(\u001b[0m\u001b[0mself\u001b[0m\u001b[0;34m)\u001b[0m\u001b[0;34m:\u001b[0m\u001b[0;34m\u001b[0m\u001b[0;34m\u001b[0m\u001b[0m\n\u001b[0;32m-> 2269\u001b[0;31m         \u001b[0mends\u001b[0m \u001b[0;34m=\u001b[0m \u001b[0mmtransforms\u001b[0m\u001b[0;34m.\u001b[0m\u001b[0mBbox\u001b[0m\u001b[0;34m.\u001b[0m\u001b[0mfrom_bounds\u001b[0m\u001b[0;34m(\u001b[0m\u001b[0;36m0\u001b[0m\u001b[0;34m,\u001b[0m \u001b[0;36m0\u001b[0m\u001b[0;34m,\u001b[0m \u001b[0;36m1\u001b[0m\u001b[0;34m,\u001b[0m \u001b[0;36m1\u001b[0m\u001b[0;34m)\u001b[0m\u001b[0;34m\u001b[0m\u001b[0;34m\u001b[0m\u001b[0m\n\u001b[0m\u001b[1;32m   2270\u001b[0m         ends = ends.transformed(self.axes.transAxes -\n\u001b[1;32m   2271\u001b[0m                                 self.figure.dpi_scale_trans)\n",
      "\u001b[0;32m~/opt/anaconda3/lib/python3.9/site-packages/matplotlib/transforms.py\u001b[0m in \u001b[0;36mfrom_bounds\u001b[0;34m(x0, y0, width, height)\u001b[0m\n\u001b[1;32m    825\u001b[0m         \u001b[0;34m*\u001b[0m\u001b[0mwidth\u001b[0m\u001b[0;34m*\u001b[0m \u001b[0;32mand\u001b[0m \u001b[0;34m*\u001b[0m\u001b[0mheight\u001b[0m\u001b[0;34m*\u001b[0m \u001b[0mmay\u001b[0m \u001b[0mbe\u001b[0m \u001b[0mnegative\u001b[0m\u001b[0;34m.\u001b[0m\u001b[0;34m\u001b[0m\u001b[0;34m\u001b[0m\u001b[0m\n\u001b[1;32m    826\u001b[0m         \"\"\"\n\u001b[0;32m--> 827\u001b[0;31m         \u001b[0;32mreturn\u001b[0m \u001b[0mBbox\u001b[0m\u001b[0;34m.\u001b[0m\u001b[0mfrom_extents\u001b[0m\u001b[0;34m(\u001b[0m\u001b[0mx0\u001b[0m\u001b[0;34m,\u001b[0m \u001b[0my0\u001b[0m\u001b[0;34m,\u001b[0m \u001b[0mx0\u001b[0m \u001b[0;34m+\u001b[0m \u001b[0mwidth\u001b[0m\u001b[0;34m,\u001b[0m \u001b[0my0\u001b[0m \u001b[0;34m+\u001b[0m \u001b[0mheight\u001b[0m\u001b[0;34m)\u001b[0m\u001b[0;34m\u001b[0m\u001b[0;34m\u001b[0m\u001b[0m\n\u001b[0m\u001b[1;32m    828\u001b[0m \u001b[0;34m\u001b[0m\u001b[0m\n\u001b[1;32m    829\u001b[0m     \u001b[0;34m@\u001b[0m\u001b[0mstaticmethod\u001b[0m\u001b[0;34m\u001b[0m\u001b[0;34m\u001b[0m\u001b[0m\n",
      "\u001b[0;32m~/opt/anaconda3/lib/python3.9/site-packages/matplotlib/transforms.py\u001b[0m in \u001b[0;36mfrom_extents\u001b[0;34m(minpos, *args)\u001b[0m\n\u001b[1;32m    844\u001b[0m            \u001b[0mscales\u001b[0m \u001b[0mwhere\u001b[0m \u001b[0mnegative\u001b[0m \u001b[0mbounds\u001b[0m \u001b[0mresult\u001b[0m \u001b[0;32min\u001b[0m \u001b[0mfloating\u001b[0m \u001b[0mpoint\u001b[0m \u001b[0merrors\u001b[0m\u001b[0;34m.\u001b[0m\u001b[0;34m\u001b[0m\u001b[0;34m\u001b[0m\u001b[0m\n\u001b[1;32m    845\u001b[0m         \"\"\"\n\u001b[0;32m--> 846\u001b[0;31m         \u001b[0mbbox\u001b[0m \u001b[0;34m=\u001b[0m \u001b[0mBbox\u001b[0m\u001b[0;34m(\u001b[0m\u001b[0mnp\u001b[0m\u001b[0;34m.\u001b[0m\u001b[0mreshape\u001b[0m\u001b[0;34m(\u001b[0m\u001b[0margs\u001b[0m\u001b[0;34m,\u001b[0m \u001b[0;34m(\u001b[0m\u001b[0;36m2\u001b[0m\u001b[0;34m,\u001b[0m \u001b[0;36m2\u001b[0m\u001b[0;34m)\u001b[0m\u001b[0;34m)\u001b[0m\u001b[0;34m)\u001b[0m\u001b[0;34m\u001b[0m\u001b[0;34m\u001b[0m\u001b[0m\n\u001b[0m\u001b[1;32m    847\u001b[0m         \u001b[0;32mif\u001b[0m \u001b[0mminpos\u001b[0m \u001b[0;32mis\u001b[0m \u001b[0;32mnot\u001b[0m \u001b[0;32mNone\u001b[0m\u001b[0;34m:\u001b[0m\u001b[0;34m\u001b[0m\u001b[0;34m\u001b[0m\u001b[0m\n\u001b[1;32m    848\u001b[0m             \u001b[0mbbox\u001b[0m\u001b[0;34m.\u001b[0m\u001b[0m_minpos\u001b[0m\u001b[0;34m[\u001b[0m\u001b[0;34m:\u001b[0m\u001b[0;34m]\u001b[0m \u001b[0;34m=\u001b[0m \u001b[0mminpos\u001b[0m\u001b[0;34m\u001b[0m\u001b[0;34m\u001b[0m\u001b[0m\n",
      "\u001b[0;32m~/opt/anaconda3/lib/python3.9/site-packages/matplotlib/transforms.py\u001b[0m in \u001b[0;36m__init__\u001b[0;34m(self, points, **kwargs)\u001b[0m\n\u001b[1;32m    785\u001b[0m             \u001b[0mA\u001b[0m \u001b[0;36m2\u001b[0m\u001b[0mx2\u001b[0m \u001b[0mnumpy\u001b[0m \u001b[0marray\u001b[0m \u001b[0mof\u001b[0m \u001b[0mthe\u001b[0m \u001b[0mform\u001b[0m\u001b[0;31m \u001b[0m\u001b[0;31m`\u001b[0m\u001b[0;31m`\u001b[0m\u001b[0;34m[\u001b[0m\u001b[0;34m[\u001b[0m\u001b[0mx0\u001b[0m\u001b[0;34m,\u001b[0m \u001b[0my0\u001b[0m\u001b[0;34m]\u001b[0m\u001b[0;34m,\u001b[0m \u001b[0;34m[\u001b[0m\u001b[0mx1\u001b[0m\u001b[0;34m,\u001b[0m \u001b[0my1\u001b[0m\u001b[0;34m]\u001b[0m\u001b[0;34m]\u001b[0m\u001b[0;31m`\u001b[0m\u001b[0;31m`\u001b[0m\u001b[0;34m.\u001b[0m\u001b[0;34m\u001b[0m\u001b[0;34m\u001b[0m\u001b[0m\n\u001b[1;32m    786\u001b[0m         \"\"\"\n\u001b[0;32m--> 787\u001b[0;31m         \u001b[0msuper\u001b[0m\u001b[0;34m(\u001b[0m\u001b[0;34m)\u001b[0m\u001b[0;34m.\u001b[0m\u001b[0m__init__\u001b[0m\u001b[0;34m(\u001b[0m\u001b[0;34m**\u001b[0m\u001b[0mkwargs\u001b[0m\u001b[0;34m)\u001b[0m\u001b[0;34m\u001b[0m\u001b[0;34m\u001b[0m\u001b[0m\n\u001b[0m\u001b[1;32m    788\u001b[0m         \u001b[0mpoints\u001b[0m \u001b[0;34m=\u001b[0m \u001b[0mnp\u001b[0m\u001b[0;34m.\u001b[0m\u001b[0masarray\u001b[0m\u001b[0;34m(\u001b[0m\u001b[0mpoints\u001b[0m\u001b[0;34m,\u001b[0m \u001b[0mfloat\u001b[0m\u001b[0;34m)\u001b[0m\u001b[0;34m\u001b[0m\u001b[0;34m\u001b[0m\u001b[0m\n\u001b[1;32m    789\u001b[0m         \u001b[0;32mif\u001b[0m \u001b[0mpoints\u001b[0m\u001b[0;34m.\u001b[0m\u001b[0mshape\u001b[0m \u001b[0;34m!=\u001b[0m \u001b[0;34m(\u001b[0m\u001b[0;36m2\u001b[0m\u001b[0;34m,\u001b[0m \u001b[0;36m2\u001b[0m\u001b[0;34m)\u001b[0m\u001b[0;34m:\u001b[0m\u001b[0;34m\u001b[0m\u001b[0;34m\u001b[0m\u001b[0m\n",
      "\u001b[0;31mKeyboardInterrupt\u001b[0m: "
     ]
    },
    {
     "data": {
      "image/png": "[encoded data removed]",
      "text/plain": [
       "<Figure size 720x360 with 3 Axes>"
      ]
     },
     "metadata": {
      "needs_background": "light"
     },
     "output_type": "display_data"
    }
   ],
   "source": [
    "x_3, Q_3 = godunov_ARZ(Q_0_3, dx, xl, xr, T, U, tau)\n",
    "get_animation(Q_3, x_3, U, len(Q_3), \"Modelo ARZ no homogéneo\" ,\n",
    "              [\"Densidad\", \"Velocidad\", r\"$U_{eq}$\"], \"Charts/Q_3_prueba.gif\")"
   ]
  },
  {
   "cell_type": "code",
   "execution_count": 16,
   "id": "b006a15a",
   "metadata": {
    "collapsed": true,
    "jupyter": {
     "outputs_hidden": true
    },
    "tags": []
   },
   "outputs": [
    {
     "name": "stdout",
     "output_type": "stream",
     "text": [
      "No hay solución\n",
      "u_r =  19.0 demás =  11.95445115010332\n",
      "No hay solución\n",
      "u_r =  19.0 demás =  11.95445115010332\n",
      "No hay solución\n",
      "u_r =  15.872714636977506 demás =  13.277015233271474\n",
      "No hay solución\n",
      "u_r =  15.872714636977506 demás =  13.277015233271474\n"
     ]
    }
   ],
   "source": [
    "# Resuelve para cada condicion inicial\n",
    "Q_0_s = [Q_0_2, Q_0_4]\n",
    "x_s = []\n",
    "Q_s = []\n",
    "\n",
    "for i in range(len(Q_0_s)):\n",
    "    x, Q = godunov_ARZ(Q_0_s[i], dx, xl, xr, T, U, tau)\n",
    "    \n",
    "    x_s += [x]\n",
    "    Q_s += [Q]"
   ]
  },
  {
   "cell_type": "code",
   "execution_count": 17,
   "id": "c58b4021",
   "metadata": {
    "tags": []
   },
   "outputs": [
    {
     "name": "stderr",
     "output_type": "stream",
     "text": [
      "No handles with labels found to put in legend.\n",
      "MovieWriter ffmpeg unavailable; using Pillow instead.\n",
      "No handles with labels found to put in legend.\n",
      "MovieWriter ffmpeg unavailable; using Pillow instead.\n"
     ]
    },
    {
     "data": {
      "image/png": "[encoded data removed]",
      "text/plain": [
       "<Figure size 720x360 with 3 Axes>"
      ]
     },
     "metadata": {
      "needs_background": "light"
     },
     "output_type": "display_data"
    },
    {
     "data": {
      "image/png": "[encoded data removed]",
      "text/plain": [
       "<Figure size 720x360 with 3 Axes>"
      ]
     },
     "metadata": {
      "needs_background": "light"
     },
     "output_type": "display_data"
    }
   ],
   "source": [
    "path = \"Charts/\"\n",
    "names = [\"2\", \"4\"]\n",
    "\n",
    "for i in range(len(Q_s)):\n",
    "    name = \"ARZ_no_homogeneo_Q_0_\"+ names[i] +\".gif\"\n",
    "    N_t = len(Q_s[i])\n",
    "    get_animation(Q_s[i], x_s[i], U, N_t, \"Modelo ARZ no homogéneo\" ,[\"Densidad\", \"Velocidad\", r\"$U_{eq}$\"], path+name)\n",
    "    density_integral(x_s[i], dx, N_t, Q_s[i])"
   ]
  },
  {
   "cell_type": "code",
   "execution_count": 18,
   "id": "36f1960b-a736-47cd-9d44-84974ae9fe70",
   "metadata": {},
   "outputs": [
    {
     "data": {
      "image/png": "[encoded data removed]",
      "text/plain": [
       "<Figure size 432x288 with 1 Axes>"
      ]
     },
     "metadata": {
      "needs_background": "light"
     },
     "output_type": "display_data"
    }
   ],
   "source": [
    "for i in range(len(Q_s)):\n",
    "    density_integral(x_s[i], dx, len(Q_s[i]), Q_s[i])"
   ]
  },
  {
   "cell_type": "markdown",
   "id": "92716189-3836-4483-8397-a723c81a8429",
   "metadata": {},
   "source": [
    "## Ruta infinita"
   ]
  },
  {
   "cell_type": "code",
   "execution_count": 462,
   "id": "ba381040-35eb-4bc2-991d-dc3c3bf27be3",
   "metadata": {},
   "outputs": [],
   "source": [
    "# Implementa Godunov con ruta infinita\n",
    "# Borde izquierdo: Dirichlet\n",
    "# Borde derecho: Neumann\n",
    "\n",
    "def godunov_ARZ_inf(Q_0, dx, xl, xr, T, U, tau):\n",
    "    \n",
    "    # Largo de la grilla\n",
    "    L = xr-xl\n",
    "    \n",
    "    # Numero de puntos\n",
    "    N = int(L//dx)\n",
    "    \n",
    "    # Grilla\n",
    "    x = np.linspace(xl, xr, N)\n",
    "    \n",
    "    # Guarda soluciones\n",
    "    # Condición inicial\n",
    "    Q = Q_0(x, U)\n",
    "    dt = 0\n",
    "    t = 0\n",
    "    n = 0\n",
    "    \n",
    "    while t < T:\n",
    "        \n",
    "        # Actualiza segun condicion CFL\n",
    "        dt = cfl(dt, dx, Q[n])\n",
    "        l = dt/dx\n",
    "        \n",
    "        # Condición borde izq dirichlet\n",
    "        \n",
    "        if 0<t and t<50:\n",
    "            # Densidad\n",
    "            Q[n][0][0] = 0.2\n",
    "        \n",
    "            # Velocidad\n",
    "            Q[n][1][0] = 0\n",
    "        else:\n",
    "            # Neumann\n",
    "            # Densidad\n",
    "            Q[n][0][0] = 0.55#Q[n][0][1]\n",
    "        \n",
    "            # Velocidad\n",
    "            Q[n][1][0] = 1#Q[n][1][1]\n",
    "            \n",
    "        # Paso de Godunov\n",
    "        Q_sig = Q[n] - l * F(Q[n], N, U, l)\n",
    "        \n",
    "        # Agrega no homogeneidad\n",
    "        rho_sig, y_sig = Q_sig\n",
    "        \n",
    "        # Si aparece rho negativo\n",
    "        neg_rho = rho_sig[rho_sig<0]\n",
    "        if len(neg_rho)>0:\n",
    "            print(\"rho negativo\", neg_rho, \" n = \", n)\n",
    "            rho_sig[rho_sig<0] = 1e-1\n",
    "        \n",
    "        # Resuelve termino de relajación\n",
    "        y_sig__ = y_sig * (1 - dt/(2 *tau * rho_sig))\n",
    "        y_sig_ = y_sig - (dt * y_sig__)/(tau * rho_sig)\n",
    "        Q_sig[1] = y_sig_\n",
    "        \n",
    "        # Condiciones borde der neumann\n",
    "        Q_sig[:, -1] = Q_sig[:, -2]\n",
    "        \n",
    "        # Guarda paso\n",
    "        Q_sig = np.reshape(Q_sig, (1, Q_sig.shape[0], Q_sig.shape[1]))\n",
    "        Q = np.append(Q, Q_sig, axis=0)\n",
    "        \n",
    "        # Actualiza indice y tiempo\n",
    "        n += 1\n",
    "        t += dt\n",
    "        \n",
    "    return x, Q"
   ]
  },
  {
   "cell_type": "code",
   "execution_count": 463,
   "id": "96b4cb27-6809-4e29-8e1a-cafc225ed6f4",
   "metadata": {},
   "outputs": [],
   "source": [
    "# Condición inicial de prueba\n",
    "# Constante por pedazos\n",
    "def Q_0_test_inf(x, U):\n",
    "    \n",
    "    # Densidad alta en x negativo y bajo en x positivo\n",
    "    rho_0 = np.piecewise(x, [((-25 <= x) & (x <= 0)), ((x>0) | (x<-25))], [0.6, 0.6])\n",
    "\n",
    "    # Velocidad baja en negativos y alta en positivos\n",
    "    u_0 = np.piecewise(x, [((-25 <= x) & (x <= 0)), ((x>0) | (x<-25))], [25, 25])\n",
    "\n",
    "    # y inicial en funcion de u y rho\n",
    "    y_0 = rho_0 * (u_0 - U(rho_0))\n",
    "\n",
    "    # Vector con condición\n",
    "    Q_0_ = np.zeros([1, 2, len(y_0)])\n",
    "    Q_0_[0][0] = rho_0\n",
    "    Q_0_[0][1] = y_0\n",
    "    \n",
    "    return Q_0_"
   ]
  },
  {
   "cell_type": "code",
   "execution_count": 464,
   "id": "1e61c931-4ca2-46b2-879a-48fd1d820b7f",
   "metadata": {},
   "outputs": [],
   "source": [
    "# Parámetros\n",
    "xl = -2000\n",
    "xr = -xl\n",
    "dx = 20\n",
    "T = 500\n",
    "tau= 5"
   ]
  },
  {
   "cell_type": "code",
   "execution_count": 465,
   "id": "cd201762-05a8-4b27-ac2a-6688103ca3d5",
   "metadata": {},
   "outputs": [
    {
     "name": "stdout",
     "output_type": "stream",
     "text": [
      "No hay solución\n",
      "u_r =  25.0 demás =  21.81818181818182\n",
      "No hay solución\n",
      "u_r =  21.23695109341525 demás =  20.0\n"
     ]
    },
    {
     "name": "stderr",
     "output_type": "stream",
     "text": [
      "No handles with labels found to put in legend.\n",
      "MovieWriter ffmpeg unavailable; using Pillow instead.\n"
     ]
    },
    {
     "data": {
      "image/png": "[encoded data removed]",
      "text/plain": [
       "<Figure size 720x360 with 3 Axes>"
      ]
     },
     "metadata": {
      "needs_background": "light"
     },
     "output_type": "display_data"
    }
   ],
   "source": [
    "x_test_inf, Q_test_inf = godunov_ARZ_inf(Q_0_test_inf, dx, xl, xr, T, U, tau)\n",
    "get_animation(Q_test_inf, x_test_inf, U, len(Q_test_inf), \"Modelo ARZ no homogéneo ruta infinita\" ,\n",
    "              [\"Densidad\", \"Velocidad\", r\"$U_{eq}$\"], \"Charts/prueba_inf.gif\")"
   ]
  },
  {
   "cell_type": "code",
   "execution_count": 466,
   "id": "85dc5633-ba4a-4570-849c-26c405f41f1a",
   "metadata": {},
   "outputs": [
    {
     "data": {
      "image/png": "[encoded data removed]",
      "text/plain": [
       "<Figure size 432x288 with 1 Axes>"
      ]
     },
     "metadata": {
      "needs_background": "light"
     },
     "output_type": "display_data"
    }
   ],
   "source": [
    "density_integral(x_test_inf, dx, len(Q_test_inf), Q_test_inf)"
   ]
  },
  {
   "cell_type": "markdown",
   "id": "39d6317c",
   "metadata": {},
   "source": [
    "## Mayor resolución"
   ]
  },
  {
   "cell_type": "code",
   "execution_count": 19,
   "id": "b52c35f8",
   "metadata": {},
   "outputs": [],
   "source": [
    "def minmod(e, dx):\n",
    "    \n",
    "    sigma = numpy.zeros_like(e)\n",
    "    de_minus = numpy.ones_like(e)\n",
    "    de_plus = numpy.ones_like(e)\n",
    "    \n",
    "    de_minus[1:] = (e[1:] - e[:-1])/dx\n",
    "    de_plus[:-1] = (e[1:] - e[:-1])/dx\n",
    "    \n",
    "    # The following is inefficient but easy to read\n",
    "    for i in range(1, len(e)-1):\n",
    "        if (de_minus[i] * de_plus[i] < 0.0):\n",
    "            sigma[i] = 0.0\n",
    "        elif (numpy.abs(de_minus[i]) < numpy.abs(de_plus[i])):\n",
    "            sigma[i] = de_minus[i]\n",
    "        else:\n",
    "            sigma[i] = de_plus[i]\n",
    "            \n",
    "    return sigma"
   ]
  },
  {
   "cell_type": "code",
   "execution_count": 20,
   "id": "e4f000c2",
   "metadata": {},
   "outputs": [],
   "source": [
    "def F_minmod(Q, N, h, l, dx):\n",
    "    \n",
    "    F_ = np.zeros(Q.shape)\n",
    "    for i in range(1, N-1):\n",
    "        \n",
    "        Q_left = Q[:, i-1]\n",
    "        Q_i = Q[:, i]\n",
    "        Q_right = Q[:, i+1]\n",
    "        \n",
    "        # Slopes\n",
    "        delta_minus_e = (Q_i - Q_left)/dx\n",
    "        delta_plus_e = (Q_right - Q_i)/dx\n",
    "        \n",
    "        # Slope con minmod\n",
    "        sigma_i = minmod(delta_minus_e, delta_plus_e)\n",
    "        \n",
    "        Q_l = Q_i - sigma_i * dx / 2\n",
    "        Q_r = Q_i + sigma_i * dx / 2\n",
    "        \n",
    "        w_left = w(Q_l, Q_i)\n",
    "        w_right = w(Q_i, Q_r)\n",
    "        \n",
    "        F_[:, i] = flux(w_right, h) - flux(w_left, h)\n",
    "    \n",
    "    return F_"
   ]
  },
  {
   "cell_type": "markdown",
   "id": "1da0a429",
   "metadata": {},
   "source": [
    "* TODO: Añadir pequeña difusión para arreglar las discontinuidades\n",
    "    - Elementos finitos\n",
    "    - Galerkin discontinuo"
   ]
  },
  {
   "cell_type": "code",
   "execution_count": null,
   "id": "d55ff16d-b351-46f7-9134-c71e4239cd4e",
   "metadata": {},
   "outputs": [],
   "source": []
  }
 ],
 "metadata": {
  "kernelspec": {
   "display_name": "Python 3 (ipykernel)",
   "language": "python",
   "name": "python3"
  },
  "language_info": {
   "codemirror_mode": {
    "name": "ipython",
    "version": 3
   },
   "file_extension": ".py",
   "mimetype": "text/x-python",
   "name": "python",
   "nbconvert_exporter": "python",
   "pygments_lexer": "ipython3",
   "version": "3.9.7"
  }
 },
 "nbformat": 4,
 "nbformat_minor": 5
}
