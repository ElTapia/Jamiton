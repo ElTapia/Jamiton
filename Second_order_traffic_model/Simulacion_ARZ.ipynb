{
 "cells": [
  {
   "cell_type": "code",
   "execution_count": 14,
   "id": "c7413de0",
   "metadata": {
    "cell_id": "2202d17e3cb44d518ee69ceeb9f6a456",
    "deepnote_cell_type": "code",
    "deepnote_to_be_reexecuted": false,
    "execution_millis": 1706,
    "execution_start": 1675097148664,
    "source_hash": "80862252",
    "tags": []
   },
   "outputs": [],
   "source": [
    "import numpy as np\n",
    "import matplotlib.pyplot as plt\n",
    "import matplotlib.animation as animation\n",
    "\n",
    "from scipy import integrate"
   ]
  },
  {
   "cell_type": "code",
   "execution_count": 2,
   "id": "1b288e18",
   "metadata": {},
   "outputs": [],
   "source": [
    "# Obtiene gif de la solución\n",
    "def get_animation(Q, x, U, Nt, title, titles, path):\n",
    "    \n",
    "    # Crea figura\n",
    "    fig, axs = plt.subplots(1, 2, figsize=(10, 5))\n",
    "    ax1, ax2 = axs\n",
    "    \n",
    "    # Parámetros\n",
    "    plt.xlabel(r'$x$')\n",
    "    plt.ylabel(r'$Q(t, x)$')\n",
    "    ax1.set_title(titles[0])\n",
    "    ax2.set_title(title[1])\n",
    "    \n",
    "    fig.suptitle(title)\n",
    "    \n",
    "    ax1.set_ylim(-0.1, 0.5)\n",
    "    ax2.set_ylim(-1, 60)\n",
    "    \n",
    "    ax1.set_xlabel(\"x\")\n",
    "    ax2.set_ylabel(\"y\")\n",
    "    \n",
    "    # Valores iniciales\n",
    "    rho_0 = Q[0][0]\n",
    "    y_0 = Q[0][1]\n",
    "    u_0 = u(rho_0, y_0, U)\n",
    "\n",
    "    # Lineas iniciales\n",
    "    line1, = ax1.plot(x, rho_0, '-', color='r', linewidth=2)\n",
    "    line2, = ax2.plot(x, u_0, '-', color='b', linewidth=2, label=r\"u\")\n",
    "    \n",
    "    plt.legend()\n",
    "\n",
    "    def animate(n):\n",
    "        \n",
    "        # Instante n\n",
    "        rho = Q[n][0]\n",
    "        y = Q[n][1]\n",
    "        u_ = u(rho, y, U)\n",
    "        \n",
    "        # Actualiza gráfico\n",
    "        line1.set_ydata(rho)\n",
    "        line2.set_ydata(u_)\n",
    "\n",
    "        ax1.set_title(titles[0])\n",
    "        ax2.set_title(titles[1])\n",
    "        \n",
    "        return [line1, line2]\n",
    "\n",
    "    ani = animation.FuncAnimation(fig, animate, np.arange(0, Nt, 3),\n",
    "                                interval=50, blit=True)\n",
    "\n",
    "    ani.save(path)"
   ]
  },
  {
   "cell_type": "markdown",
   "id": "bdb7b595",
   "metadata": {
    "cell_id": "fbee1f2a28e74ad69dea173545fdd571",
    "deepnote_cell_type": "code",
    "tags": []
   },
   "source": [
    "# Aplicación a ecuación ARZ"
   ]
  },
  {
   "cell_type": "markdown",
   "id": "237d1173",
   "metadata": {},
   "source": [
    "En primer lugar consideraremos el modelo ARZ homogeneo, que considera conservación de masa y del campo de velocidades shifteado. Las ecuaciones corresponden a\n",
    "$$\n",
    "\\begin{align*}\n",
    "\\rho_t + (\\rho u)_x &= 0\\\\\n",
    "(u - U(\\rho))_t + u(u-U(\\rho))_x &= 0\n",
    "\\end{align*}\n",
    "$$\n",
    "\n",
    "donde $\\rho = \\rho(x, t)$ corresponde a la densidad vehicular, $u=u(x, t)$ al campo de velocidades y $U(\\rho)$ velocidad de equilibrio. Consideraremos $U(\\rho) = u_{\\text{max}}(1-\\rho^\\gamma)$ con $\\gamma \\in (0, 1)$. En particular, se usarán $u_{\\text{max}}=20$ y $\\gamma=1/2$.\n",
    "\n",
    "Definiendo $y(\\rho, u)= \\rho(u-U(\\rho))$ y sumando ambas ecuaciones, podemos escribir el sistema en su forma conservativa:\n",
    "$$\n",
    " \\textbf{Q}_t + F( \\textbf{Q})_x = 0\n",
    "$$\n",
    "donde $ \\textbf{Q} = \\begin{pmatrix} \\rho \\\\ y \\end{pmatrix}$ y $F(\\textbf{Q}) = \\begin{pmatrix} \\rho u\\\\ yu\\end{pmatrix}$. De esta forma se puede utilizar cualquier esquema de volúmenes finitos que se haya visto. En este caso, se usará el esquema de Godunov, que pide resolver el problema de Riemann asociado al modelo. Este se resolverá analiticamente y se programará separando en casos.\n",
    "\n",
    "Una opción a manejar es resolver el problema de Riemann usando solvers aproximadores, pues se puede complejizar más si se resuelve el problema de Riemann no homogeneo. Se puede también resolver analíticamente pero resulta en un mayor coste computacional."
   ]
  },
  {
   "cell_type": "markdown",
   "id": "3390476d",
   "metadata": {},
   "source": [
    "## Funciones del modelo"
   ]
  },
  {
   "cell_type": "code",
   "execution_count": 3,
   "id": "d1dbd354",
   "metadata": {},
   "outputs": [],
   "source": [
    "u_max = 40\n",
    "gamm = 1/2\n",
    "\n",
    "# Define u en función de rho e y\n",
    "def u(rho, y, U):\n",
    "    output = y/rho + U(rho)\n",
    "    return output\n",
    "\n",
    "# Define y en función de rho y u\n",
    "def y_u(rho, u, U):\n",
    "    output = rho*(u - U(rho))\n",
    "    return output"
   ]
  },
  {
   "cell_type": "code",
   "execution_count": 4,
   "id": "09790455",
   "metadata": {},
   "outputs": [],
   "source": [
    "# Flujo del modelo\n",
    "def flux(Q, U):\n",
    "    \n",
    "    # Rescata variables\n",
    "    rho, y = Q\n",
    "    \n",
    "    # Obtiene u en funcion de rho e y\n",
    "    u_ = u(rho, y, U)\n",
    "    return np.array([rho * u_, y * u_])"
   ]
  },
  {
   "cell_type": "code",
   "execution_count": 5,
   "id": "158707c2",
   "metadata": {},
   "outputs": [],
   "source": [
    "# Flujo de Godunov de primer orden\n",
    "def F(Q, N, U, l):\n",
    "    \n",
    "    # Guarda flujo en un arreglo\n",
    "    F_ = np.zeros(Q.shape)\n",
    "    \n",
    "    for i in range(1, N-1):\n",
    "        \n",
    "        # Rescata actual y vecinos\n",
    "        Q_left = Q[:, i-1]\n",
    "        Q_i = Q[:, i]\n",
    "        Q_right = Q[:, i+1]\n",
    "        \n",
    "        # Problema de Riemann en cada vecino\n",
    "        w_left = w(Q_left, Q_i, U)\n",
    "        w_right = w(Q_i, Q_right, U)\n",
    "        \n",
    "        # Evalúa en el flujo del modelo\n",
    "        F_[:, i] = flux(w_right, U) - flux(w_left, U)\n",
    "    \n",
    "    return F_"
   ]
  },
  {
   "cell_type": "markdown",
   "id": "73480e2a",
   "metadata": {},
   "source": [
    "## Resuelve el problema de Riemann"
   ]
  },
  {
   "cell_type": "code",
   "execution_count": 6,
   "id": "aa667eb4",
   "metadata": {},
   "outputs": [],
   "source": [
    "# Solución problema de Riemann homogeneo\n",
    "\n",
    "# TODO: Quitar casos redundantes\n",
    "# TODO: Cambiar si se quiere cambiar el h(rho) o U(rho)\n",
    "# TODO: Agregar Riemann no homogeneo\n",
    "def w(Q_l, Q_r, U, umax=u_max, gamma=gamm):\n",
    "    \n",
    "    # Rescata variables a la izquierda\n",
    "    rho_l, y_l = Q_l\n",
    "    \n",
    "    # Rescata variables a la derecha\n",
    "    rho_r, y_r = Q_r\n",
    "      \n",
    "    # Obtiene velocidades en caso que densidades son positivas\n",
    "    u_l = u(rho_l, y_l, U)\n",
    "    u_r = u(rho_r, y_r, U)\n",
    "    u_m = u_r\n",
    "\n",
    "    # Define valor medio de rho y u\n",
    "    rho_m = (rho_l**gamma + (u_l - u_r)/umax)**(1/gamma)\n",
    "\n",
    "    # u_r y u_l cercanos\n",
    "    if np.isclose(u_r, u_l):\n",
    "\n",
    "        # Solucion en 0\n",
    "        rho_0 = rho_l\n",
    "        u_0 = u_l\n",
    "\n",
    "    # u_r menor a u_l\n",
    "    elif u_r < u_l:\n",
    "\n",
    "        # Define velocidad del shock\n",
    "        l_s = (rho_m * u_m - rho_l * u_l)/(rho_m - rho_l)\n",
    "\n",
    "        # Si es positivo\n",
    "        if l_s >= 0:\n",
    "\n",
    "            # Solucion en 0\n",
    "            rho_0 = rho_l\n",
    "            u_0 = u_l\n",
    "\n",
    "        # Si es negativo\n",
    "        else:\n",
    "\n",
    "            # Solucion en 0\n",
    "            rho_0 = rho_m\n",
    "            u_0 = u_m\n",
    "\n",
    "    # Condición u_l en un intervalo en función de u_r\n",
    "    elif u_r - umax*rho_l**gamma < u_l < u_r:\n",
    "\n",
    "        # Lambdas a la izquierda y centrado con respecto al 0\n",
    "        l_0_l = u_l - umax * gamma * rho_l**gamma\n",
    "        l_0_m = u_r - umax*gamma*rho_l**gamma + gamma*(u_r - u_l)\n",
    "\n",
    "        # Lambda izquierda es positivo\n",
    "        if l_0_l >= 0:\n",
    "\n",
    "            # Solucion en 0\n",
    "            rho_0 = rho_l\n",
    "            u_0 = u_l\n",
    "\n",
    "        # Lambda derecha es negativo\n",
    "        elif l_0_m <= 0:\n",
    "\n",
    "            # Solucion en 0\n",
    "            rho_0 = rho_m\n",
    "            u_0 = u_m\n",
    "\n",
    "        # A la izquierda es negativo y centrado positivo\n",
    "        elif l_0_l < 0 < l_0_m:\n",
    "            rho_bar = ((u_l + umax*rho_l**gamma)/((gamma + 1)*umax))**(1/gamma)\n",
    "            u_bar = (gamma/(gamma+1)) * (u_l + umax*rho_l**gamma)\n",
    "\n",
    "            # Solucion en 0\n",
    "            rho_0 = rho_bar\n",
    "            u_0 = u_bar\n",
    "\n",
    "    # u_l menor a u_r menos algo\n",
    "    elif u_l <= u_r - umax*rho_l**gamma:\n",
    "\n",
    "        # Lambda a la izquierda del 0\n",
    "        l_0_l = u_l - umax * gamma * rho_l**gamma\n",
    "\n",
    "        # Si es positivo\n",
    "        if l_0_l >= 0:\n",
    "\n",
    "            # Solucion en 0\n",
    "            rho_0 = rho_l\n",
    "            u_0 = u_l\n",
    "\n",
    "        # Si es negativo\n",
    "        else:\n",
    "            rho_bar = ((u_l + umax*rho_l**gamma)/((gamma + 1)*umax))**(1/gamma)\n",
    "            u_bar = (gamma/(gamma+1)) * (u_l + umax*rho_l**gamma)\n",
    "\n",
    "            # Solucion en 0\n",
    "            rho_0 = rho_bar\n",
    "            u_0 = u_bar\n",
    "\n",
    "    # rho_l cero y rho_r positivo\n",
    "    # TODO: Ver equivalencia a algun caso anterior\n",
    "    elif np.isclose(rho_l, 0) and rho_r >0:\n",
    "        rho_0 = 0\n",
    "        u_0 = 0\n",
    "    \n",
    "    # Opuesto al anterior\n",
    "    # TODO: Ver equivalencia a algun caso anterior\n",
    "    elif rho_l > 0 and np.isclose(rho_r, 0):\n",
    "        \n",
    "        # Velocidad\n",
    "        u_l = u(rho_l, y_l, U)\n",
    "        \n",
    "        # Obtiene lambda a la izquierda del 0\n",
    "        l_0_l = u_l - umax * gamma * rho_l**gamma\n",
    "        \n",
    "        # Si es positivo\n",
    "        if l_0_l >= 0:\n",
    "            \n",
    "            # Solucion en 0\n",
    "            rho_0 = rho_l\n",
    "            u_0 = u_l\n",
    "        \n",
    "        # Si es negativo\n",
    "        else:\n",
    "            rho_bar = ((u_l + umax*rho_l**gamma)/((gamma + 1)*umax))**(1/gamma)\n",
    "            u_bar = (gamma/(gamma+1)) * (u_l + umax*rho_l**gamma)\n",
    "            \n",
    "            # Solucion en 0\n",
    "            rho_0 = rho_bar\n",
    "            u_0 = u_bar\n",
    "    \n",
    "    # Condición auxiliar por si no se cumplen las anteriores\n",
    "    else:\n",
    "        rho_0 = 0\n",
    "        u_0 = 0\n",
    "        \n",
    "    \n",
    "    # Obtiene y_0 segun el u_0 obtenido\n",
    "    y_0 = y_u(rho_0, u_0, U)\n",
    "    \n",
    "    return np.array([rho_0, y_0])\n"
   ]
  },
  {
   "cell_type": "code",
   "execution_count": 7,
   "id": "e864fa9a",
   "metadata": {},
   "outputs": [],
   "source": [
    "# Condición CFL\n",
    "# TODO: Considerar velocidad máxima (valores propios)\n",
    "def cfl(dx, Q):\n",
    "    return dx/2"
   ]
  },
  {
   "cell_type": "code",
   "execution_count": 8,
   "id": "ea94f070",
   "metadata": {},
   "outputs": [],
   "source": [
    "# Velocidad de equilibrio\n",
    "def U(rho, umax=u_max, gamma = gamm):\n",
    "    return umax*(1-rho**gamma)"
   ]
  },
  {
   "cell_type": "code",
   "execution_count": 9,
   "id": "10563875",
   "metadata": {},
   "outputs": [],
   "source": [
    "# Implementa Godunov\n",
    "def godunov_ARZ(Q_0, dt, dx, xl, xr, T, U, tau):\n",
    "    \n",
    "    # Largo de la grilla\n",
    "    L = xr-xl\n",
    "    \n",
    "    # Numero de puntos\n",
    "    N = int(L//dx)\n",
    "    \n",
    "    # Grilla\n",
    "    x = np.linspace(xl, xr, N)\n",
    "    \n",
    "    # Definir condicion CFL\n",
    "    #dt = cfl(dx, Q_0)\n",
    "    l = dt/dx\n",
    "    \n",
    "    # Total de puntos temporales\n",
    "    # No considerar N_t si dt cambia en cada paso\n",
    "    N_t = int(T//dt)\n",
    "    \n",
    "    # Guarda soluciones\n",
    "    Q = np.zeros((N_t, 2, N))\n",
    "    \n",
    "    # Condición inicial\n",
    "    Q[0] = Q_0(x, U)\n",
    "    \n",
    "    for n in range(N_t-1):\n",
    "        \n",
    "        # Instante actual\n",
    "        Q_n = Q[n]\n",
    "        \n",
    "        # Actualiza dt segun cfl\n",
    "        # TODO: Cambiar Nt si se cambia dt\n",
    "        #dt = cfl(dx, Q)\n",
    "        \n",
    "        # Paso de Godunov\n",
    "        Q_sig = Q_n - l * F(Q_n, N, U, l)\n",
    "        \n",
    "        # Agrega no homogeneidad\n",
    "        rho_sig, y_sig = Q_sig\n",
    "        u_ = u(rho_sig, y_sig, U)\n",
    "        \n",
    "        # Agrega tau\n",
    "        #Q_sig[1] = y_sig + dt * y_sig/(rho_sig * tau)\n",
    "        \n",
    "        # Condiciones de borde Periodica\n",
    "        Q_sig[:, 0] = Q_sig[:, -2]\n",
    "        Q_sig[:, -1] = Q_sig[:, 1]\n",
    "        \n",
    "        # Guarda paso\n",
    "        Q[n+1] = Q_sig\n",
    "        \n",
    "    return x, Q\n"
   ]
  },
  {
   "cell_type": "markdown",
   "id": "b06fa0b7",
   "metadata": {},
   "source": [
    "## Condiciones iniciales"
   ]
  },
  {
   "cell_type": "code",
   "execution_count": 10,
   "id": "5dd99c46",
   "metadata": {},
   "outputs": [],
   "source": [
    "# Primera condición inicial\n",
    "# Constante por pedazos\n",
    "def Q_0_1(x, U):\n",
    "    \n",
    "    # Densidad alta en x negativo y bajo en x positivo\n",
    "    rho_0 = (0.4)*(x>=0) + 0.01*(x<0)\n",
    "    \n",
    "    # Velocidad baja en negativos y alta en positivos\n",
    "    u_0 = 1*(x>=0) + 30*(x<0)\n",
    "    \n",
    "    # y inicial en funcion de u y rho\n",
    "    y_0 = rho_0 * (u_0 - U(rho_0))\n",
    "    \n",
    "    # Vector con condición\n",
    "    Q_0_ = np.zeros([2, len(y_0)])\n",
    "    Q_0_[0] = rho_0\n",
    "    Q_0_[1] = y_0\n",
    "    \n",
    "    return Q_0_"
   ]
  },
  {
   "cell_type": "code",
   "execution_count": 11,
   "id": "7863f8b6",
   "metadata": {},
   "outputs": [],
   "source": [
    "# Segunda condición inicial\n",
    "# Constante por pedazos\n",
    "def Q_0_2(x, U):\n",
    "    \n",
    "    # Densidad alta en x negativo y bajo en x positivo\n",
    "    rho_0 = (0.4)*(x<=0) + 0.01*(x>0)\n",
    "    \n",
    "    # Velocidad baja en negativos y alta en positivos\n",
    "    u_0 = 1*(x<=0) + 30*(x>0)\n",
    "    \n",
    "    # y inicial en funcion de u y rho\n",
    "    y_0 = rho_0 * (u_0 - U(rho_0))\n",
    "    \n",
    "    # Vector con condición\n",
    "    Q_0_ = np.zeros([2, len(y_0)])\n",
    "    Q_0_[0] = rho_0\n",
    "    Q_0_[1] = y_0\n",
    "    \n",
    "    return Q_0_"
   ]
  },
  {
   "cell_type": "code",
   "execution_count": 12,
   "id": "ca436dcc",
   "metadata": {},
   "outputs": [],
   "source": [
    "# Tercera condición inicial\n",
    "# Gaussiana\n",
    "def Q_0_3(x, U):\n",
    "    \n",
    "    # Gaussiana centrada en 1500\n",
    "    rho_0 = np.exp(-x**2/(2*2.7**2))/(2.7*np.sqrt(2*np.pi))#np.exp(-(((x+1000)/1000)**2)/2)\n",
    "    \n",
    "    # Gaussiana negativa (menor velocidad en mayor densidad)\n",
    "    u_0 = (-np.exp(-(((x+1000)/1000)**2))+2)/2\n",
    "    \n",
    "    # y inicial en funcion de u y rho\n",
    "    y_0 = rho_0 * (u_0 - U(rho_0))\n",
    "    \n",
    "    # Vector con codicion\n",
    "    Q_0_ = np.zeros((2, len(x)))\n",
    "    Q_0_[0] = rho_0\n",
    "    Q_0_[1] = y_0\n",
    "    \n",
    "    return Q_0_\n",
    "    "
   ]
  },
  {
   "cell_type": "code",
   "execution_count": 13,
   "id": "10d8687c",
   "metadata": {},
   "outputs": [],
   "source": [
    "# Cuarta condición inicial\n",
    "# Constante por pedazos\n",
    "def Q_0_4(x, U):\n",
    "    \n",
    "    # Densidad alta en x negativo y bajo en x positivo\n",
    "    rho_0 = np.piecewise(x, [((-1500 <= x) & (x <= -1400)), ((x>-1400) | (x<-1500))], [0.9, 0.2])\n",
    "    \n",
    "    # Velocidad baja en negativos y alta en positivos\n",
    "    u_0 = np.piecewise(x, [((-1500 <= x) & (x <= -1400)), ((x>-1400) | (x<-1500))], [1, 20])\n",
    "    \n",
    "    # y inicial en funcion de u y rho\n",
    "    y_0 = rho_0 * (u_0 - U(rho_0))\n",
    "    \n",
    "    # Vector con condición\n",
    "    Q_0_ = np.zeros([2, len(y_0)])\n",
    "    Q_0_[0] = rho_0\n",
    "    Q_0_[1] = y_0\n",
    "    \n",
    "    return Q_0_"
   ]
  },
  {
   "cell_type": "code",
   "execution_count": 15,
   "id": "9e03fd9d",
   "metadata": {},
   "outputs": [],
   "source": [
    "# Parámetros\n",
    "xl = -2000\n",
    "xr = -xl\n",
    "dx = 50\n",
    "dt = 1\n",
    "T = 500\n",
    "tau= 5\n",
    "\n",
    "# Resuelve\n",
    "x, Q_4 = godunov_ARZ(Q_0_4, dt, dx, xl, xr, T, U, tau)"
   ]
  },
  {
   "cell_type": "code",
   "execution_count": 16,
   "id": "0e533358",
   "metadata": {},
   "outputs": [
    {
     "name": "stderr",
     "output_type": "stream",
     "text": [
      "MovieWriter ffmpeg unavailable; using Pillow instead.\n"
     ]
    },
    {
     "data": {
      "image/png": "[encoded data removed]",
      "text/plain": [
       "<Figure size 720x360 with 2 Axes>"
      ]
     },
     "metadata": {
      "needs_background": "light"
     },
     "output_type": "display_data"
    }
   ],
   "source": [
    "path=\"Charts/ARZ_homogeneo.gif\"\n",
    "N_t = int(T//dt)\n",
    "get_animation(Q_4, x, U, N_t, \"Modelo ARZ homogéneo\" ,[\"Densidad\", \"Velocidad\"], path)"
   ]
  },
  {
   "cell_type": "code",
   "execution_count": 17,
   "id": "8bc7aff3",
   "metadata": {},
   "outputs": [
    {
     "data": {
      "image/png": "[encoded data removed]",
      "text/plain": [
       "<Figure size 720x360 with 2 Axes>"
      ]
     },
     "metadata": {
      "needs_background": "light"
     },
     "output_type": "display_data"
    }
   ],
   "source": [
    "awa = np.linspace(-2000, 2000, 1000)\n",
    "fig, axs = plt.subplots(1, 2, figsize=(10, 5))\n",
    "\n",
    "axs[0].plot(awa, Q_0_3(awa, U)[0])\n",
    "axs[1].plot(awa, Q_0_3(awa, U)[1])\n",
    "\n",
    "axs[0].set_title(\"Densidad inicial\")\n",
    "axs[1].set_title(r\"Flujo relativo $y(\\rho, u)$ inicial\")\n",
    "\n",
    "axs[0].set_xlabel(\"x\")\n",
    "axs[1].set_xlabel(\"x\")\n",
    "\n",
    "plt.savefig(\"Charts/init_cond_3\")\n",
    "plt.show()"
   ]
  },
  {
   "cell_type": "code",
   "execution_count": 18,
   "id": "5e39af33",
   "metadata": {},
   "outputs": [
    {
     "data": {
      "image/png": "[encoded data removed]",
      "text/plain": [
       "<Figure size 720x360 with 2 Axes>"
      ]
     },
     "metadata": {
      "needs_background": "light"
     },
     "output_type": "display_data"
    }
   ],
   "source": [
    "awa = np.linspace(-2000, 2000, 1000)\n",
    "fig, axs = plt.subplots(1, 2, figsize=(10, 5))\n",
    "\n",
    "axs[0].plot(awa, Q_0_4(awa, U)[0])\n",
    "axs[1].plot(awa, Q_0_4(awa, U)[1])\n",
    "\n",
    "axs[0].set_title(\"Densidad inicial\")\n",
    "axs[1].set_title(r\"Flujo relativo $y(\\rho, u)$ inicial\")\n",
    "\n",
    "axs[0].set_xlabel(\"x\")\n",
    "axs[1].set_xlabel(\"x\")\n",
    "\n",
    "plt.savefig(\"Charts/init_cond_4\")\n",
    "plt.show()\n"
   ]
  },
  {
   "cell_type": "markdown",
   "id": "267c397e",
   "metadata": {},
   "source": [
    "## Integral de densidad"
   ]
  },
  {
   "cell_type": "code",
   "execution_count": 19,
   "id": "635bde78",
   "metadata": {
    "tags": []
   },
   "outputs": [
    {
     "data": {
      "text/plain": [
       "[<matplotlib.lines.Line2D at 0x7fa69b045950>]"
      ]
     },
     "execution_count": 19,
     "metadata": {},
     "output_type": "execute_result"
    },
    {
     "data": {
      "image/png": "[encoded data removed]",
      "text/plain": [
       "<Figure size 432x288 with 1 Axes>"
      ]
     },
     "metadata": {
      "needs_background": "light"
     },
     "output_type": "display_data"
    }
   ],
   "source": [
    "N_t = int(T//dt)\n",
    "\n",
    "integral_graph = []\n",
    "\n",
    "for n in range(N_t):\n",
    "    \n",
    "    rho_awa = Q_4[n, 0, :]\n",
    "    integral = integrate.simpson(rho_awa, x, dx)\n",
    "    integral_graph += [integral]\n",
    "    #print(n, integral)\n",
    "\n",
    "plt.plot(integral_graph)"
   ]
  },
  {
   "cell_type": "markdown",
   "id": "dfe8a148",
   "metadata": {},
   "source": [
    "## Mayor resolución"
   ]
  },
  {
   "cell_type": "code",
   "execution_count": 17,
   "id": "839713c4",
   "metadata": {},
   "outputs": [],
   "source": [
    "def minmod(e, dx):\n",
    "    \n",
    "    sigma = numpy.zeros_like(e)\n",
    "    de_minus = numpy.ones_like(e)\n",
    "    de_plus = numpy.ones_like(e)\n",
    "    \n",
    "    de_minus[1:] = (e[1:] - e[:-1])/dx\n",
    "    de_plus[:-1] = (e[1:] - e[:-1])/dx\n",
    "    \n",
    "    # The following is inefficient but easy to read\n",
    "    for i in range(1, len(e)-1):\n",
    "        if (de_minus[i] * de_plus[i] < 0.0):\n",
    "            sigma[i] = 0.0\n",
    "        elif (numpy.abs(de_minus[i]) < numpy.abs(de_plus[i])):\n",
    "            sigma[i] = de_minus[i]\n",
    "        else:\n",
    "            sigma[i] = de_plus[i]\n",
    "            \n",
    "    return sigma"
   ]
  },
  {
   "cell_type": "code",
   "execution_count": 18,
   "id": "68e30201",
   "metadata": {},
   "outputs": [],
   "source": [
    "def F_minmod(Q, N, h, l, dx):\n",
    "    \n",
    "    F_ = np.zeros(Q.shape)\n",
    "    for i in range(1, N-1):\n",
    "        \n",
    "        Q_left = Q[:, i-1]\n",
    "        Q_i = Q[:, i]\n",
    "        Q_right = Q[:, i+1]\n",
    "        \n",
    "        # Slopes\n",
    "        delta_minus_e = (Q_i - Q_left)/dx\n",
    "        delta_plus_e = (Q_right - Q_i)/dx\n",
    "        \n",
    "        # Slope con minmod\n",
    "        sigma_i = minmod(delta_minus_e, delta_plus_e)\n",
    "        \n",
    "        Q_l = Q_i - sigma_i * dx / 2\n",
    "        Q_r = Q_i + sigma_i * dx / 2\n",
    "        \n",
    "        w_left = w(Q_l, Q_i)\n",
    "        w_right = w(Q_i, Q_r)\n",
    "        \n",
    "        F_[:, i] = flux(w_right, h) - flux(w_left, h)\n",
    "    \n",
    "    return F_"
   ]
  },
  {
   "cell_type": "markdown",
   "id": "d92f6184",
   "metadata": {},
   "source": [
    "* TODO: Añadir pequeña difusión para arreglar las discontinuidades\n",
    "    - Elementos finitos\n",
    "    - Galerkin discontinuo\n",
    "* TODO: Pedir a axel codigo shallow waters\n",
    "* TODO: Paper de control de tráfico"
   ]
  },
  {
   "cell_type": "code",
   "execution_count": null,
   "id": "7ee38694",
   "metadata": {},
   "outputs": [],
   "source": []
  }
 ],
 "metadata": {
  "kernelspec": {
   "display_name": "Python 3",
   "language": "python",
   "name": "python3"
  },
  "language_info": {
   "codemirror_mode": {
    "name": "ipython",
    "version": 3
   },
   "file_extension": ".py",
   "mimetype": "text/x-python",
   "name": "python",
   "nbconvert_exporter": "python",
   "pygments_lexer": "ipython3",
   "version": "3.7.9"
  }
 },
 "nbformat": 4,
 "nbformat_minor": 5
}
