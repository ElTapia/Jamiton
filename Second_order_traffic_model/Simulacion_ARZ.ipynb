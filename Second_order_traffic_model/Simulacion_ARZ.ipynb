{
 "cells": [
  {
   "cell_type": "code",
   "execution_count": 562,
   "id": "5835b60a",
   "metadata": {
    "cell_id": "2202d17e3cb44d518ee69ceeb9f6a456",
    "deepnote_cell_type": "code",
    "deepnote_to_be_reexecuted": false,
    "execution_millis": 1706,
    "execution_start": 1675097148664,
    "source_hash": "80862252",
    "tags": []
   },
   "outputs": [],
   "source": [
    "import numpy as np\n",
    "import matplotlib.pyplot as plt\n",
    "import matplotlib.animation as animation\n",
    "\n",
    "from scipy.optimize import newton, root\n",
    "from scipy.interpolate import interp1d\n",
    "from scipy.integrate import solve_bvp, solve_ivp\n",
    "\n",
    "from scipy import integrate\n",
    "from scipy.stats import linregress\n",
    "import pandas as pd\n",
    "plt.style.use('bmh')"
   ]
  },
  {
   "cell_type": "code",
   "execution_count": 8,
   "id": "d58edd0a",
   "metadata": {},
   "outputs": [],
   "source": [
    "# Obtiene gif de la solución\n",
    "def get_animation(Q, x, U, Nt, title, titles, path):\n",
    "    \n",
    "    # Crea figura\n",
    "    fig, axs = plt.subplots(1, 3, figsize=(10, 5))\n",
    "    ax1, ax2, ax3 = axs\n",
    "    \n",
    "    # Parámetros\n",
    "    plt.xlabel(r'$x$')\n",
    "    plt.ylabel(r'$Q(t, x)$')\n",
    "    ax1.set_title(titles[0])\n",
    "    ax2.set_title(title[1])\n",
    "    \n",
    "    fig.suptitle(title)\n",
    "    \n",
    "    ax1.set_ylim(-0.1, 0.8)\n",
    "    ax2.set_ylim(-1, 60)\n",
    "    ax3.set_ylim(-10, 20)\n",
    "    \n",
    "    ax1.set_xlabel(\"x\")\n",
    "    ax2.set_xlabel(\"x\")\n",
    "    ax3.set_ylabel(\"x\")\n",
    "    \n",
    "    # Valores iniciales\n",
    "    rho_0 = Q[0][0]\n",
    "    y_0 = Q[0][1]\n",
    "    u_0 = u(rho_0, y_0, U)\n",
    "    U_eq_0 = U(rho_0)\n",
    "\n",
    "    # Lineas iniciales\n",
    "    line1, = ax1.plot(x, rho_0, '-', color='r', linewidth=2)\n",
    "    line2, = ax2.plot(x, u_0, '-', color='b', linewidth=2, label=r\"u\")\n",
    "    line3, = ax3.plot(x, U_eq_0, '-', color='g', linewidth=2)\n",
    "    \n",
    "    plt.legend()\n",
    "\n",
    "    def animate(n):\n",
    "        \n",
    "        # Instante n\n",
    "        rho = Q[n][0]\n",
    "        y = Q[n][1]\n",
    "        u_ = u(rho, y, U)\n",
    "        U_eq = U(rho)\n",
    "        \n",
    "        # Actualiza gráfico\n",
    "        line1.set_ydata(rho)\n",
    "        line2.set_ydata(u_)\n",
    "        line3.set_ydata(U_eq)\n",
    "\n",
    "        ax1.set_title(titles[0])\n",
    "        ax2.set_title(titles[1])\n",
    "        ax3.set_title(titles[2])\n",
    "        \n",
    "        return [line1, line2, line3]\n",
    "\n",
    "    ani = animation.FuncAnimation(fig, animate, np.arange(0, Nt, 3),\n",
    "                                interval=50, blit=True)\n",
    "\n",
    "    ani.save(path)"
   ]
  },
  {
   "cell_type": "markdown",
   "id": "f846dfec",
   "metadata": {
    "cell_id": "fbee1f2a28e74ad69dea173545fdd571",
    "deepnote_cell_type": "code",
    "tags": []
   },
   "source": [
    "# Aplicación a ecuación ARZ"
   ]
  },
  {
   "cell_type": "markdown",
   "id": "553ee561",
   "metadata": {},
   "source": [
    "Se toma el modelo ARZ no homogeneo, que considera conservación de masa y del campo de velocidades shifteado. Las ecuaciones corresponden a\n",
    "$$\n",
    "\\begin{align*}\n",
    "\\rho_t + (\\rho u)_x &= 0\\\\\n",
    "(u - U(\\rho))_t + u(u-U(\\rho))_x &= \\frac{(U(\\rho) - u)}{\\tau}\n",
    "\\end{align*}\n",
    "$$\n",
    "\n",
    "donde $\\rho = \\rho(x, t)$ corresponde a la densidad vehicular, $u=u(x, t)$ al campo de velocidades y $U(\\rho)$ velocidad de equilibrio. Consideraremos $U(\\rho) = u_{\\text{max}}(1-\\rho^\\gamma)$ con $\\gamma \\in (0, 1)$. En particular, se usarán $u_{\\text{max}}=20$ y $\\gamma=1/2$.\n",
    "\n",
    "Definiendo $y(\\rho, u)= \\rho(u-U(\\rho))$ y sumando ambas ecuaciones, podemos escribir el sistema en su forma conservativa:\n",
    "$$\n",
    " \\textbf{Q}_t + F( \\textbf{Q})_x = \\textbf{S}(y, \\rho)\n",
    "$$\n",
    "donde $ \\textbf{Q} = \\begin{pmatrix} \\rho \\\\ y \\end{pmatrix}$, $F(\\textbf{Q}) = \\begin{pmatrix} \\rho u\\\\ yu\\end{pmatrix}$ y $ \\textbf{S}(y, u) = \\begin{pmatrix} 0 \\\\ -\\frac{y}{\\rho} \\end{pmatrix}$. De esta forma se puede utilizar cualquier esquema de volúmenes finitos que se haya visto. En este caso, se usará el esquema de Godunov, que pide resolver el problema de Riemann asociado al modelo. Este se resolverá analiticamente y se programará separando en casos.\n",
    "\n",
    "Una opción a manejar es resolver el problema de Riemann usando solvers aproximadores, pues se puede complejizar más si se resuelve el problema de Riemann no homogeneo. Se puede también resolver analíticamente pero resulta en un mayor coste computacional."
   ]
  },
  {
   "cell_type": "markdown",
   "id": "1334af45",
   "metadata": {},
   "source": [
    "## Funciones del modelo"
   ]
  },
  {
   "cell_type": "code",
   "execution_count": 551,
   "id": "f671d110",
   "metadata": {},
   "outputs": [],
   "source": [
    "beta = 8\n",
    "gamma = 1/2\n",
    "u_max = 20\n",
    "rho_max = 1/7.5\n",
    "c = 0.078 * u_max * rho_max\n",
    "b = 1/3\n",
    "l = 1/10\n",
    "\n",
    "# Define u en función de rho e y\n",
    "def u(rho, y, h):\n",
    "    output = y/rho - h(rho)\n",
    "    return output\n",
    "\n",
    "\n",
    "# Define y en función de rho y u\n",
    "def y_u(rho, u, h):\n",
    "    output = rho*(u + h(rho))\n",
    "    return output\n",
    "\n",
    "\n",
    "# Flujo del modelo\n",
    "def flux(Q, h):\n",
    "    \n",
    "    # Rescata variables\n",
    "    rho, y = Q\n",
    "\n",
    "    return np.array([y-rho*h(rho), (y**2)/rho - h(rho)*y]) #np.array([rho * u_, y * u_])\n",
    "\n",
    "\n",
    "# Flujo con HLL\n",
    "def F_HLL(Q, N, U, h):\n",
    "\n",
    "    # Guarda flujo en un arreglo\n",
    "    F_ = np.zeros(Q.shape)\n",
    "\n",
    "    for i in range(1, N-1):\n",
    "\n",
    "        # Rescata actual y vecinos\n",
    "        Q_left = Q[:, i-1]\n",
    "        Q_i = Q[:, i]\n",
    "        Q_right = Q[:, i+1]\n",
    "\n",
    "        # Evalúa en el flujo HLL\n",
    "        F_[:, i] = flux_HLL(Q_i, Q_right, h) - flux_HLL(Q_left, Q_i, h)\n",
    "\n",
    "    # Asume condiciones de borde periódicas\n",
    "    Q_0 = Q[:, 0]\n",
    "    Q_1 = Q[:, 1]\n",
    "    Q_ult = Q[:, -1]\n",
    "    Q_pen = Q[:, -2]\n",
    "\n",
    "    F_[:, 0] = flux_HLL(Q_0, Q_1, h) - flux_HLL(Q_pen, Q_ult, h)\n",
    "\n",
    "    return F_\n",
    "\n",
    "\n",
    "# Funciones del modelo\n",
    "# Función de duda\n",
    "def h(rho):\n",
    "    if type(rho) is float or type(rho) is np.float64:\n",
    "        rho = np.array(rho)\n",
    "\n",
    "    return beta*(rho/(rho_max-rho))**gamma\n",
    "\n",
    "\n",
    "# Integral de densidad\n",
    "def density_integral(x, dx, N_t, Q):\n",
    "    integral_graph = []\n",
    "    for n in range(N_t):\n",
    "    \n",
    "        density = Q[n, 0, :]\n",
    "        integral = integrate.simpson(density, x, dx)\n",
    "        integral_graph += [integral]\n",
    "    \n",
    "    plt.plot(integral_graph)\n",
    "    plt.show()\n",
    "\n",
    "\n",
    "def h_prime(rho):\n",
    "    output =  beta * gamma * (rho /(rho_max - rho))**(gamma-1) * rho_max / ((rho_max - rho)**2)\n",
    "    return output\n",
    "\n",
    "\n",
    "# Función g\n",
    "def g(y):\n",
    "    output = np.sqrt(1 + ((y-b)/l)**2)\n",
    "    return output\n",
    "\n",
    "\n",
    "# Diagrama fundamental\n",
    "def Q_e(rho):\n",
    "    output = c * (g(0) + (((g(1) - g(0)) * rho/rho_max)) - g(rho/rho_max))\n",
    "    return output\n",
    "\n",
    "\n",
    "# Derivada de g\n",
    "def g_prime(y):\n",
    "    output = (1/l**2) * ((y-b)/ np.sqrt(1 + ((y-b)/l)**2)) \n",
    "    return output\n",
    "\n",
    "\n",
    "# Derivada de Q\n",
    "def Q_prime(rho):\n",
    "    output = c * (((g(1) - g(0))/rho_max) - (g_prime(rho/rho_max)/rho_max))\n",
    "    return output\n",
    "\n",
    "\n",
    "# Velocidad de equilibrio\n",
    "def U(rho):\n",
    "    output = Q_e(rho)/(np.sqrt((rho**2 + 1e-5**2)))\n",
    "    return output\n",
    "\n",
    "\n",
    "# Derivada de la velocidad de equilibrio\n",
    "def U_prime(rho):\n",
    "    output = (Q_prime(rho) - U(rho))/np.sqrt((rho**2 + 1e-5**2))\n",
    "    return output\n",
    "\n",
    "\n",
    "# Inversa de U\n",
    "def U_inv_points(z):\n",
    "    z = float(z)\n",
    "    U_to_inv = lambda x: U(x)-z\n",
    "\n",
    "    rho = np.real(newton(U_to_inv, 0.5*rho_max))\n",
    "    return rho\n",
    "\n",
    "zs_U = np.linspace(u_max, 0, 50)\n",
    "U_inv_to_poly = [U_inv_points(z) for z in zs_U]\n",
    "\n",
    "U_inv = interp1d(zs_U, U_inv_to_poly)\n",
    "\n",
    "\n",
    "# Inversa de la derivada de Q\n",
    "def Q_p_inv_points(z):\n",
    "    z = float(z)\n",
    "    Q_to_inv = lambda x: Q_prime(x)-z\n",
    "    \n",
    "    rho = np.real(newton(Q_to_inv, 0.3*rho_max))\n",
    "    return rho\n",
    "\n",
    "zs_Q = np.linspace(-2, u_max, 50)\n",
    "Q_p_inv_to_poly = [Q_p_inv_points(z) for z in zs_Q]\n",
    "\n",
    "Q_p_inv = interp1d(zs_Q, Q_p_inv_to_poly)\n",
    "\n",
    "\n",
    "# Solver HLL para riemann\n",
    "def flux_HLL(Q_l, Q_r, h):\n",
    "    # Rescata variables a la izquierda\n",
    "    rho_l, y_l = Q_l\n",
    "\n",
    "    # Rescata variables a la derecha\n",
    "    rho_r, y_r = Q_r\n",
    "\n",
    "    # Obtiene velocidades\n",
    "    u_l = u(rho_l, y_l, h)\n",
    "    u_r = u(rho_r, y_r, h)\n",
    "\n",
    "    l_1_l = u_r - rho_r * h_prime(rho_r)\n",
    "    l_1_r = u_l - rho_l * h_prime(rho_l)\n",
    "    l_2_l = u_l\n",
    "    l_2_r = u_r\n",
    "\n",
    "    s_l = np.min([l_1_l, l_1_r])\n",
    "    s_r = np.max([l_2_l, l_2_r])\n",
    "\n",
    "    s_R_plus = np.max([s_r, 0])\n",
    "    s_l_minus = np.min([s_l, 0])\n",
    "\n",
    "    F_l = flux(Q_l, h)\n",
    "    F_r = flux(Q_r, h)\n",
    "\n",
    "    F_hat = (s_R_plus * F_l - s_l_minus * F_r + s_l_minus * s_R_plus * (Q_r - Q_l))/(s_R_plus - s_l_minus)\n",
    "    return F_hat\n",
    "\n",
    "\n",
    "# Obtiene velocidad de onda máxima\n",
    "def get_s_max():\n",
    "    rho_s_zero = newton(lambda rho: U_prime(rho) + h_prime(rho), 0.2*rho_max)\n",
    "    v_s_zero = 1/rho_s_zero\n",
    "    m_max = -h_bar_prime(v_s_zero)\n",
    "    s_max = U_bar(v_s_zero) - m_max * v_s_zero\n",
    "    return s_max\n",
    "\n",
    "\n",
    "# Condición CFL\n",
    "def cfl(dx):\n",
    "    s_max = get_s_max()\n",
    "\n",
    "    # Podría dar problemas\n",
    "    new_dt = dx/(s_max) #dx/(2*u_max) #dx/(2*(u_max + np.max([-Q_prime(rho_max), I_plus]))) #\n",
    "\n",
    "    return new_dt\n"
   ]
  },
  {
   "cell_type": "code",
   "execution_count": 387,
   "id": "0a0c8ec2",
   "metadata": {},
   "outputs": [],
   "source": [
    "############################### Variables lagrangeanas #########################################\n",
    "\n",
    "# Funciones del modelo\n",
    "def h_bar(v):\n",
    "    return h(1/v)\n",
    "\n",
    "\n",
    "def h_bar_prime(v):\n",
    "    output = -h_prime(1/v)/v**2 \n",
    "    return output\n",
    "\n",
    "\n",
    "def U_bar(v):\n",
    "    return U(1/v)\n",
    "\n",
    "\n",
    "def w_v(v, m, s):\n",
    "    output = U_bar(v) - (m * v + s)\n",
    "    return output\n",
    "\n",
    "\n",
    "def r(v, m):\n",
    "    output = m * h_bar(v) + m**2 * v\n",
    "    return output\n",
    "\n",
    "\n",
    "def r_prime(v, m):\n",
    "    output = m * h_bar_prime(v) + m**2\n",
    "    return output\n",
    "\n",
    "\n",
    "def ode_jam_v(x, v, tau, m, s):\n",
    "    output = w_v(v, m, s)/(r_prime(v, m) * v * tau)\n",
    "    return output\n",
    "\n",
    "\n",
    "def ode_jam_v_eta(eta, v, m, s):\n",
    "    output = w_v(v, m, s)/(r_prime(v, m) * v)\n",
    "    return output"
   ]
  },
  {
   "cell_type": "markdown",
   "id": "a42859c0",
   "metadata": {},
   "source": [
    "## Resuelve el problema de Riemann"
   ]
  },
  {
   "cell_type": "code",
   "execution_count": 510,
   "id": "37cbfee0",
   "metadata": {},
   "outputs": [],
   "source": [
    "# Implementa Godunov\n",
    "def godunov_ARZ(Q_0, N, x, U, h, tau, T):\n",
    "    \n",
    "    # Largo de la grilla\n",
    "    L = x[-1] - x[0]\n",
    "\n",
    "    # salto espacial\n",
    "    dx = L/N\n",
    "    \n",
    "    \n",
    "    # Guarda soluciones\n",
    "    # Condición inicial\n",
    "    \n",
    "    Q = np.zeros([1, 2, N])\n",
    "    Q[0][0] = Q_0[0]\n",
    "    Q[0][1] = Q_0[1]\n",
    "    \n",
    "    # Actualiza segun condicion CFL\n",
    "    dt = cfl(dx)\n",
    "    #dt = 0\n",
    "    t = 0\n",
    "    n = 0\n",
    "    t_list = [t]\n",
    "    \n",
    "    while t < T:\n",
    "        \n",
    "        l = dt/dx\n",
    "        \n",
    "        # Paso de Godunov\n",
    "        Q_sig = Q[n] - l * F_HLL(Q[n], N, U, h)\n",
    "        \n",
    "        # Agrega no homogeneidad\n",
    "        rho_sig, y_sig = Q_sig\n",
    "        \n",
    "        # Resuelve termino de relajación\n",
    "        alpha = dt/tau\n",
    "\n",
    "        # Implícito\n",
    "        y_sig_ = (alpha/(1+alpha)) * rho_sig * (U(rho_sig) + h(rho_sig)) + (1/(1+alpha)) * y_sig\n",
    "        Q_sig[1] = y_sig_\n",
    "        \n",
    "        # Condiciones de borde Periodica\n",
    "        Q_sig[:, -1] = Q_sig[:, 0]\n",
    "        \n",
    "        # Guarda paso\n",
    "        Q_sig = np.reshape(Q_sig, (1, Q_sig.shape[0], Q_sig.shape[1]))\n",
    "        Q = np.append(Q, Q_sig, axis=0)\n",
    "\n",
    "        # Actualiza indice y tiempo\n",
    "        n += 1\n",
    "        t += dt\n",
    "        t_list += [t]\n",
    "        \n",
    "    return x, dt, t_list, Q"
   ]
  },
  {
   "cell_type": "markdown",
   "id": "47ab516a",
   "metadata": {},
   "source": [
    "## Generador de jamitones"
   ]
  },
  {
   "cell_type": "code",
   "execution_count": 389,
   "id": "8e05db8a",
   "metadata": {},
   "outputs": [],
   "source": [
    "# Resuelve EDO con respecto a x\n",
    "def ODE_jam_solve(t_f, v_R, tau, m, s):\n",
    "    # Resuelve EDO\n",
    "    sol_v = solve_ivp(ode_jam_v, (0, t_f), [v_R], t_eval=np.linspace(0, t_f, 10_000), args=[tau, m, s], dense_output=True)\n",
    "    return sol_v\n",
    "\n",
    "# Resuelve EDO con respecto a eta\n",
    "def ODE_jam_solve_eta(eta_f, v_R, m, s):\n",
    "    # Resuelve EDO\n",
    "    sol_v = solve_ivp(ode_jam_v_eta, (0, eta_f), [v_R], t_eval=np.linspace(0, eta_f, 10_000), args=[m, s], dense_output=True)\n",
    "    return sol_v"
   ]
  },
  {
   "cell_type": "code",
   "execution_count": 390,
   "id": "b20efa60",
   "metadata": {},
   "outputs": [],
   "source": [
    "# Encuentra xs importantes\n",
    "def find_xs(sol_v, values_v, rho_s, x_init=None):\n",
    "\n",
    "    # Rescata valores de v\n",
    "    v_s = values_v[\"v_s\"]\n",
    "    v_minus = values_v[\"v_minus\"]\n",
    "    v_plus = values_v[\"v_plus\"]\n",
    "    \n",
    "    if x_init is None:\n",
    "        if 0.24 < rho_s < 0.4:\n",
    "            x_init = 0\n",
    "\n",
    "        if 0.4 <= rho_s < 0.6:\n",
    "            x_init = 90\n",
    "\n",
    "        else:\n",
    "            x_init = 250\n",
    "\n",
    "    # Calcula cada x\n",
    "    x_minus = newton(lambda v: sol_v.sol(v)[0] - v_minus, x_init)\n",
    "    x_plus = newton(lambda v: sol_v.sol(v)[0] - v_plus, 0)\n",
    "    x_s = newton(lambda v: sol_v.sol(v)[0] - v_s, 0)\n",
    "    x_to_plot = sol_v.t\n",
    "    x_to_per = np.linspace(x_minus, sol_v.t[-1], 500)\n",
    "\n",
    "    return x_to_plot, x_minus, x_plus, x_s, x_to_per\n",
    "\n",
    "\n",
    "# Genera jamitones\n",
    "def jam_gen(v_s, t_f, tau, v_minus):\n",
    "\n",
    "    values_v = {}\n",
    "    values_rho = {}\n",
    "    values_u = {}\n",
    "\n",
    "    # Parámetros del jamiton\n",
    "    m = -h_bar_prime(v_s)\n",
    "    s = U_bar(v_s) - m * v_s\n",
    "\n",
    "    # Imprime parámetros\n",
    "    #print(\"Velocidad jamiton: \", s)\n",
    "    #print(\"m= \", m)\n",
    "\n",
    "    # Existencia jamiton\n",
    "    jam_exs = U_prime(v_to_rho(v_s)) + h_prime(v_to_rho(v_s)) < 0\n",
    "    if not jam_exs:\n",
    "        print(\"No existe jamiton, pruebe otro valor de rho_s\")\n",
    "        return None\n",
    "\n",
    "    # Jamiton maximal\n",
    "    v_M = newton(lambda v: w_v(v, m, s), 40)\n",
    "    v_R = newton(lambda v: r(v, m) - r(v_M, m), 10)\n",
    "\n",
    "    # Jamiton actual\n",
    "    #v_minus = float(input(\"Escoja v_min (entre {vs} y {vM}): \".format(vs =round(v_s, 3), vM=round(v_M, 3))))\n",
    "    v_plus = newton(lambda v: r(v, m) - r(v_minus, m), 8)\n",
    "\n",
    "    # Guarda valores de v\n",
    "    values_v[\"v_s\"] = v_s\n",
    "    values_v[\"v_M\"] = v_M\n",
    "    values_v[\"v_R\"] = v_R\n",
    "    values_v[\"v_minus\"] = v_minus\n",
    "    values_v[\"v_plus\"] = v_plus\n",
    "\n",
    "    # Guarda valores de rho\n",
    "    values_rho[\"rho_s\"] = v_to_rho(v_s)\n",
    "    values_rho[\"rho_M\"] = v_to_rho(v_M)\n",
    "    values_rho[\"rho_R\"] = v_to_rho(v_R)\n",
    "    values_rho[\"rho_minus\"] = v_to_rho(v_minus)\n",
    "    values_rho[\"rho_plus\"] = v_to_rho(v_plus)\n",
    "\n",
    "    # Guarda valores de u\n",
    "    values_u[\"u_s\"] = rho_to_u(values_rho[\"rho_s\"], m, s)\n",
    "    values_u[\"u_M\"] = rho_to_u(values_rho[\"rho_M\"], m, s)\n",
    "    values_u[\"u_R\"] = rho_to_u(values_rho[\"rho_R\"], m, s)\n",
    "    values_u[\"u_minus\"] = rho_to_u(values_rho[\"rho_minus\"], m, s)\n",
    "    values_u[\"u_plus\"] = rho_to_u(values_rho[\"rho_plus\"], m, s)\n",
    "\n",
    "    # Solucion EDO\n",
    "    sol_v = ODE_jam_solve(t_f, v_R, tau, m, s)\n",
    "    sol_rho = lambda x: v_to_rho(sol_v.sol(x)[0])\n",
    "    sol_u = lambda x: rho_to_u(sol_rho(x), m, s)\n",
    "\n",
    "    return values_v, values_rho, values_u, sol_v, sol_rho, sol_u, m, s\n",
    "\n",
    "# Transforma v a rho\n",
    "def v_to_rho(v):\n",
    "    rho = 1/v\n",
    "    return rho\n",
    "\n",
    "# Transforma rho a u\n",
    "def rho_to_u(rho, m, s):\n",
    "    u = (m/rho) + s\n",
    "    return u\n",
    "\n",
    "# Inicia programa\n",
    "def init_program(tau, rho_s, v_minus, x_init=None):\n",
    "    v_f = 100\n",
    "    t_f = 6000\n",
    "\n",
    "    # Elección valores sónicos\n",
    "    rho_s *= rho_max\n",
    "    v_s = 1/rho_s # Se necesita rho_s normalizado\n",
    "\n",
    "    # Genera jamitones\n",
    "    values_v, values_rho, values_u, sol_v, sol_rho, sol_u, m, s = jam_gen(v_s, t_f, tau, v_minus)\n",
    "\n",
    "    # Resuelve para eta\n",
    "    sol_v_eta = ODE_jam_solve_eta(t_f, values_v[\"v_R\"], m, s)\n",
    "    sol_rho_eta = lambda eta: v_to_rho(sol_v_eta.sol(eta)[0])\n",
    "    sol_u_eta = lambda eta: rho_to_u(sol_rho_eta(eta), m, s)\n",
    "\n",
    "    # Rescata x's\n",
    "    xs = find_xs(sol_v, values_v, rho_s, x_init)\n",
    "    x_minus = xs[1]\n",
    "    x_plus = xs[2]\n",
    "\n",
    "    # Arreglo con jamiton\n",
    "    x_jam = np.linspace(x_plus, x_minus, 100)\n",
    "    return x_minus, x_plus, sol_rho, sol_u, sol_rho_eta, sol_u_eta, s"
   ]
  },
  {
   "cell_type": "markdown",
   "id": "69777d64",
   "metadata": {},
   "source": [
    "## Condiciones iniciales"
   ]
  },
  {
   "cell_type": "code",
   "execution_count": 391,
   "id": "dfc7f0a6",
   "metadata": {},
   "outputs": [],
   "source": [
    "# Condición inicial jamiton\n",
    "def Q_0_jam(h, N, tau, rho_s, v_minus, x_init=None):\n",
    "\n",
    "    x_minus, x_plus, sol_rho, sol_u, sol_rho_eta, sol_u_eta, s = init_program(tau, rho_s, v_minus, x_init)\n",
    "    L = np.fabs(x_minus-x_plus)\n",
    "\n",
    "    #print(\"x_+: \", x_plus)\n",
    "    #print(\"x_-: \", x_minus)\n",
    "    #print(\"Largo del intervalo: \", L)\n",
    "    dx = L/N  \n",
    "    x_to_plot = np.arange(0, L, dx)\n",
    "\n",
    "    def rho_per(x):\n",
    "        interval = x_minus - x_plus\n",
    "        x_per = (x - x_plus) % interval + x_plus\n",
    "        return sol_rho(x_per)\n",
    "\n",
    "    def u_per(x):\n",
    "        interval = x_minus - x_plus\n",
    "        x_per = (x - x_minus) % interval + x_plus\n",
    "        return sol_u(x_per)\n",
    "    \n",
    "    rho_0 = rho_per(x_to_plot)\n",
    "    u_0 = u_per(x_to_plot)\n",
    "    y_0 = rho_0 * (u_0 + h(rho_0))\n",
    "\n",
    "    Q_0_ = np.zeros([2, N])\n",
    "    Q_0_[0] = rho_0\n",
    "    Q_0_[1] = y_0\n",
    "\n",
    "    def teo_rho(x, t, s=s):\n",
    "        eta_minus = x_minus / tau\n",
    "        eta_plus = x_plus / tau\n",
    "        eta = (x - s*t)/tau\n",
    "        interval = eta_minus - eta_plus\n",
    "        eta_per = (eta - eta_plus) % interval + eta_plus\n",
    "\n",
    "        return sol_rho_eta(eta_per)\n",
    "\n",
    "    def teo_u(x, t, s=s):\n",
    "        eta_minus = x_minus / tau\n",
    "        eta_plus = x_plus / tau\n",
    "        eta = (x - s*t)/tau\n",
    "        interval = eta_minus - eta_plus\n",
    "        eta_per = (eta - eta_plus) % interval + eta_plus\n",
    "\n",
    "        return sol_u_eta(eta_per)\n",
    "\n",
    "    return Q_0_, x_to_plot, teo_rho, teo_u"
   ]
  },
  {
   "cell_type": "code",
   "execution_count": 392,
   "id": "583d05ab",
   "metadata": {},
   "outputs": [],
   "source": [
    "def error_L1(x, t, dt, Q, rho_teo, u_teo):\n",
    "    i = int(t//dt)\n",
    "    error_rho = np.linalg.norm(Q[i][0] - rho_teo(x, t), ord=1)\n",
    "    u_sim = u(Q[i][0], Q[i][1], h)\n",
    "    u_teo_error = u_teo(x, t)\n",
    "    error_u = np.linalg.norm(u_sim - u_teo_error, ord=1)\n",
    "    \n",
    "    norm_teo_rho = np.linalg.norm(rho_teo(x, t), ord=1)\n",
    "    norm_teo_u = np.linalg.norm(u_teo_error, ord=1)\n",
    "    \n",
    "    return 100 * error_rho/norm_teo_rho, 100 * error_u/norm_teo_u"
   ]
  },
  {
   "cell_type": "code",
   "execution_count": 393,
   "id": "c2597cc2",
   "metadata": {},
   "outputs": [],
   "source": [
    "def obtiene_errores(T, tau, rho_s, v_minus, x_init=None):\n",
    "    Ns = [10*(2**k) for k in range(1, 9)]\n",
    "\n",
    "    errores_rho = []\n",
    "    errores_u = []\n",
    "\n",
    "    for N in Ns:\n",
    "        Q_0_, x_to_plot, teo_rho, teo_u = Q_0_jam(h, N, tau, rho_s, v_minus, x_init)\n",
    "        x, dt, t, Q = godunov_ARZ(Q_0_, N, x_to_plot, U, h, tau, T)\n",
    "        error_rho, error_u = error_L1(x, T, dt, Q, teo_rho, teo_u)\n",
    "\n",
    "        errores_rho += [error_rho]\n",
    "        errores_u += [error_u]\n",
    "        \n",
    "    return errores_rho, errores_u, Ns"
   ]
  },
  {
   "cell_type": "code",
   "execution_count": 345,
   "id": "a080f0c7",
   "metadata": {},
   "outputs": [
    {
     "data": {
      "image/png": "[encoded data removed]",
      "text/plain": [
       "<Figure size 432x288 with 1 Axes>"
      ]
     },
     "metadata": {
      "needs_background": "light"
     },
     "output_type": "display_data"
    },
    {
     "data": {
      "text/html": [
       "<div>\n",
       "<style scoped>\n",
       "    .dataframe tbody tr th:only-of-type {\n",
       "        vertical-align: middle;\n",
       "    }\n",
       "\n",
       "    .dataframe tbody tr th {\n",
       "        vertical-align: top;\n",
       "    }\n",
       "\n",
       "    .dataframe thead th {\n",
       "        text-align: right;\n",
       "    }\n",
       "</style>\n",
       "<table border=\"1\" class=\"dataframe\">\n",
       "  <thead>\n",
       "    <tr style=\"text-align: right;\">\n",
       "      <th></th>\n",
       "      <th>N</th>\n",
       "      <th>Error rho</th>\n",
       "      <th>Error u</th>\n",
       "    </tr>\n",
       "  </thead>\n",
       "  <tbody>\n",
       "    <tr>\n",
       "      <th>0</th>\n",
       "      <td>20</td>\n",
       "      <td>3.722101</td>\n",
       "      <td>4.074789</td>\n",
       "    </tr>\n",
       "    <tr>\n",
       "      <th>1</th>\n",
       "      <td>40</td>\n",
       "      <td>1.416319</td>\n",
       "      <td>1.654734</td>\n",
       "    </tr>\n",
       "    <tr>\n",
       "      <th>2</th>\n",
       "      <td>80</td>\n",
       "      <td>0.721849</td>\n",
       "      <td>0.774598</td>\n",
       "    </tr>\n",
       "    <tr>\n",
       "      <th>3</th>\n",
       "      <td>160</td>\n",
       "      <td>0.445195</td>\n",
       "      <td>0.425928</td>\n",
       "    </tr>\n",
       "    <tr>\n",
       "      <th>4</th>\n",
       "      <td>320</td>\n",
       "      <td>0.187858</td>\n",
       "      <td>0.255025</td>\n",
       "    </tr>\n",
       "    <tr>\n",
       "      <th>5</th>\n",
       "      <td>640</td>\n",
       "      <td>0.112991</td>\n",
       "      <td>0.165106</td>\n",
       "    </tr>\n",
       "    <tr>\n",
       "      <th>6</th>\n",
       "      <td>1280</td>\n",
       "      <td>0.087909</td>\n",
       "      <td>0.098504</td>\n",
       "    </tr>\n",
       "    <tr>\n",
       "      <th>7</th>\n",
       "      <td>2560</td>\n",
       "      <td>0.073802</td>\n",
       "      <td>0.080484</td>\n",
       "    </tr>\n",
       "  </tbody>\n",
       "</table>\n",
       "</div>"
      ],
      "text/plain": [
       "      N  Error rho   Error u\n",
       "0    20   3.722101  4.074789\n",
       "1    40   1.416319  1.654734\n",
       "2    80   0.721849  0.774598\n",
       "3   160   0.445195  0.425928\n",
       "4   320   0.187858  0.255025\n",
       "5   640   0.112991  0.165106\n",
       "6  1280   0.087909  0.098504\n",
       "7  2560   0.073802  0.080484"
      ]
     },
     "execution_count": 345,
     "metadata": {},
     "output_type": "execute_result"
    }
   ],
   "source": [
    "# Primera tanda de errores\n",
    "\n",
    "rho_s = 0.55\n",
    "v_minus = 25\n",
    "\n",
    "tau_1 = 5\n",
    "T_1 = 0.5\n",
    "\n",
    "errores_rho_1, errores_u_1, Ns = obtiene_errores(T_1, tau_1, rho_s, v_minus)\n",
    "\n",
    "errores_dic_1 = {\"N\": Ns, \"Error rho\": errores_rho_1, \"Error u\": errores_u_1}\n",
    "errores_df_1 = pd.DataFrame(data=errores_dic_1)\n",
    "\n",
    "plt.plot(Ns, errores_rho_1, label=\"Error densidad\")\n",
    "plt.plot(Ns, errores_u_1, label=\"Error velocidad\")\n",
    "\n",
    "plt.xlabel(\"N\")\n",
    "plt.ylabel(\"Error\")\n",
    "plt.title(r\"Error relativo en t={T} y $\\tau={tau}$\".format(T=T_1, tau=tau_1))\n",
    "plt.legend()\n",
    "\n",
    "plt.savefig(\"Charts/Errores/Error_1.png\")\n",
    "plt.show()\n",
    "\n",
    "errores_df_1"
   ]
  },
  {
   "cell_type": "code",
   "execution_count": 346,
   "id": "454aae9a",
   "metadata": {},
   "outputs": [
    {
     "data": {
      "image/png": "[encoded data removed]",
      "text/plain": [
       "<Figure size 432x288 with 1 Axes>"
      ]
     },
     "metadata": {
      "needs_background": "light"
     },
     "output_type": "display_data"
    },
    {
     "data": {
      "text/html": [
       "<div>\n",
       "<style scoped>\n",
       "    .dataframe tbody tr th:only-of-type {\n",
       "        vertical-align: middle;\n",
       "    }\n",
       "\n",
       "    .dataframe tbody tr th {\n",
       "        vertical-align: top;\n",
       "    }\n",
       "\n",
       "    .dataframe thead th {\n",
       "        text-align: right;\n",
       "    }\n",
       "</style>\n",
       "<table border=\"1\" class=\"dataframe\">\n",
       "  <thead>\n",
       "    <tr style=\"text-align: right;\">\n",
       "      <th></th>\n",
       "      <th>N</th>\n",
       "      <th>Error rho</th>\n",
       "      <th>Error u</th>\n",
       "    </tr>\n",
       "  </thead>\n",
       "  <tbody>\n",
       "    <tr>\n",
       "      <th>0</th>\n",
       "      <td>20</td>\n",
       "      <td>3.200138</td>\n",
       "      <td>3.424655</td>\n",
       "    </tr>\n",
       "    <tr>\n",
       "      <th>1</th>\n",
       "      <td>40</td>\n",
       "      <td>1.870210</td>\n",
       "      <td>1.847284</td>\n",
       "    </tr>\n",
       "    <tr>\n",
       "      <th>2</th>\n",
       "      <td>80</td>\n",
       "      <td>1.365612</td>\n",
       "      <td>1.193581</td>\n",
       "    </tr>\n",
       "    <tr>\n",
       "      <th>3</th>\n",
       "      <td>160</td>\n",
       "      <td>0.639944</td>\n",
       "      <td>0.560751</td>\n",
       "    </tr>\n",
       "    <tr>\n",
       "      <th>4</th>\n",
       "      <td>320</td>\n",
       "      <td>0.273005</td>\n",
       "      <td>0.264921</td>\n",
       "    </tr>\n",
       "    <tr>\n",
       "      <th>5</th>\n",
       "      <td>640</td>\n",
       "      <td>0.129808</td>\n",
       "      <td>0.173783</td>\n",
       "    </tr>\n",
       "    <tr>\n",
       "      <th>6</th>\n",
       "      <td>1280</td>\n",
       "      <td>0.098055</td>\n",
       "      <td>0.131782</td>\n",
       "    </tr>\n",
       "    <tr>\n",
       "      <th>7</th>\n",
       "      <td>2560</td>\n",
       "      <td>0.065941</td>\n",
       "      <td>0.083441</td>\n",
       "    </tr>\n",
       "  </tbody>\n",
       "</table>\n",
       "</div>"
      ],
      "text/plain": [
       "      N  Error rho   Error u\n",
       "0    20   3.200138  3.424655\n",
       "1    40   1.870210  1.847284\n",
       "2    80   1.365612  1.193581\n",
       "3   160   0.639944  0.560751\n",
       "4   320   0.273005  0.264921\n",
       "5   640   0.129808  0.173783\n",
       "6  1280   0.098055  0.131782\n",
       "7  2560   0.065941  0.083441"
      ]
     },
     "execution_count": 346,
     "metadata": {},
     "output_type": "execute_result"
    }
   ],
   "source": [
    "# Segunda tanda de errores\n",
    "\n",
    "rho_s = 0.55\n",
    "v_minus = 25\n",
    "\n",
    "tau_1 = 5\n",
    "T_2 = 2\n",
    "\n",
    "errores_rho_2, errores_u_2, Ns = obtiene_errores(T_2, tau_1, rho_s, v_minus)\n",
    "\n",
    "errores_dic_2 = {\"N\": Ns, \"Error rho\": errores_rho_2, \"Error u\": errores_u_2}\n",
    "errores_df_2 = pd.DataFrame(data=errores_dic_2)\n",
    "\n",
    "plt.plot(Ns, errores_rho_2, label=\"Error densidad\")\n",
    "plt.plot(Ns, errores_u_2, label=\"Error velocidad\")\n",
    "\n",
    "plt.xlabel(\"N\")\n",
    "plt.ylabel(\"Error\")\n",
    "plt.title(r\"Error relativo en t={T} y $\\tau={tau}$\".format(T=T_2, tau=tau_1))\n",
    "plt.legend()\n",
    "\n",
    "plt.savefig(\"Charts/Errores/Error_2.png\")\n",
    "plt.show()\n",
    "\n",
    "errores_df_2"
   ]
  },
  {
   "cell_type": "code",
   "execution_count": 347,
   "id": "399e5161",
   "metadata": {},
   "outputs": [
    {
     "data": {
      "image/png": "[encoded data removed]",
      "text/plain": [
       "<Figure size 432x288 with 1 Axes>"
      ]
     },
     "metadata": {
      "needs_background": "light"
     },
     "output_type": "display_data"
    },
    {
     "data": {
      "text/html": [
       "<div>\n",
       "<style scoped>\n",
       "    .dataframe tbody tr th:only-of-type {\n",
       "        vertical-align: middle;\n",
       "    }\n",
       "\n",
       "    .dataframe tbody tr th {\n",
       "        vertical-align: top;\n",
       "    }\n",
       "\n",
       "    .dataframe thead th {\n",
       "        text-align: right;\n",
       "    }\n",
       "</style>\n",
       "<table border=\"1\" class=\"dataframe\">\n",
       "  <thead>\n",
       "    <tr style=\"text-align: right;\">\n",
       "      <th></th>\n",
       "      <th>N</th>\n",
       "      <th>Error rho</th>\n",
       "      <th>Error u</th>\n",
       "    </tr>\n",
       "  </thead>\n",
       "  <tbody>\n",
       "    <tr>\n",
       "      <th>0</th>\n",
       "      <td>20</td>\n",
       "      <td>0.143908</td>\n",
       "      <td>0.156565</td>\n",
       "    </tr>\n",
       "    <tr>\n",
       "      <th>1</th>\n",
       "      <td>40</td>\n",
       "      <td>1.921536</td>\n",
       "      <td>2.129608</td>\n",
       "    </tr>\n",
       "    <tr>\n",
       "      <th>2</th>\n",
       "      <td>80</td>\n",
       "      <td>0.688743</td>\n",
       "      <td>0.833712</td>\n",
       "    </tr>\n",
       "    <tr>\n",
       "      <th>3</th>\n",
       "      <td>160</td>\n",
       "      <td>0.349223</td>\n",
       "      <td>0.384289</td>\n",
       "    </tr>\n",
       "    <tr>\n",
       "      <th>4</th>\n",
       "      <td>320</td>\n",
       "      <td>0.218545</td>\n",
       "      <td>0.216716</td>\n",
       "    </tr>\n",
       "    <tr>\n",
       "      <th>5</th>\n",
       "      <td>640</td>\n",
       "      <td>0.093482</td>\n",
       "      <td>0.137343</td>\n",
       "    </tr>\n",
       "    <tr>\n",
       "      <th>6</th>\n",
       "      <td>1280</td>\n",
       "      <td>0.058491</td>\n",
       "      <td>0.093027</td>\n",
       "    </tr>\n",
       "    <tr>\n",
       "      <th>7</th>\n",
       "      <td>2560</td>\n",
       "      <td>0.046711</td>\n",
       "      <td>0.059877</td>\n",
       "    </tr>\n",
       "  </tbody>\n",
       "</table>\n",
       "</div>"
      ],
      "text/plain": [
       "      N  Error rho   Error u\n",
       "0    20   0.143908  0.156565\n",
       "1    40   1.921536  2.129608\n",
       "2    80   0.688743  0.833712\n",
       "3   160   0.349223  0.384289\n",
       "4   320   0.218545  0.216716\n",
       "5   640   0.093482  0.137343\n",
       "6  1280   0.058491  0.093027\n",
       "7  2560   0.046711  0.059877"
      ]
     },
     "execution_count": 347,
     "metadata": {},
     "output_type": "execute_result"
    }
   ],
   "source": [
    "# Tercera tanda de errores\n",
    "\n",
    "rho_s = 0.55\n",
    "v_minus = 25\n",
    "\n",
    "tau_2 = 10\n",
    "T_3 = 0.5\n",
    "\n",
    "errores_rho_3, errores_u_3, Ns = obtiene_errores(T_3, tau_2, rho_s, v_minus)\n",
    "\n",
    "errores_dic_3 = {\"N\": Ns, \"Error rho\": errores_rho_3, \"Error u\": errores_u_3}\n",
    "errores_df_3 = pd.DataFrame(data=errores_dic_3)\n",
    "\n",
    "plt.plot(Ns, errores_rho_3, label=\"Error densidad\")\n",
    "plt.plot(Ns, errores_u_3, label=\"Error velocidad\")\n",
    "\n",
    "plt.xlabel(\"N\")\n",
    "plt.ylabel(\"Error\")\n",
    "plt.title(r\"Error relativo en t={T} y $\\tau={tau}$\".format(T=T_3, tau=tau_2))\n",
    "plt.legend()\n",
    "\n",
    "plt.savefig(\"Charts/Errores/Error_3.png\")\n",
    "plt.show()\n",
    "\n",
    "errores_df_3"
   ]
  },
  {
   "cell_type": "code",
   "execution_count": 348,
   "id": "c6c1ff80",
   "metadata": {},
   "outputs": [
    {
     "data": {
      "image/png": "[encoded data removed]",
      "text/plain": [
       "<Figure size 432x288 with 1 Axes>"
      ]
     },
     "metadata": {
      "needs_background": "light"
     },
     "output_type": "display_data"
    },
    {
     "data": {
      "text/html": [
       "<div>\n",
       "<style scoped>\n",
       "    .dataframe tbody tr th:only-of-type {\n",
       "        vertical-align: middle;\n",
       "    }\n",
       "\n",
       "    .dataframe tbody tr th {\n",
       "        vertical-align: top;\n",
       "    }\n",
       "\n",
       "    .dataframe thead th {\n",
       "        text-align: right;\n",
       "    }\n",
       "</style>\n",
       "<table border=\"1\" class=\"dataframe\">\n",
       "  <thead>\n",
       "    <tr style=\"text-align: right;\">\n",
       "      <th></th>\n",
       "      <th>N</th>\n",
       "      <th>Error rho</th>\n",
       "      <th>Error u</th>\n",
       "    </tr>\n",
       "  </thead>\n",
       "  <tbody>\n",
       "    <tr>\n",
       "      <th>0</th>\n",
       "      <td>20</td>\n",
       "      <td>2.900347</td>\n",
       "      <td>3.335044</td>\n",
       "    </tr>\n",
       "    <tr>\n",
       "      <th>1</th>\n",
       "      <td>40</td>\n",
       "      <td>1.477817</td>\n",
       "      <td>1.623714</td>\n",
       "    </tr>\n",
       "    <tr>\n",
       "      <th>2</th>\n",
       "      <td>80</td>\n",
       "      <td>0.884120</td>\n",
       "      <td>0.871643</td>\n",
       "    </tr>\n",
       "    <tr>\n",
       "      <th>3</th>\n",
       "      <td>160</td>\n",
       "      <td>0.349067</td>\n",
       "      <td>0.473895</td>\n",
       "    </tr>\n",
       "    <tr>\n",
       "      <th>4</th>\n",
       "      <td>320</td>\n",
       "      <td>0.186937</td>\n",
       "      <td>0.279912</td>\n",
       "    </tr>\n",
       "    <tr>\n",
       "      <th>5</th>\n",
       "      <td>640</td>\n",
       "      <td>0.142835</td>\n",
       "      <td>0.211639</td>\n",
       "    </tr>\n",
       "    <tr>\n",
       "      <th>6</th>\n",
       "      <td>1280</td>\n",
       "      <td>0.063373</td>\n",
       "      <td>0.100546</td>\n",
       "    </tr>\n",
       "    <tr>\n",
       "      <th>7</th>\n",
       "      <td>2560</td>\n",
       "      <td>0.052961</td>\n",
       "      <td>0.069909</td>\n",
       "    </tr>\n",
       "  </tbody>\n",
       "</table>\n",
       "</div>"
      ],
      "text/plain": [
       "      N  Error rho   Error u\n",
       "0    20   2.900347  3.335044\n",
       "1    40   1.477817  1.623714\n",
       "2    80   0.884120  0.871643\n",
       "3   160   0.349067  0.473895\n",
       "4   320   0.186937  0.279912\n",
       "5   640   0.142835  0.211639\n",
       "6  1280   0.063373  0.100546\n",
       "7  2560   0.052961  0.069909"
      ]
     },
     "execution_count": 348,
     "metadata": {},
     "output_type": "execute_result"
    }
   ],
   "source": [
    "# Cuarta tanda de errores\n",
    "\n",
    "rho_s = 0.55\n",
    "v_minus = 25\n",
    "\n",
    "tau_2 = 10\n",
    "T_4 = 2\n",
    "\n",
    "errores_rho_4, errores_u_4, Ns = obtiene_errores(T_4, tau_2, rho_s, v_minus)\n",
    "\n",
    "errores_dic_4 = {\"N\": Ns, \"Error rho\": errores_rho_4, \"Error u\": errores_u_4}\n",
    "errores_df_4 = pd.DataFrame(data=errores_dic_4)\n",
    "\n",
    "plt.plot(Ns, errores_rho_4, label=\"Error densidad\")\n",
    "plt.plot(Ns, errores_u_4, label=\"Error velocidad\")\n",
    "\n",
    "plt.xlabel(\"N\")\n",
    "plt.ylabel(\"Error\")\n",
    "plt.title(r\"Error relativo en t={T} y $\\tau={tau}$\".format(T=T_4, tau=tau_2))\n",
    "plt.legend()\n",
    "\n",
    "plt.savefig(\"Charts/Errores/Error_4.png\")\n",
    "plt.show()\n",
    "\n",
    "errores_df_4"
   ]
  },
  {
   "cell_type": "code",
   "execution_count": 349,
   "id": "0a9258e9",
   "metadata": {},
   "outputs": [
    {
     "data": {
      "image/png": "[encoded data removed]",
      "text/plain": [
       "<Figure size 432x288 with 1 Axes>"
      ]
     },
     "metadata": {
      "needs_background": "light"
     },
     "output_type": "display_data"
    },
    {
     "data": {
      "text/html": [
       "<div>\n",
       "<style scoped>\n",
       "    .dataframe tbody tr th:only-of-type {\n",
       "        vertical-align: middle;\n",
       "    }\n",
       "\n",
       "    .dataframe tbody tr th {\n",
       "        vertical-align: top;\n",
       "    }\n",
       "\n",
       "    .dataframe thead th {\n",
       "        text-align: right;\n",
       "    }\n",
       "</style>\n",
       "<table border=\"1\" class=\"dataframe\">\n",
       "  <thead>\n",
       "    <tr style=\"text-align: right;\">\n",
       "      <th></th>\n",
       "      <th>N</th>\n",
       "      <th>Error rho</th>\n",
       "      <th>Error u</th>\n",
       "    </tr>\n",
       "  </thead>\n",
       "  <tbody>\n",
       "    <tr>\n",
       "      <th>0</th>\n",
       "      <td>20</td>\n",
       "      <td>4.681629</td>\n",
       "      <td>5.680000</td>\n",
       "    </tr>\n",
       "    <tr>\n",
       "      <th>1</th>\n",
       "      <td>40</td>\n",
       "      <td>1.724921</td>\n",
       "      <td>2.214933</td>\n",
       "    </tr>\n",
       "    <tr>\n",
       "      <th>2</th>\n",
       "      <td>80</td>\n",
       "      <td>0.881916</td>\n",
       "      <td>0.935897</td>\n",
       "    </tr>\n",
       "    <tr>\n",
       "      <th>3</th>\n",
       "      <td>160</td>\n",
       "      <td>0.457641</td>\n",
       "      <td>0.484398</td>\n",
       "    </tr>\n",
       "    <tr>\n",
       "      <th>4</th>\n",
       "      <td>320</td>\n",
       "      <td>0.246465</td>\n",
       "      <td>0.258460</td>\n",
       "    </tr>\n",
       "    <tr>\n",
       "      <th>5</th>\n",
       "      <td>640</td>\n",
       "      <td>0.140872</td>\n",
       "      <td>0.203104</td>\n",
       "    </tr>\n",
       "    <tr>\n",
       "      <th>6</th>\n",
       "      <td>1280</td>\n",
       "      <td>0.068656</td>\n",
       "      <td>0.095751</td>\n",
       "    </tr>\n",
       "    <tr>\n",
       "      <th>7</th>\n",
       "      <td>2560</td>\n",
       "      <td>0.061210</td>\n",
       "      <td>0.068349</td>\n",
       "    </tr>\n",
       "  </tbody>\n",
       "</table>\n",
       "</div>"
      ],
      "text/plain": [
       "      N  Error rho   Error u\n",
       "0    20   4.681629  5.680000\n",
       "1    40   1.724921  2.214933\n",
       "2    80   0.881916  0.935897\n",
       "3   160   0.457641  0.484398\n",
       "4   320   0.246465  0.258460\n",
       "5   640   0.140872  0.203104\n",
       "6  1280   0.068656  0.095751\n",
       "7  2560   0.061210  0.068349"
      ]
     },
     "execution_count": 349,
     "metadata": {},
     "output_type": "execute_result"
    }
   ],
   "source": [
    "# Quinta tanda de errores\n",
    "\n",
    "rho_s = 0.55\n",
    "v_minus = 25\n",
    "\n",
    "tau_3 = 1\n",
    "T_5 = 0.5\n",
    "\n",
    "errores_rho_5, errores_u_5, Ns = obtiene_errores(T_5, tau_3, rho_s, v_minus, x_init=100)\n",
    "\n",
    "errores_dic_5 = {\"N\": Ns, \"Error rho\": errores_rho_5, \"Error u\": errores_u_5}\n",
    "errores_df_5 = pd.DataFrame(data=errores_dic_5)\n",
    "\n",
    "plt.plot(Ns, errores_rho_5, label=\"Error densidad\")\n",
    "plt.plot(Ns, errores_u_5, label=\"Error velocidad\")\n",
    "\n",
    "plt.xlabel(\"N\")\n",
    "plt.ylabel(\"Error\")\n",
    "plt.title(r\"Error relativo en t={T} y $\\tau={tau}$\".format(T=T_5, tau=tau_3))\n",
    "plt.legend()\n",
    "\n",
    "plt.savefig(\"Charts/Errores/Error_5.png\")\n",
    "plt.show()\n",
    "\n",
    "errores_df_5"
   ]
  },
  {
   "cell_type": "code",
   "execution_count": 350,
   "id": "a51182d7",
   "metadata": {},
   "outputs": [
    {
     "data": {
      "image/png": "[encoded data removed]",
      "text/plain": [
       "<Figure size 432x288 with 1 Axes>"
      ]
     },
     "metadata": {
      "needs_background": "light"
     },
     "output_type": "display_data"
    },
    {
     "data": {
      "text/html": [
       "<div>\n",
       "<style scoped>\n",
       "    .dataframe tbody tr th:only-of-type {\n",
       "        vertical-align: middle;\n",
       "    }\n",
       "\n",
       "    .dataframe tbody tr th {\n",
       "        vertical-align: top;\n",
       "    }\n",
       "\n",
       "    .dataframe thead th {\n",
       "        text-align: right;\n",
       "    }\n",
       "</style>\n",
       "<table border=\"1\" class=\"dataframe\">\n",
       "  <thead>\n",
       "    <tr style=\"text-align: right;\">\n",
       "      <th></th>\n",
       "      <th>N</th>\n",
       "      <th>Error rho</th>\n",
       "      <th>Error u</th>\n",
       "    </tr>\n",
       "  </thead>\n",
       "  <tbody>\n",
       "    <tr>\n",
       "      <th>0</th>\n",
       "      <td>20</td>\n",
       "      <td>5.335049</td>\n",
       "      <td>4.949379</td>\n",
       "    </tr>\n",
       "    <tr>\n",
       "      <th>1</th>\n",
       "      <td>40</td>\n",
       "      <td>3.455723</td>\n",
       "      <td>2.885441</td>\n",
       "    </tr>\n",
       "    <tr>\n",
       "      <th>2</th>\n",
       "      <td>80</td>\n",
       "      <td>2.329213</td>\n",
       "      <td>1.702930</td>\n",
       "    </tr>\n",
       "    <tr>\n",
       "      <th>3</th>\n",
       "      <td>160</td>\n",
       "      <td>0.952682</td>\n",
       "      <td>0.688817</td>\n",
       "    </tr>\n",
       "    <tr>\n",
       "      <th>4</th>\n",
       "      <td>320</td>\n",
       "      <td>0.436454</td>\n",
       "      <td>0.395833</td>\n",
       "    </tr>\n",
       "    <tr>\n",
       "      <th>5</th>\n",
       "      <td>640</td>\n",
       "      <td>0.255179</td>\n",
       "      <td>0.273669</td>\n",
       "    </tr>\n",
       "    <tr>\n",
       "      <th>6</th>\n",
       "      <td>1280</td>\n",
       "      <td>0.172781</td>\n",
       "      <td>0.165207</td>\n",
       "    </tr>\n",
       "    <tr>\n",
       "      <th>7</th>\n",
       "      <td>2560</td>\n",
       "      <td>0.135580</td>\n",
       "      <td>0.129857</td>\n",
       "    </tr>\n",
       "  </tbody>\n",
       "</table>\n",
       "</div>"
      ],
      "text/plain": [
       "      N  Error rho   Error u\n",
       "0    20   5.335049  4.949379\n",
       "1    40   3.455723  2.885441\n",
       "2    80   2.329213  1.702930\n",
       "3   160   0.952682  0.688817\n",
       "4   320   0.436454  0.395833\n",
       "5   640   0.255179  0.273669\n",
       "6  1280   0.172781  0.165207\n",
       "7  2560   0.135580  0.129857"
      ]
     },
     "execution_count": 350,
     "metadata": {},
     "output_type": "execute_result"
    }
   ],
   "source": [
    "# Sexta tanda de errores\n",
    "\n",
    "rho_s = 0.55\n",
    "v_minus = 25\n",
    "\n",
    "tau_3 = 1\n",
    "T_6 = 2\n",
    "\n",
    "errores_rho_6, errores_u_6, Ns = obtiene_errores(T_6, tau_3, rho_s, v_minus, x_init=100)\n",
    "\n",
    "errores_dic_6 = {\"N\": Ns, \"Error rho\": errores_rho_6, \"Error u\": errores_u_6}\n",
    "errores_df_6 = pd.DataFrame(data=errores_dic_6)\n",
    "\n",
    "plt.plot(Ns, errores_rho_6, label=\"Error densidad\")\n",
    "plt.plot(Ns, errores_u_6, label=\"Error velocidad\")\n",
    "\n",
    "plt.xlabel(\"N\")\n",
    "plt.ylabel(\"Error\")\n",
    "plt.title(r\"Error relativo en t={T} y $\\tau={tau}$\".format(T=T_6, tau=tau_3))\n",
    "plt.legend()\n",
    "\n",
    "plt.savefig(\"Charts/Errores/Error_6.png\")\n",
    "plt.show()\n",
    "\n",
    "errores_df_6"
   ]
  },
  {
   "cell_type": "markdown",
   "id": "6376f45e",
   "metadata": {},
   "source": [
    "## Obtiene velocidad jamiton"
   ]
  },
  {
   "cell_type": "code",
   "execution_count": 394,
   "id": "6cbbb217",
   "metadata": {},
   "outputs": [],
   "source": [
    "def get_m(v_s):\n",
    "    m = -h_bar_prime(v_s)\n",
    "    return m\n",
    "\n",
    "def get_s(m, v_s):\n",
    "    s = U_bar(v_s) - m*v_s\n",
    "    return s"
   ]
  },
  {
   "cell_type": "code",
   "execution_count": 395,
   "id": "821bbf04",
   "metadata": {},
   "outputs": [],
   "source": [
    "def get_s_least_squares(Q):\n",
    "\n",
    "    rho, y = Q[-1]\n",
    "    \n",
    "    u_ = u(rho, y, h)\n",
    "    q = rho * u_\n",
    "\n",
    "    res = linregress(rho, q)\n",
    "    s, m = res[0], res[1]\n",
    "    return s, m"
   ]
  },
  {
   "cell_type": "code",
   "execution_count": 396,
   "id": "20b39928",
   "metadata": {},
   "outputs": [],
   "source": [
    "def obtiene_errores_s(Ns, T, tau, rho_s, v_minus, x_init=None):\n",
    "    \n",
    "    v_s = 1/(rho_s * rho_max)\n",
    "\n",
    "    errores_s = []\n",
    "    errores_m = []\n",
    "\n",
    "    for N in Ns:\n",
    "        Q_0_, x_to_plot, teo_rho, teo_u = Q_0_jam(h, N, tau, rho_s, v_minus, x_init)\n",
    "        x, dt, t, Q = godunov_ARZ(Q_0_, N, x_to_plot, U, h, tau, T)\n",
    "        s, m = get_s_least_squares(Q)\n",
    "        \n",
    "        # Teoricos\n",
    "        m_teo = get_m(v_s)\n",
    "        s_teo = get_s(m_teo, v_s)\n",
    "        \n",
    "        dif_s = np.fabs(s_teo - s)/np.fabs(s_teo)\n",
    "        dif_m = np.fabs(m_teo - m)/np.fabs(m_teo)\n",
    "\n",
    "        errores_s += [dif_s]\n",
    "        errores_m += [dif_m]\n",
    "        \n",
    "    return errores_s, errores_m"
   ]
  },
  {
   "cell_type": "code",
   "execution_count": 374,
   "id": "3ad0a15e",
   "metadata": {},
   "outputs": [],
   "source": [
    "rho_s = 0.55\n",
    "v_s = 1/(rho_s*rho_max)\n",
    "v_minus = 25\n",
    "\n",
    "tau = 5\n",
    "T = 2\n",
    "N = 400\n",
    "\n",
    "Q_0_, x_to_plot, teo_rho, teo_u = Q_0_jam(h, N, tau, rho_s, v_minus)\n",
    "x, dt, t, Q = godunov_ARZ(Q_0_, N, x_to_plot, U, h, tau, T)"
   ]
  },
  {
   "cell_type": "code",
   "execution_count": 381,
   "id": "58076637",
   "metadata": {},
   "outputs": [
    {
     "data": {
      "image/png": "[encoded data removed]",
      "text/plain": [
       "<Figure size 432x288 with 1 Axes>"
      ]
     },
     "metadata": {
      "needs_background": "light"
     },
     "output_type": "display_data"
    },
    {
     "data": {
      "text/html": [
       "<div>\n",
       "<style scoped>\n",
       "    .dataframe tbody tr th:only-of-type {\n",
       "        vertical-align: middle;\n",
       "    }\n",
       "\n",
       "    .dataframe tbody tr th {\n",
       "        vertical-align: top;\n",
       "    }\n",
       "\n",
       "    .dataframe thead th {\n",
       "        text-align: right;\n",
       "    }\n",
       "</style>\n",
       "<table border=\"1\" class=\"dataframe\">\n",
       "  <thead>\n",
       "    <tr style=\"text-align: right;\">\n",
       "      <th></th>\n",
       "      <th>N</th>\n",
       "      <th>Error s</th>\n",
       "      <th>Error m</th>\n",
       "    </tr>\n",
       "  </thead>\n",
       "  <tbody>\n",
       "    <tr>\n",
       "      <th>0</th>\n",
       "      <td>20</td>\n",
       "      <td>0.467874</td>\n",
       "      <td>0.041939</td>\n",
       "    </tr>\n",
       "    <tr>\n",
       "      <th>1</th>\n",
       "      <td>40</td>\n",
       "      <td>0.281117</td>\n",
       "      <td>0.027243</td>\n",
       "    </tr>\n",
       "    <tr>\n",
       "      <th>2</th>\n",
       "      <td>80</td>\n",
       "      <td>0.116876</td>\n",
       "      <td>0.009363</td>\n",
       "    </tr>\n",
       "    <tr>\n",
       "      <th>3</th>\n",
       "      <td>160</td>\n",
       "      <td>0.068783</td>\n",
       "      <td>0.006132</td>\n",
       "    </tr>\n",
       "    <tr>\n",
       "      <th>4</th>\n",
       "      <td>320</td>\n",
       "      <td>0.038514</td>\n",
       "      <td>0.003497</td>\n",
       "    </tr>\n",
       "    <tr>\n",
       "      <th>5</th>\n",
       "      <td>640</td>\n",
       "      <td>0.018936</td>\n",
       "      <td>0.001726</td>\n",
       "    </tr>\n",
       "    <tr>\n",
       "      <th>6</th>\n",
       "      <td>1280</td>\n",
       "      <td>0.010000</td>\n",
       "      <td>0.000958</td>\n",
       "    </tr>\n",
       "    <tr>\n",
       "      <th>7</th>\n",
       "      <td>2560</td>\n",
       "      <td>0.003290</td>\n",
       "      <td>0.000229</td>\n",
       "    </tr>\n",
       "  </tbody>\n",
       "</table>\n",
       "</div>"
      ],
      "text/plain": [
       "      N   Error s   Error m\n",
       "0    20  0.467874  0.041939\n",
       "1    40  0.281117  0.027243\n",
       "2    80  0.116876  0.009363\n",
       "3   160  0.068783  0.006132\n",
       "4   320  0.038514  0.003497\n",
       "5   640  0.018936  0.001726\n",
       "6  1280  0.010000  0.000958\n",
       "7  2560  0.003290  0.000229"
      ]
     },
     "execution_count": 381,
     "metadata": {},
     "output_type": "execute_result"
    }
   ],
   "source": [
    "# Primera tanda de errores para s y m\n",
    "\n",
    "Ns = [10*(2**k) for k in range(1, 9)]\n",
    "\n",
    "rho_s = 0.55\n",
    "v_minus = 25\n",
    "\n",
    "tau_1 = 5\n",
    "T_1 = 2\n",
    "\n",
    "s_1, m_1 = obtiene_errores_s(Ns, T_1, tau_1, rho_s, v_minus)\n",
    "\n",
    "errores_sm_1 = {\"N\": Ns, \"Error s\": s_1, \"Error m\": m_1}\n",
    "errores_sm_df_1 = pd.DataFrame(data=errores_sm_1)\n",
    "\n",
    "plt.plot(Ns, s_1, label=\"Error s\")\n",
    "plt.plot(Ns, m_1, label=\"Error m\")\n",
    "\n",
    "plt.xlabel(\"N\")\n",
    "plt.ylabel(\"Error\")\n",
    "plt.title(r\"Error relativo de s y m en t={T} y $\\tau={tau}$\".format(T=T_1, tau=tau_1))\n",
    "plt.legend()\n",
    "\n",
    "plt.savefig(\"Charts/Errores/Error_sm_1.png\")\n",
    "plt.show()\n",
    "\n",
    "errores_sm_df_1"
   ]
  },
  {
   "cell_type": "code",
   "execution_count": 382,
   "id": "3e4cc92f",
   "metadata": {},
   "outputs": [
    {
     "data": {
      "image/png": "[encoded data removed]",
      "text/plain": [
       "<Figure size 432x288 with 1 Axes>"
      ]
     },
     "metadata": {
      "needs_background": "light"
     },
     "output_type": "display_data"
    },
    {
     "data": {
      "text/html": [
       "<div>\n",
       "<style scoped>\n",
       "    .dataframe tbody tr th:only-of-type {\n",
       "        vertical-align: middle;\n",
       "    }\n",
       "\n",
       "    .dataframe tbody tr th {\n",
       "        vertical-align: top;\n",
       "    }\n",
       "\n",
       "    .dataframe thead th {\n",
       "        text-align: right;\n",
       "    }\n",
       "</style>\n",
       "<table border=\"1\" class=\"dataframe\">\n",
       "  <thead>\n",
       "    <tr style=\"text-align: right;\">\n",
       "      <th></th>\n",
       "      <th>N</th>\n",
       "      <th>Error s</th>\n",
       "      <th>Error m</th>\n",
       "    </tr>\n",
       "  </thead>\n",
       "  <tbody>\n",
       "    <tr>\n",
       "      <th>0</th>\n",
       "      <td>20</td>\n",
       "      <td>0.502846</td>\n",
       "      <td>0.045548</td>\n",
       "    </tr>\n",
       "    <tr>\n",
       "      <th>1</th>\n",
       "      <td>40</td>\n",
       "      <td>0.265084</td>\n",
       "      <td>0.023521</td>\n",
       "    </tr>\n",
       "    <tr>\n",
       "      <th>2</th>\n",
       "      <td>80</td>\n",
       "      <td>0.154207</td>\n",
       "      <td>0.015166</td>\n",
       "    </tr>\n",
       "    <tr>\n",
       "      <th>3</th>\n",
       "      <td>160</td>\n",
       "      <td>0.068435</td>\n",
       "      <td>0.005945</td>\n",
       "    </tr>\n",
       "    <tr>\n",
       "      <th>4</th>\n",
       "      <td>320</td>\n",
       "      <td>0.040237</td>\n",
       "      <td>0.003932</td>\n",
       "    </tr>\n",
       "    <tr>\n",
       "      <th>5</th>\n",
       "      <td>640</td>\n",
       "      <td>0.021397</td>\n",
       "      <td>0.002058</td>\n",
       "    </tr>\n",
       "    <tr>\n",
       "      <th>6</th>\n",
       "      <td>1280</td>\n",
       "      <td>0.010257</td>\n",
       "      <td>0.000991</td>\n",
       "    </tr>\n",
       "    <tr>\n",
       "      <th>7</th>\n",
       "      <td>2560</td>\n",
       "      <td>0.005950</td>\n",
       "      <td>0.000632</td>\n",
       "    </tr>\n",
       "  </tbody>\n",
       "</table>\n",
       "</div>"
      ],
      "text/plain": [
       "      N   Error s   Error m\n",
       "0    20  0.502846  0.045548\n",
       "1    40  0.265084  0.023521\n",
       "2    80  0.154207  0.015166\n",
       "3   160  0.068435  0.005945\n",
       "4   320  0.040237  0.003932\n",
       "5   640  0.021397  0.002058\n",
       "6  1280  0.010257  0.000991\n",
       "7  2560  0.005950  0.000632"
      ]
     },
     "execution_count": 382,
     "metadata": {},
     "output_type": "execute_result"
    }
   ],
   "source": [
    "# Segunda tanda de errores para s y m\n",
    "\n",
    "tau_2 = 10\n",
    "\n",
    "s_2, m_2 = obtiene_errores_s(Ns, T_1, tau_2, rho_s, v_minus)\n",
    "\n",
    "errores_sm_2 = {\"N\": Ns, \"Error s\": s_2, \"Error m\": m_2}\n",
    "errores_sm_df_2 = pd.DataFrame(data=errores_sm_2)\n",
    "\n",
    "plt.plot(Ns, s_2, label=\"Error s\")\n",
    "plt.plot(Ns, m_2, label=\"Error m\")\n",
    "\n",
    "plt.xlabel(\"N\")\n",
    "plt.ylabel(\"Error\")\n",
    "plt.title(r\"Error relativo de s y m en t={T} y $\\tau={tau}$\".format(T=T_1, tau=tau_2))\n",
    "plt.legend()\n",
    "\n",
    "plt.savefig(\"Charts/Errores/Error_sm_2.png\")\n",
    "plt.show()\n",
    "\n",
    "errores_sm_df_2"
   ]
  },
  {
   "cell_type": "code",
   "execution_count": 383,
   "id": "511c1f8b",
   "metadata": {},
   "outputs": [
    {
     "data": {
      "image/png": "[encoded data removed]",
      "text/plain": [
       "<Figure size 432x288 with 1 Axes>"
      ]
     },
     "metadata": {
      "needs_background": "light"
     },
     "output_type": "display_data"
    },
    {
     "data": {
      "text/html": [
       "<div>\n",
       "<style scoped>\n",
       "    .dataframe tbody tr th:only-of-type {\n",
       "        vertical-align: middle;\n",
       "    }\n",
       "\n",
       "    .dataframe tbody tr th {\n",
       "        vertical-align: top;\n",
       "    }\n",
       "\n",
       "    .dataframe thead th {\n",
       "        text-align: right;\n",
       "    }\n",
       "</style>\n",
       "<table border=\"1\" class=\"dataframe\">\n",
       "  <thead>\n",
       "    <tr style=\"text-align: right;\">\n",
       "      <th></th>\n",
       "      <th>N</th>\n",
       "      <th>Error s</th>\n",
       "      <th>Error m</th>\n",
       "    </tr>\n",
       "  </thead>\n",
       "  <tbody>\n",
       "    <tr>\n",
       "      <th>0</th>\n",
       "      <td>20</td>\n",
       "      <td>0.030281</td>\n",
       "      <td>0.025686</td>\n",
       "    </tr>\n",
       "    <tr>\n",
       "      <th>1</th>\n",
       "      <td>40</td>\n",
       "      <td>0.035027</td>\n",
       "      <td>0.014076</td>\n",
       "    </tr>\n",
       "    <tr>\n",
       "      <th>2</th>\n",
       "      <td>80</td>\n",
       "      <td>0.069280</td>\n",
       "      <td>0.000042</td>\n",
       "    </tr>\n",
       "    <tr>\n",
       "      <th>3</th>\n",
       "      <td>160</td>\n",
       "      <td>0.026345</td>\n",
       "      <td>0.001083</td>\n",
       "    </tr>\n",
       "    <tr>\n",
       "      <th>4</th>\n",
       "      <td>320</td>\n",
       "      <td>0.006801</td>\n",
       "      <td>0.000860</td>\n",
       "    </tr>\n",
       "    <tr>\n",
       "      <th>5</th>\n",
       "      <td>640</td>\n",
       "      <td>0.009294</td>\n",
       "      <td>0.000290</td>\n",
       "    </tr>\n",
       "    <tr>\n",
       "      <th>6</th>\n",
       "      <td>1280</td>\n",
       "      <td>0.000545</td>\n",
       "      <td>0.000786</td>\n",
       "    </tr>\n",
       "    <tr>\n",
       "      <th>7</th>\n",
       "      <td>2560</td>\n",
       "      <td>0.002700</td>\n",
       "      <td>0.000833</td>\n",
       "    </tr>\n",
       "  </tbody>\n",
       "</table>\n",
       "</div>"
      ],
      "text/plain": [
       "      N   Error s   Error m\n",
       "0    20  0.030281  0.025686\n",
       "1    40  0.035027  0.014076\n",
       "2    80  0.069280  0.000042\n",
       "3   160  0.026345  0.001083\n",
       "4   320  0.006801  0.000860\n",
       "5   640  0.009294  0.000290\n",
       "6  1280  0.000545  0.000786\n",
       "7  2560  0.002700  0.000833"
      ]
     },
     "execution_count": 383,
     "metadata": {},
     "output_type": "execute_result"
    }
   ],
   "source": [
    "# Tercera tanda de errores para s y m\n",
    "\n",
    "tau_3 = 1\n",
    "\n",
    "s_3, m_3 = obtiene_errores_s(Ns, T_1, tau_3, rho_s, v_minus, x_init=100)\n",
    "\n",
    "errores_sm_3 = {\"N\": Ns, \"Error s\": s_3, \"Error m\": m_3}\n",
    "errores_sm_df_3 = pd.DataFrame(data=errores_sm_3)\n",
    "\n",
    "plt.plot(Ns, s_3, label=\"Error s\")\n",
    "plt.plot(Ns, m_3, label=\"Error m\")\n",
    "\n",
    "plt.xlabel(\"N\")\n",
    "plt.ylabel(\"Error\")\n",
    "plt.title(r\"Error relativo de s y m en t={T} y $\\tau={tau}$\".format(T=T_1, tau=tau_3))\n",
    "plt.legend()\n",
    "\n",
    "plt.savefig(\"Charts/Errores/Error_sm_3.png\")\n",
    "plt.show()\n",
    "\n",
    "errores_sm_df_3"
   ]
  },
  {
   "cell_type": "markdown",
   "id": "f34dedd9",
   "metadata": {},
   "source": [
    "----------------------------------"
   ]
  },
  {
   "cell_type": "markdown",
   "id": "4174b810",
   "metadata": {},
   "source": [
    "## Colisión de jamitones"
   ]
  },
  {
   "cell_type": "code",
   "execution_count": 482,
   "id": "dc4d8986",
   "metadata": {},
   "outputs": [],
   "source": [
    "def Q_0_collide(h, N, tau, rho_s_1, rho_s_2, v_minus, x_init=None):\n",
    "    # Primer jamiton\n",
    "    x_minus_1, x_plus_1, sol_rho_1, sol_u_1, sol_rho_eta_1, sol_u_eta_1, s_1 = init_program(tau, rho_s_1, v_minus, x_init)\n",
    "\n",
    "    # Segundo jamiton\n",
    "    x_minus_2, x_plus_2, sol_rho_2, sol_u_2, sol_rho_eta_2, sol_u_eta_2, s_2 = init_program(tau, rho_s_2, v_minus, x_init)\n",
    "\n",
    "    # Jamitones compatibles\n",
    "    rho_min_1 = sol_rho_1(x_minus_1)\n",
    "    rho_min_2 = sol_rho_2(x_minus_2)\n",
    "\n",
    "    compatible = np.isclose(rho_min_1, rho_min_2)\n",
    "\n",
    "    if not compatible:\n",
    "        print(\"Jamitones incompatibles\")\n",
    "        return None\n",
    "\n",
    "    L = x_minus_2 + (x_minus_1 - x_plus_2) - x_plus_1\n",
    "    dx = L/N\n",
    "    \n",
    "    x_to_plot = np.arange(0, x_minus_2+(x_minus_1 - x_plus_2) - x_plus_1, dx)\n",
    "\n",
    "    def rho_sol_combined(x):\n",
    "        if x_plus_1 <= x and x <= x_minus_1:\n",
    "            return sol_rho_1(x)\n",
    "    \n",
    "        elif x_plus_2 <= x - (x_minus_1 - x_plus_2) and x - (x_minus_1 - x_plus_2) <= x_minus_2:\n",
    "            return sol_rho_2(x-(x_minus_1 - x_plus_2))\n",
    "\n",
    "    def u_sol_combined(x):\n",
    "        if x_plus_1 <= x and x <= x_minus_1:\n",
    "            return sol_u_1(x)\n",
    "    \n",
    "        elif x_plus_2 <= x - (x_minus_1 - x_plus_2) and x - (x_minus_1 - x_plus_2) <= x_minus_2:\n",
    "            return sol_u_2(x-(x_minus_1 - x_plus_2))\n",
    "\n",
    "    rho_sol_combined = np.vectorize(rho_sol_combined)\n",
    "    u_sol_combined = np.vectorize(u_sol_combined)\n",
    "\n",
    "    def rho_per(x):\n",
    "        interval = x_minus_2+(x_minus_1 - x_plus_2) - x_plus_1\n",
    "        x_per = (x - x_plus_1) % interval + x_plus_1\n",
    "        return rho_sol_combined(x_per)\n",
    "\n",
    "    def u_per(x):\n",
    "        interval = x_minus_2+(x_minus_1 - x_plus_2) - x_plus_1\n",
    "        x_per = (x - x_plus_1) % interval + x_plus_1\n",
    "        return u_sol_combined(x_per)\n",
    "\n",
    "    rho_0 = rho_per(x_to_plot)\n",
    "    u_0 = u_per(x_to_plot)\n",
    "    y_0 = rho_0 * (u_0 + h(rho_0))\n",
    "\n",
    "    Q_0_ = np.zeros([2, len(x_to_plot)])\n",
    "    Q_0_[0] = rho_0\n",
    "    Q_0_[1] = y_0\n",
    "\n",
    "    return Q_0_, x_to_plot"
   ]
  },
  {
   "cell_type": "code",
   "execution_count": 532,
   "id": "73b31679",
   "metadata": {},
   "outputs": [],
   "source": [
    "N = 160\n",
    "tau = 5\n",
    "rho_s_1 = 0.425\n",
    "rho_s_2 = 0.443\n",
    "v_minus = 25\n",
    "T = 30\n",
    "\n",
    "Q_0_collide_, x_collide = Q_0_collide(h, N, tau, rho_s_1, rho_s_2, v_minus, x_init=90)\n",
    "x, dt, t, Q = godunov_ARZ(Q_0_collide_, N, x_collide, U, h, tau, T)"
   ]
  },
  {
   "cell_type": "code",
   "execution_count": 533,
   "id": "6e912b3b",
   "metadata": {},
   "outputs": [
    {
     "data": {
      "image/png": "[encoded data removed]",
      "text/plain": [
       "<Figure size 432x288 with 1 Axes>"
      ]
     },
     "metadata": {
      "needs_background": "light"
     },
     "output_type": "display_data"
    }
   ],
   "source": [
    "plt.plot(Q[0][0]/rho_max, label=\"Inicial\", ls=\"--\")\n",
    "plt.plot(Q[-1][0]/rho_max, label=\"Post colisión\")\n",
    "plt.legend()\n",
    "plt.show()"
   ]
  },
  {
   "cell_type": "code",
   "execution_count": 534,
   "id": "db72aa6f",
   "metadata": {},
   "outputs": [
    {
     "data": {
      "text/plain": [
       "(6.901298483049857, 5.711643574447141, 0.33890685707962004, 0.3782870937959668)"
      ]
     },
     "execution_count": 534,
     "metadata": {},
     "output_type": "execute_result"
    }
   ],
   "source": [
    "v_s_1 = 1/(rho_s_1*rho_max)\n",
    "v_s_2 = 1/(rho_s_2*rho_max)\n",
    "\n",
    "m_1 = get_m(v_s_1)\n",
    "m_2 = get_m(v_s_2)\n",
    "\n",
    "s_1 = get_s(m_1, v_s_1)\n",
    "s_2 = get_s(m_2, v_s_2)\n",
    "\n",
    "s_1, s_2, m_1, m_2"
   ]
  },
  {
   "cell_type": "code",
   "execution_count": 535,
   "id": "a8ef4eeb",
   "metadata": {},
   "outputs": [
    {
     "data": {
      "text/plain": [
       "(4.793640351168161, 0.41314137002166884)"
      ]
     },
     "execution_count": 535,
     "metadata": {},
     "output_type": "execute_result"
    }
   ],
   "source": [
    "get_s_least_squares(Q)"
   ]
  },
  {
   "cell_type": "code",
   "execution_count": 531,
   "id": "2db70dad",
   "metadata": {},
   "outputs": [
    {
     "data": {
      "text/plain": [
       "<matplotlib.collections.PathCollection at 0x7fc9c1681e50>"
      ]
     },
     "execution_count": 531,
     "metadata": {},
     "output_type": "execute_result"
    },
    {
     "data": {
      "image/png": "[encoded data removed]",
      "text/plain": [
       "<Figure size 432x288 with 1 Axes>"
      ]
     },
     "metadata": {
      "needs_background": "light"
     },
     "output_type": "display_data"
    }
   ],
   "source": [
    "rho_sc = Q[-1][0]\n",
    "u_sc = u(rho_sc, Q[-1][1], h)\n",
    "\n",
    "plt.scatter(rho_sc, rho_sc*u_sc)"
   ]
  },
  {
   "cell_type": "markdown",
   "id": "50fbbee3",
   "metadata": {},
   "source": [
    "## Obtiene $\\rho_s$ candidatos"
   ]
  },
  {
   "cell_type": "code",
   "execution_count": 577,
   "id": "105fef3b",
   "metadata": {},
   "outputs": [
    {
     "data": {
      "text/plain": [
       "   cov_x: array([[1.57549059e-08]])\n",
       "    fjac: array([[7966.95004056]])\n",
       "     fun: array([-1.84741111e-13])\n",
       "    ipvt: array([1], dtype=int32)\n",
       " message: 'The relative error between two consecutive iterates is at most 0.000000'\n",
       "    nfev: 11\n",
       "     qtf: array([8.74162254e-09])\n",
       "  status: 2\n",
       " success: True\n",
       "       x: array([0.03151071])"
      ]
     },
     "execution_count": 577,
     "metadata": {},
     "output_type": "execute_result"
    }
   ],
   "source": [
    "rho_min_css = root(lambda rho: U_prime(rho) + h_prime(rho), 0.2*rho_max, method=\"lm\")\n",
    "rho_min_css"
   ]
  },
  {
   "cell_type": "code",
   "execution_count": 618,
   "id": "27f70678",
   "metadata": {},
   "outputs": [
    {
     "data": {
      "image/png": "[encoded data removed]",
      "text/plain": [
       "<Figure size 432x288 with 1 Axes>"
      ]
     },
     "metadata": {
      "needs_background": "light"
     },
     "output_type": "display_data"
    }
   ],
   "source": [
    "rhos = np.linspace(1e-8, rho_max-1e-5, 10_000)\n",
    "rho_min_scc = root(lambda rho: U_prime(rho) + h_prime(rho), 0.2*rho_max, method=\"lm\").x[0]\n",
    "rho_max_scc = root(lambda rho: U_prime(rho) + h_prime(rho), 0.7*rho_max, method=\"lm\").x[0]\n",
    "raices_scc = np.array([rho_min_scc, rho_max_scc])\n",
    "rhos_violate = np.linspace(rho_min_scc, rho_max_scc, 10_000)\n",
    "\n",
    "plt.plot(rhos/rho_max, U_prime(rhos) + h_prime(rhos), zorder=0)\n",
    "plt.plot(rhos_violate/rho_max, U_prime(rhos_violate) + h_prime(rhos_violate), zorder=1, label=\"Rompe SCC\", color=\"r\")\n",
    "plt.scatter(raices_scc/rho_max, U_prime(raices_scc) + h_prime(raices_scc), zorder=2, color=\"green\", label=\"Raíces\")\n",
    "\n",
    "plt.xlim(-0.05, 1)\n",
    "plt.ylim(-300, 200)\n",
    "plt.hlines(0, -0.05, 1, ls=\"--\", zorder=1, label=\"Recta cero\", color=\"lightblue\")\n",
    "\n",
    "plt.title(\"Intervalo que rompe SCC\")\n",
    "plt.xlabel(r\"$\\rho$\")\n",
    "plt.ylabel(r\"$U'(\\rho) + h'(\\rho)$\")\n",
    "\n",
    "plt.legend()\n",
    "plt.show()"
   ]
  },
  {
   "cell_type": "code",
   "execution_count": 615,
   "id": "6ad8ea8b",
   "metadata": {},
   "outputs": [
    {
     "name": "stdout",
     "output_type": "stream",
     "text": [
      "Intervalo [ 0.23633033494494438 0.6467412717332214 ] rompe SCC\n"
     ]
    }
   ],
   "source": [
    "print(\"Intervalo [\",rho_min_scc/rho_max,rho_max_scc/rho_max, \"] rompe SCC\")"
   ]
  },
  {
   "cell_type": "code",
   "execution_count": 638,
   "id": "4171a1cb",
   "metadata": {},
   "outputs": [
    {
     "name": "stdout",
     "output_type": "stream",
     "text": [
      "0.43393560080596666 18.588845771974867\n",
      "Intervalo v_min: [ 17.283670632393235 ,  35.87235455784382 ]\n"
     ]
    }
   ],
   "source": [
    "rhos_violate = np.linspace(rho_min_scc, rho_max_scc, 1_000)\n",
    "L = -np.inf\n",
    "for rho_scc in rhos_violate:\n",
    "    v_scc = 1/rho_scc\n",
    "    m_scc = get_m(v_scc)\n",
    "    s_scc = get_s(m_scc, v_scc)\n",
    "    w_scc = lambda v: w_v(v, m_scc, s_scc)\n",
    "    v_M = root(w_scc, 100, method=\"hybr\")\n",
    "    L_sig = v_M.x[0] - v_scc\n",
    "    \n",
    "    if L_sig < L:\n",
    "        print(rho_scc/rho_max, L)\n",
    "        print(\"Intervalo v_min: [\", v_scc, \", \", v_M.x[0], \"]\")\n",
    "        break\n",
    "    L = L_sig"
   ]
  },
  {
   "cell_type": "markdown",
   "id": "2df4b6e3",
   "metadata": {},
   "source": [
    "## Código antiguo (deprecado)"
   ]
  },
  {
   "cell_type": "code",
   "execution_count": 18,
   "id": "d970933b",
   "metadata": {},
   "outputs": [],
   "source": [
    "# Condición inicial de prueba\n",
    "# Constante por pedazos\n",
    "def Q_0_test(x, U):\n",
    "    \n",
    "    # Densidad alta en x negativo y bajo en x positivo\n",
    "    rho_0 = np.piecewise(x, [((-25 <= x) & (x <= 0)), ((x>0) | (x<-25))], [0.6, 0.6])\n",
    "    \n",
    "    # Velocidad baja en negativos y alta en positivos\n",
    "    u_0 = np.piecewise(x, [((-25 <= x) & (x <= 0)), ((x>0) | (x<-25))], [1, 19])\n",
    "    \n",
    "    # y inicial en funcion de u y rho\n",
    "    y_0 = rho_0 * (u_0 - U(rho_0))\n",
    "    \n",
    "    # Vector con condición\n",
    "    Q_0_ = np.zeros([1, 2, len(y_0)])\n",
    "    Q_0_[0][0] = rho_0\n",
    "    Q_0_[0][1] = y_0\n",
    "    \n",
    "    return Q_0_"
   ]
  },
  {
   "cell_type": "code",
   "execution_count": 19,
   "id": "c6cdd30d",
   "metadata": {},
   "outputs": [],
   "source": [
    "# Parámetros\n",
    "xl = -2000\n",
    "xr = -xl\n",
    "dx = 20\n",
    "T = 200\n",
    "tau= 5"
   ]
  },
  {
   "cell_type": "code",
   "execution_count": 20,
   "id": "6d101d40",
   "metadata": {
    "tags": []
   },
   "outputs": [
    {
     "name": "stderr",
     "output_type": "stream",
     "text": [
      "No handles with labels found to put in legend.\n",
      "MovieWriter ffmpeg unavailable; using Pillow instead.\n"
     ]
    },
    {
     "data": {
      "image/png": "[encoded data removed]",
      "text/plain": [
       "<Figure size 720x360 with 3 Axes>"
      ]
     },
     "metadata": {
      "needs_background": "light"
     },
     "output_type": "display_data"
    }
   ],
   "source": [
    "x_test, Q_test = godunov_ARZ(Q_0_test, dx, xl, xr, T, U, tau)\n",
    "get_animation(Q_test, x_test, U, len(Q_test), \"Modelo ARZ no homogéneo\" ,\n",
    "              [\"Densidad\", \"Velocidad\", r\"$U_{eq}$\"], \"Charts/prueba.gif\")"
   ]
  },
  {
   "cell_type": "code",
   "execution_count": null,
   "id": "3cb14b0d",
   "metadata": {},
   "outputs": [],
   "source": [
    "density_integral(x_test, dx, len(Q_test), Q_test)"
   ]
  },
  {
   "cell_type": "code",
   "execution_count": 213,
   "id": "e6ab4231",
   "metadata": {
    "collapsed": true,
    "jupyter": {
     "outputs_hidden": true
    },
    "tags": []
   },
   "outputs": [
    {
     "name": "stdout",
     "output_type": "stream",
     "text": [
      "No hay solución\n",
      "u_r =  9.373231844984799 demás =  9.308400557775297\n",
      "No hay solución\n",
      "u_r =  9.373231844984799 demás =  9.308400557775297\n"
     ]
    },
    {
     "name": "stderr",
     "output_type": "stream",
     "text": [
      "No handles with labels found to put in legend.\n",
      "MovieWriter ffmpeg unavailable; using Pillow instead.\n"
     ]
    },
    {
     "ename": "KeyboardInterrupt",
     "evalue": "",
     "output_type": "error",
     "traceback": [
      "\u001b[0;31m---------------------------------------------------------------------------\u001b[0m",
      "\u001b[0;31mKeyboardInterrupt\u001b[0m                         Traceback (most recent call last)",
      "\u001b[0;32m/var/folders/41/vskcwr5532bfb2q1wpk9q40h0000gn/T/ipykernel_59088/841306155.py\u001b[0m in \u001b[0;36m<module>\u001b[0;34m\u001b[0m\n\u001b[1;32m      1\u001b[0m \u001b[0mx_3\u001b[0m\u001b[0;34m,\u001b[0m \u001b[0mQ_3\u001b[0m \u001b[0;34m=\u001b[0m \u001b[0mgodunov_ARZ\u001b[0m\u001b[0;34m(\u001b[0m\u001b[0mQ_0_3\u001b[0m\u001b[0;34m,\u001b[0m \u001b[0mdx\u001b[0m\u001b[0;34m,\u001b[0m \u001b[0mxl\u001b[0m\u001b[0;34m,\u001b[0m \u001b[0mxr\u001b[0m\u001b[0;34m,\u001b[0m \u001b[0mT\u001b[0m\u001b[0;34m,\u001b[0m \u001b[0mU\u001b[0m\u001b[0;34m,\u001b[0m \u001b[0mtau\u001b[0m\u001b[0;34m)\u001b[0m\u001b[0;34m\u001b[0m\u001b[0;34m\u001b[0m\u001b[0m\n\u001b[0;32m----> 2\u001b[0;31m get_animation(Q_3, x_3, U, len(Q_3), \"Modelo ARZ no homogéneo\" ,\n\u001b[0m\u001b[1;32m      3\u001b[0m               [\"Densidad\", \"Velocidad\", r\"$U_{eq}$\"], \"Charts/Q_3_prueba.gif\")\n",
      "\u001b[0;32m/var/folders/41/vskcwr5532bfb2q1wpk9q40h0000gn/T/ipykernel_59088/1260085089.py\u001b[0m in \u001b[0;36mget_animation\u001b[0;34m(Q, x, U, Nt, title, titles, path)\u001b[0m\n\u001b[1;32m     57\u001b[0m                                 interval=50, blit=True)\n\u001b[1;32m     58\u001b[0m \u001b[0;34m\u001b[0m\u001b[0m\n\u001b[0;32m---> 59\u001b[0;31m     \u001b[0mani\u001b[0m\u001b[0;34m.\u001b[0m\u001b[0msave\u001b[0m\u001b[0;34m(\u001b[0m\u001b[0mpath\u001b[0m\u001b[0;34m)\u001b[0m\u001b[0;34m\u001b[0m\u001b[0;34m\u001b[0m\u001b[0m\n\u001b[0m",
      "\u001b[0;32m~/opt/anaconda3/lib/python3.9/site-packages/matplotlib/animation.py\u001b[0m in \u001b[0;36msave\u001b[0;34m(self, filename, writer, fps, dpi, codec, bitrate, extra_args, metadata, extra_anim, savefig_kwargs, progress_callback)\u001b[0m\n\u001b[1;32m   1171\u001b[0m                 \u001b[0;32mfor\u001b[0m \u001b[0manim\u001b[0m\u001b[0;34m,\u001b[0m \u001b[0md\u001b[0m \u001b[0;32min\u001b[0m \u001b[0mzip\u001b[0m\u001b[0;34m(\u001b[0m\u001b[0mall_anim\u001b[0m\u001b[0;34m,\u001b[0m \u001b[0mdata\u001b[0m\u001b[0;34m)\u001b[0m\u001b[0;34m:\u001b[0m\u001b[0;34m\u001b[0m\u001b[0;34m\u001b[0m\u001b[0m\n\u001b[1;32m   1172\u001b[0m                     \u001b[0;31m# TODO: See if turning off blit is really necessary\u001b[0m\u001b[0;34m\u001b[0m\u001b[0;34m\u001b[0m\u001b[0m\n\u001b[0;32m-> 1173\u001b[0;31m                     \u001b[0manim\u001b[0m\u001b[0;34m.\u001b[0m\u001b[0m_draw_next_frame\u001b[0m\u001b[0;34m(\u001b[0m\u001b[0md\u001b[0m\u001b[0;34m,\u001b[0m \u001b[0mblit\u001b[0m\u001b[0;34m=\u001b[0m\u001b[0;32mFalse\u001b[0m\u001b[0;34m)\u001b[0m\u001b[0;34m\u001b[0m\u001b[0;34m\u001b[0m\u001b[0m\n\u001b[0m\u001b[1;32m   1174\u001b[0m                     \u001b[0;32mif\u001b[0m \u001b[0mprogress_callback\u001b[0m \u001b[0;32mis\u001b[0m \u001b[0;32mnot\u001b[0m \u001b[0;32mNone\u001b[0m\u001b[0;34m:\u001b[0m\u001b[0;34m\u001b[0m\u001b[0;34m\u001b[0m\u001b[0m\n\u001b[1;32m   1175\u001b[0m                         \u001b[0mprogress_callback\u001b[0m\u001b[0;34m(\u001b[0m\u001b[0mframe_number\u001b[0m\u001b[0;34m,\u001b[0m \u001b[0mtotal_frames\u001b[0m\u001b[0;34m)\u001b[0m\u001b[0;34m\u001b[0m\u001b[0;34m\u001b[0m\u001b[0m\n",
      "\u001b[0;32m~/opt/anaconda3/lib/python3.9/site-packages/matplotlib/animation.py\u001b[0m in \u001b[0;36m_draw_next_frame\u001b[0;34m(self, framedata, blit)\u001b[0m\n\u001b[1;32m   1207\u001b[0m         \u001b[0mself\u001b[0m\u001b[0;34m.\u001b[0m\u001b[0m_pre_draw\u001b[0m\u001b[0;34m(\u001b[0m\u001b[0mframedata\u001b[0m\u001b[0;34m,\u001b[0m \u001b[0mblit\u001b[0m\u001b[0;34m)\u001b[0m\u001b[0;34m\u001b[0m\u001b[0;34m\u001b[0m\u001b[0m\n\u001b[1;32m   1208\u001b[0m         \u001b[0mself\u001b[0m\u001b[0;34m.\u001b[0m\u001b[0m_draw_frame\u001b[0m\u001b[0;34m(\u001b[0m\u001b[0mframedata\u001b[0m\u001b[0;34m)\u001b[0m\u001b[0;34m\u001b[0m\u001b[0;34m\u001b[0m\u001b[0m\n\u001b[0;32m-> 1209\u001b[0;31m         \u001b[0mself\u001b[0m\u001b[0;34m.\u001b[0m\u001b[0m_post_draw\u001b[0m\u001b[0;34m(\u001b[0m\u001b[0mframedata\u001b[0m\u001b[0;34m,\u001b[0m \u001b[0mblit\u001b[0m\u001b[0;34m)\u001b[0m\u001b[0;34m\u001b[0m\u001b[0;34m\u001b[0m\u001b[0m\n\u001b[0m\u001b[1;32m   1210\u001b[0m \u001b[0;34m\u001b[0m\u001b[0m\n\u001b[1;32m   1211\u001b[0m     \u001b[0;32mdef\u001b[0m \u001b[0m_init_draw\u001b[0m\u001b[0;34m(\u001b[0m\u001b[0mself\u001b[0m\u001b[0;34m)\u001b[0m\u001b[0;34m:\u001b[0m\u001b[0;34m\u001b[0m\u001b[0;34m\u001b[0m\u001b[0m\n",
      "\u001b[0;32m~/opt/anaconda3/lib/python3.9/site-packages/matplotlib/animation.py\u001b[0m in \u001b[0;36m_post_draw\u001b[0;34m(self, framedata, blit)\u001b[0m\n\u001b[1;32m   1232\u001b[0m             \u001b[0mself\u001b[0m\u001b[0;34m.\u001b[0m\u001b[0m_blit_draw\u001b[0m\u001b[0;34m(\u001b[0m\u001b[0mself\u001b[0m\u001b[0;34m.\u001b[0m\u001b[0m_drawn_artists\u001b[0m\u001b[0;34m)\u001b[0m\u001b[0;34m\u001b[0m\u001b[0;34m\u001b[0m\u001b[0m\n\u001b[1;32m   1233\u001b[0m         \u001b[0;32melse\u001b[0m\u001b[0;34m:\u001b[0m\u001b[0;34m\u001b[0m\u001b[0;34m\u001b[0m\u001b[0m\n\u001b[0;32m-> 1234\u001b[0;31m             \u001b[0mself\u001b[0m\u001b[0;34m.\u001b[0m\u001b[0m_fig\u001b[0m\u001b[0;34m.\u001b[0m\u001b[0mcanvas\u001b[0m\u001b[0;34m.\u001b[0m\u001b[0mdraw_idle\u001b[0m\u001b[0;34m(\u001b[0m\u001b[0;34m)\u001b[0m\u001b[0;34m\u001b[0m\u001b[0;34m\u001b[0m\u001b[0m\n\u001b[0m\u001b[1;32m   1235\u001b[0m \u001b[0;34m\u001b[0m\u001b[0m\n\u001b[1;32m   1236\u001b[0m     \u001b[0;31m# The rest of the code in this class is to facilitate easy blitting\u001b[0m\u001b[0;34m\u001b[0m\u001b[0;34m\u001b[0m\u001b[0m\n",
      "\u001b[0;32m~/opt/anaconda3/lib/python3.9/site-packages/matplotlib/backend_bases.py\u001b[0m in \u001b[0;36mdraw_idle\u001b[0;34m(self, *args, **kwargs)\u001b[0m\n\u001b[1;32m   2053\u001b[0m         \u001b[0;32mif\u001b[0m \u001b[0;32mnot\u001b[0m \u001b[0mself\u001b[0m\u001b[0;34m.\u001b[0m\u001b[0m_is_idle_drawing\u001b[0m\u001b[0;34m:\u001b[0m\u001b[0;34m\u001b[0m\u001b[0;34m\u001b[0m\u001b[0m\n\u001b[1;32m   2054\u001b[0m             \u001b[0;32mwith\u001b[0m \u001b[0mself\u001b[0m\u001b[0;34m.\u001b[0m\u001b[0m_idle_draw_cntx\u001b[0m\u001b[0;34m(\u001b[0m\u001b[0;34m)\u001b[0m\u001b[0;34m:\u001b[0m\u001b[0;34m\u001b[0m\u001b[0;34m\u001b[0m\u001b[0m\n\u001b[0;32m-> 2055\u001b[0;31m                 \u001b[0mself\u001b[0m\u001b[0;34m.\u001b[0m\u001b[0mdraw\u001b[0m\u001b[0;34m(\u001b[0m\u001b[0;34m*\u001b[0m\u001b[0margs\u001b[0m\u001b[0;34m,\u001b[0m \u001b[0;34m**\u001b[0m\u001b[0mkwargs\u001b[0m\u001b[0;34m)\u001b[0m\u001b[0;34m\u001b[0m\u001b[0;34m\u001b[0m\u001b[0m\n\u001b[0m\u001b[1;32m   2056\u001b[0m \u001b[0;34m\u001b[0m\u001b[0m\n\u001b[1;32m   2057\u001b[0m     \u001b[0;32mdef\u001b[0m \u001b[0mget_width_height\u001b[0m\u001b[0;34m(\u001b[0m\u001b[0mself\u001b[0m\u001b[0;34m)\u001b[0m\u001b[0;34m:\u001b[0m\u001b[0;34m\u001b[0m\u001b[0;34m\u001b[0m\u001b[0m\n",
      "\u001b[0;32m~/opt/anaconda3/lib/python3.9/site-packages/matplotlib/backends/backend_agg.py\u001b[0m in \u001b[0;36mdraw\u001b[0;34m(self)\u001b[0m\n\u001b[1;32m    404\u001b[0m              (self.toolbar._wait_cursor_for_draw_cm() if self.toolbar\n\u001b[1;32m    405\u001b[0m               else nullcontext()):\n\u001b[0;32m--> 406\u001b[0;31m             \u001b[0mself\u001b[0m\u001b[0;34m.\u001b[0m\u001b[0mfigure\u001b[0m\u001b[0;34m.\u001b[0m\u001b[0mdraw\u001b[0m\u001b[0;34m(\u001b[0m\u001b[0mself\u001b[0m\u001b[0;34m.\u001b[0m\u001b[0mrenderer\u001b[0m\u001b[0;34m)\u001b[0m\u001b[0;34m\u001b[0m\u001b[0;34m\u001b[0m\u001b[0m\n\u001b[0m\u001b[1;32m    407\u001b[0m             \u001b[0;31m# A GUI class may be need to update a window using this draw, so\u001b[0m\u001b[0;34m\u001b[0m\u001b[0;34m\u001b[0m\u001b[0m\n\u001b[1;32m    408\u001b[0m             \u001b[0;31m# don't forget to call the superclass.\u001b[0m\u001b[0;34m\u001b[0m\u001b[0;34m\u001b[0m\u001b[0m\n",
      "\u001b[0;32m~/opt/anaconda3/lib/python3.9/site-packages/matplotlib/artist.py\u001b[0m in \u001b[0;36mdraw_wrapper\u001b[0;34m(artist, renderer, *args, **kwargs)\u001b[0m\n\u001b[1;32m     72\u001b[0m     \u001b[0;34m@\u001b[0m\u001b[0mwraps\u001b[0m\u001b[0;34m(\u001b[0m\u001b[0mdraw\u001b[0m\u001b[0;34m)\u001b[0m\u001b[0;34m\u001b[0m\u001b[0;34m\u001b[0m\u001b[0m\n\u001b[1;32m     73\u001b[0m     \u001b[0;32mdef\u001b[0m \u001b[0mdraw_wrapper\u001b[0m\u001b[0;34m(\u001b[0m\u001b[0martist\u001b[0m\u001b[0;34m,\u001b[0m \u001b[0mrenderer\u001b[0m\u001b[0;34m,\u001b[0m \u001b[0;34m*\u001b[0m\u001b[0margs\u001b[0m\u001b[0;34m,\u001b[0m \u001b[0;34m**\u001b[0m\u001b[0mkwargs\u001b[0m\u001b[0;34m)\u001b[0m\u001b[0;34m:\u001b[0m\u001b[0;34m\u001b[0m\u001b[0;34m\u001b[0m\u001b[0m\n\u001b[0;32m---> 74\u001b[0;31m         \u001b[0mresult\u001b[0m \u001b[0;34m=\u001b[0m \u001b[0mdraw\u001b[0m\u001b[0;34m(\u001b[0m\u001b[0martist\u001b[0m\u001b[0;34m,\u001b[0m \u001b[0mrenderer\u001b[0m\u001b[0;34m,\u001b[0m \u001b[0;34m*\u001b[0m\u001b[0margs\u001b[0m\u001b[0;34m,\u001b[0m \u001b[0;34m**\u001b[0m\u001b[0mkwargs\u001b[0m\u001b[0;34m)\u001b[0m\u001b[0;34m\u001b[0m\u001b[0;34m\u001b[0m\u001b[0m\n\u001b[0m\u001b[1;32m     75\u001b[0m         \u001b[0;32mif\u001b[0m \u001b[0mrenderer\u001b[0m\u001b[0;34m.\u001b[0m\u001b[0m_rasterizing\u001b[0m\u001b[0;34m:\u001b[0m\u001b[0;34m\u001b[0m\u001b[0;34m\u001b[0m\u001b[0m\n\u001b[1;32m     76\u001b[0m             \u001b[0mrenderer\u001b[0m\u001b[0;34m.\u001b[0m\u001b[0mstop_rasterizing\u001b[0m\u001b[0;34m(\u001b[0m\u001b[0;34m)\u001b[0m\u001b[0;34m\u001b[0m\u001b[0;34m\u001b[0m\u001b[0m\n",
      "\u001b[0;32m~/opt/anaconda3/lib/python3.9/site-packages/matplotlib/artist.py\u001b[0m in \u001b[0;36mdraw_wrapper\u001b[0;34m(artist, renderer, *args, **kwargs)\u001b[0m\n\u001b[1;32m     49\u001b[0m                 \u001b[0mrenderer\u001b[0m\u001b[0;34m.\u001b[0m\u001b[0mstart_filter\u001b[0m\u001b[0;34m(\u001b[0m\u001b[0;34m)\u001b[0m\u001b[0;34m\u001b[0m\u001b[0;34m\u001b[0m\u001b[0m\n\u001b[1;32m     50\u001b[0m \u001b[0;34m\u001b[0m\u001b[0m\n\u001b[0;32m---> 51\u001b[0;31m             \u001b[0;32mreturn\u001b[0m \u001b[0mdraw\u001b[0m\u001b[0;34m(\u001b[0m\u001b[0martist\u001b[0m\u001b[0;34m,\u001b[0m \u001b[0mrenderer\u001b[0m\u001b[0;34m,\u001b[0m \u001b[0;34m*\u001b[0m\u001b[0margs\u001b[0m\u001b[0;34m,\u001b[0m \u001b[0;34m**\u001b[0m\u001b[0mkwargs\u001b[0m\u001b[0;34m)\u001b[0m\u001b[0;34m\u001b[0m\u001b[0;34m\u001b[0m\u001b[0m\n\u001b[0m\u001b[1;32m     52\u001b[0m         \u001b[0;32mfinally\u001b[0m\u001b[0;34m:\u001b[0m\u001b[0;34m\u001b[0m\u001b[0;34m\u001b[0m\u001b[0m\n\u001b[1;32m     53\u001b[0m             \u001b[0;32mif\u001b[0m \u001b[0martist\u001b[0m\u001b[0;34m.\u001b[0m\u001b[0mget_agg_filter\u001b[0m\u001b[0;34m(\u001b[0m\u001b[0;34m)\u001b[0m \u001b[0;32mis\u001b[0m \u001b[0;32mnot\u001b[0m \u001b[0;32mNone\u001b[0m\u001b[0;34m:\u001b[0m\u001b[0;34m\u001b[0m\u001b[0;34m\u001b[0m\u001b[0m\n",
      "\u001b[0;32m~/opt/anaconda3/lib/python3.9/site-packages/matplotlib/figure.py\u001b[0m in \u001b[0;36mdraw\u001b[0;34m(self, renderer)\u001b[0m\n\u001b[1;32m   2788\u001b[0m \u001b[0;34m\u001b[0m\u001b[0m\n\u001b[1;32m   2789\u001b[0m             \u001b[0mself\u001b[0m\u001b[0;34m.\u001b[0m\u001b[0mpatch\u001b[0m\u001b[0;34m.\u001b[0m\u001b[0mdraw\u001b[0m\u001b[0;34m(\u001b[0m\u001b[0mrenderer\u001b[0m\u001b[0;34m)\u001b[0m\u001b[0;34m\u001b[0m\u001b[0;34m\u001b[0m\u001b[0m\n\u001b[0;32m-> 2790\u001b[0;31m             mimage._draw_list_compositing_images(\n\u001b[0m\u001b[1;32m   2791\u001b[0m                 renderer, self, artists, self.suppressComposite)\n\u001b[1;32m   2792\u001b[0m \u001b[0;34m\u001b[0m\u001b[0m\n",
      "\u001b[0;32m~/opt/anaconda3/lib/python3.9/site-packages/matplotlib/image.py\u001b[0m in \u001b[0;36m_draw_list_compositing_images\u001b[0;34m(renderer, parent, artists, suppress_composite)\u001b[0m\n\u001b[1;32m    130\u001b[0m     \u001b[0;32mif\u001b[0m \u001b[0mnot_composite\u001b[0m \u001b[0;32mor\u001b[0m \u001b[0;32mnot\u001b[0m \u001b[0mhas_images\u001b[0m\u001b[0;34m:\u001b[0m\u001b[0;34m\u001b[0m\u001b[0;34m\u001b[0m\u001b[0m\n\u001b[1;32m    131\u001b[0m         \u001b[0;32mfor\u001b[0m \u001b[0ma\u001b[0m \u001b[0;32min\u001b[0m \u001b[0martists\u001b[0m\u001b[0;34m:\u001b[0m\u001b[0;34m\u001b[0m\u001b[0;34m\u001b[0m\u001b[0m\n\u001b[0;32m--> 132\u001b[0;31m             \u001b[0ma\u001b[0m\u001b[0;34m.\u001b[0m\u001b[0mdraw\u001b[0m\u001b[0;34m(\u001b[0m\u001b[0mrenderer\u001b[0m\u001b[0;34m)\u001b[0m\u001b[0;34m\u001b[0m\u001b[0;34m\u001b[0m\u001b[0m\n\u001b[0m\u001b[1;32m    133\u001b[0m     \u001b[0;32melse\u001b[0m\u001b[0;34m:\u001b[0m\u001b[0;34m\u001b[0m\u001b[0;34m\u001b[0m\u001b[0m\n\u001b[1;32m    134\u001b[0m         \u001b[0;31m# Composite any adjacent images together\u001b[0m\u001b[0;34m\u001b[0m\u001b[0;34m\u001b[0m\u001b[0m\n",
      "\u001b[0;32m~/opt/anaconda3/lib/python3.9/site-packages/matplotlib/artist.py\u001b[0m in \u001b[0;36mdraw_wrapper\u001b[0;34m(artist, renderer, *args, **kwargs)\u001b[0m\n\u001b[1;32m     49\u001b[0m                 \u001b[0mrenderer\u001b[0m\u001b[0;34m.\u001b[0m\u001b[0mstart_filter\u001b[0m\u001b[0;34m(\u001b[0m\u001b[0;34m)\u001b[0m\u001b[0;34m\u001b[0m\u001b[0;34m\u001b[0m\u001b[0m\n\u001b[1;32m     50\u001b[0m \u001b[0;34m\u001b[0m\u001b[0m\n\u001b[0;32m---> 51\u001b[0;31m             \u001b[0;32mreturn\u001b[0m \u001b[0mdraw\u001b[0m\u001b[0;34m(\u001b[0m\u001b[0martist\u001b[0m\u001b[0;34m,\u001b[0m \u001b[0mrenderer\u001b[0m\u001b[0;34m,\u001b[0m \u001b[0;34m*\u001b[0m\u001b[0margs\u001b[0m\u001b[0;34m,\u001b[0m \u001b[0;34m**\u001b[0m\u001b[0mkwargs\u001b[0m\u001b[0;34m)\u001b[0m\u001b[0;34m\u001b[0m\u001b[0;34m\u001b[0m\u001b[0m\n\u001b[0m\u001b[1;32m     52\u001b[0m         \u001b[0;32mfinally\u001b[0m\u001b[0;34m:\u001b[0m\u001b[0;34m\u001b[0m\u001b[0;34m\u001b[0m\u001b[0m\n\u001b[1;32m     53\u001b[0m             \u001b[0;32mif\u001b[0m \u001b[0martist\u001b[0m\u001b[0;34m.\u001b[0m\u001b[0mget_agg_filter\u001b[0m\u001b[0;34m(\u001b[0m\u001b[0;34m)\u001b[0m \u001b[0;32mis\u001b[0m \u001b[0;32mnot\u001b[0m \u001b[0;32mNone\u001b[0m\u001b[0;34m:\u001b[0m\u001b[0;34m\u001b[0m\u001b[0;34m\u001b[0m\u001b[0m\n",
      "\u001b[0;32m~/opt/anaconda3/lib/python3.9/site-packages/matplotlib/_api/deprecation.py\u001b[0m in \u001b[0;36mwrapper\u001b[0;34m(*inner_args, **inner_kwargs)\u001b[0m\n\u001b[1;32m    429\u001b[0m                          \u001b[0;32melse\u001b[0m \u001b[0mdeprecation_addendum\u001b[0m\u001b[0;34m,\u001b[0m\u001b[0;34m\u001b[0m\u001b[0;34m\u001b[0m\u001b[0m\n\u001b[1;32m    430\u001b[0m                 **kwargs)\n\u001b[0;32m--> 431\u001b[0;31m         \u001b[0;32mreturn\u001b[0m \u001b[0mfunc\u001b[0m\u001b[0;34m(\u001b[0m\u001b[0;34m*\u001b[0m\u001b[0minner_args\u001b[0m\u001b[0;34m,\u001b[0m \u001b[0;34m**\u001b[0m\u001b[0minner_kwargs\u001b[0m\u001b[0;34m)\u001b[0m\u001b[0;34m\u001b[0m\u001b[0;34m\u001b[0m\u001b[0m\n\u001b[0m\u001b[1;32m    432\u001b[0m \u001b[0;34m\u001b[0m\u001b[0m\n\u001b[1;32m    433\u001b[0m     \u001b[0;32mreturn\u001b[0m \u001b[0mwrapper\u001b[0m\u001b[0;34m\u001b[0m\u001b[0;34m\u001b[0m\u001b[0m\n",
      "\u001b[0;32m~/opt/anaconda3/lib/python3.9/site-packages/matplotlib/axes/_base.py\u001b[0m in \u001b[0;36mdraw\u001b[0;34m(self, renderer, inframe)\u001b[0m\n\u001b[1;32m   2919\u001b[0m             \u001b[0mrenderer\u001b[0m\u001b[0;34m.\u001b[0m\u001b[0mstop_rasterizing\u001b[0m\u001b[0;34m(\u001b[0m\u001b[0;34m)\u001b[0m\u001b[0;34m\u001b[0m\u001b[0;34m\u001b[0m\u001b[0m\n\u001b[1;32m   2920\u001b[0m \u001b[0;34m\u001b[0m\u001b[0m\n\u001b[0;32m-> 2921\u001b[0;31m         \u001b[0mmimage\u001b[0m\u001b[0;34m.\u001b[0m\u001b[0m_draw_list_compositing_images\u001b[0m\u001b[0;34m(\u001b[0m\u001b[0mrenderer\u001b[0m\u001b[0;34m,\u001b[0m \u001b[0mself\u001b[0m\u001b[0;34m,\u001b[0m \u001b[0martists\u001b[0m\u001b[0;34m)\u001b[0m\u001b[0;34m\u001b[0m\u001b[0;34m\u001b[0m\u001b[0m\n\u001b[0m\u001b[1;32m   2922\u001b[0m \u001b[0;34m\u001b[0m\u001b[0m\n\u001b[1;32m   2923\u001b[0m         \u001b[0mrenderer\u001b[0m\u001b[0;34m.\u001b[0m\u001b[0mclose_group\u001b[0m\u001b[0;34m(\u001b[0m\u001b[0;34m'axes'\u001b[0m\u001b[0;34m)\u001b[0m\u001b[0;34m\u001b[0m\u001b[0;34m\u001b[0m\u001b[0m\n",
      "\u001b[0;32m~/opt/anaconda3/lib/python3.9/site-packages/matplotlib/image.py\u001b[0m in \u001b[0;36m_draw_list_compositing_images\u001b[0;34m(renderer, parent, artists, suppress_composite)\u001b[0m\n\u001b[1;32m    130\u001b[0m     \u001b[0;32mif\u001b[0m \u001b[0mnot_composite\u001b[0m \u001b[0;32mor\u001b[0m \u001b[0;32mnot\u001b[0m \u001b[0mhas_images\u001b[0m\u001b[0;34m:\u001b[0m\u001b[0;34m\u001b[0m\u001b[0;34m\u001b[0m\u001b[0m\n\u001b[1;32m    131\u001b[0m         \u001b[0;32mfor\u001b[0m \u001b[0ma\u001b[0m \u001b[0;32min\u001b[0m \u001b[0martists\u001b[0m\u001b[0;34m:\u001b[0m\u001b[0;34m\u001b[0m\u001b[0;34m\u001b[0m\u001b[0m\n\u001b[0;32m--> 132\u001b[0;31m             \u001b[0ma\u001b[0m\u001b[0;34m.\u001b[0m\u001b[0mdraw\u001b[0m\u001b[0;34m(\u001b[0m\u001b[0mrenderer\u001b[0m\u001b[0;34m)\u001b[0m\u001b[0;34m\u001b[0m\u001b[0;34m\u001b[0m\u001b[0m\n\u001b[0m\u001b[1;32m    133\u001b[0m     \u001b[0;32melse\u001b[0m\u001b[0;34m:\u001b[0m\u001b[0;34m\u001b[0m\u001b[0;34m\u001b[0m\u001b[0m\n\u001b[1;32m    134\u001b[0m         \u001b[0;31m# Composite any adjacent images together\u001b[0m\u001b[0;34m\u001b[0m\u001b[0;34m\u001b[0m\u001b[0m\n",
      "\u001b[0;32m~/opt/anaconda3/lib/python3.9/site-packages/matplotlib/artist.py\u001b[0m in \u001b[0;36mdraw_wrapper\u001b[0;34m(artist, renderer, *args, **kwargs)\u001b[0m\n\u001b[1;32m     49\u001b[0m                 \u001b[0mrenderer\u001b[0m\u001b[0;34m.\u001b[0m\u001b[0mstart_filter\u001b[0m\u001b[0;34m(\u001b[0m\u001b[0;34m)\u001b[0m\u001b[0;34m\u001b[0m\u001b[0;34m\u001b[0m\u001b[0m\n\u001b[1;32m     50\u001b[0m \u001b[0;34m\u001b[0m\u001b[0m\n\u001b[0;32m---> 51\u001b[0;31m             \u001b[0;32mreturn\u001b[0m \u001b[0mdraw\u001b[0m\u001b[0;34m(\u001b[0m\u001b[0martist\u001b[0m\u001b[0;34m,\u001b[0m \u001b[0mrenderer\u001b[0m\u001b[0;34m,\u001b[0m \u001b[0;34m*\u001b[0m\u001b[0margs\u001b[0m\u001b[0;34m,\u001b[0m \u001b[0;34m**\u001b[0m\u001b[0mkwargs\u001b[0m\u001b[0;34m)\u001b[0m\u001b[0;34m\u001b[0m\u001b[0;34m\u001b[0m\u001b[0m\n\u001b[0m\u001b[1;32m     52\u001b[0m         \u001b[0;32mfinally\u001b[0m\u001b[0;34m:\u001b[0m\u001b[0;34m\u001b[0m\u001b[0;34m\u001b[0m\u001b[0m\n\u001b[1;32m     53\u001b[0m             \u001b[0;32mif\u001b[0m \u001b[0martist\u001b[0m\u001b[0;34m.\u001b[0m\u001b[0mget_agg_filter\u001b[0m\u001b[0;34m(\u001b[0m\u001b[0;34m)\u001b[0m \u001b[0;32mis\u001b[0m \u001b[0;32mnot\u001b[0m \u001b[0;32mNone\u001b[0m\u001b[0;34m:\u001b[0m\u001b[0;34m\u001b[0m\u001b[0;34m\u001b[0m\u001b[0m\n",
      "\u001b[0;32m~/opt/anaconda3/lib/python3.9/site-packages/matplotlib/axis.py\u001b[0m in \u001b[0;36mdraw\u001b[0;34m(self, renderer, *args, **kwargs)\u001b[0m\n\u001b[1;32m   1139\u001b[0m         \u001b[0mrenderer\u001b[0m\u001b[0;34m.\u001b[0m\u001b[0mopen_group\u001b[0m\u001b[0;34m(\u001b[0m\u001b[0m__name__\u001b[0m\u001b[0;34m,\u001b[0m \u001b[0mgid\u001b[0m\u001b[0;34m=\u001b[0m\u001b[0mself\u001b[0m\u001b[0;34m.\u001b[0m\u001b[0mget_gid\u001b[0m\u001b[0;34m(\u001b[0m\u001b[0;34m)\u001b[0m\u001b[0;34m)\u001b[0m\u001b[0;34m\u001b[0m\u001b[0;34m\u001b[0m\u001b[0m\n\u001b[1;32m   1140\u001b[0m \u001b[0;34m\u001b[0m\u001b[0m\n\u001b[0;32m-> 1141\u001b[0;31m         \u001b[0mticks_to_draw\u001b[0m \u001b[0;34m=\u001b[0m \u001b[0mself\u001b[0m\u001b[0;34m.\u001b[0m\u001b[0m_update_ticks\u001b[0m\u001b[0;34m(\u001b[0m\u001b[0;34m)\u001b[0m\u001b[0;34m\u001b[0m\u001b[0;34m\u001b[0m\u001b[0m\n\u001b[0m\u001b[1;32m   1142\u001b[0m         ticklabelBoxes, ticklabelBoxes2 = self._get_tick_bboxes(ticks_to_draw,\n\u001b[1;32m   1143\u001b[0m                                                                 renderer)\n",
      "\u001b[0;32m~/opt/anaconda3/lib/python3.9/site-packages/matplotlib/axis.py\u001b[0m in \u001b[0;36m_update_ticks\u001b[0;34m(self)\u001b[0m\n\u001b[1;32m   1034\u001b[0m             \u001b[0mtick\u001b[0m\u001b[0;34m.\u001b[0m\u001b[0mset_label1\u001b[0m\u001b[0;34m(\u001b[0m\u001b[0mlabel\u001b[0m\u001b[0;34m)\u001b[0m\u001b[0;34m\u001b[0m\u001b[0;34m\u001b[0m\u001b[0m\n\u001b[1;32m   1035\u001b[0m             \u001b[0mtick\u001b[0m\u001b[0;34m.\u001b[0m\u001b[0mset_label2\u001b[0m\u001b[0;34m(\u001b[0m\u001b[0mlabel\u001b[0m\u001b[0;34m)\u001b[0m\u001b[0;34m\u001b[0m\u001b[0;34m\u001b[0m\u001b[0m\n\u001b[0;32m-> 1036\u001b[0;31m         \u001b[0mminor_locs\u001b[0m \u001b[0;34m=\u001b[0m \u001b[0mself\u001b[0m\u001b[0;34m.\u001b[0m\u001b[0mget_minorticklocs\u001b[0m\u001b[0;34m(\u001b[0m\u001b[0;34m)\u001b[0m\u001b[0;34m\u001b[0m\u001b[0;34m\u001b[0m\u001b[0m\n\u001b[0m\u001b[1;32m   1037\u001b[0m         \u001b[0mminor_labels\u001b[0m \u001b[0;34m=\u001b[0m \u001b[0mself\u001b[0m\u001b[0;34m.\u001b[0m\u001b[0mminor\u001b[0m\u001b[0;34m.\u001b[0m\u001b[0mformatter\u001b[0m\u001b[0;34m.\u001b[0m\u001b[0mformat_ticks\u001b[0m\u001b[0;34m(\u001b[0m\u001b[0mminor_locs\u001b[0m\u001b[0;34m)\u001b[0m\u001b[0;34m\u001b[0m\u001b[0;34m\u001b[0m\u001b[0m\n\u001b[1;32m   1038\u001b[0m         \u001b[0mminor_ticks\u001b[0m \u001b[0;34m=\u001b[0m \u001b[0mself\u001b[0m\u001b[0;34m.\u001b[0m\u001b[0mget_minor_ticks\u001b[0m\u001b[0;34m(\u001b[0m\u001b[0mlen\u001b[0m\u001b[0;34m(\u001b[0m\u001b[0mminor_locs\u001b[0m\u001b[0;34m)\u001b[0m\u001b[0;34m)\u001b[0m\u001b[0;34m\u001b[0m\u001b[0;34m\u001b[0m\u001b[0m\n",
      "\u001b[0;32m~/opt/anaconda3/lib/python3.9/site-packages/matplotlib/axis.py\u001b[0m in \u001b[0;36mget_minorticklocs\u001b[0;34m(self)\u001b[0m\n\u001b[1;32m   1263\u001b[0m         \u001b[0;34m\"\"\"Return this Axis' minor tick locations in data coordinates.\"\"\"\u001b[0m\u001b[0;34m\u001b[0m\u001b[0;34m\u001b[0m\u001b[0m\n\u001b[1;32m   1264\u001b[0m         \u001b[0;31m# Remove minor ticks duplicating major ticks.\u001b[0m\u001b[0;34m\u001b[0m\u001b[0;34m\u001b[0m\u001b[0m\n\u001b[0;32m-> 1265\u001b[0;31m         \u001b[0mmajor_locs\u001b[0m \u001b[0;34m=\u001b[0m \u001b[0mself\u001b[0m\u001b[0;34m.\u001b[0m\u001b[0mmajor\u001b[0m\u001b[0;34m.\u001b[0m\u001b[0mlocator\u001b[0m\u001b[0;34m(\u001b[0m\u001b[0;34m)\u001b[0m\u001b[0;34m\u001b[0m\u001b[0;34m\u001b[0m\u001b[0m\n\u001b[0m\u001b[1;32m   1266\u001b[0m         \u001b[0mminor_locs\u001b[0m \u001b[0;34m=\u001b[0m \u001b[0mself\u001b[0m\u001b[0;34m.\u001b[0m\u001b[0mminor\u001b[0m\u001b[0;34m.\u001b[0m\u001b[0mlocator\u001b[0m\u001b[0;34m(\u001b[0m\u001b[0;34m)\u001b[0m\u001b[0;34m\u001b[0m\u001b[0;34m\u001b[0m\u001b[0m\n\u001b[1;32m   1267\u001b[0m         \u001b[0mtransform\u001b[0m \u001b[0;34m=\u001b[0m \u001b[0mself\u001b[0m\u001b[0;34m.\u001b[0m\u001b[0m_scale\u001b[0m\u001b[0;34m.\u001b[0m\u001b[0mget_transform\u001b[0m\u001b[0;34m(\u001b[0m\u001b[0;34m)\u001b[0m\u001b[0;34m\u001b[0m\u001b[0;34m\u001b[0m\u001b[0m\n",
      "\u001b[0;32m~/opt/anaconda3/lib/python3.9/site-packages/matplotlib/ticker.py\u001b[0m in \u001b[0;36m__call__\u001b[0;34m(self)\u001b[0m\n\u001b[1;32m   2262\u001b[0m     \u001b[0;32mdef\u001b[0m \u001b[0m__call__\u001b[0m\u001b[0;34m(\u001b[0m\u001b[0mself\u001b[0m\u001b[0;34m)\u001b[0m\u001b[0;34m:\u001b[0m\u001b[0;34m\u001b[0m\u001b[0;34m\u001b[0m\u001b[0m\n\u001b[1;32m   2263\u001b[0m         \u001b[0mvmin\u001b[0m\u001b[0;34m,\u001b[0m \u001b[0mvmax\u001b[0m \u001b[0;34m=\u001b[0m \u001b[0mself\u001b[0m\u001b[0;34m.\u001b[0m\u001b[0maxis\u001b[0m\u001b[0;34m.\u001b[0m\u001b[0mget_view_interval\u001b[0m\u001b[0;34m(\u001b[0m\u001b[0;34m)\u001b[0m\u001b[0;34m\u001b[0m\u001b[0;34m\u001b[0m\u001b[0m\n\u001b[0;32m-> 2264\u001b[0;31m         \u001b[0;32mreturn\u001b[0m \u001b[0mself\u001b[0m\u001b[0;34m.\u001b[0m\u001b[0mtick_values\u001b[0m\u001b[0;34m(\u001b[0m\u001b[0mvmin\u001b[0m\u001b[0;34m,\u001b[0m \u001b[0mvmax\u001b[0m\u001b[0;34m)\u001b[0m\u001b[0;34m\u001b[0m\u001b[0;34m\u001b[0m\u001b[0m\n\u001b[0m\u001b[1;32m   2265\u001b[0m \u001b[0;34m\u001b[0m\u001b[0m\n\u001b[1;32m   2266\u001b[0m     \u001b[0;32mdef\u001b[0m \u001b[0mtick_values\u001b[0m\u001b[0;34m(\u001b[0m\u001b[0mself\u001b[0m\u001b[0;34m,\u001b[0m \u001b[0mvmin\u001b[0m\u001b[0;34m,\u001b[0m \u001b[0mvmax\u001b[0m\u001b[0;34m)\u001b[0m\u001b[0;34m:\u001b[0m\u001b[0;34m\u001b[0m\u001b[0;34m\u001b[0m\u001b[0m\n",
      "\u001b[0;32m~/opt/anaconda3/lib/python3.9/site-packages/matplotlib/ticker.py\u001b[0m in \u001b[0;36mtick_values\u001b[0;34m(self, vmin, vmax)\u001b[0m\n\u001b[1;32m   2270\u001b[0m         vmin, vmax = mtransforms.nonsingular(\n\u001b[1;32m   2271\u001b[0m             vmin, vmax, expander=1e-13, tiny=1e-14)\n\u001b[0;32m-> 2272\u001b[0;31m         \u001b[0mlocs\u001b[0m \u001b[0;34m=\u001b[0m \u001b[0mself\u001b[0m\u001b[0;34m.\u001b[0m\u001b[0m_raw_ticks\u001b[0m\u001b[0;34m(\u001b[0m\u001b[0mvmin\u001b[0m\u001b[0;34m,\u001b[0m \u001b[0mvmax\u001b[0m\u001b[0;34m)\u001b[0m\u001b[0;34m\u001b[0m\u001b[0;34m\u001b[0m\u001b[0m\n\u001b[0m\u001b[1;32m   2273\u001b[0m \u001b[0;34m\u001b[0m\u001b[0m\n\u001b[1;32m   2274\u001b[0m         \u001b[0mprune\u001b[0m \u001b[0;34m=\u001b[0m \u001b[0mself\u001b[0m\u001b[0;34m.\u001b[0m\u001b[0m_prune\u001b[0m\u001b[0;34m\u001b[0m\u001b[0;34m\u001b[0m\u001b[0m\n",
      "\u001b[0;32m~/opt/anaconda3/lib/python3.9/site-packages/matplotlib/ticker.py\u001b[0m in \u001b[0;36m_raw_ticks\u001b[0;34m(self, vmin, vmax)\u001b[0m\n\u001b[1;32m   2209\u001b[0m         \u001b[0;32mif\u001b[0m \u001b[0mself\u001b[0m\u001b[0;34m.\u001b[0m\u001b[0m_nbins\u001b[0m \u001b[0;34m==\u001b[0m \u001b[0;34m'auto'\u001b[0m\u001b[0;34m:\u001b[0m\u001b[0;34m\u001b[0m\u001b[0;34m\u001b[0m\u001b[0m\n\u001b[1;32m   2210\u001b[0m             \u001b[0;32mif\u001b[0m \u001b[0mself\u001b[0m\u001b[0;34m.\u001b[0m\u001b[0maxis\u001b[0m \u001b[0;32mis\u001b[0m \u001b[0;32mnot\u001b[0m \u001b[0;32mNone\u001b[0m\u001b[0;34m:\u001b[0m\u001b[0;34m\u001b[0m\u001b[0;34m\u001b[0m\u001b[0m\n\u001b[0;32m-> 2211\u001b[0;31m                 nbins = np.clip(self.axis.get_tick_space(),\n\u001b[0m\u001b[1;32m   2212\u001b[0m                                 max(1, self._min_n_ticks - 1), 9)\n\u001b[1;32m   2213\u001b[0m             \u001b[0;32melse\u001b[0m\u001b[0;34m:\u001b[0m\u001b[0;34m\u001b[0m\u001b[0;34m\u001b[0m\u001b[0m\n",
      "\u001b[0;32m~/opt/anaconda3/lib/python3.9/site-packages/matplotlib/axis.py\u001b[0m in \u001b[0;36mget_tick_space\u001b[0;34m(self)\u001b[0m\n\u001b[1;32m   2267\u001b[0m \u001b[0;34m\u001b[0m\u001b[0m\n\u001b[1;32m   2268\u001b[0m     \u001b[0;32mdef\u001b[0m \u001b[0mget_tick_space\u001b[0m\u001b[0;34m(\u001b[0m\u001b[0mself\u001b[0m\u001b[0;34m)\u001b[0m\u001b[0;34m:\u001b[0m\u001b[0;34m\u001b[0m\u001b[0;34m\u001b[0m\u001b[0m\n\u001b[0;32m-> 2269\u001b[0;31m         \u001b[0mends\u001b[0m \u001b[0;34m=\u001b[0m \u001b[0mmtransforms\u001b[0m\u001b[0;34m.\u001b[0m\u001b[0mBbox\u001b[0m\u001b[0;34m.\u001b[0m\u001b[0mfrom_bounds\u001b[0m\u001b[0;34m(\u001b[0m\u001b[0;36m0\u001b[0m\u001b[0;34m,\u001b[0m \u001b[0;36m0\u001b[0m\u001b[0;34m,\u001b[0m \u001b[0;36m1\u001b[0m\u001b[0;34m,\u001b[0m \u001b[0;36m1\u001b[0m\u001b[0;34m)\u001b[0m\u001b[0;34m\u001b[0m\u001b[0;34m\u001b[0m\u001b[0m\n\u001b[0m\u001b[1;32m   2270\u001b[0m         ends = ends.transformed(self.axes.transAxes -\n\u001b[1;32m   2271\u001b[0m                                 self.figure.dpi_scale_trans)\n",
      "\u001b[0;32m~/opt/anaconda3/lib/python3.9/site-packages/matplotlib/transforms.py\u001b[0m in \u001b[0;36mfrom_bounds\u001b[0;34m(x0, y0, width, height)\u001b[0m\n\u001b[1;32m    825\u001b[0m         \u001b[0;34m*\u001b[0m\u001b[0mwidth\u001b[0m\u001b[0;34m*\u001b[0m \u001b[0;32mand\u001b[0m \u001b[0;34m*\u001b[0m\u001b[0mheight\u001b[0m\u001b[0;34m*\u001b[0m \u001b[0mmay\u001b[0m \u001b[0mbe\u001b[0m \u001b[0mnegative\u001b[0m\u001b[0;34m.\u001b[0m\u001b[0;34m\u001b[0m\u001b[0;34m\u001b[0m\u001b[0m\n\u001b[1;32m    826\u001b[0m         \"\"\"\n\u001b[0;32m--> 827\u001b[0;31m         \u001b[0;32mreturn\u001b[0m \u001b[0mBbox\u001b[0m\u001b[0;34m.\u001b[0m\u001b[0mfrom_extents\u001b[0m\u001b[0;34m(\u001b[0m\u001b[0mx0\u001b[0m\u001b[0;34m,\u001b[0m \u001b[0my0\u001b[0m\u001b[0;34m,\u001b[0m \u001b[0mx0\u001b[0m \u001b[0;34m+\u001b[0m \u001b[0mwidth\u001b[0m\u001b[0;34m,\u001b[0m \u001b[0my0\u001b[0m \u001b[0;34m+\u001b[0m \u001b[0mheight\u001b[0m\u001b[0;34m)\u001b[0m\u001b[0;34m\u001b[0m\u001b[0;34m\u001b[0m\u001b[0m\n\u001b[0m\u001b[1;32m    828\u001b[0m \u001b[0;34m\u001b[0m\u001b[0m\n\u001b[1;32m    829\u001b[0m     \u001b[0;34m@\u001b[0m\u001b[0mstaticmethod\u001b[0m\u001b[0;34m\u001b[0m\u001b[0;34m\u001b[0m\u001b[0m\n",
      "\u001b[0;32m~/opt/anaconda3/lib/python3.9/site-packages/matplotlib/transforms.py\u001b[0m in \u001b[0;36mfrom_extents\u001b[0;34m(minpos, *args)\u001b[0m\n\u001b[1;32m    844\u001b[0m            \u001b[0mscales\u001b[0m \u001b[0mwhere\u001b[0m \u001b[0mnegative\u001b[0m \u001b[0mbounds\u001b[0m \u001b[0mresult\u001b[0m \u001b[0;32min\u001b[0m \u001b[0mfloating\u001b[0m \u001b[0mpoint\u001b[0m \u001b[0merrors\u001b[0m\u001b[0;34m.\u001b[0m\u001b[0;34m\u001b[0m\u001b[0;34m\u001b[0m\u001b[0m\n\u001b[1;32m    845\u001b[0m         \"\"\"\n\u001b[0;32m--> 846\u001b[0;31m         \u001b[0mbbox\u001b[0m \u001b[0;34m=\u001b[0m \u001b[0mBbox\u001b[0m\u001b[0;34m(\u001b[0m\u001b[0mnp\u001b[0m\u001b[0;34m.\u001b[0m\u001b[0mreshape\u001b[0m\u001b[0;34m(\u001b[0m\u001b[0margs\u001b[0m\u001b[0;34m,\u001b[0m \u001b[0;34m(\u001b[0m\u001b[0;36m2\u001b[0m\u001b[0;34m,\u001b[0m \u001b[0;36m2\u001b[0m\u001b[0;34m)\u001b[0m\u001b[0;34m)\u001b[0m\u001b[0;34m)\u001b[0m\u001b[0;34m\u001b[0m\u001b[0;34m\u001b[0m\u001b[0m\n\u001b[0m\u001b[1;32m    847\u001b[0m         \u001b[0;32mif\u001b[0m \u001b[0mminpos\u001b[0m \u001b[0;32mis\u001b[0m \u001b[0;32mnot\u001b[0m \u001b[0;32mNone\u001b[0m\u001b[0;34m:\u001b[0m\u001b[0;34m\u001b[0m\u001b[0;34m\u001b[0m\u001b[0m\n\u001b[1;32m    848\u001b[0m             \u001b[0mbbox\u001b[0m\u001b[0;34m.\u001b[0m\u001b[0m_minpos\u001b[0m\u001b[0;34m[\u001b[0m\u001b[0;34m:\u001b[0m\u001b[0;34m]\u001b[0m \u001b[0;34m=\u001b[0m \u001b[0mminpos\u001b[0m\u001b[0;34m\u001b[0m\u001b[0;34m\u001b[0m\u001b[0m\n",
      "\u001b[0;32m~/opt/anaconda3/lib/python3.9/site-packages/matplotlib/transforms.py\u001b[0m in \u001b[0;36m__init__\u001b[0;34m(self, points, **kwargs)\u001b[0m\n\u001b[1;32m    785\u001b[0m             \u001b[0mA\u001b[0m \u001b[0;36m2\u001b[0m\u001b[0mx2\u001b[0m \u001b[0mnumpy\u001b[0m \u001b[0marray\u001b[0m \u001b[0mof\u001b[0m \u001b[0mthe\u001b[0m \u001b[0mform\u001b[0m\u001b[0;31m \u001b[0m\u001b[0;31m`\u001b[0m\u001b[0;31m`\u001b[0m\u001b[0;34m[\u001b[0m\u001b[0;34m[\u001b[0m\u001b[0mx0\u001b[0m\u001b[0;34m,\u001b[0m \u001b[0my0\u001b[0m\u001b[0;34m]\u001b[0m\u001b[0;34m,\u001b[0m \u001b[0;34m[\u001b[0m\u001b[0mx1\u001b[0m\u001b[0;34m,\u001b[0m \u001b[0my1\u001b[0m\u001b[0;34m]\u001b[0m\u001b[0;34m]\u001b[0m\u001b[0;31m`\u001b[0m\u001b[0;31m`\u001b[0m\u001b[0;34m.\u001b[0m\u001b[0;34m\u001b[0m\u001b[0;34m\u001b[0m\u001b[0m\n\u001b[1;32m    786\u001b[0m         \"\"\"\n\u001b[0;32m--> 787\u001b[0;31m         \u001b[0msuper\u001b[0m\u001b[0;34m(\u001b[0m\u001b[0;34m)\u001b[0m\u001b[0;34m.\u001b[0m\u001b[0m__init__\u001b[0m\u001b[0;34m(\u001b[0m\u001b[0;34m**\u001b[0m\u001b[0mkwargs\u001b[0m\u001b[0;34m)\u001b[0m\u001b[0;34m\u001b[0m\u001b[0;34m\u001b[0m\u001b[0m\n\u001b[0m\u001b[1;32m    788\u001b[0m         \u001b[0mpoints\u001b[0m \u001b[0;34m=\u001b[0m \u001b[0mnp\u001b[0m\u001b[0;34m.\u001b[0m\u001b[0masarray\u001b[0m\u001b[0;34m(\u001b[0m\u001b[0mpoints\u001b[0m\u001b[0;34m,\u001b[0m \u001b[0mfloat\u001b[0m\u001b[0;34m)\u001b[0m\u001b[0;34m\u001b[0m\u001b[0;34m\u001b[0m\u001b[0m\n\u001b[1;32m    789\u001b[0m         \u001b[0;32mif\u001b[0m \u001b[0mpoints\u001b[0m\u001b[0;34m.\u001b[0m\u001b[0mshape\u001b[0m \u001b[0;34m!=\u001b[0m \u001b[0;34m(\u001b[0m\u001b[0;36m2\u001b[0m\u001b[0;34m,\u001b[0m \u001b[0;36m2\u001b[0m\u001b[0;34m)\u001b[0m\u001b[0;34m:\u001b[0m\u001b[0;34m\u001b[0m\u001b[0;34m\u001b[0m\u001b[0m\n",
      "\u001b[0;31mKeyboardInterrupt\u001b[0m: "
     ]
    },
    {
     "data": {
      "image/png": "[encoded data removed]",
      "text/plain": [
       "<Figure size 720x360 with 3 Axes>"
      ]
     },
     "metadata": {
      "needs_background": "light"
     },
     "output_type": "display_data"
    }
   ],
   "source": [
    "x_3, Q_3 = godunov_ARZ(Q_0_3, dx, xl, xr, T, U, tau)\n",
    "get_animation(Q_3, x_3, U, len(Q_3), \"Modelo ARZ no homogéneo\" ,\n",
    "              [\"Densidad\", \"Velocidad\", r\"$U_{eq}$\"], \"Charts/Q_3_prueba.gif\")"
   ]
  },
  {
   "cell_type": "code",
   "execution_count": 16,
   "id": "135b788c",
   "metadata": {
    "collapsed": true,
    "jupyter": {
     "outputs_hidden": true
    },
    "tags": []
   },
   "outputs": [
    {
     "name": "stdout",
     "output_type": "stream",
     "text": [
      "No hay solución\n",
      "u_r =  19.0 demás =  11.95445115010332\n",
      "No hay solución\n",
      "u_r =  19.0 demás =  11.95445115010332\n",
      "No hay solución\n",
      "u_r =  15.872714636977506 demás =  13.277015233271474\n",
      "No hay solución\n",
      "u_r =  15.872714636977506 demás =  13.277015233271474\n"
     ]
    }
   ],
   "source": [
    "# Resuelve para cada condicion inicial\n",
    "Q_0_s = [Q_0_2, Q_0_4]\n",
    "x_s = []\n",
    "Q_s = []\n",
    "\n",
    "for i in range(len(Q_0_s)):\n",
    "    x, Q = godunov_ARZ(Q_0_s[i], dx, xl, xr, T, U, tau)\n",
    "    \n",
    "    x_s += [x]\n",
    "    Q_s += [Q]"
   ]
  },
  {
   "cell_type": "code",
   "execution_count": 17,
   "id": "be4a9513",
   "metadata": {
    "tags": []
   },
   "outputs": [
    {
     "name": "stderr",
     "output_type": "stream",
     "text": [
      "No handles with labels found to put in legend.\n",
      "MovieWriter ffmpeg unavailable; using Pillow instead.\n",
      "No handles with labels found to put in legend.\n",
      "MovieWriter ffmpeg unavailable; using Pillow instead.\n"
     ]
    },
    {
     "data": {
      "image/png": "[encoded data removed]",
      "text/plain": [
       "<Figure size 720x360 with 3 Axes>"
      ]
     },
     "metadata": {
      "needs_background": "light"
     },
     "output_type": "display_data"
    },
    {
     "data": {
      "image/png": "[encoded data removed]",
      "text/plain": [
       "<Figure size 720x360 with 3 Axes>"
      ]
     },
     "metadata": {
      "needs_background": "light"
     },
     "output_type": "display_data"
    }
   ],
   "source": [
    "path = \"Charts/\"\n",
    "names = [\"2\", \"4\"]\n",
    "\n",
    "for i in range(len(Q_s)):\n",
    "    name = \"ARZ_no_homogeneo_Q_0_\"+ names[i] +\".gif\"\n",
    "    N_t = len(Q_s[i])\n",
    "    get_animation(Q_s[i], x_s[i], U, N_t, \"Modelo ARZ no homogéneo\" ,[\"Densidad\", \"Velocidad\", r\"$U_{eq}$\"], path+name)\n",
    "    density_integral(x_s[i], dx, N_t, Q_s[i])"
   ]
  },
  {
   "cell_type": "code",
   "execution_count": 18,
   "id": "ba427510",
   "metadata": {},
   "outputs": [
    {
     "data": {
      "image/png": "[encoded data removed]",
      "text/plain": [
       "<Figure size 432x288 with 1 Axes>"
      ]
     },
     "metadata": {
      "needs_background": "light"
     },
     "output_type": "display_data"
    }
   ],
   "source": [
    "for i in range(len(Q_s)):\n",
    "    density_integral(x_s[i], dx, len(Q_s[i]), Q_s[i])"
   ]
  },
  {
   "cell_type": "markdown",
   "id": "45a0ae29",
   "metadata": {},
   "source": [
    "## Ruta infinita"
   ]
  },
  {
   "cell_type": "code",
   "execution_count": 504,
   "id": "7f73e71b",
   "metadata": {},
   "outputs": [],
   "source": [
    "# Implementa Godunov con ruta infinita\n",
    "# Borde izquierdo: Dirichlet\n",
    "# Borde derecho: Neumann\n",
    "\n",
    "def godunov_ARZ_inf(Q_0, dx, xl, xr, T, U, tau):\n",
    "    \n",
    "    # Largo de la grilla\n",
    "    L = xr-xl\n",
    "    \n",
    "    # Numero de puntos\n",
    "    N = int(L//dx)\n",
    "    \n",
    "    # Grilla\n",
    "    x = np.linspace(xl, xr, N)\n",
    "    \n",
    "    # Guarda soluciones\n",
    "    # Condición inicial\n",
    "    Q = Q_0(x, U)\n",
    "    dt = 0\n",
    "    t = 0\n",
    "    n = 0\n",
    "    \n",
    "    while t < T:\n",
    "        \n",
    "        # Actualiza segun condicion CFL\n",
    "        dt = cfl(dt, dx, Q[n])\n",
    "        l = dt/dx\n",
    "        \n",
    "        # Condición borde izq dirichlet\n",
    "        \n",
    "        if 0<t and t<50:\n",
    "            # Densidad\n",
    "            Q[n][0][0] = 0.2\n",
    "        \n",
    "            # Velocidad\n",
    "            Q[n][1][0] = 0\n",
    "        else:\n",
    "            # Neumann\n",
    "            # Densidad\n",
    "            Q[n][0][0] = 0.1#Q[n][0][1]\n",
    "        \n",
    "            # Velocidad\n",
    "            Q[n][1][0] = 10#Q[n][1][1]\n",
    "            \n",
    "        # Paso de Godunov\n",
    "        Q_sig = Q[n] - l * F(Q[n], N, U, l)\n",
    "        \n",
    "        # Agrega no homogeneidad\n",
    "        rho_sig, y_sig = Q_sig\n",
    "        \n",
    "        # Si aparece rho negativo\n",
    "        neg_rho = rho_sig[rho_sig<0]\n",
    "        zero_rho = rho_sig[np.isclose(rho_sig,0)]\n",
    "        if len(neg_rho)>0:\n",
    "            print(\"rho negativo\", neg_rho, \" n = \", n)\n",
    "            rho_sig[rho_sig<0] = 1e-1\n",
    "        \n",
    "        # Resuelve termino de relajación\n",
    "        if len(zero_rho)==0:\n",
    "            y_sig__ = y_sig * (1 - dt/(2 *tau * rho_sig))\n",
    "            y_sig_ = y_sig - (dt * y_sig__)/(tau * rho_sig)\n",
    "            Q_sig[1] = y_sig_\n",
    "        \n",
    "        # Condiciones borde der neumann\n",
    "        Q_sig[:, -1] = Q_sig[:, -2]\n",
    "        \n",
    "        # Guarda paso\n",
    "        Q_sig = np.reshape(Q_sig, (1, Q_sig.shape[0], Q_sig.shape[1]))\n",
    "        Q = np.append(Q, Q_sig, axis=0)\n",
    "        \n",
    "        # Actualiza indice y tiempo\n",
    "        n += 1\n",
    "        t += dt\n",
    "        \n",
    "    return x, Q"
   ]
  },
  {
   "cell_type": "code",
   "execution_count": 505,
   "id": "c0c1aa69",
   "metadata": {},
   "outputs": [],
   "source": [
    "# Condición inicial de prueba\n",
    "# Constante por pedazos\n",
    "def Q_0_test_inf(x, U):\n",
    "    \n",
    "    # Densidad alta en x negativo y bajo en x positivo\n",
    "    rho_0 = np.piecewise(x, [((-25 <= x) & (x <= 0)), ((x>0) | (x<-25))], [0.6, 0.6])\n",
    "\n",
    "    # Velocidad baja en negativos y alta en positivos\n",
    "    u_0 = np.piecewise(x, [((-25 <= x) & (x <= 0)), ((x>0) | (x<-25))], [25, 25])\n",
    "\n",
    "    # y inicial en funcion de u y rho\n",
    "    y_0 = rho_0 * (u_0 - U(rho_0))\n",
    "\n",
    "    # Vector con condición\n",
    "    Q_0_ = np.zeros([1, 2, len(y_0)])\n",
    "    Q_0_[0][0] = rho_0\n",
    "    Q_0_[0][1] = y_0\n",
    "    \n",
    "    return Q_0_"
   ]
  },
  {
   "cell_type": "code",
   "execution_count": 508,
   "id": "187e1206",
   "metadata": {},
   "outputs": [],
   "source": [
    "# Parámetros\n",
    "xl = -2000\n",
    "xr = -xl\n",
    "dx = 20\n",
    "T = 50\n",
    "tau= 5"
   ]
  },
  {
   "cell_type": "code",
   "execution_count": 509,
   "id": "b8b33d37",
   "metadata": {
    "tags": []
   },
   "outputs": [
    {
     "name": "stdout",
     "output_type": "stream",
     "text": [
      "No hay solución\n",
      "u_r =  52.567183338700325 demás =  37.88854381999832\n",
      "No hay solución\n",
      "u_r =  49.28980688856368 demás =  37.88854381999832\n",
      "No hay solución\n",
      "u_r =  43.5669960567206 demás =  37.88854381999832\n"
     ]
    },
    {
     "name": "stderr",
     "output_type": "stream",
     "text": [
      "No handles with labels found to put in legend.\n",
      "MovieWriter ffmpeg unavailable; using Pillow instead.\n"
     ]
    },
    {
     "data": {
      "image/png": "[encoded data removed]",
      "text/plain": [
       "<Figure size 720x360 with 3 Axes>"
      ]
     },
     "metadata": {
      "needs_background": "light"
     },
     "output_type": "display_data"
    }
   ],
   "source": [
    "x_test_inf, Q_test_inf = godunov_ARZ_inf(Q_0_test_inf, dx, xl, xr, T, U, tau)\n",
    "get_animation(Q_test_inf, x_test_inf, U, len(Q_test_inf), \"Modelo ARZ no homogéneo ruta infinita\" ,\n",
    "              [\"Densidad\", \"Velocidad\", r\"$U_{eq}$\"], \"Charts/prueba_inf.gif\")"
   ]
  },
  {
   "cell_type": "code",
   "execution_count": 510,
   "id": "c0361fd2",
   "metadata": {},
   "outputs": [
    {
     "data": {
      "image/png": "[encoded data removed]",
      "text/plain": [
       "<Figure size 432x288 with 1 Axes>"
      ]
     },
     "metadata": {
      "needs_background": "light"
     },
     "output_type": "display_data"
    }
   ],
   "source": [
    "density_integral(x_test_inf, dx, len(Q_test_inf), Q_test_inf)"
   ]
  },
  {
   "cell_type": "markdown",
   "id": "e92b110a",
   "metadata": {},
   "source": [
    "## Mayor resolución"
   ]
  },
  {
   "cell_type": "code",
   "execution_count": 19,
   "id": "222ffb09",
   "metadata": {},
   "outputs": [],
   "source": [
    "def minmod(e, dx):\n",
    "    \n",
    "    sigma = numpy.zeros_like(e)\n",
    "    de_minus = numpy.ones_like(e)\n",
    "    de_plus = numpy.ones_like(e)\n",
    "    \n",
    "    de_minus[1:] = (e[1:] - e[:-1])/dx\n",
    "    de_plus[:-1] = (e[1:] - e[:-1])/dx\n",
    "    \n",
    "    # The following is inefficient but easy to read\n",
    "    for i in range(1, len(e)-1):\n",
    "        if (de_minus[i] * de_plus[i] < 0.0):\n",
    "            sigma[i] = 0.0\n",
    "        elif (numpy.abs(de_minus[i]) < numpy.abs(de_plus[i])):\n",
    "            sigma[i] = de_minus[i]\n",
    "        else:\n",
    "            sigma[i] = de_plus[i]\n",
    "            \n",
    "    return sigma"
   ]
  },
  {
   "cell_type": "code",
   "execution_count": 20,
   "id": "b593b007",
   "metadata": {},
   "outputs": [],
   "source": [
    "def F_minmod(Q, N, h, l, dx):\n",
    "    \n",
    "    F_ = np.zeros(Q.shape)\n",
    "    for i in range(1, N-1):\n",
    "        \n",
    "        Q_left = Q[:, i-1]\n",
    "        Q_i = Q[:, i]\n",
    "        Q_right = Q[:, i+1]\n",
    "        \n",
    "        # Slopes\n",
    "        delta_minus_e = (Q_i - Q_left)/dx\n",
    "        delta_plus_e = (Q_right - Q_i)/dx\n",
    "        \n",
    "        # Slope con minmod\n",
    "        sigma_i = minmod(delta_minus_e, delta_plus_e)\n",
    "        \n",
    "        Q_l = Q_i - sigma_i * dx / 2\n",
    "        Q_r = Q_i + sigma_i * dx / 2\n",
    "        \n",
    "        w_left = w(Q_l, Q_i)\n",
    "        w_right = w(Q_i, Q_r)\n",
    "        \n",
    "        F_[:, i] = flux(w_right, h) - flux(w_left, h)\n",
    "    \n",
    "    return F_"
   ]
  },
  {
   "cell_type": "markdown",
   "id": "92175384",
   "metadata": {},
   "source": [
    "* TODO: Añadir pequeña difusión para arreglar las discontinuidades\n",
    "    - Elementos finitos\n",
    "    - Galerkin discontinuo"
   ]
  },
  {
   "cell_type": "code",
   "execution_count": null,
   "id": "044ca8bd",
   "metadata": {},
   "outputs": [],
   "source": []
  }
 ],
 "metadata": {
  "kernelspec": {
   "display_name": "Python 3",
   "language": "python",
   "name": "python3"
  },
  "language_info": {
   "codemirror_mode": {
    "name": "ipython",
    "version": 3
   },
   "file_extension": ".py",
   "mimetype": "text/x-python",
   "name": "python",
   "nbconvert_exporter": "python",
   "pygments_lexer": "ipython3",
   "version": "3.7.9"
  }
 },
 "nbformat": 4,
 "nbformat_minor": 5
}
