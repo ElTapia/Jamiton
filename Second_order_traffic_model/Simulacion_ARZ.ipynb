{
 "cells": [
  {
   "cell_type": "code",
   "execution_count": 1,
   "id": "69691d99",
   "metadata": {
    "cell_id": "2202d17e3cb44d518ee69ceeb9f6a456",
    "deepnote_cell_type": "code",
    "deepnote_to_be_reexecuted": false,
    "execution_millis": 1706,
    "execution_start": 1675097148664,
    "source_hash": "80862252",
    "tags": []
   },
   "outputs": [],
   "source": [
    "import numpy as np\n",
    "import matplotlib.pyplot as plt\n",
    "import matplotlib.animation as animation"
   ]
  },
  {
   "cell_type": "code",
   "execution_count": 2,
   "id": "16724691",
   "metadata": {},
   "outputs": [],
   "source": [
    "# Obtiene gif de la solución\n",
    "def get_animation(Q, x, U, Nt, title, titles, path):\n",
    "    \n",
    "    # Crea figura\n",
    "    fig, axs = plt.subplots(1, 2, figsize=(10, 5))\n",
    "    ax1, ax2 = axs\n",
    "    \n",
    "    # Parámetros\n",
    "    plt.xlabel(r'$x$')\n",
    "    plt.ylabel(r'$Q(t, x)$')\n",
    "    ax1.set_title(titles[0])\n",
    "    ax2.set_title(title[1])\n",
    "    \n",
    "    fig.suptitle(title)\n",
    "    \n",
    "    ax1.set_ylim(-0.1, 0.5)\n",
    "    ax2.set_ylim(-1, 60)\n",
    "    \n",
    "    ax1.set_xlabel(\"x\")\n",
    "    ax2.set_ylabel(\"y\")\n",
    "    \n",
    "    # Valores iniciales\n",
    "    rho_0 = Q[0][0]\n",
    "    y_0 = Q[0][1]\n",
    "    u_0 = u(rho_0, y_0, U)\n",
    "\n",
    "    # Lineas iniciales\n",
    "    line1, = ax1.plot(x, rho_0, '-', color='r', linewidth=2)\n",
    "    line2, = ax2.plot(x, u_0, '-', color='b', linewidth=2, label=r\"u\")\n",
    "    \n",
    "    plt.legend()\n",
    "\n",
    "    def animate(n):\n",
    "        \n",
    "        # Instante n\n",
    "        rho = Q[n][0]\n",
    "        y = Q[n][1]\n",
    "        u_ = u(rho, y, U)\n",
    "        \n",
    "        # Actualiza gráfico\n",
    "        line1.set_ydata(rho)\n",
    "        line2.set_ydata(u_)\n",
    "\n",
    "        ax1.set_title(titles[0])\n",
    "        ax2.set_title(titles[1])\n",
    "        \n",
    "        return [line1, line2]\n",
    "\n",
    "    ani = animation.FuncAnimation(fig, animate, np.arange(0, Nt, 3),\n",
    "                                interval=50, blit=True)\n",
    "\n",
    "    ani.save(path)"
   ]
  },
  {
   "cell_type": "markdown",
   "id": "3a9a3e47",
   "metadata": {
    "cell_id": "fbee1f2a28e74ad69dea173545fdd571",
    "deepnote_cell_type": "code",
    "tags": []
   },
   "source": [
    "# Aplicación a ecuación ARZ"
   ]
  },
  {
   "cell_type": "markdown",
   "id": "f8be5761",
   "metadata": {},
   "source": [
    "En primer lugar consideraremos el modelo ARZ homogeneo, que considera conservación de masa y del campo de velocidades shifteado. Las ecuaciones corresponden a\n",
    "$$\n",
    "\\begin{align*}\n",
    "\\rho_t + (\\rho u)_x &= 0\\\\\n",
    "(u - U(\\rho))_t + u(u-U(\\rho))_x &= 0\n",
    "\\end{align*}\n",
    "$$\n",
    "\n",
    "donde $\\rho = \\rho(x, t)$ corresponde a la densidad vehicular, $u=u(x, t)$ al campo de velocidades y $U(\\rho)$ velocidad de equilibrio. Consideraremos $U(\\rho) = u_{\\text{max}}(1-\\rho^\\gamma)$ con $\\gamma \\in (0, 1)$. En particular, se usarán $u_{\\text{max}}=20$ y $\\gamma=1/2$.\n",
    "\n",
    "Definiendo $y(\\rho, u)= \\rho(u-U(\\rho))$ y sumando ambas ecuaciones, podemos escribir el sistema en su forma conservativa:\n",
    "$$\n",
    " \\textbf{Q}_t + F( \\textbf{Q})_x = 0\n",
    "$$\n",
    "donde $ \\textbf{Q} = \\begin{pmatrix} \\rho \\\\ y \\end{pmatrix}$ y $F(\\textbf{Q}) = \\begin{pmatrix} \\rho u\\\\ yu\\end{pmatrix}$. De esta forma se puede utilizar cualquier esquema de volúmenes finitos que se haya visto. En este caso, se usará el esquema de Godunov, que pide resolver el problema de Riemann asociado al modelo. Este se resolverá analiticamente y se programará separando en casos.\n",
    "\n",
    "Una opción a manejar es resolver el problema de Riemann usando solvers aproximadores, pues se puede complejizar más si se resuelve el problema de Riemann no homogeneo. Se puede también resolver analíticamente pero resulta en un mayor coste computacional."
   ]
  },
  {
   "cell_type": "markdown",
   "id": "ad39c0e6",
   "metadata": {},
   "source": [
    "## Funciones del modelo"
   ]
  },
  {
   "cell_type": "code",
   "execution_count": 3,
   "id": "26270184",
   "metadata": {},
   "outputs": [],
   "source": [
    "u_max = 40\n",
    "gamm = 1/2\n",
    "\n",
    "# Define u en función de rho e y\n",
    "def u(rho, y, U):\n",
    "    output = y/rho + U(rho)\n",
    "    return output\n",
    "\n",
    "# Define y en función de rho y u\n",
    "def y_u(rho, u, U):\n",
    "    output = rho*(u - U(rho))\n",
    "    return output"
   ]
  },
  {
   "cell_type": "code",
   "execution_count": 4,
   "id": "c96e4b0a",
   "metadata": {},
   "outputs": [],
   "source": [
    "# Flujo del modelo\n",
    "def flux(Q, U):\n",
    "    \n",
    "    # Rescata variables\n",
    "    rho, y = Q\n",
    "    \n",
    "    # Obtiene u en funcion de rho e y\n",
    "    u_ = u(rho, y, U)\n",
    "    return np.array([rho * u_, y * u_])"
   ]
  },
  {
   "cell_type": "code",
   "execution_count": 5,
   "id": "7d968f70",
   "metadata": {},
   "outputs": [],
   "source": [
    "# Flujo de Godunov de primer orden\n",
    "def F(Q, N, U, l):\n",
    "    \n",
    "    # Guarda flujo en un arreglo\n",
    "    F_ = np.zeros(Q.shape)\n",
    "    \n",
    "    for i in range(1, N-1):\n",
    "        \n",
    "        # Rescata actual y vecinos\n",
    "        Q_left = Q[:, i-1]\n",
    "        Q_i = Q[:, i]\n",
    "        Q_right = Q[:, i+1]\n",
    "        \n",
    "        # Problema de Riemann en cada vecino\n",
    "        w_left = w(Q_left, Q_i, U)\n",
    "        w_right = w(Q_i, Q_right, U)\n",
    "        \n",
    "        # Evalúa en el flujo del modelo\n",
    "        F_[:, i] = flux(w_right, U) - flux(w_left, U)\n",
    "    \n",
    "    return F_"
   ]
  },
  {
   "cell_type": "code",
   "execution_count": null,
   "id": "a07b0897",
   "metadata": {},
   "outputs": [],
   "source": []
  }
 ],
 "metadata": {
  "kernelspec": {
   "display_name": "Python 3",
   "language": "python",
   "name": "python3"
  },
  "language_info": {
   "codemirror_mode": {
    "name": "ipython",
    "version": 3
   },
   "file_extension": ".py",
   "mimetype": "text/x-python",
   "name": "python",
   "nbconvert_exporter": "python",
   "pygments_lexer": "ipython3",
   "version": "3.7.9"
  }
 },
 "nbformat": 4,
 "nbformat_minor": 5
}
