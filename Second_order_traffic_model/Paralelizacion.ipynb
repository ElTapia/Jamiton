{
 "cells": [
  {
   "cell_type": "markdown",
   "id": "b2b35a12",
   "metadata": {},
   "source": [
    "# Paralelizacion"
   ]
  },
  {
   "cell_type": "code",
   "execution_count": 93,
   "id": "726422a0",
   "metadata": {},
   "outputs": [],
   "source": [
    "import ipyparallel as ipp\n",
    "\n",
    "import numpy\n",
    "import matplotlib.pyplot as plt\n",
    "\n",
    "from scipy.optimize import root\n",
    "from scipy.interpolate import interp1d\n",
    "from scipy.integrate import solve_ivp\n",
    "from scipy.integrate import simpson\n",
    "\n",
    "from scipy.stats import linregress\n",
    "\n",
    "plt.style.use('bmh')\n",
    "\n",
    "\n",
    "plt.rcParams['figure.figsize'] = (9, 6)\n",
    "plt.rcParams['legend.fontsize'] = 14\n",
    "plt.rcParams[\"axes.titlesize\"] = 20\n",
    "plt.rcParams[\"axes.labelsize\"] = 16\n",
    "plt.rcParams[\"figure.titlesize\"] = 20"
   ]
  },
  {
   "cell_type": "markdown",
   "id": "3bf01b97",
   "metadata": {},
   "source": [
    "## Funciones necesarias para simular"
   ]
  },
  {
   "cell_type": "code",
   "execution_count": 167,
   "id": "105bd536",
   "metadata": {},
   "outputs": [],
   "source": [
    "beta = 8\n",
    "gamma = 1/2\n",
    "u_max = 20\n",
    "rho_max = 1/7.5\n",
    "c = 0.078 * u_max * rho_max\n",
    "b = 1/3\n",
    "l = 1/10\n",
    "\n",
    "# Define u en función de rho e y\n",
    "def u(rho, y, h):\n",
    "    output = y/rho - h(rho)\n",
    "    return output\n",
    "\n",
    "\n",
    "# Define y en función de rho y u\n",
    "def y_u(rho, u, h):\n",
    "    output = rho*(u + h(rho))\n",
    "    return output\n",
    "\n",
    "\n",
    "# Flujo del modelo\n",
    "def flux(Q, h):\n",
    "    \n",
    "    # Rescata variables\n",
    "    rho, y = Q\n",
    "\n",
    "    return numpy.array([y-rho*h(rho), (y**2)/rho - h(rho)*y])\n",
    "\n",
    "\n",
    "# Flujo con HLL\n",
    "def F_HLL(Q, N, U, h, dx):\n",
    "\n",
    "    # Guarda flujo en un arreglo\n",
    "    F_ = np.zeros(Q.shape)\n",
    "\n",
    "    def phi(r):\n",
    "        r_1, r_2 = r\n",
    "        output_1 = np.max([0, np.min([1, r_1])])\n",
    "        output_2 = np.max([0, np.min([1, r_2])])\n",
    "        output = np.array([output_1, output_2])\n",
    "        return output\n",
    "\n",
    "    for i in range(2, N-2):\n",
    "        \n",
    "        # Rescata actual y vecinos\n",
    "        Q_left_left = Q[:, i-2]\n",
    "        Q_left = Q[:, i-1]\n",
    "        Q_i = Q[:, i]\n",
    "        Q_right = Q[:, i+1]\n",
    "        Q_right_right = Q[:, i+2]\n",
    "\n",
    "        r_left = (Q_left - Q_left_left)/(Q_i - Q_left)\n",
    "        r_i = (Q_i - Q_left)/(Q_right - Q_i)\n",
    "        r_right = (Q_right - Q_i)/(Q_right_right - Q_right)\n",
    "\n",
    "        Q_L = Q_i + (1/2) * phi(r_i) * (Q_right - Q_i)\n",
    "        Q_L_ = Q_left + (1/2) * phi(r_left) * (Q_i - Q_left)\n",
    "\n",
    "        Q_R = Q_right - (1/2) * phi(r_right) * (Q_right_right - Q_right)\n",
    "        Q_R_ = Q_i - (1/2) * phi(r_i) * (Q_right - Q_i)\n",
    "\n",
    "\n",
    "        # Evalúa en el flujo HLL\n",
    "        F_[:, i] = flux_HLL(Q_L, Q_R, h) - flux_HLL(Q_L_, Q_R_, h) #flux_HLL(Q_i, Q_right, h) - flux_HLL(Q_left, Q_i, h)\n",
    "\n",
    "    # Asume condiciones de borde periódicas\n",
    "    Q_0 = Q[:, 0]\n",
    "    Q_1 = Q[:, 1]\n",
    "    Q_2 = Q[:, 2]\n",
    "    Q_3 = Q[:, 3]\n",
    "    Q_ult = Q[:, -1]\n",
    "    Q_pen = Q[:, -2]\n",
    "    Q_antp = Q[:, -3]\n",
    "    Q_antantp = Q[:, -4]\n",
    "    \n",
    "    # i = 1\n",
    "    r_0 = (Q_ult - Q_pen)/(Q_1 - Q_ult)\n",
    "    r_1 = (Q_1 - Q_0)/(Q_2 - Q_1)\n",
    "    r_2 = (Q_2 - Q_1)/(Q_3 - Q_2)\n",
    "\n",
    "    Q_L_1 = Q_1 + (1/2) * phi(r_1) * (Q_2 - Q_1)\n",
    "    Q_L_1_ = Q_ult + (1/2) * phi(r_0) * (Q_1 - Q_ult)\n",
    "\n",
    "    Q_R_1 = Q_2 - (1/2) * phi(r_2) * (Q_3 - Q_2)\n",
    "    Q_R_1_ = Q_1 - (1/2) * phi(r_1) * (Q_2 - Q_1)\n",
    "\n",
    "    per_1 = flux_HLL(Q_L_1, Q_R_1, h) - flux_HLL(Q_L_1_, Q_R_1_, h)\n",
    "\n",
    "\n",
    "    # i = 0\n",
    "    r_left = (Q_pen - Q_antp)/(Q_ult - Q_pen)\n",
    "    r_0 = (Q_ult - Q_pen)/(Q_1 - Q_ult)\n",
    "    r_right = (Q_1 - Q_0)/(Q_2 - Q_1)\n",
    "\n",
    "    Q_L_0 = Q_ult + (1/2) * phi(r_0) * (Q_1 - Q_ult)\n",
    "    Q_L_0_ = Q_pen + (1/2) * phi(r_left) * (Q_ult - Q_pen)\n",
    "\n",
    "    Q_R_0 = Q_1 - (1/2) * phi(r_right) * (Q_2 - Q_1)\n",
    "    Q_R_0_ = Q_ult - (1/2) * phi(r_0) * (Q_1 - Q_ult)\n",
    "\n",
    "    per = flux_HLL(Q_L_0, Q_R_0, h) - flux_HLL(Q_L_0_, Q_R_0_, h)\n",
    "\n",
    "    # i = N-1\n",
    "    r_antp = (Q_antp - Q_antantp)/(Q_pen - Q_antp)\n",
    "    r_pen = (Q_pen - Q_antp)/(Q_ult - Q_pen)\n",
    "    r_ult = (Q_ult - Q_pen)/(Q_1 - Q_ult)\n",
    "\n",
    "    Q_L_N_1 = Q_pen + (1/2) * phi(r_pen) * (Q_ult - Q_pen)\n",
    "    Q_L_N_1_ = Q_antp + (1/2) * phi(r_antp) * (Q_pen - Q_antp)\n",
    "\n",
    "    Q_R_N_1 = Q_ult - (1/2) * phi(r_ult) * (Q_1 - Q_ult)\n",
    "    Q_R_N_1_ = Q_pen - (1/2) * phi(r_pen) * (Q_ult - Q_pen)\n",
    "\n",
    "    per_2 = flux_HLL(Q_L_N_1, Q_R_N_1, h) - flux_HLL(Q_L_N_1_, Q_R_N_1_, h)\n",
    "    \n",
    "    F_[:, 1] = per_1\n",
    "    F_[:, 0] = per\n",
    "    F_[:, -1] = per\n",
    "    F_[:, -2] = per_2\n",
    "\n",
    "    return F_\n",
    "\n",
    "\n",
    "# Funciones del modelo\n",
    "# Función de duda\n",
    "def h(rho):\n",
    "    if type(rho) is float or type(rho) is numpy.float64:\n",
    "        rho = numpy.array(rho)\n",
    "\n",
    "    return beta*(rho/(rho_max-rho))**gamma\n",
    "\n",
    "\n",
    "# Integral de densidad\n",
    "def density_integral(x, dx, N_t, Q):\n",
    "    integral_graph = []\n",
    "    for n in range(N_t):\n",
    "    \n",
    "        density = Q[n][0]\n",
    "        integral = simpson(density, x, dx)\n",
    "        integral_graph += [integral]\n",
    "    \n",
    "    return integral_graph\n",
    "\n",
    "def h_prime(rho):\n",
    "    output =  beta * gamma * (rho /(rho_max - rho))**(gamma-1) * rho_max / ((rho_max - rho)**2)\n",
    "    return output\n",
    "\n",
    "\n",
    "# Función g\n",
    "def g(y):\n",
    "    output = numpy.sqrt(1 + ((y-b)/l)**2)\n",
    "    return output\n",
    "\n",
    "\n",
    "# Diagrama fundamental\n",
    "def Q_e(rho):\n",
    "    output = c * (g(0) + (((g(1) - g(0)) * rho/rho_max)) - g(rho/rho_max))\n",
    "    return output\n",
    "\n",
    "\n",
    "# Derivada de g\n",
    "def g_prime(y):\n",
    "    output = (1/l**2) * ((y-b)/ numpy.sqrt(1 + ((y-b)/l)**2)) \n",
    "    return output\n",
    "\n",
    "\n",
    "# Derivada de Q\n",
    "def Q_prime(rho):\n",
    "    output = c * (((g(1) - g(0))/rho_max) - (g_prime(rho/rho_max)/rho_max))\n",
    "    return output\n",
    "\n",
    "\n",
    "# Velocidad de equilibrio\n",
    "def U(rho):\n",
    "    output = Q_e(rho)/(numpy.sqrt((rho**2 + 1e-5**2)))\n",
    "    return output\n",
    "\n",
    "\n",
    "# Derivada de la velocidad de equilibrio\n",
    "def U_prime(rho):\n",
    "    output = (Q_prime(rho) - U(rho))/numpy.sqrt((rho**2 + 1e-5**2))\n",
    "    return output\n",
    "\n",
    "\n",
    "# Inversa de U\n",
    "def U_inv_points(z):\n",
    "    z = float(z)\n",
    "    U_to_inv = lambda x: U(x)-z\n",
    "\n",
    "    rho = numpy.real(root(U_to_inv, 0.5*rho_max).x[0])\n",
    "    return rho\n",
    "\n",
    "zs_U = numpy.linspace(u_max, 0, 50)\n",
    "U_inv_to_poly = [U_inv_points(z) for z in zs_U]\n",
    "\n",
    "U_inv = interp1d(zs_U, U_inv_to_poly)\n",
    "\n",
    "\n",
    "# Inversa de la derivada de Q\n",
    "def Q_p_inv_points(z):\n",
    "    z = float(z)\n",
    "    Q_to_inv = lambda x: Q_prime(x)-z\n",
    "    \n",
    "    rho = numpy.real(root(Q_to_inv, 0.3*rho_max).x[0])\n",
    "    return rho\n",
    "\n",
    "zs_Q = numpy.linspace(-2, u_max, 50)\n",
    "Q_p_inv_to_poly = [Q_p_inv_points(z) for z in zs_Q]\n",
    "\n",
    "Q_p_inv = interp1d(zs_Q, Q_p_inv_to_poly)\n",
    "\n",
    "\n",
    "# Solver HLL para riemann\n",
    "def flux_HLL(Q_l, Q_r, h):\n",
    "    # Rescata variables a la izquierda\n",
    "    rho_l, y_l = Q_l\n",
    "\n",
    "    # Rescata variables a la derecha\n",
    "    rho_r, y_r = Q_r\n",
    "\n",
    "    # Obtiene velocidades\n",
    "    u_l = u(rho_l, y_l, h)\n",
    "    u_r = u(rho_r, y_r, h)\n",
    "\n",
    "    l_1_l = u_r - rho_r * h_prime(rho_r)\n",
    "    l_1_r = u_l - rho_l * h_prime(rho_l)\n",
    "    l_2_l = u_l\n",
    "    l_2_r = u_r\n",
    "\n",
    "    s_l = numpy.min([l_1_l, l_1_r])\n",
    "    s_r = numpy.max([l_2_l, l_2_r])\n",
    "\n",
    "    s_R_plus = numpy.max([s_r, 0])\n",
    "    s_l_minus = numpy.min([s_l, 0])\n",
    "\n",
    "    F_l = flux(Q_l, h)\n",
    "    F_r = flux(Q_r, h)\n",
    "\n",
    "    F_hat = (s_R_plus * F_l - s_l_minus * F_r + s_l_minus * s_R_plus * (Q_r - Q_l))/(s_R_plus - s_l_minus)\n",
    "    return F_hat\n",
    "\n",
    "\n",
    "# Obtiene velocidad de onda máxima\n",
    "def get_s_max():\n",
    "    rho_s_zero = root(lambda rho: U_prime(rho) + h_prime(rho), 0.2*rho_max).x[0]\n",
    "    v_s_zero = 1/rho_s_zero\n",
    "    m_max = -h_bar_prime(v_s_zero)\n",
    "    s_max = U_bar(v_s_zero) - m_max * v_s_zero\n",
    "    return s_max\n",
    "\n",
    "\n",
    "# Condición CFL\n",
    "def cfl(dx):\n",
    "    s_max = get_s_max()\n",
    "\n",
    "    # Podría dar problemas\n",
    "    new_dt = dx/(2*s_max) #dx/(2*u_max) #dx/(2*(u_max + numpy.max([-Q_prime(rho_max), I_plus]))) #\n",
    "\n",
    "    return new_dt\n"
   ]
  },
  {
   "cell_type": "code",
   "execution_count": 73,
   "id": "0c0e07b8",
   "metadata": {},
   "outputs": [],
   "source": [
    "# Lagrangeanas\n",
    "\n",
    "# Funciones del modelo\n",
    "def h_bar(v):\n",
    "    return h(1/v)\n",
    "\n",
    "\n",
    "def h_bar_prime(v):\n",
    "    output = -h_prime(1/v)/v**2 \n",
    "    return output\n",
    "\n",
    "\n",
    "def U_bar(v):\n",
    "    return U(1/v)\n",
    "\n",
    "\n",
    "def w_v(v, m, s):\n",
    "    output = U_bar(v) - (m * v + s)\n",
    "    return output\n",
    "\n",
    "\n",
    "def r(v, m):\n",
    "    output = m * h_bar(v) + m**2 * v\n",
    "    return output\n",
    "\n",
    "\n",
    "def r_prime(v, m):\n",
    "    output = m * h_bar_prime(v) + m**2\n",
    "    return output\n",
    "\n",
    "\n",
    "def ode_jam_v(x, v, tau, m, s):\n",
    "    output = w_v(v, m, s)/(r_prime(v, m) * v * tau)\n",
    "    return output\n",
    "\n",
    "\n",
    "def ode_jam_v_eta(eta, v, m, s):\n",
    "    output = w_v(v, m, s)/(r_prime(v, m) * v)\n",
    "    return output"
   ]
  },
  {
   "cell_type": "code",
   "execution_count": 74,
   "id": "99f169fc",
   "metadata": {},
   "outputs": [],
   "source": [
    "# Implementa Godunov\n",
    "def godunov_ARZ(Q_0, N, x, U, h, tau, T):\n",
    "    \n",
    "    # Largo de la grilla\n",
    "    L = x[-1] - x[0]\n",
    "\n",
    "    # salto espacial\n",
    "    dx = L/N\n",
    "    \n",
    "    \n",
    "    # Guarda soluciones\n",
    "    # Condición inicial\n",
    "    \n",
    "    Q = numpy.zeros([1, 2, N])\n",
    "    Q[0][0] = Q_0[0]\n",
    "    Q[0][1] = Q_0[1]\n",
    "    \n",
    "    # Actualiza segun condicion CFL\n",
    "    dt = cfl(dx)\n",
    "    t = 0\n",
    "    n = 0\n",
    "    t_list = [t]\n",
    "    \n",
    "    while t < T:\n",
    "        \n",
    "        l = dt/dx\n",
    "        \n",
    "        # Paso de Godunov\n",
    "        Q_sig = Q[n] - l * F_HLL(Q[n], N, U, h, dx)\n",
    "        \n",
    "        # Agrega no homogeneidad\n",
    "        rho_sig, y_sig = Q_sig\n",
    "        \n",
    "        # Resuelve termino de relajación\n",
    "        alpha = dt/tau\n",
    "\n",
    "        # Implícito\n",
    "        y_sig_ = (alpha/(1+alpha)) * rho_sig * (U(rho_sig) + h(rho_sig)) + (1/(1+alpha)) * y_sig\n",
    "        Q_sig[1] = y_sig_\n",
    "        \n",
    "        # Guarda paso\n",
    "        Q_sig = numpy.reshape(Q_sig, (1, Q_sig.shape[0], Q_sig.shape[1]))\n",
    "        Q = numpy.append(Q, Q_sig, axis=0)\n",
    "\n",
    "        # Actualiza indice y tiempo\n",
    "        n += 1\n",
    "        t += dt\n",
    "        t_list += [t]\n",
    "        \n",
    "    return x, dt, t_list, Q"
   ]
  },
  {
   "cell_type": "markdown",
   "id": "664391f8",
   "metadata": {},
   "source": [
    "## Condiciones iniciales"
   ]
  },
  {
   "cell_type": "code",
   "execution_count": 41,
   "id": "426314db",
   "metadata": {},
   "outputs": [],
   "source": [
    "# Resuelve EDO con respecto a x\n",
    "def ODE_jam_solve(t_f, v_R, tau, m, s):\n",
    "    # Resuelve EDO\n",
    "    sol_v = solve_ivp(ode_jam_v, (0, t_f), [v_R], t_eval=numpy.linspace(0, t_f, 10_000), args=[tau, m, s], dense_output=True)\n",
    "    return sol_v\n",
    "\n",
    "# Resuelve EDO con respecto a eta\n",
    "def ODE_jam_solve_eta(eta_f, v_R, m, s):\n",
    "    # Resuelve EDO\n",
    "    sol_v = solve_ivp(ode_jam_v_eta, (0, eta_f), [v_R], t_eval=numpy.linspace(0, eta_f, 10_000), args=[m, s], dense_output=True)\n",
    "    return sol_v"
   ]
  },
  {
   "cell_type": "code",
   "execution_count": 42,
   "id": "82ef7d67",
   "metadata": {},
   "outputs": [],
   "source": [
    "# Encuentra xs importantes\n",
    "def find_xs(sol_v, values_v, rho_s, x_init=None):\n",
    "\n",
    "    # Rescata valores de v\n",
    "    v_s = values_v[\"v_s\"]\n",
    "    v_minus = values_v[\"v_minus\"]\n",
    "    v_plus = values_v[\"v_plus\"]\n",
    "    \n",
    "    #if x_init is None:\n",
    "    #    if 0.24 < rho_s < 0.45:\n",
    "    #        x_init = 0\n",
    "\n",
    "    #    if 0.45 <= rho_s < 0.6:\n",
    "    #        x_init = 90\n",
    "\n",
    "    #    else:\n",
    "    #        x_init = 250\n",
    "    x_init = 0\n",
    "    # Calcula cada x\n",
    "    x_minus = root(lambda v: sol_v.sol(v)[0] - v_minus, 20, method=\"lm\").x[0]\n",
    "    x_plus = root(lambda v: sol_v.sol(v)[0] - v_plus, 0, method=\"lm\").x[0]\n",
    "    x_s = root(lambda v: sol_v.sol(v)[0] - v_s, 0, method=\"lm\").x[0]\n",
    "    x_to_plot = sol_v.t\n",
    "    x_to_per = numpy.linspace(x_minus, sol_v.t[-1], 500)\n",
    "\n",
    "    return x_to_plot, x_minus, x_plus, x_s, x_to_per\n",
    "\n",
    "\n",
    "# Genera jamitones\n",
    "def jam_gen(v_s, t_f, tau, v_minus):\n",
    "\n",
    "    values_v = {}\n",
    "    values_rho = {}\n",
    "    values_u = {}\n",
    "\n",
    "    # Parámetros del jamiton\n",
    "    m = -h_bar_prime(v_s)\n",
    "    s = U_bar(v_s) - m * v_s\n",
    "\n",
    "    # Imprime parámetros\n",
    "    #print(\"Velocidad jamiton: \", s)\n",
    "    #print(\"m= \", m)\n",
    "\n",
    "    # Existencia jamiton\n",
    "    jam_exs = U_prime(v_to_rho(v_s)) + h_prime(v_to_rho(v_s)) < 0\n",
    "    if not jam_exs:\n",
    "        print(\"No existe jamiton, pruebe otro valor de rho_s\")\n",
    "        return None\n",
    "\n",
    "    # Jamiton maximal\n",
    "    v_M = root(lambda v: w_v(v, m, s), 40).x[0]\n",
    "    v_R = root(lambda v: r(v, m) - r(v_M, m), 10).x[0]\n",
    "\n",
    "    # Jamiton actual\n",
    "    #v_minus = float(input(\"Escoja v_min (entre {vs} y {vM}): \".format(vs =round(v_s, 3), vM=round(v_M, 3))))\n",
    "    v_plus = root(lambda v: r(v, m) - r(v_minus, m), 8).x[0]\n",
    "\n",
    "    # Guarda valores de v\n",
    "    values_v[\"v_s\"] = v_s\n",
    "    values_v[\"v_M\"] = v_M\n",
    "    values_v[\"v_R\"] = v_R\n",
    "    values_v[\"v_minus\"] = v_minus\n",
    "    values_v[\"v_plus\"] = v_plus\n",
    "\n",
    "    # Guarda valores de rho\n",
    "    values_rho[\"rho_s\"] = v_to_rho(v_s)\n",
    "    values_rho[\"rho_M\"] = v_to_rho(v_M)\n",
    "    values_rho[\"rho_R\"] = v_to_rho(v_R)\n",
    "    values_rho[\"rho_minus\"] = v_to_rho(v_minus)\n",
    "    values_rho[\"rho_plus\"] = v_to_rho(v_plus)\n",
    "\n",
    "    # Guarda valores de u\n",
    "    values_u[\"u_s\"] = rho_to_u(values_rho[\"rho_s\"], m, s)\n",
    "    values_u[\"u_M\"] = rho_to_u(values_rho[\"rho_M\"], m, s)\n",
    "    values_u[\"u_R\"] = rho_to_u(values_rho[\"rho_R\"], m, s)\n",
    "    values_u[\"u_minus\"] = rho_to_u(values_rho[\"rho_minus\"], m, s)\n",
    "    values_u[\"u_plus\"] = rho_to_u(values_rho[\"rho_plus\"], m, s)\n",
    "\n",
    "    # Solucion EDO\n",
    "    sol_v = ODE_jam_solve(t_f, v_R, tau, m, s)\n",
    "    sol_rho = lambda x: v_to_rho(sol_v.sol(x)[0])\n",
    "    sol_u = lambda x: rho_to_u(sol_rho(x), m, s)\n",
    "\n",
    "    return values_v, values_rho, values_u, sol_v, sol_rho, sol_u, m, s\n",
    "\n",
    "# Transforma v a rho\n",
    "def v_to_rho(v):\n",
    "    rho = 1/v\n",
    "    return rho\n",
    "\n",
    "# Transforma rho a u\n",
    "def rho_to_u(rho, m, s):\n",
    "    u = (m/rho) + s\n",
    "    return u\n",
    "\n",
    "# Inicia programa\n",
    "def init_program(tau, rho_s, v_minus, x_init=None):\n",
    "    v_f = 100\n",
    "    t_f = 6000\n",
    "\n",
    "    # Elección valores sónicos\n",
    "    rho_s *= rho_max\n",
    "    v_s = 1/rho_s # Se necesita rho_s normalizado\n",
    "\n",
    "    # Genera jamitones\n",
    "    values_v, values_rho, values_u, sol_v, sol_rho, sol_u, m, s = jam_gen(v_s, t_f, tau, v_minus)\n",
    "\n",
    "    # Resuelve para eta\n",
    "    sol_v_eta = ODE_jam_solve_eta(t_f, values_v[\"v_R\"], m, s)\n",
    "    sol_rho_eta = lambda eta: v_to_rho(sol_v_eta.sol(eta)[0])\n",
    "    sol_u_eta = lambda eta: rho_to_u(sol_rho_eta(eta), m, s)\n",
    "\n",
    "    # Rescata x's\n",
    "    xs = find_xs(sol_v, values_v, rho_s, x_init)\n",
    "    x_minus = xs[1]\n",
    "    x_plus = xs[2]\n",
    "\n",
    "    # Arreglo con jamiton\n",
    "    x_jam = numpy.linspace(x_plus, x_minus, 100)\n",
    "    return x_minus, x_plus, sol_rho, sol_u, sol_rho_eta, sol_u_eta, s"
   ]
  },
  {
   "cell_type": "code",
   "execution_count": 43,
   "id": "29cc90bb",
   "metadata": {},
   "outputs": [],
   "source": [
    "def Q_0_collide(h, N, tau, rho_s_1, rho_s_2, v_minus, x_init=None):\n",
    "    # Primer jamiton\n",
    "    x_minus_1, x_plus_1, sol_rho_1, sol_u_1, sol_rho_eta_1, sol_u_eta_1, s_1 = init_program(tau, rho_s_1, v_minus, x_init)\n",
    "\n",
    "    # Segundo jamiton\n",
    "    x_minus_2, x_plus_2, sol_rho_2, sol_u_2, sol_rho_eta_2, sol_u_eta_2, s_2 = init_program(tau, rho_s_2, v_minus, x_init)\n",
    "\n",
    "    # Jamitones compatibles\n",
    "    rho_min_1 = sol_rho_1(x_minus_1)\n",
    "    rho_min_2 = sol_rho_2(x_minus_2)\n",
    "\n",
    "    compatible = numpy.isclose(rho_min_1, rho_min_2, rtol=1e-1)\n",
    "\n",
    "    if not compatible:\n",
    "        print(rho_min_1, rho_min_2)\n",
    "        print(\"Jamitones incompatibles\")\n",
    "        return None\n",
    "\n",
    "    L = x_minus_2 + (x_minus_1 - x_plus_2) - x_plus_1\n",
    "    dx = L/N\n",
    "    \n",
    "    x_to_plot = numpy.arange(0, x_minus_2+(x_minus_1 - x_plus_2) - x_plus_1, dx)\n",
    "\n",
    "    def rho_sol_combined(x):\n",
    "        if x_plus_1 <= x and x <= x_minus_1:\n",
    "            return sol_rho_1(x)\n",
    "    \n",
    "        elif x_plus_2 <= x - (x_minus_1 - x_plus_2) and x - (x_minus_1 - x_plus_2) <= x_minus_2:\n",
    "            return sol_rho_2(x-(x_minus_1 - x_plus_2))\n",
    "\n",
    "    def u_sol_combined(x):\n",
    "        if x_plus_1 <= x and x <= x_minus_1:\n",
    "            return sol_u_1(x)\n",
    "    \n",
    "        elif x_plus_2 <= x - (x_minus_1 - x_plus_2) and x - (x_minus_1 - x_plus_2) <= x_minus_2:\n",
    "            return sol_u_2(x-(x_minus_1 - x_plus_2))\n",
    "\n",
    "    rho_sol_combined = numpy.vectorize(rho_sol_combined)\n",
    "    u_sol_combined = numpy.vectorize(u_sol_combined)\n",
    "\n",
    "    def rho_per(x):\n",
    "        interval = x_minus_2+(x_minus_1 - x_plus_2) - x_plus_1\n",
    "        x_per = (x - x_plus_1) % interval + x_plus_1\n",
    "        return rho_sol_combined(x_per)\n",
    "\n",
    "    def u_per(x):\n",
    "        interval = x_minus_2+(x_minus_1 - x_plus_2) - x_plus_1\n",
    "        x_per = (x - x_plus_1) % interval + x_plus_1\n",
    "        return u_sol_combined(x_per)\n",
    "\n",
    "    rho_0 = rho_per(x_to_plot)\n",
    "    u_0 = u_per(x_to_plot)\n",
    "    y_0 = rho_0 * (u_0 + h(rho_0))\n",
    "\n",
    "    Q_0_ = numpy.zeros([2, len(x_to_plot)])\n",
    "    Q_0_[0] = rho_0\n",
    "    Q_0_[1] = y_0\n",
    "    \n",
    "    return Q_0_, x_to_plot"
   ]
  },
  {
   "cell_type": "code",
   "execution_count": 44,
   "id": "c161e2a4",
   "metadata": {},
   "outputs": [],
   "source": [
    "def get_m(v_s):\n",
    "    m = -h_bar_prime(v_s)\n",
    "    return m\n",
    "\n",
    "def get_s(m, v_s):\n",
    "    s = U_bar(v_s) - m*v_s\n",
    "    return s"
   ]
  },
  {
   "cell_type": "markdown",
   "id": "2bcf2372",
   "metadata": {},
   "source": [
    "### Escoge densidades"
   ]
  },
  {
   "cell_type": "code",
   "execution_count": 9,
   "id": "d940d8de",
   "metadata": {},
   "outputs": [],
   "source": [
    "rhos = numpy.linspace(1e-8, rho_max-1e-5, 10_000)\n",
    "rho_min_scc = root(lambda rho: U_prime(rho) + h_prime(rho), 0.2*rho_max, method=\"lm\").x[0]\n",
    "rho_max_scc = root(lambda rho: U_prime(rho) + h_prime(rho), 0.7*rho_max, method=\"lm\").x[0]\n",
    "raices_scc = numpy.array([rho_min_scc, rho_max_scc])"
   ]
  },
  {
   "cell_type": "code",
   "execution_count": 10,
   "id": "c2e2b7fd",
   "metadata": {},
   "outputs": [
    {
     "name": "stdout",
     "output_type": "stream",
     "text": [
      "Intervalo v_min: [ 17.30752836726681 ,  35.89639363220736 ]\n",
      "Valor medio:  26.60196099973708\n"
     ]
    }
   ],
   "source": [
    "rhos_violate = numpy.linspace(rho_min_scc+1e-8, rho_max_scc-1e-8, 20_000)\n",
    "def obtiene_mejor_rho_s():\n",
    "    L = -numpy.inf\n",
    "    for i in range(len(rhos_violate)):\n",
    "        rho_scc = rhos_violate[i]\n",
    "        v_scc = 1/rho_scc\n",
    "        m_scc = get_m(v_scc)\n",
    "        s_scc = get_s(m_scc, v_scc)\n",
    "        w_scc = lambda v: w_v(v, m_scc, s_scc)\n",
    "        v_M = root(w_scc, 100, method=\"hybr\")\n",
    "        L_sig = v_M.x[0] - v_scc\n",
    "\n",
    "        if L_sig < L:\n",
    "            print(\"Intervalo v_min: [\", v_scc, \", \", v_M.x[0], \"]\")\n",
    "            v_medio = (v_scc + v_M.x[0])/2\n",
    "            print(\"Valor medio: \", v_medio)\n",
    "            return rho_scc, i, v_medio\n",
    "        L = L_sig\n",
    "        \n",
    "rho_s_test, i_test, v_medio_test = obtiene_mejor_rho_s()"
   ]
  },
  {
   "cell_type": "code",
   "execution_count": 11,
   "id": "6dc3358e",
   "metadata": {},
   "outputs": [],
   "source": [
    "rhos_candidatos = numpy.delete(rhos_violate, i_test)\n",
    "rhos_to_test = []\n",
    "\n",
    "for j in range(len(rhos_candidatos)):\n",
    "    rho_cand = rhos_candidatos[j]\n",
    "    v_cand = 1/rho_cand\n",
    "    m_cand = get_m(v_cand)\n",
    "    s_cand = get_s(m_cand, v_cand)\n",
    "    w_cand = lambda v: w_v(v, m_cand, s_cand)\n",
    "    v_M_cand = root(w_cand, 100, method=\"hybr\")\n",
    "    \n",
    "    if v_cand < v_medio_test and v_medio_test < v_M_cand.x[0]:\n",
    "        rhos_to_test += [rho_cand]\n",
    "\n",
    "rhos_to_test = numpy.array(rhos_to_test)\n",
    "rhos_to_collide = numpy.take(rhos_to_test, range(0, len(rhos_to_test), 50))"
   ]
  },
  {
   "cell_type": "code",
   "execution_count": 14,
   "id": "e81d911e",
   "metadata": {},
   "outputs": [],
   "source": [
    "N = 160\n",
    "tau = 5\n",
    "rho_s_1 = rho_s_test/rho_max\n",
    "v_minus = v_medio_test\n",
    "\n",
    "init_dic_tau_5 = {}\n",
    "\n",
    "for rho_s_2 in rhos_to_collide/rho_max:    \n",
    "    Q_0_collide_, x_collide = Q_0_collide(h, N, tau, rho_s_1, rho_s_2, v_minus)\n",
    "    init_dic_tau_5[rho_s_2] = [Q_0_collide_, x_collide]"
   ]
  },
  {
   "cell_type": "code",
   "execution_count": 15,
   "id": "b2db71eb",
   "metadata": {},
   "outputs": [
    {
     "name": "stderr",
     "output_type": "stream",
     "text": [
      "/Library/Frameworks/Python.framework/Versions/3.7/lib/python3.7/site-packages/ipykernel_launcher.py:80: RuntimeWarning: invalid value encountered in power\n"
     ]
    }
   ],
   "source": [
    "tau_2 = 10\n",
    "\n",
    "init_dic_tau_10 = {}\n",
    "\n",
    "for rho_s_2 in rhos_to_collide/rho_max:\n",
    "    Q_0_collide_, x_collide = Q_0_collide(h, N, tau_2, rho_s_1, rho_s_2, v_minus)\n",
    "    init_dic_tau_10[rho_s_2] = [Q_0_collide_, x_collide]"
   ]
  },
  {
   "cell_type": "code",
   "execution_count": 17,
   "id": "1cb42dcc",
   "metadata": {},
   "outputs": [],
   "source": [
    "tau_3 = 1\n",
    "\n",
    "init_dic_tau_1 = {}\n",
    "\n",
    "for rho_s_2 in rhos_to_collide/rho_max:\n",
    "    Q_0_collide_, x_collide = Q_0_collide(h, N, tau_3, rho_s_1, rho_s_2, v_minus)\n",
    "    init_dic_tau_1[rho_s_2] = [Q_0_collide_, x_collide]"
   ]
  },
  {
   "cell_type": "markdown",
   "id": "ec5117e0",
   "metadata": {},
   "source": [
    "## Colisiones"
   ]
  },
  {
   "cell_type": "code",
   "execution_count": 76,
   "id": "9fa802df",
   "metadata": {},
   "outputs": [
    {
     "name": "stdout",
     "output_type": "stream",
     "text": [
      "Using existing profile dir: '/Users/sebatapia/.ipython/profile_default'\n",
      "Starting 20 engines with <class 'ipyparallel.cluster.launcher.LocalEngineSetLauncher'>\n"
     ]
    },
    {
     "data": {
      "application/vnd.jupyter.widget-view+json": {
       "model_id": "d4517c9137014f7798a839183cac0a6a",
       "version_major": 2,
       "version_minor": 0
      },
      "text/plain": [
       "  0%|          | 0/20 [00:00<?, ?engine/s]"
      ]
     },
     "metadata": {},
     "output_type": "display_data"
    }
   ],
   "source": [
    "# Inicializa clusters\n",
    "cluster = ipp.Cluster(n=20)\n",
    "await cluster.start_cluster()\n",
    "cd = cluster.to_dict()\n",
    "cluster_id = cd['cluster']['cluster_id']\n",
    "\n",
    "rc = ipp.Client(cluster_id=cluster_id)\n",
    "rc.wait_for_engines(n=20)"
   ]
  },
  {
   "cell_type": "code",
   "execution_count": 77,
   "id": "b015f3d3",
   "metadata": {},
   "outputs": [
    {
     "name": "stdout",
     "output_type": "stream",
     "text": [
      "importing numpy on engine(s)\n",
      "importing root from scipy.optimize on engine(s)\n",
      "importing interp1d from scipy.interpolate on engine(s)\n",
      "importing solve_ivp from scipy.integrate on engine(s)\n"
     ]
    }
   ],
   "source": [
    "with rc[:].sync_imports():\n",
    "    import numpy\n",
    "    from scipy.optimize import root\n",
    "    from scipy.interpolate import interp1d\n",
    "    from scipy.integrate import solve_ivp\n"
   ]
  },
  {
   "cell_type": "code",
   "execution_count": 78,
   "id": "71f13cf0",
   "metadata": {},
   "outputs": [
    {
     "data": {
      "text/plain": [
       "<AsyncResult(_push): pending>"
      ]
     },
     "execution_count": 78,
     "metadata": {},
     "output_type": "execute_result"
    }
   ],
   "source": [
    "# Diccionario de parámetros y funciones\n",
    "\n",
    "dic_pars = {\"beta\": beta, \"gamma\": gamma, \"u_max\": u_max, \"rho_max\": rho_max, \"c\": c, \"b\": b, \"l\": l}\n",
    "dic_func = {\"u\":u, \"y_u\":y_u, \"flux\":flux, \"F_HLL\": F_HLL, \"h\": h, \"h_prime\":h_prime, \"g\":g, \"Q_e\":Q_e,\n",
    "            \"g_prime\": g_prime, \"Q_prime\": Q_prime, \"U\":U, \"U_prime\":U_prime, \"U_inv\":U_inv, \n",
    "            \"Q_p_inv\": Q_p_inv, \"flux_HLL\": flux_HLL, \"get_s_max\": get_s_max, \"cfl\":cfl,\n",
    "           \"h_bar_prime\" :h_bar_prime, \"U_bar\" :U_bar, \"godunov_ARZ\" :godunov_ARZ}\n",
    "\n",
    "rc[:].push(dic_pars)\n",
    "rc[:].push(dic_func)"
   ]
  },
  {
   "cell_type": "code",
   "execution_count": 68,
   "id": "f66851f1",
   "metadata": {},
   "outputs": [],
   "source": [
    "# Muestra clusters activos\n",
    "def show_clusters():\n",
    "    clusters = ipp.ClusterManager().load_clusters() \n",
    "    print(\"{:15} {:^10} {}\".format(\"cluster_id\", \"state\", \"cluster_file\")) \n",
    "    for c in clusters:\n",
    "        cd = clusters[c].to_dict()\n",
    "        cluster_id = cd['cluster']['cluster_id']\n",
    "        controller_state = cd['controller']['state']['state']\n",
    "        cluster_file = getattr(clusters[c], '_trait_values')['cluster_file']\n",
    "        print(\"{:15} {:^10} {}\".format(cluster_id, controller_state, cluster_file))"
   ]
  },
  {
   "cell_type": "code",
   "execution_count": 69,
   "id": "c45ad1e5",
   "metadata": {},
   "outputs": [
    {
     "name": "stdout",
     "output_type": "stream",
     "text": [
      "cluster_id        state    cluster_file\n",
      "1702569954-c5gr  running   /Users/sebatapia/.ipython/profile_default/security/cluster-1702569954-c5gr.json\n"
     ]
    }
   ],
   "source": [
    "show_clusters()"
   ]
  },
  {
   "cell_type": "code",
   "execution_count": 79,
   "id": "fd702d1d",
   "metadata": {},
   "outputs": [],
   "source": [
    "# tau = 5\n",
    "N = 160\n",
    "tau = 5\n",
    "#T = 20\n",
    "def simulation_tau_5(rho_s_2, rho_s_test=rho_s_test, N=N, tau=tau, dic=init_dic_tau_5):\n",
    "    Q_0, x = dic[rho_s_2]\n",
    "    T = 10\n",
    "    if numpy.fabs(rho_s_2 - rho_s_test/rho_max)< 0.04:\n",
    "        T = 40\n",
    "    x, dt, t, Q = godunov_ARZ(Q_0, N, x, U, h, tau, T)\n",
    "    sol = numpy.array([rho_s_2, Q, x])\n",
    "    return sol\n",
    "\n",
    "tau_2 = 10\n",
    "def simulation_tau_10(rho_s_2, rho_s_test=rho_s_test, N=N, tau=tau_2, dic=init_dic_tau_10):\n",
    "    Q_0, x = dic[rho_s_2]\n",
    "    T = 20\n",
    "    if numpy.fabs(rho_s_2 - rho_s_test/rho_max)< 0.04:\n",
    "        T = 55\n",
    "    x, dt, t, Q = godunov_ARZ(Q_0, N, x, U, h, tau, T)\n",
    "    sol = numpy.array([rho_s_2, Q[-1], x]) # Retorna el ultimo\n",
    "    return sol\n",
    "\n",
    "tau_3 = 1\n",
    "def simulation_tau_1(rho_s_2, rho_s_test=rho_s_test, N=N, tau=tau_3, dic=init_dic_tau_1):\n",
    "    Q_0, x = dic[rho_s_2]\n",
    "    T = 5\n",
    "    if numpy.fabs(rho_s_2 - rho_s_test/rho_max)< 0.04:\n",
    "        T = 20\n",
    "    x, dt, t, Q = godunov_ARZ(Q_0, N, x, U, h, tau, T)\n",
    "    sol = numpy.array([rho_s_2, Q[-1], x]) # Retorna el ultimo\n",
    "    return sol"
   ]
  },
  {
   "cell_type": "code",
   "execution_count": 80,
   "id": "d7fa2529",
   "metadata": {},
   "outputs": [
    {
     "data": {
      "application/vnd.jupyter.widget-view+json": {
       "model_id": "5dc89f58cd884c20aa2be2c402540d5f",
       "version_major": 2,
       "version_minor": 0
      },
      "text/plain": [
       "unknown:   0%|          | 0/274 [00:00<?, ?tasks/s]"
      ]
     },
     "metadata": {},
     "output_type": "display_data"
    }
   ],
   "source": [
    "view = rc.load_balanced_view()\n",
    "\n",
    "async_results = []\n",
    "for rho_s_2 in rhos_to_collide/rho_max:\n",
    "\n",
    "    async_result = view.apply_async(simulation_tau_5, rho_s_2)\n",
    "    async_results += [async_result]\n",
    "\n",
    "rc.wait_interactive(async_results)\n",
    "\n",
    "dic_sols = {}\n",
    "for ar in async_results:\n",
    "    sol = ar.get()\n",
    "    dic_sols[sol[0]] = [sol[1], sol[2]]"
   ]
  },
  {
   "cell_type": "code",
   "execution_count": 39,
   "id": "a797d4f7",
   "metadata": {},
   "outputs": [
    {
     "name": "stdout",
     "output_type": "stream",
     "text": [
      "Stopping engine(s): 1701891220\n"
     ]
    },
    {
     "data": {
      "application/vnd.jupyter.widget-view+json": {
       "model_id": "f9dccc3904ef4722b9c80fd3efb9724d",
       "version_major": 2,
       "version_minor": 0
      },
      "text/plain": [
       "unknown:   0%|          | 0/274 [00:00<?, ?tasks/s]"
      ]
     },
     "metadata": {},
     "output_type": "display_data"
    }
   ],
   "source": [
    "view = rc.load_balanced_view()\n",
    "\n",
    "async_results_2 = []\n",
    "for rho_s_2 in rhos_to_collide/rho_max:\n",
    "\n",
    "    async_result = view.apply_async(simulation_tau_10, rho_s_2)\n",
    "    async_results_2 += [async_result]\n",
    "\n",
    "rc.wait_interactive(async_results_2)\n",
    "\n",
    "dic_sols_2 = {}\n",
    "for ar in async_results_2:\n",
    "    sol = ar.get()\n",
    "    dic_sols_2[sol[0]] = [sol[1], sol[2]]"
   ]
  },
  {
   "cell_type": "code",
   "execution_count": 47,
   "id": "1451b7ca",
   "metadata": {},
   "outputs": [
    {
     "name": "stdout",
     "output_type": "stream",
     "text": [
      "Stopping engine(s): 1701899695\n"
     ]
    },
    {
     "data": {
      "application/vnd.jupyter.widget-view+json": {
       "model_id": "98968141310a4f76b7d69497363be2be",
       "version_major": 2,
       "version_minor": 0
      },
      "text/plain": [
       "unknown:   0%|          | 0/274 [00:00<?, ?tasks/s]"
      ]
     },
     "metadata": {},
     "output_type": "display_data"
    }
   ],
   "source": [
    "view = rc.load_balanced_view()\n",
    "\n",
    "async_results_3 = []\n",
    "for rho_s_2 in rhos_to_collide/rho_max:\n",
    "\n",
    "    async_result = view.apply_async(simulation_tau_1, rho_s_2)\n",
    "    async_results_3 += [async_result]\n",
    "\n",
    "rc.wait_interactive(async_results_3)\n",
    "\n",
    "dic_sols_3 = {}\n",
    "for ar in async_results_3:\n",
    "    sol = ar.get()\n",
    "    dic_sols_3[sol[0]] = [sol[1], sol[2]]"
   ]
  },
  {
   "cell_type": "code",
   "execution_count": 75,
   "id": "38da4b12",
   "metadata": {},
   "outputs": [
    {
     "name": "stdout",
     "output_type": "stream",
     "text": [
      "engine set stopped 1702569955: {'engines': {'0': {'exit_code': 0, 'pid': 83433, 'identifier': '0'}, '8': {'exit_code': 0, 'pid': 83455, 'identifier': '8'}, '4': {'exit_code': 0, 'pid': 83443, 'identifier': '4'}, '10': {'exit_code': None, 'pid': 83462, 'identifier': '10'}, '13': {'exit_code': None, 'pid': 83472, 'identifier': '13'}, '17': {'exit_code': None, 'pid': 83482, 'identifier': '17'}, '6': {'exit_code': 0, 'pid': 83449, 'identifier': '6'}, '9': {'exit_code': None, 'pid': 83458, 'identifier': '9'}, '19': {'exit_code': None, 'pid': 83490, 'identifier': '19'}, '7': {'exit_code': None, 'pid': 83451, 'identifier': '7'}, '14': {'exit_code': None, 'pid': 83473, 'identifier': '14'}, '1': {'exit_code': None, 'pid': 83434, 'identifier': '1'}, '12': {'exit_code': 0, 'pid': 83468, 'identifier': '12'}, '3': {'exit_code': 0, 'pid': 83438, 'identifier': '3'}, '18': {'exit_code': 0, 'pid': 83487, 'identifier': '18'}, '2': {'exit_code': 0, 'pid': 83435, 'identifier': '2'}, '11': {'exit_code': 0, 'pid': 83466, 'identifier': '11'}, '5': {'exit_code': None, 'pid': 83445, 'identifier': '5'}, '16': {'exit_code': None, 'pid': 83479, 'identifier': '16'}, '15': {'exit_code': None, 'pid': 83476, 'identifier': '15'}}, 'exit_code': 0}\n",
      "Controller stopped: {'exit_code': None, 'pid': 83418, 'identifier': 'ipcontroller-1702569954-c5gr-17819'}\n"
     ]
    }
   ],
   "source": [
    "rc.shutdown(hub=True)"
   ]
  },
  {
   "cell_type": "code",
   "execution_count": 81,
   "id": "43c8ac46",
   "metadata": {},
   "outputs": [],
   "source": [
    "# save dictionary to person_data.pkl file\n",
    "with open('Soluciones/dict_sol_complete.pkl', 'wb') as fp:\n",
    "    pickle.dump(dic_sols, fp)"
   ]
  },
  {
   "cell_type": "markdown",
   "id": "ca4aaa25",
   "metadata": {},
   "source": [
    "# Obtiene velocidades de salida"
   ]
  },
  {
   "cell_type": "code",
   "execution_count": 19,
   "id": "26bd7eed",
   "metadata": {},
   "outputs": [],
   "source": [
    "# Rescata soluciones de archivo\n",
    "import pickle\n",
    "\n",
    "with open('Soluciones/dict_sols_1.pkl', \"rb\") as fp:\n",
    "    dic_sols = pickle.load(fp)\n",
    "    \n",
    "with open('Soluciones/dict_sols_2.pkl', \"rb\") as fp:\n",
    "    dic_sols_2 = pickle.load(fp)\n",
    "    \n",
    "with open('Soluciones/dict_sols_3.pkl', \"rb\") as fp:\n",
    "    dic_sols_3 = pickle.load(fp)"
   ]
  },
  {
   "cell_type": "code",
   "execution_count": 82,
   "id": "74b76c75",
   "metadata": {},
   "outputs": [],
   "source": [
    "def get_s_least_squares(Q):\n",
    "\n",
    "    rho, y = Q\n",
    "    \n",
    "    u_ = u(rho, y, h)\n",
    "    q = rho * u_\n",
    "\n",
    "    res = linregress(rho, q)\n",
    "    s, m = res[0], res[1]\n",
    "    return s, m"
   ]
  },
  {
   "cell_type": "code",
   "execution_count": 86,
   "id": "4a79cc27",
   "metadata": {},
   "outputs": [],
   "source": [
    "vels = []\n",
    "ms = []\n",
    "\n",
    "for rho_s in rhos_to_collide/rho_max:\n",
    "    Q, x = dic_sols[rho_s]\n",
    "    s, m = get_s_least_squares(Q[-1])\n",
    "    vels += [s]\n",
    "    ms += [m]"
   ]
  },
  {
   "cell_type": "code",
   "execution_count": 22,
   "id": "7093ed3a",
   "metadata": {},
   "outputs": [],
   "source": [
    "vels_2 = []\n",
    "ms_2 = []\n",
    "\n",
    "for rho_s in rhos_to_collide/rho_max:\n",
    "    Q, x = dic_sols_2[rho_s]\n",
    "    s, m = get_s_least_squares(Q)\n",
    "    vels_2 += [s]\n",
    "    ms_2 += [m]"
   ]
  },
  {
   "cell_type": "code",
   "execution_count": 23,
   "id": "fda67571",
   "metadata": {},
   "outputs": [],
   "source": [
    "vels_3 = []\n",
    "ms_3 = []\n",
    "\n",
    "for rho_s in rhos_to_collide/rho_max:\n",
    "    Q, x = dic_sols_3[rho_s]\n",
    "    s, m = get_s_least_squares(Q)\n",
    "    vels_3 += [s]\n",
    "    ms_3 += [m]"
   ]
  },
  {
   "cell_type": "code",
   "execution_count": 87,
   "id": "7c7e987c",
   "metadata": {},
   "outputs": [],
   "source": [
    "v_s_collide = 1/rhos_to_collide\n",
    "m_collide = get_m(v_s_collide)\n",
    "s_collide = get_s(m_collide, v_s_collide)"
   ]
  },
  {
   "cell_type": "code",
   "execution_count": 88,
   "id": "62927c98",
   "metadata": {},
   "outputs": [],
   "source": [
    "v_s_test = 1/rho_s_test\n",
    "m_test = get_m(v_s_test)\n",
    "s_test = get_s(m_test, v_s_test)"
   ]
  },
  {
   "cell_type": "code",
   "execution_count": 89,
   "id": "91e57216",
   "metadata": {},
   "outputs": [
    {
     "data": {
      "image/png": "[encoded data removed]",
      "text/plain": [
       "<Figure size 648x432 with 1 Axes>"
      ]
     },
     "metadata": {
      "needs_background": "light"
     },
     "output_type": "display_data"
    }
   ],
   "source": [
    "plt.plot(rhos_to_collide/rho_max, vels, \".\",label=r\"$\\rho_{test}\\approx 0.433$\")\n",
    "plt.hlines(s_test, rhos_to_collide[0]/rho_max, rhos_to_collide[-1]/rho_max, color=\"g\", ls=\"--\", label=r\"$s_{test}$\")\n",
    "plt.title(r\"Velocidades de salida $\\tau = 5$\")\n",
    "plt.xlabel(r\"$\\rho$\")\n",
    "plt.ylabel(\"s\")\n",
    "plt.legend(fontsize=15)\n",
    "plt.savefig(\"Charts/Colisiones/Vel_salida_tau_5.png\")\n",
    "plt.show()"
   ]
  },
  {
   "cell_type": "code",
   "execution_count": 90,
   "id": "0820c96e",
   "metadata": {},
   "outputs": [
    {
     "data": {
      "image/png": "[encoded data removed]",
      "text/plain": [
       "<Figure size 648x432 with 1 Axes>"
      ]
     },
     "metadata": {
      "needs_background": "light"
     },
     "output_type": "display_data"
    }
   ],
   "source": [
    "plt.plot(s_collide, vels, \".\", label=r\"$\\rho_{test}\\approx 0.433$\")\n",
    "plt.hlines(s_test, s_collide[0], s_collide[-1], color=\"g\", ls=\"--\", label=r\"$s_{test}$\")\n",
    "plt.title(r\"Velocidades de salida $\\tau = 5$\")\n",
    "plt.xlabel(r\"$s_{entrada}$\")\n",
    "plt.ylabel(r\"$s_{salida}$\")\n",
    "plt.legend(fontsize=17)\n",
    "plt.savefig(\"Charts/Colisiones/Vel_salida_s_tau_5.png\")\n",
    "plt.show()"
   ]
  },
  {
   "cell_type": "code",
   "execution_count": 34,
   "id": "39aa5d9f",
   "metadata": {},
   "outputs": [
    {
     "data": {
      "image/png": "[encoded data removed]",
      "text/plain": [
       "<Figure size 648x432 with 1 Axes>"
      ]
     },
     "metadata": {
      "needs_background": "light"
     },
     "output_type": "display_data"
    }
   ],
   "source": [
    "import numpy as np\n",
    "salto = 6\n",
    "\n",
    "rhos_to_plot = np.take(rhos_to_collide/rho_max, range(0, 274, salto))\n",
    "vels_arr = np.array(vels)\n",
    "vels_2_arr = np.array(vels_2)\n",
    "vels_3_arr = np.array(vels_3)\n",
    "\n",
    "vels_to_plot = np.take(vels_arr, range(0, 274, salto))\n",
    "vels_2_to_plot = np.take(vels_2_arr, range(0, 274, salto))\n",
    "vels_3_to_plot = np.take(vels_3_arr, range(0, 274, salto))\n",
    "\n",
    "plt.scatter(rhos_to_plot, vels_3_to_plot, label=r\"$\\tau=1$\", alpha=0.5)\n",
    "plt.scatter(rhos_to_plot, vels_to_plot, label=r\"$\\tau=5$\", alpha=0.5)\n",
    "plt.scatter(rhos_to_plot, vels_2_to_plot, label=r\"$\\tau=10$\", alpha=0.5)\n",
    "\n",
    "\n",
    "plt.hlines(s_test, rhos_to_collide[0]/rho_max, rhos_to_collide[-1]/rho_max, color=\"g\", ls=\"--\", label=r\"$s_{test}$\")\n",
    "plt.title(r\"Velocidades de salida distintos $\\tau$\")\n",
    "plt.xlabel(r\"$\\rho$\")\n",
    "plt.ylabel(\"s\")\n",
    "\n",
    "#plt.xlim(rhos_to_collide[0]/rho_max-0.01, 0.45)\n",
    "#plt.ylim(5, 7)\n",
    "plt.legend(fontsize=15)\n",
    "plt.savefig(\"Charts/Colisiones/Vel_salida_taus.png\")\n",
    "plt.show()"
   ]
  },
  {
   "cell_type": "code",
   "execution_count": 91,
   "id": "40a6bd0b",
   "metadata": {},
   "outputs": [
    {
     "data": {
      "image/png": "[encoded data removed]",
      "text/plain": [
       "<Figure size 648x432 with 1 Axes>"
      ]
     },
     "metadata": {
      "needs_background": "light"
     },
     "output_type": "display_data"
    }
   ],
   "source": [
    "\n",
    "m_to_plot = get_m(1/(rhos_to_collide))\n",
    "s_to_plot = get_s(m_to_plot, 1/(rhos_to_collide))\n",
    "plt.plot(rhos_to_collide/rho_max, s_to_plot, label=r\"$s(\\rho_s)$\")\n",
    "\n",
    "plt.plot(rhos_to_collide/rho_max, vels, \".\", label=r\"$\\tau = 5$\")\n",
    "plt.hlines(s_test, rhos_to_collide[0]/rho_max, rhos_to_collide[-1]/rho_max, color=\"g\", ls=\"--\", label=r\"$s_{test}$\")\n",
    "plt.title(r\"Comparativa con función $s$\")\n",
    "plt.xlabel(r\"$\\rho$\")\n",
    "plt.ylabel(\"$s$\")\n",
    "plt.legend(fontsize=15)\n",
    "plt.savefig(\"Charts/Colisiones/comparativa_s.png\")\n",
    "plt.show()"
   ]
  },
  {
   "cell_type": "code",
   "execution_count": 166,
   "id": "5bae1563",
   "metadata": {},
   "outputs": [
    {
     "data": {
      "image/png": "[encoded data removed]",
      "text/plain": [
       "<Figure size 648x432 with 1 Axes>"
      ]
     },
     "metadata": {
      "needs_background": "light"
     },
     "output_type": "display_data"
    }
   ],
   "source": [
    "rho_s = rhos_to_collide[147]/rho_max\n",
    "Q, x = dic_sols[rho_s]\n",
    "\n",
    "L = x[-1] - x[0]\n",
    "T = 20\n",
    "t_to_plot = np.linspace(0, T, len(Q)//2)\n",
    "dx = L/N\n",
    "\n",
    "integral = density_integral(x, dx, len(Q)//2, Q)\n",
    "plt.plot(t_to_plot, integral)\n",
    "#plt.ylim(2.22, 2.24)\n",
    "plt.show()"
   ]
  },
  {
   "cell_type": "code",
   "execution_count": 163,
   "id": "54747bda",
   "metadata": {},
   "outputs": [
    {
     "data": {
      "text/plain": [
       "[<matplotlib.lines.Line2D at 0x7fa97b8ca2d0>]"
      ]
     },
     "execution_count": 163,
     "metadata": {},
     "output_type": "execute_result"
    },
    {
     "data": {
      "image/png": "[encoded data removed]",
      "text/plain": [
       "<Figure size 648x432 with 1 Axes>"
      ]
     },
     "metadata": {
      "needs_background": "light"
     },
     "output_type": "display_data"
    }
   ],
   "source": [
    "plt.plot(Q[0][0])\n",
    "plt.plot(Q[-1][0])"
   ]
  },
  {
   "cell_type": "code",
   "execution_count": 132,
   "id": "553e8393",
   "metadata": {},
   "outputs": [
    {
     "data": {
      "text/plain": [
       "(array([144, 145, 146, 147, 148, 149, 150, 151]),)"
      ]
     },
     "execution_count": 132,
     "metadata": {},
     "output_type": "execute_result"
    }
   ],
   "source": [
    "np.where(np.isclose(rhos_to_collide, rho_s_test, rtol=1e-2))"
   ]
  },
  {
   "cell_type": "code",
   "execution_count": 139,
   "id": "dc238480",
   "metadata": {},
   "outputs": [
    {
     "data": {
      "text/plain": [
       "array([0.42970512, 0.4307312 , 0.43175728, 0.43278336, 0.43382996,\n",
       "       0.43485603, 0.43588211, 0.43690819])"
      ]
     },
     "execution_count": 139,
     "metadata": {},
     "output_type": "execute_result"
    }
   ],
   "source": [
    "rhos_to_collide[np.isclose(rhos_to_collide, rho_s_test, rtol=1e-2)]/rho_max"
   ]
  },
  {
   "cell_type": "code",
   "execution_count": 141,
   "id": "3ec08764",
   "metadata": {},
   "outputs": [
    {
     "data": {
      "text/plain": [
       "0.43333743795471785"
      ]
     },
     "execution_count": 141,
     "metadata": {},
     "output_type": "execute_result"
    }
   ],
   "source": [
    "rho_s_test/rho_max"
   ]
  },
  {
   "cell_type": "code",
   "execution_count": 149,
   "id": "e5230e2c",
   "metadata": {},
   "outputs": [
    {
     "data": {
      "text/plain": [
       "0.4338299555247423"
      ]
     },
     "execution_count": 149,
     "metadata": {},
     "output_type": "execute_result"
    }
   ],
   "source": [
    "rhos_to_collide[148]/rho_max"
   ]
  },
  {
   "cell_type": "code",
   "execution_count": null,
   "id": "2f9fb8bb",
   "metadata": {},
   "outputs": [],
   "source": []
  }
 ],
 "metadata": {
  "kernelspec": {
   "display_name": "Python 3",
   "language": "python",
   "name": "python3"
  },
  "language_info": {
   "codemirror_mode": {
    "name": "ipython",
    "version": 3
   },
   "file_extension": ".py",
   "mimetype": "text/x-python",
   "name": "python",
   "nbconvert_exporter": "python",
   "pygments_lexer": "ipython3",
   "version": "3.7.9"
  }
 },
 "nbformat": 4,
 "nbformat_minor": 5
}
