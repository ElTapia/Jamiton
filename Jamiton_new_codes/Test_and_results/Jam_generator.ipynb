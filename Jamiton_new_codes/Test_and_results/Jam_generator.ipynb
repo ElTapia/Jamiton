{
 "cells": [
  {
   "cell_type": "code",
   "execution_count": 1,
   "id": "e4705309-cfe2-4082-bb9f-c418f51e2f5f",
   "metadata": {},
   "outputs": [
    {
     "name": "stdout",
     "output_type": "stream",
     "text": [
      "Intel MKL WARNING: Support of Intel(R) Streaming SIMD Extensions 4.2 (Intel(R) SSE4.2) enabled only processors has been deprecated. Intel oneAPI Math Kernel Library 2025.0 will require Intel(R) Advanced Vector Extensions (Intel(R) AVX) instructions.\n",
      "Intel MKL WARNING: Support of Intel(R) Streaming SIMD Extensions 4.2 (Intel(R) SSE4.2) enabled only processors has been deprecated. Intel oneAPI Math Kernel Library 2025.0 will require Intel(R) Advanced Vector Extensions (Intel(R) AVX) instructions.\n"
     ]
    }
   ],
   "source": [
    "import sys\n",
    "sys.path.append(\"../\")\n",
    "\n",
    "from Config import *\n",
    "from Utilities import *\n",
    "from Solver import *\n",
    "from Functions import *"
   ]
  },
  {
   "cell_type": "code",
   "execution_count": 2,
   "id": "4d43a75f-b987-40be-a2d2-a1b80f209b44",
   "metadata": {},
   "outputs": [],
   "source": [
    "x_minus_file = gzip.GzipFile(\"../Machine_scripts/Jamitons/test_jamitons/rho_s_0.4333/x_minus.npy.gz\", \"r\")\n",
    "x_minus = np.load(x_minus_file)\n",
    "\n",
    "x_plus_file = gzip.GzipFile(\"../Machine_scripts/Jamitons/test_jamitons/rho_s_0.4333/x_plus.npy.gz\", \"r\")\n",
    "x_plus = np.load(x_plus_file)"
   ]
  },
  {
   "cell_type": "code",
   "execution_count": 3,
   "id": "346dac19-7de5-464a-833f-4c576bab3478",
   "metadata": {},
   "outputs": [],
   "source": [
    "with open(\"../Machine_scripts/Jamitons/test_jamitons/rho_s_0.4333/sol_v.pck\", \"rb\") as sol_v_file:\n",
    "    sol_v = pickle.load(sol_v_file)"
   ]
  },
  {
   "cell_type": "code",
   "execution_count": 4,
   "id": "80ce9389-89e8-42ae-8afc-41faf15e6f9e",
   "metadata": {},
   "outputs": [],
   "source": [
    "sol_rho = lambda x: 1/sol_v.sol(x)[0]\n",
    "sol_rho_per = rho_per_gen(sol_rho, x_plus, x_minus)"
   ]
  },
  {
   "cell_type": "code",
   "execution_count": 4,
   "id": "7c4e4454-f28b-48d2-9256-da7e0301ff9a",
   "metadata": {},
   "outputs": [
    {
     "data": {
      "text/plain": [
       "13.961761677923118"
      ]
     },
     "execution_count": 4,
     "metadata": {},
     "output_type": "execute_result"
    }
   ],
   "source": [
    "rho_s = 0.3*rho_max\n",
    "v_s = 1/rho_s\n",
    "\n",
    "m = -h_bar_prime(v_s)\n",
    "s = U_bar(v_s) - m * v_s\n",
    "s"
   ]
  },
  {
   "cell_type": "code",
   "execution_count": null,
   "id": "062acbde-8a76-458e-9028-02c6a6730bd4",
   "metadata": {},
   "outputs": [],
   "source": []
  }
 ],
 "metadata": {
  "kernelspec": {
   "display_name": "Python 3",
   "language": "python",
   "name": "python3"
  },
  "language_info": {
   "codemirror_mode": {
    "name": "ipython",
    "version": 3
   },
   "file_extension": ".py",
   "mimetype": "text/x-python",
   "name": "python",
   "nbconvert_exporter": "python",
   "pygments_lexer": "ipython3",
   "version": "3.12.8"
  }
 },
 "nbformat": 4,
 "nbformat_minor": 5
}
