{
 "cells": [
  {
   "cell_type": "code",
   "execution_count": 2,
   "metadata": {},
   "outputs": [],
   "source": [
    "import numpy as np\n",
    "from scipy.integrate import odeint\n",
    "import matplotlib.pyplot as plt"
   ]
  },
  {
   "cell_type": "markdown",
   "metadata": {
    "cell_id": "45b7c8026912435ab1b8177e8a385228",
    "deepnote_cell_type": "markdown"
   },
   "source": [
    "# Simulación numérica EDO jamiton\n",
    "\n",
    "En el siguiente jupyter se simulará numéricamente la ecuación diferencial asociada a un jamiton. La EDO en cuestión corresponde a la siguiente expresión:\n",
    "\n",
    "$$\n",
    "v'(\\chi) = \\dfrac{w(v(\\chi))}{r'(v(\\chi))}\n",
    "$$\n",
    "donde $w(v) = \\hat{U}(v) - mv + s$ y $r(v) = m\\hat{h}(v) + m^2v$. Las funciones $U$ y $h$ vendrán dadas de manera explícita en el código. Las constantes se definirán de la misma manera."
   ]
  },
  {
   "cell_type": "code",
   "execution_count": 3,
   "metadata": {
    "cell_id": "f466398767554eab84c9bebcaa776e8f",
    "deepnote_cell_type": "code",
    "deepnote_to_be_reexecuted": false,
    "execution_millis": 52,
    "execution_start": 1668024577639,
    "source_hash": "696d7d49"
   },
   "outputs": [],
   "source": [
    "# Parametros del modelo\n",
    "rho_max = 1/7.5\n",
    "u_max = 20\n",
    "\n",
    "c = 0.078 * rho_max * u_max\n",
    "b = 1/3\n",
    "l = 1/10\n",
    "\n",
    "tau = 3\n",
    "\n",
    "# Funciones del modelo\n",
    "def h(rho, rho_max=rho_max):\n",
    "    sqrt = np.sqrt(rho/(rho_max - rho))\n",
    "    return 8 * sqrt\n",
    "\n",
    "def h_prime(rho, rho_max=rho_max):\n",
    "    num = 4 * rho_max\n",
    "    den = np.sqrt(rho) * np.sqrt((rho_max - rho))**3\n",
    "    return num / den * (-1/rho**2)\n",
    "\n",
    "def Q(rho, c=c, b=b, l=l, rho_max=rho_max):\n",
    "    \n",
    "    g = lambda y: np.sqrt(1 + ((y - b)/l)**2)\n",
    "    \n",
    "    output = c * (g(0) + (g(1) - g(0))*(rho/rho_max) - g(rho/rho_max))\n",
    "    return output\n",
    "\n",
    "def Q_barra(rho_barra, c=c, b=b, l=l, rho_max=rho_max):\n",
    "    \n",
    "    g = lambda y: np.sqrt(1 + ((y - b)/l)**2)\n",
    "    \n",
    "    output = c * (g(0) + (g(1) - g(0))*rho_barra - g(rho_barra))\n",
    "    return output\n",
    "\n",
    "def U(rho):\n",
    "    return Q(rho)/rho\n",
    "\n",
    "def U_gorro(v):\n",
    "    return U(1/v)\n",
    "\n",
    "def h_gorro(v):\n",
    "    return h(1/v)\n",
    "\n",
    "def h_gorro_prime(v):\n",
    "    return h_prime(1/v)\n",
    "\n",
    "def w(v, m, s):\n",
    "    return U_gorro(v) - (m*v + s)\n",
    "\n",
    "def r(v, m):\n",
    "    return m * h_gorro(v) + m**2 * v\n",
    "\n",
    "def r_prime(v, m):\n",
    "    return m * h_gorro_prime(v) + m**2"
   ]
  },
  {
   "cell_type": "code",
   "execution_count": 4,
   "metadata": {
    "cell_id": "f745518a390b43688c670d89af3b0bdd",
    "deepnote_cell_type": "code",
    "deepnote_to_be_reexecuted": false,
    "execution_millis": 0,
    "execution_start": 1668024577691,
    "source_hash": "cc124efe"
   },
   "outputs": [],
   "source": [
    "# EDO a resolver\n",
    "def edo(v, chi, m, s):\n",
    "    dv = w(v, m, s) / r_prime(v, m)\n",
    "    return dv"
   ]
  },
  {
   "cell_type": "code",
   "execution_count": null,
   "metadata": {},
   "outputs": [],
   "source": []
  }
 ],
 "metadata": {
  "deepnote": {},
  "deepnote_execution_queue": [],
  "deepnote_notebook_id": "546b8036e9864a629b6543d523635b88",
  "deepnote_persisted_session": {
   "createdAt": "2022-11-09T21:16:57.405Z"
  },
  "kernelspec": {
   "display_name": "Python 3",
   "language": "python",
   "name": "python3"
  },
  "language_info": {
   "codemirror_mode": {
    "name": "ipython",
    "version": 3
   },
   "file_extension": ".py",
   "mimetype": "text/x-python",
   "name": "python",
   "nbconvert_exporter": "python",
   "pygments_lexer": "ipython3",
   "version": "3.7.9"
  }
 },
 "nbformat": 4,
 "nbformat_minor": 4
}
