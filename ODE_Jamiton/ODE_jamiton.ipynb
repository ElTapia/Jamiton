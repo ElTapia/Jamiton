{
 "cells": [
  {
   "cell_type": "code",
   "execution_count": 2,
   "metadata": {},
   "outputs": [],
   "source": [
    "import numpy as np\n",
    "from scipy.integrate import odeint\n",
    "import matplotlib.pyplot as plt"
   ]
  },
  {
   "cell_type": "markdown",
   "metadata": {
    "cell_id": "45b7c8026912435ab1b8177e8a385228",
    "deepnote_cell_type": "markdown"
   },
   "source": [
    "# Simulación numérica EDO jamiton\n",
    "\n",
    "En el siguiente jupyter se simulará numéricamente la ecuación diferencial asociada a un jamiton. La EDO en cuestión corresponde a la siguiente expresión:\n",
    "\n",
    "$$\n",
    "v'(\\chi) = \\dfrac{w(v(\\chi))}{r'(v(\\chi))}\n",
    "$$\n",
    "donde $w(v) = \\hat{U}(v) - mv + s$ y $r(v) = m\\hat{h}(v) + m^2v$. Las funciones $U$ y $h$ vendrán dadas de manera explícita en el código. Las constantes se definirán de la misma manera."
   ]
  }
 ],
 "metadata": {
  "deepnote": {},
  "deepnote_execution_queue": [],
  "deepnote_notebook_id": "546b8036e9864a629b6543d523635b88",
  "deepnote_persisted_session": {
   "createdAt": "2022-11-09T21:16:57.405Z"
  },
  "kernelspec": {
   "display_name": "Python 3",
   "language": "python",
   "name": "python3"
  },
  "language_info": {
   "codemirror_mode": {
    "name": "ipython",
    "version": 3
   },
   "file_extension": ".py",
   "mimetype": "text/x-python",
   "name": "python",
   "nbconvert_exporter": "python",
   "pygments_lexer": "ipython3",
   "version": "3.7.9"
  }
 },
 "nbformat": 4,
 "nbformat_minor": 4
}
