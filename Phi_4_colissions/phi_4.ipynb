{
 "cells": [
  {
   "cell_type": "code",
   "execution_count": 1,
   "metadata": {
    "cell_id": "cfaadfcd42524a54ae441204763b6d1c",
    "deepnote_cell_type": "code",
    "deepnote_to_be_reexecuted": false,
    "execution_millis": 1087,
    "execution_start": 1680401330977,
    "source_hash": "eba39436",
    "tags": []
   },
   "outputs": [],
   "source": [
    "import numpy as np\n",
    "import matplotlib.pyplot as plt\n",
    "from matplotlib import animation # animaciones\n",
    "from IPython.display import HTML\n",
    "\n",
    "from scipy.sparse import diags, kron, csr_matrix, csc_matrix, identity, eye\n",
    "from scipy.sparse.linalg import spsolve, norm, inv, eigsh\n",
    "\n",
    "import time"
   ]
  },
  {
   "cell_type": "code",
   "execution_count": null,
   "metadata": {},
   "outputs": [],
   "source": []
  }
 ],
 "metadata": {
  "deepnote": {},
  "deepnote_execution_queue": [],
  "deepnote_notebook_id": "a58a24f136d241668ae65eda8cdf9853",
  "deepnote_persisted_session": {
   "createdAt": "2023-03-17T18:45:09.473Z"
  },
  "kernelspec": {
   "display_name": "Python 3",
   "language": "python",
   "name": "python3"
  },
  "language_info": {
   "codemirror_mode": {
    "name": "ipython",
    "version": 3
   },
   "file_extension": ".py",
   "mimetype": "text/x-python",
   "name": "python",
   "nbconvert_exporter": "python",
   "pygments_lexer": "ipython3",
   "version": "3.7.9"
  }
 },
 "nbformat": 4,
 "nbformat_minor": 4
}
