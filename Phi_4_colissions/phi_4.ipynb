{
 "cells": [
  {
   "cell_type": "code",
   "execution_count": 1,
   "metadata": {
    "cell_id": "cfaadfcd42524a54ae441204763b6d1c",
    "deepnote_cell_type": "code",
    "deepnote_to_be_reexecuted": false,
    "execution_millis": 1087,
    "execution_start": 1680401330977,
    "source_hash": "eba39436",
    "tags": []
   },
   "outputs": [],
   "source": [
    "import numpy as np\n",
    "import matplotlib.pyplot as plt\n",
    "from matplotlib import animation # animaciones\n",
    "from IPython.display import HTML\n",
    "\n",
    "from scipy.sparse import diags, kron, csr_matrix, csc_matrix, identity, eye\n",
    "from scipy.sparse.linalg import spsolve, norm, inv, eigsh\n",
    "\n",
    "import time"
   ]
  },
  {
   "cell_type": "markdown",
   "metadata": {
    "cell_id": "eb311db69da44f93a703d48844d267a8",
    "deepnote_cell_type": "markdown",
    "tags": []
   },
   "source": [
    "# Colisiones Kink-Antikink en ecuación $\\phi_4$"
   ]
  },
  {
   "cell_type": "markdown",
   "metadata": {},
   "source": [
    "En el presente jupyter se simulará una colisión de ondas kink-antikink en la ecuación $\\phi_4$ dada por\n",
    "$$\n",
    "\\begin{equation}\n",
    "\\left.\n",
    "\\begin{array}[c]{rll}\n",
    " \\phi_{tt} - \\phi_{xx} - \\phi + \\phi^3= & 0 & \\text{sobre }\\Omega=\\left(0,T\\right]\\times\\left(-L,L\\right)\\\\\n",
    "\\phi(0,x)= & \\phi_K(x+x_0) + \\phi_{\\bar{K}}(x-x_0)-1 & \\text{en }x\\in [-L, L]\\\\\n",
    "\\phi_t(0,x)= & -v\\phi'_K(x+x_0) - v\\phi'_{\\bar{K}}(x-x_0) & \\text{en }x\\in [-L, L]\n",
    "\\end{array}\n",
    "\\right\\} \\quad (1)\n",
    "\\end{equation}\n",
    "$$\n",
    "\n",
    "Con condiciones de borde periódica o Neumann según lo que se requiera. Los objetivos son:\n",
    "* Encontrar el mejor método de simulación, es decir, aquel método con menor propagación de errores.\n",
    "* Obtener la velocidad de salida después de la colisión.\n",
    "* Obtener los gráficos correspondientes, de forma de replicar los resultados del paper."
   ]
  },
  {
   "cell_type": "markdown",
   "metadata": {},
   "source": [
    "## introducción\n",
    "\n",
    "Los métodos utilizados para simular la ecuación corresponden a diferencias finitas (esquemas explícito e implícito) y métodos espectrales. Es esperable que la presición de la simulación mejor con respecto a cada método usado, donde los esquemas espectrales tengan menor dispersión de error y deseablemente deban ser utilizados en la obtención de las velocidades de salida."
   ]
  },
  {
   "cell_type": "markdown",
   "metadata": {},
   "source": [
    "Se definen en primer lugar funciones con las condiciones iniciales del problema:"
   ]
  },
  {
   "cell_type": "code",
   "execution_count": 2,
   "metadata": {
    "cell_id": "9bade03a6f304a7d9a5507cf9947202d",
    "deepnote_cell_type": "code",
    "deepnote_to_be_reexecuted": false,
    "execution_millis": 28,
    "execution_start": 1680316200516,
    "source_hash": "78c2330f",
    "tags": []
   },
   "outputs": [],
   "source": [
    "# Función secante hiperbolica\n",
    "def sech(x):\n",
    "    return 1/np.cosh(x)\n",
    "\n",
    "# Función kink\n",
    "def phi_k(x, v):\n",
    "    return np.tanh(x/(np.sqrt(2) * np.sqrt(1-v**2)))\n",
    "\n",
    "# Derivada kink\n",
    "def phi_k_t(x, v):\n",
    "    return sech(x/(np.sqrt(2) * np.sqrt(1-v**2)))**2\n",
    "\n",
    "# Condición inicial\n",
    "def phi_0(x, x0, v):\n",
    "    return phi_k(x+x0, v) - phi_k(x-x0, v)-1\n",
    "\n",
    "# Condición inicial derivada temporal\n",
    "def phi_1(x, x0, v):\n",
    "    return -v/np.sqrt(2*(1-v**2)) * (phi_k_t(x+x0, v) + phi_k_t(x-x0, v))"
   ]
  },
  {
   "cell_type": "markdown",
   "metadata": {},
   "source": [
    "En todas las simulaciones, se utilizarán $x_0 = 10$, $L = 20$ y tiempo final $T=100$. Este último parámetro podría variar según la velocidad de cálculo computacional de cada esquema."
   ]
  },
  {
   "cell_type": "code",
   "execution_count": 3,
   "metadata": {},
   "outputs": [],
   "source": [
    "x0 = 10\n",
    "xi = -20\n",
    "xf = 20\n",
    "tf = 100"
   ]
  },
  {
   "cell_type": "markdown",
   "metadata": {},
   "source": [
    "A modo de testeo, se probarán las velocidades $v \\in \\{0.35, 0.186, 0.1988, 0.213\\}$."
   ]
  },
  {
   "cell_type": "code",
   "execution_count": 4,
   "metadata": {},
   "outputs": [],
   "source": [
    "# Velocidades\n",
    "vs = np.arange(0.19, 0.2, 0.001) #[0.189, 0.1988, 0.2384, 0.35]"
   ]
  },
  {
   "cell_type": "markdown",
   "metadata": {},
   "source": [
    "## Diferencias finitas: Esquema explícito\n",
    "\n",
    "Para $h>0$ y $dt = h/2$ (se debe cumplir la condición CFL) se obtienen una grilla espacial de $N$ puntos y una temporal de $N_T = T/dt$ puntos, además del siguiente problema discretizado centralizado en tiempo y espacio:\n",
    "\n",
    "$$\n",
    "\\frac{\\phi_j^{n+1} - 2\\phi_j^n + \\phi_j^{n-1}}{dt^2} - \\frac{\\phi_{j+1}^n - 2\\phi_j^n + \\phi_{j-1}^n}{h^2} + f(\\phi_j^n) = 0\n",
    "$$\n",
    "\n",
    "donde $f(\\phi) = -\\phi + \\phi^3$. Definimos $\\lambda = \\frac{dt}{h}$ y despejando $\\phi_j^{n+1}$ se obtiene un esquema explícito para la ecuación $\\phi_4$:\n",
    "\n",
    "$$\n",
    "\\phi_j^{n+1} = 2\\left (1-\\lambda^2\\right )\\phi_j^n - \\phi_j^{n-1} + \\lambda^2\\phi_{j+1}^n + \\lambda^2\\phi_{j-1}^n - dt^2f(\\phi_j^n)\n",
    "$$\n",
    "Con condiciones iniciales:\n",
    "\n",
    "* $\\phi_j^0 = \\phi_K(x_j+x_0) + \\phi_{\\bar{K}}(x_j-x_0)-1$\n",
    "* $\\phi_j^1 = \\left(-v\\phi'_K(x_j+x_0) - v\\phi'_{\\bar{K}}(x_j-x_0)\\right) dt + \\phi_j^0$\n",
    "\n",
    "y con condiciones de borde periódicas (que será resuelto utilizando el método ``np.roll``). Este esquema se implementa a continuación en la función ``solve_explicit``."
   ]
  },
  {
   "cell_type": "code",
   "execution_count": 5,
   "metadata": {
    "cell_id": "a33e6c0141f4414ea4e45f951553d2dd",
    "deepnote_cell_type": "code",
    "deepnote_to_be_reexecuted": false,
    "execution_millis": 11,
    "execution_start": 1680316778589,
    "source_hash": "987e1a8c",
    "tags": []
   },
   "outputs": [],
   "source": [
    "def solve_explicit(x0, xi, xf, h, dt, tf, v):\n",
    "    \n",
    "    # Puntos de las grillas\n",
    "    Nx = int((xf - xi)/h)\n",
    "    Nt = int(tf/dt)\n",
    "\n",
    "    # Crea grillas\n",
    "    x = np.arange(xi,xf, h)\n",
    "    t = np.arange(0, tf, dt)\n",
    "\n",
    "    # Vector para guardar solución\n",
    "    phi = np.zeros((Nt, Nx))\n",
    "\n",
    "    # Setea condiciones iniciales\n",
    "    phi[0] = phi_0(x, x0, v)\n",
    "    phi[1] = phi_1(x, x0, v) * dt + phi[0]\n",
    "    \n",
    "    # Lambda\n",
    "    l = dt/h\n",
    "    \n",
    "    # Itera puntos temporales\n",
    "    for n in range(2, Nt):\n",
    "        \n",
    "        # Instante anterior y paso actual\n",
    "        phi_j_last = phi[n-2]\n",
    "        phi_j = phi[n-1]\n",
    "\n",
    "        # Condiciones periódicas\n",
    "        \n",
    "        # Vecino derecha\n",
    "        phi_j_der = np.roll(phi_j, shift=1)\n",
    "\n",
    "        # Vecino izquierda\n",
    "        phi_j_izq = np.roll(phi_j, shift=-1)\n",
    "\n",
    "        # Solución instante actual\n",
    "        phi_j_sgte =  2 * (1 - l**2) * phi_j - phi_j_last + l**2 * (phi_j_der + phi_j_izq) + dt**2 * (phi_j - phi_j**3)\n",
    "\n",
    "        # Guarda solución\n",
    "        phi[n] = phi_j_sgte\n",
    "    \n",
    "    # Retorna grillas y solución\n",
    "    return x, t, phi"
   ]
  },
  {
   "cell_type": "code",
   "execution_count": null,
   "metadata": {},
   "outputs": [],
   "source": []
  }
 ],
 "metadata": {
  "deepnote": {},
  "deepnote_execution_queue": [],
  "deepnote_notebook_id": "a58a24f136d241668ae65eda8cdf9853",
  "deepnote_persisted_session": {
   "createdAt": "2023-03-17T18:45:09.473Z"
  },
  "kernelspec": {
   "display_name": "Python 3",
   "language": "python",
   "name": "python3"
  },
  "language_info": {
   "codemirror_mode": {
    "name": "ipython",
    "version": 3
   },
   "file_extension": ".py",
   "mimetype": "text/x-python",
   "name": "python",
   "nbconvert_exporter": "python",
   "pygments_lexer": "ipython3",
   "version": "3.7.9"
  }
 },
 "nbformat": 4,
 "nbformat_minor": 4
}
