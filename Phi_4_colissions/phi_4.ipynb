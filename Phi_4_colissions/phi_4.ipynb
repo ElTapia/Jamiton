{
 "cells": [
  {
   "cell_type": "code",
   "execution_count": 15,
   "metadata": {
    "cell_id": "cfaadfcd42524a54ae441204763b6d1c",
    "deepnote_cell_type": "code",
    "deepnote_to_be_reexecuted": false,
    "execution_millis": 1087,
    "execution_start": 1680401330977,
    "source_hash": "eba39436",
    "tags": []
   },
   "outputs": [],
   "source": [
    "import numpy as np\n",
    "import matplotlib.pyplot as plt\n",
    "from matplotlib import animation # animaciones\n",
    "from IPython.display import HTML\n",
    "\n",
    "from scipy.sparse import diags, kron, csr_matrix, csc_matrix, identity, eye\n",
    "from scipy.sparse.linalg import spsolve, norm, inv, eigsh\n",
    "\n",
    "import time\n",
    "\n",
    "from scipy.fft import fft, ifft, dct, idct\n",
    "from scipy.integrate import odeint, solve_ivp"
   ]
  },
  {
   "cell_type": "markdown",
   "metadata": {
    "cell_id": "eb311db69da44f93a703d48844d267a8",
    "deepnote_cell_type": "markdown",
    "tags": []
   },
   "source": [
    "# Colisiones Kink-Antikink en ecuación $\\phi_4$"
   ]
  },
  {
   "cell_type": "markdown",
   "metadata": {},
   "source": [
    "En el presente jupyter se simulará una colisión de ondas kink-antikink en la ecuación $\\phi_4$ dada por\n",
    "$$\n",
    "\\begin{equation}\n",
    "\\left.\n",
    "\\begin{array}[c]{rll}\n",
    " \\phi_{tt} - \\phi_{xx} - \\phi + \\phi^3= & 0 & \\text{sobre }\\Omega=\\left(0,T\\right]\\times\\left(-L,L\\right)\\\\\n",
    "\\phi(0,x)= & \\phi_K(x+x_0) + \\phi_{\\bar{K}}(x-x_0)-1 & \\text{en }x\\in [-L, L]\\\\\n",
    "\\phi_t(0,x)= & -v\\phi'_K(x+x_0) - v\\phi'_{\\bar{K}}(x-x_0) & \\text{en }x\\in [-L, L]\n",
    "\\end{array}\n",
    "\\right\\} \\quad (1)\n",
    "\\end{equation}\n",
    "$$\n",
    "\n",
    "Con condiciones de borde periódica o Neumann según lo que se requiera. Los objetivos son:\n",
    "* Encontrar el mejor método de simulación, es decir, aquel método con menor propagación de errores.\n",
    "* Obtener la velocidad de salida después de la colisión.\n",
    "* Obtener los gráficos correspondientes, de forma de replicar los resultados del paper."
   ]
  },
  {
   "cell_type": "markdown",
   "metadata": {},
   "source": [
    "## introducción\n",
    "\n",
    "Los métodos utilizados para simular la ecuación corresponden a diferencias finitas (esquemas explícito e implícito) y métodos espectrales. Es esperable que la presición de la simulación mejor con respecto a cada método usado, donde los esquemas espectrales tengan menor dispersión de error y deseablemente deban ser utilizados en la obtención de las velocidades de salida."
   ]
  },
  {
   "cell_type": "markdown",
   "metadata": {},
   "source": [
    "Se definen en primer lugar funciones con las condiciones iniciales del problema:"
   ]
  },
  {
   "cell_type": "code",
   "execution_count": 2,
   "metadata": {
    "cell_id": "9bade03a6f304a7d9a5507cf9947202d",
    "deepnote_cell_type": "code",
    "deepnote_to_be_reexecuted": false,
    "execution_millis": 28,
    "execution_start": 1680316200516,
    "source_hash": "78c2330f",
    "tags": []
   },
   "outputs": [],
   "source": [
    "# Función secante hiperbolica\n",
    "def sech(x):\n",
    "    return 1/np.cosh(x)\n",
    "\n",
    "# Función kink\n",
    "def phi_k(x, v):\n",
    "    return np.tanh(x/(np.sqrt(2) * np.sqrt(1-v**2)))\n",
    "\n",
    "# Derivada kink\n",
    "def phi_k_t(x, v):\n",
    "    return sech(x/(np.sqrt(2) * np.sqrt(1-v**2)))**2\n",
    "\n",
    "# Condición inicial\n",
    "def phi_0(x, x0, v):\n",
    "    return phi_k(x+x0, v) - phi_k(x-x0, v)-1\n",
    "\n",
    "# Condición inicial derivada temporal\n",
    "def phi_1(x, x0, v):\n",
    "    return -v/np.sqrt(2*(1-v**2)) * (phi_k_t(x+x0, v) + phi_k_t(x-x0, v))"
   ]
  },
  {
   "cell_type": "markdown",
   "metadata": {},
   "source": [
    "En todas las simulaciones, se utilizarán $x_0 = 10$, $L = 20$ y tiempo final $T=100$. Este último parámetro podría variar según la velocidad de cálculo computacional de cada esquema."
   ]
  },
  {
   "cell_type": "code",
   "execution_count": 3,
   "metadata": {},
   "outputs": [],
   "source": [
    "x0 = 10\n",
    "xi = -20\n",
    "xf = 20\n",
    "tf = 100"
   ]
  },
  {
   "cell_type": "markdown",
   "metadata": {},
   "source": [
    "A modo de testeo, se probarán las velocidades $v \\in \\{0.35, 0.186, 0.1988, 0.213\\}$."
   ]
  },
  {
   "cell_type": "code",
   "execution_count": 4,
   "metadata": {},
   "outputs": [],
   "source": [
    "# Velocidades\n",
    "vs = np.arange(0.19, 0.2, 0.001) #[0.189, 0.1988, 0.2384, 0.35]"
   ]
  },
  {
   "cell_type": "markdown",
   "metadata": {},
   "source": [
    "## Diferencias finitas: Esquema explícito\n",
    "\n",
    "Para $h>0$ y $dt = h/2$ (se debe cumplir la condición CFL) se obtienen una grilla espacial de $N$ puntos y una temporal de $N_T = T/dt$ puntos, además del siguiente problema discretizado centralizado en tiempo y espacio:\n",
    "\n",
    "$$\n",
    "\\frac{\\phi_j^{n+1} - 2\\phi_j^n + \\phi_j^{n-1}}{dt^2} - \\frac{\\phi_{j+1}^n - 2\\phi_j^n + \\phi_{j-1}^n}{h^2} + f(\\phi_j^n) = 0\n",
    "$$\n",
    "\n",
    "donde $f(\\phi) = -\\phi + \\phi^3$. Definimos $\\lambda = \\frac{dt}{h}$ y despejando $\\phi_j^{n+1}$ se obtiene un esquema explícito para la ecuación $\\phi_4$:\n",
    "\n",
    "$$\n",
    "\\phi_j^{n+1} = 2\\left (1-\\lambda^2\\right )\\phi_j^n - \\phi_j^{n-1} + \\lambda^2\\phi_{j+1}^n + \\lambda^2\\phi_{j-1}^n - dt^2f(\\phi_j^n)\n",
    "$$\n",
    "Con condiciones iniciales:\n",
    "\n",
    "* $\\phi_j^0 = \\phi_K(x_j+x_0) + \\phi_{\\bar{K}}(x_j-x_0)-1$\n",
    "* $\\phi_j^1 = \\left(-v\\phi'_K(x_j+x_0) - v\\phi'_{\\bar{K}}(x_j-x_0)\\right) dt + \\phi_j^0$\n",
    "\n",
    "y con condiciones de borde periódicas (que será resuelto utilizando el método ``np.roll``). Este esquema se implementa a continuación en la función ``solve_explicit``."
   ]
  },
  {
   "cell_type": "code",
   "execution_count": 5,
   "metadata": {
    "cell_id": "a33e6c0141f4414ea4e45f951553d2dd",
    "deepnote_cell_type": "code",
    "deepnote_to_be_reexecuted": false,
    "execution_millis": 11,
    "execution_start": 1680316778589,
    "source_hash": "987e1a8c",
    "tags": []
   },
   "outputs": [],
   "source": [
    "def solve_explicit(x0, xi, xf, h, dt, tf, v):\n",
    "    \n",
    "    # Puntos de las grillas\n",
    "    Nx = int((xf - xi)/h)\n",
    "    Nt = int(tf/dt)\n",
    "\n",
    "    # Crea grillas\n",
    "    x = np.arange(xi,xf, h)\n",
    "    t = np.arange(0, tf, dt)\n",
    "\n",
    "    # Vector para guardar solución\n",
    "    phi = np.zeros((Nt, Nx))\n",
    "\n",
    "    # Setea condiciones iniciales\n",
    "    phi[0] = phi_0(x, x0, v)\n",
    "    phi[1] = phi_1(x, x0, v) * dt + phi[0]\n",
    "    \n",
    "    # Lambda\n",
    "    l = dt/h\n",
    "    \n",
    "    # Itera puntos temporales\n",
    "    for n in range(2, Nt):\n",
    "        \n",
    "        # Instante anterior y paso actual\n",
    "        phi_j_last = phi[n-2]\n",
    "        phi_j = phi[n-1]\n",
    "\n",
    "        # Condiciones periódicas\n",
    "        \n",
    "        # Vecino derecha\n",
    "        phi_j_der = np.roll(phi_j, shift=1)\n",
    "\n",
    "        # Vecino izquierda\n",
    "        phi_j_izq = np.roll(phi_j, shift=-1)\n",
    "\n",
    "        # Solución instante actual\n",
    "        phi_j_sgte =  2 * (1 - l**2) * phi_j - phi_j_last + l**2 * (phi_j_der + phi_j_izq) + dt**2 * (phi_j - phi_j**3)\n",
    "\n",
    "        # Guarda solución\n",
    "        phi[n] = phi_j_sgte\n",
    "    \n",
    "    # Retorna grillas y solución\n",
    "    return x, t, phi"
   ]
  },
  {
   "cell_type": "markdown",
   "metadata": {},
   "source": [
    "Se simulará el modelo para las velocidades antes mencionadas y se observará el comportamiento de la solución en cada una. Además, se utilizará $h=0.1$."
   ]
  },
  {
   "cell_type": "code",
   "execution_count": 6,
   "metadata": {},
   "outputs": [],
   "source": [
    "# Parámetros de discretización\n",
    "h = 0.1\n",
    "dt = h/2\n",
    "\n",
    "phis = []\n",
    "\n",
    "for v in vs:\n",
    "    x, t, phi = solve_explicit(x0, xi, xf, h, dt, tf, v)\n",
    "    phis += [phi]"
   ]
  },
  {
   "cell_type": "code",
   "execution_count": 7,
   "metadata": {
    "cell_id": "2a9ea1cda8424a638c68fa96364e8508",
    "deepnote_cell_type": "code",
    "deepnote_to_be_reexecuted": false,
    "execution_millis": 59,
    "execution_start": 1680316784317,
    "source_hash": "19b46eb",
    "tags": []
   },
   "outputs": [],
   "source": [
    "def get_plot_phi(x, t, phi, v, doc_name):\n",
    "    X, T = np.meshgrid(x, t)\n",
    "    \n",
    "    plt.title(r\"Solución $\\phi^4$ para $v=${}\".format(v))\n",
    "    plt.pcolormesh(T, X, phi, shading=\"auto\")\n",
    "    \n",
    "    plt.colorbar()\n",
    "    plt.xlabel(\"t\")\n",
    "    plt.ylabel(\"x\")\n",
    "    \n",
    "    #plt.savefig(doc_name)\n",
    "    plt.show()"
   ]
  },
  {
   "cell_type": "code",
   "execution_count": 8,
   "metadata": {},
   "outputs": [],
   "source": [
    "# Directorio gifs esquema explicito\n",
    "path_exp = \"Chars/Explicit\"\n",
    "\n",
    "#for i in range(len(phis)):\n",
    "    #get_plot_phi(x, t, phis[i], vs[i], path_exp+\"/calor_v_{}\".format(i))"
   ]
  },
  {
   "cell_type": "markdown",
   "metadata": {},
   "source": [
    "Experimentando con distintas tamaños de grillas espaciales, se determinó que a partir de $h=0.1$ no ocurren cambios notorios en la solución. Por otro lado, se comprobó que $dt=\\frac{h}{2}$ resulta ser también un buen espaciado temporal.\n",
    "\n",
    "Como añadido extra, se define una función que crea animaciones de la solución. Esto ayudará a obtener las velocidades de salida de manera más ilustrativa."
   ]
  },
  {
   "cell_type": "code",
   "execution_count": 9,
   "metadata": {},
   "outputs": [],
   "source": [
    "def animar_soluciones(x, phi, v, dt, tf, doc_name, path):\n",
    "    \n",
    "    # Cantidad de frames\n",
    "    Nt = int(tf/dt)\n",
    "\n",
    "    # Crea figura\n",
    "    fig, ax = plt.subplots()\n",
    "        \n",
    "    # Grafica instante inicial\n",
    "    line1, = ax.plot(x, phi[0])\n",
    "    #line1, = ax.plot(x, (phi[0] + 1)*np.cosh(x))\n",
    "    #line2, = ax.plot(x, -1 + sech(x))\n",
    "    ax.set_ylim(-2, 2)\n",
    "    ax.set_title(\"Solución $\\phi^4$ para $v=${}\".format(v))\n",
    "\n",
    "    # Funcion para animar\n",
    "    def animate(i):\n",
    "        \n",
    "        # Actualiza grafico en cada instante temporal\n",
    "        line1.set_data(x, phi[i])\n",
    "\n",
    "        return line1,\n",
    "\n",
    "    # Animación\n",
    "    ani = animation.FuncAnimation(fig, animate, frames=np.arange(0, Nt, 10), interval=50, blit=True)\n",
    "\n",
    "    ani.save(path + \"/\" + doc_name)\n",
    "    return ani"
   ]
  },
  {
   "cell_type": "code",
   "execution_count": 10,
   "metadata": {},
   "outputs": [],
   "source": [
    "#for i in range(len(phis)):\n",
    "    #animar_soluciones(x, phis[i], vs[i], dt, tf, \"Exp_v_{}.gif\".format(i), path_exp)\n",
    "    \n",
    "# Deprecado\n",
    "#animar_soluciones(x, phi_second, Nt, \"Caso_2_phi_4.gif\", path)\n",
    "#animar_soluciones(x, phi_third, Nt, \"Caso_3_phi_4.gif\", path)\n",
    "\n",
    "#animar_soluciones(x, phi_second, Nt, \"Caso_2_phi_4_sech.gif\", path)"
   ]
  },
  {
   "cell_type": "markdown",
   "metadata": {},
   "source": [
    "## Esquema implícito\n",
    "\n",
    "Dada la dificultad al invertir matrices en problemas con condiciones de border periódicas, se utilizan condiciones neumann nulas en los bordes."
   ]
  },
  {
   "cell_type": "code",
   "execution_count": 11,
   "metadata": {},
   "outputs": [],
   "source": [
    "def f(u):\n",
    "    return -u + u**3\n",
    "\n",
    "def Ah(l, N):\n",
    "    \n",
    "    e = np.ones(N)*(1 + l ** 2)\n",
    "    e[0] = e[-1] = 1 + (l**2)/2 # En los extremos vale 1+lambda^2/2\n",
    "    \n",
    "    f = np.ones(N-1)*(l**2)/2\n",
    "    \n",
    "     # Arreglo con las diagonales\n",
    "    k = np.array([-f,e,-f], dtype= object) \n",
    "    offset = [-1,0,1] #Posiciones de las diagonales\n",
    "    \n",
    "    A = diags(k, offset, format=\"csc\")\n",
    "    return A\n",
    "\n",
    "def bn(u, dt):\n",
    "    return 2 * u - f(u) * dt**2\n",
    "\n",
    "def solve_implicit(x0, xi, xf, h, dt, tf, v, return_bounces=False):\n",
    "    \n",
    "    # Puntos de cada grilla\n",
    "    Nx = int((xf - xi)/h)\n",
    "    Nt = int(tf/dt)\n",
    "    \n",
    "    # Grillas\n",
    "    x = np.linspace(xi,xf, Nx)\n",
    "    t = np.linspace(0, tf, Nt)\n",
    "    \n",
    "    # Lambda\n",
    "    l = dt / h\n",
    "\n",
    "    u = np.zeros((Nt, Nx))\n",
    "\n",
    "    # Setea condiciones iniciales\n",
    "    u[0] = phi_0(x, x0, v)\n",
    "    u[1] = phi_1(x, x0, v) * dt + u[0]\n",
    "    \n",
    "    # Obtiene matriz A\n",
    "    A = Ah(l, Nx)\n",
    "    \n",
    "    # Guarda n bounces\n",
    "    n_bounces = []\n",
    "    \n",
    "    # Recorre puntos temporales\n",
    "    for n in range(1, Nt-1):\n",
    "        \n",
    "        # Paso actual y anterior\n",
    "        un = u[n]\n",
    "        un_last = u[n-1]\n",
    "        \n",
    "        # Vector b\n",
    "        b = bn(un, dt)\n",
    "        \n",
    "        # Invierte matriz\n",
    "        un_sig = spsolve(A, b)\n",
    "        \n",
    "        # Actualiza paso siguiente\n",
    "        u[n+1] = un_sig - un_last # Habiamos resuelto para u_{n+1} + u_{n-1}\n",
    "        \n",
    "        if np.min(u[n+1]) < -1.5:\n",
    "            n_bounces += [n+1]\n",
    "    \n",
    "    if return_bounces:\n",
    "        return x, t, u, n_bounces\n",
    "    \n",
    "    # Retorna grillas y solucion\n",
    "    return x, t, u"
   ]
  },
  {
   "cell_type": "markdown",
   "metadata": {},
   "source": [
    "### Simulación"
   ]
  },
  {
   "cell_type": "code",
   "execution_count": 12,
   "metadata": {},
   "outputs": [],
   "source": [
    "# Parámetros de discretización\n",
    "h = 0.01\n",
    "dt = 0.01\n",
    "\n",
    "# Guarda soluciones y grillas espaciales\n",
    "us = []\n",
    "xs = []\n",
    "\n",
    "# Guarda lista de veces que la solución fue menor a -1.5\n",
    "bounces = np.full(len(vs), fill_value=None)\n",
    "\n",
    "for i in range(len(vs)):\n",
    "    v = vs[i]\n",
    "    x, t, u, bounce = solve_implicit(x0, xi, xf, h, dt, tf, v, return_bounces=True)\n",
    "    us += [u]\n",
    "    xs += [x]\n",
    "    bounces[i] = bounce\n",
    "    "
   ]
  },
  {
   "cell_type": "code",
   "execution_count": 13,
   "metadata": {},
   "outputs": [],
   "source": [
    "# Obtiene animaciones para cada velocidad\n",
    "#for i in range(len(us)):\n",
    "    #animar_soluciones(xs[i], us[i], vs[i], dt, tf, \"Imp_v_{}.gif\".format(i), path_imp)"
   ]
  },
  {
   "cell_type": "code",
   "execution_count": 14,
   "metadata": {},
   "outputs": [],
   "source": [
    "# Directorio gifs esquema explicito\n",
    "path_imp = \"Charts/Implicit\"\n",
    "\n",
    "#for i in range(len(phis)):\n",
    "#    get_plot_phi(x, t, us[i], vs[i], path_imp+\"/calor_v_{}\".format(i))"
   ]
  },
  {
   "cell_type": "markdown",
   "metadata": {},
   "source": [
    "## Método espectral"
   ]
  },
  {
   "cell_type": "markdown",
   "metadata": {},
   "source": [
    "Se utilizará el método de colocación, que corresponde a un método pseudoespectral y donde la solución se aproxima evaluando en puntos de colocación estratégicos, o mejor dicho, una malla discreta de puntos. Primeramente se usarán las frecuencias de sampleos de la transformada de Fourier, que se obtienen con el método ``np.fft.fftfreq`` y luego una discretización de malla útil para la transformada del coseno.\n",
    "\n",
    "La primera sección utilizará una combinación entre las frecuencias de Fourier y la transformada del coseno. La segunda sección será destinada totalmente a la transformada del coseno, puesto que la condición inicial del problema es par y cuya paridad se preserva en la ecuación."
   ]
  },
  {
   "cell_type": "markdown",
   "metadata": {},
   "source": [
    "### Híbrido coseno y frecuencias de Fourier"
   ]
  },
  {
   "cell_type": "markdown",
   "metadata": {},
   "source": [
    "Para resolver las EDO´s que aparezcan, se utilizará Runge Kutta 4. La implementación incluye un parámetro para retornar los bounces de la solución. Esta variante permite calcular la velocidad de salida de la solución."
   ]
  },
  {
   "cell_type": "code",
   "execution_count": 16,
   "metadata": {},
   "outputs": [],
   "source": [
    "def RK4(f, ti, tf, h, X0, args, get_bounces=False):\n",
    "    \"\"\" Función que entrega la aproximación numérica de Runge Kutta 4 \n",
    "    para la solución al problema X' = f(t,X).\n",
    "\n",
    "    f: Función f(t,X,args) que es función de lado derecho de la ecuación\n",
    "    ti: t inicial\n",
    "    tf: t final\n",
    "    h: Paso h del método\n",
    "    X0: Condición inicial\n",
    "    args: Argumentos a entregar a la función f\n",
    "\n",
    "    Regresa (t,X) donde t es el intervalo [ti,tf] equiespaciado y X\n",
    "    la aproximación a la solución mediante método de Runge Kutta de orden 4.\n",
    "    \"\"\"\n",
    "    # Cardinal del equiespaciado del método\n",
    "    N = int((abs(tf-ti))/h)\n",
    "\n",
    "    # Arreglo de t\n",
    "    t = np.linspace(ti, tf, N)\n",
    "    \n",
    "    Nx = len(X0)\n",
    "\n",
    "    # Arreglo para la solución\n",
    "    X = np.zeros((N, Nx))\n",
    "\n",
    "    # Condición inicial\n",
    "    X[0] = X0\n",
    "    \n",
    "    # Guarda n bounces\n",
    "    n_bounces = []\n",
    "\n",
    "    # Método de Runge Kutta 4\n",
    "    for i in range(N-1):\n",
    "        g1 = f(t[i]      , X[i]       , args)\n",
    "        g2 = f(t[i] + h/2, X[i]+h/2*g1, args)\n",
    "        g3 = f(t[i] + h/2, X[i]+h/2*g2, args)\n",
    "        g4 = f(t[i] + h  , X[i]+h*g3  , args)\n",
    "        X[i+1] = X[i] + h/6*(g1 + 2*g2 + 2*g3 + g4)\n",
    "        \n",
    "        \n",
    "        # Obtiene bounces de la solución\n",
    "        if get_bounces:\n",
    "            X_bounces = X[:, :Nx//2]\n",
    "        \n",
    "            if np.min(X_bounces[i+1]) < -1.5:\n",
    "                n_bounces += [i+1]\n",
    "\n",
    "    if get_bounces:\n",
    "        return t, X.T, n_bounces\n",
    "    return (t,X.T)"
   ]
  },
  {
   "cell_type": "markdown",
   "metadata": {},
   "source": [
    "Definimos los parámetros de discretización:"
   ]
  },
  {
   "cell_type": "code",
   "execution_count": 17,
   "metadata": {},
   "outputs": [],
   "source": [
    "L = 20\n",
    "dt = 0.1\n",
    "tend = 120\n",
    "x0 = 10\n",
    "nx = 128"
   ]
  },
  {
   "cell_type": "markdown",
   "metadata": {},
   "source": [
    "Se define la función ``rhsf`` que retorna la transformada de coseno aplicada a la ecuación $\\phi_4$ y evaluada en los puntos de colocación para la transformada de Fourier."
   ]
  },
  {
   "cell_type": "code",
   "execution_count": 18,
   "metadata": {},
   "outputs": [],
   "source": [
    "def rhsf(phi, t, L):\n",
    "    nx = len(phi) #Podria tener error\n",
    "    n = np.fft.fftfreq(nx) * nx * 2 * np.pi / L\n",
    "    return idct((2 * np.pi * 1j * n / L)**2 * dct(phi)).real + phi - phi**3"
   ]
  },
  {
   "cell_type": "markdown",
   "metadata": {},
   "source": [
    "Definimos las derivadas del sistema. Como tenemos dos derivadas en tiempo, se define $z = \\phi_t$, obteniendo dos edos por cada valor arrojado en la función ``rhsf``."
   ]
  },
  {
   "cell_type": "code",
   "execution_count": 19,
   "metadata": {},
   "outputs": [],
   "source": [
    "def system_derivative(t, y, L):\n",
    "    total = len(y)\n",
    "    phi = y[:total//2].copy()\n",
    "    z = y[total//2:].copy()\n",
    "\n",
    "    dphi = z\n",
    "    dz = rhsf(phi, t, L)\n",
    "\n",
    "    dy = np.append(dphi, dz)\n",
    "\n",
    "    return dy"
   ]
  },
  {
   "cell_type": "markdown",
   "metadata": {},
   "source": [
    "Definimos una función que nos arroje la solución con el método mencionado. Recibirá los parámetros antes definidos y retornará la solución deseada."
   ]
  },
  {
   "cell_type": "code",
   "execution_count": 20,
   "metadata": {},
   "outputs": [],
   "source": [
    "def solve_fft(L, dt, tend, x0, nx, v):\n",
    "    dx = L/nx\n",
    "\n",
    "    # Grilla\n",
    "    x = np.linspace(-L, L, nx)\n",
    "\n",
    "    # Condiciones iniciales\n",
    "    phi0 = phi_0(x, x0, v)\n",
    "    phi1 = phi_1(x, x0, v)\n",
    "    y0 = np.append(phi0, phi1)\n",
    "\n",
    "    t, y, bounces = RK4(system_derivative,0, tend, dt, y0, L, get_bounces=True)\n",
    "    \n",
    "    # Rescata la solución que nos interesa\n",
    "    total = len(y)\n",
    "    y_sol = y[:total//2]\n",
    "    y_sol = y_sol.T\n",
    "    \n",
    "    return t, x, y_sol, bounces"
   ]
  },
  {
   "cell_type": "code",
   "execution_count": null,
   "metadata": {},
   "outputs": [],
   "source": []
  }
 ],
 "metadata": {
  "deepnote": {},
  "deepnote_execution_queue": [],
  "deepnote_notebook_id": "a58a24f136d241668ae65eda8cdf9853",
  "deepnote_persisted_session": {
   "createdAt": "2023-03-17T18:45:09.473Z"
  },
  "kernelspec": {
   "display_name": "Python 3",
   "language": "python",
   "name": "python3"
  },
  "language_info": {
   "codemirror_mode": {
    "name": "ipython",
    "version": 3
   },
   "file_extension": ".py",
   "mimetype": "text/x-python",
   "name": "python",
   "nbconvert_exporter": "python",
   "pygments_lexer": "ipython3",
   "version": "3.7.9"
  }
 },
 "nbformat": 4,
 "nbformat_minor": 4
}
